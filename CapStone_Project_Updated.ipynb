{
  "cells": [
    {
      "cell_type": "markdown",
      "metadata": {
        "id": "qQLXhwFV-CE3"
      },
      "source": [
        "![Screenshot 2023-04-01 143549.png](data:image/png;base64,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)"
      ]
    },
    {
      "cell_type": "markdown",
      "source": [
        "![Screenshot 2023-04-01 143921.png](data:image/png;base64,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)"
      ],
      "metadata": {
        "id": "LSNqxdK6Ebbo"
      }
    },
    {
      "cell_type": "markdown",
      "source": [
        "![Screenshot 2023-04-01 143829.png](data:image/png;base64,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)"
      ],
      "metadata": {
        "id": "UbEdUUmgEsx6"
      }
    },
    {
      "cell_type": "code",
      "execution_count": 1,
      "metadata": {
        "id": "unJkdWBkLmQj",
        "colab": {
          "base_uri": "https://localhost:8080/"
        },
        "outputId": "b044d655-24af-4f2f-9ec3-83936d7719cb"
      },
      "outputs": [
        {
          "output_type": "stream",
          "name": "stdout",
          "text": [
            "Drive already mounted at /content/drive; to attempt to forcibly remount, call drive.mount(\"/content/drive\", force_remount=True).\n"
          ]
        }
      ],
      "source": [
        "from google.colab import drive\n",
        "drive.mount('/content/drive')"
      ]
    },
    {
      "cell_type": "markdown",
      "metadata": {
        "id": "KVj3Q-BK-Vq6"
      },
      "source": [
        "## Load the data set of Musical Instruments"
      ]
    },
    {
      "cell_type": "markdown",
      "metadata": {
        "id": "4u4-9xPz-eo1"
      },
      "source": [
        "## Import all the necessary Libraries"
      ]
    },
    {
      "cell_type": "code",
      "execution_count": 2,
      "metadata": {
        "id": "c0t0dLizxvo6",
        "colab": {
          "base_uri": "https://localhost:8080/"
        },
        "outputId": "83579cfc-0120-4cfc-b17d-c86c0d81671f"
      },
      "outputs": [
        {
          "output_type": "stream",
          "name": "stderr",
          "text": [
            "[nltk_data] Downloading package vader_lexicon to /root/nltk_data...\n",
            "[nltk_data]   Package vader_lexicon is already up-to-date!\n"
          ]
        },
        {
          "output_type": "execute_result",
          "data": {
            "text/plain": [
              "True"
            ]
          },
          "metadata": {},
          "execution_count": 2
        }
      ],
      "source": [
        "import numpy as np\n",
        "import pandas as pd\n",
        "import matplotlib\n",
        "import matplotlib.pyplot as plt\n",
        "import string\n",
        "import re\n",
        "from sklearn import metrics\n",
        "from sklearn.model_selection import train_test_split\n",
        "from sklearn.naive_bayes import MultinomialNB\n",
        "from sklearn.linear_model import LogisticRegression\n",
        "from sklearn.feature_extraction.text import TfidfVectorizer\n",
        "from sklearn.preprocessing import LabelEncoder,StandardScaler,MinMaxScaler\n",
        "from sklearn.multiclass import OneVsRestClassifier\n",
        "from sklearn.metrics import accuracy_score,precision_score,recall_score,f1_score,confusion_matrix,classification_report\n",
        "from sklearn.metrics import mean_squared_error\n",
        "from sklearn.cluster import KMeans,DBSCAN\n",
        "from sklearn import metrics\n",
        "from sklearn.decomposition import PCA\n",
        "from statsmodels.tsa.seasonal import seasonal_decompose\n",
        "from statsmodels.tsa.statespace.tools import diff\n",
        "from statsmodels.graphics.tsaplots import plot_acf,plot_pacf\n",
        "import statsmodels.api as sm\n",
        "from nltk.sentiment import SentimentIntensityAnalyzer \n",
        "from tqdm.notebook import tqdm\n",
        "\n",
        "\n",
        "\n",
        "import warnings\n",
        "warnings.filterwarnings('ignore')\n",
        "\n",
        "import nltk\n",
        "try:\n",
        "    nltk.data.find('corpora/stopwords')\n",
        "except LookupError:\n",
        "    nltk.download('stopwords')\n",
        "from nltk.corpus import stopwords\n",
        "nltk.download('vader_lexicon') # To predict the sentiments based on the text"
      ]
    },
    {
      "cell_type": "markdown",
      "metadata": {
        "id": "1TLsYfo8JOK1"
      },
      "source": [
        "Load the Review of Musical Instruments"
      ]
    },
    {
      "cell_type": "code",
      "execution_count": 3,
      "metadata": {
        "id": "j79V7Bds-qTS"
      },
      "outputs": [],
      "source": [
        "musical_df = pd.read_json('/content/drive/MyDrive/Musical_Instruments.json.gz', lines=True ,nrows=200000)"
      ]
    },
    {
      "cell_type": "markdown",
      "metadata": {
        "id": "jhNj5fTaJUgJ"
      },
      "source": [
        "Load the meta dataset of Musical Instruments"
      ]
    },
    {
      "cell_type": "code",
      "execution_count": 4,
      "metadata": {
        "id": "uF0v8xkJ-ybp"
      },
      "outputs": [],
      "source": [
        "meta_musical_df = pd.read_json('/content/drive/MyDrive/meta_Musical_Instruments.json.gz', lines=True,nrows=200000 )"
      ]
    },
    {
      "cell_type": "markdown",
      "metadata": {
        "id": "hpNb3k4SKI9o"
      },
      "source": [
        "Merging both reviews dataset and meta dataset of Musical Instruments:"
      ]
    },
    {
      "cell_type": "code",
      "execution_count": 5,
      "metadata": {
        "id": "OQejuZvpJuFY"
      },
      "outputs": [],
      "source": [
        "final_music=pd.merge(musical_df,meta_musical_df,on='asin')"
      ]
    },
    {
      "cell_type": "markdown",
      "metadata": {
        "id": "a45JUfPOV6dS"
      },
      "source": [
        "Data Preprocessing"
      ]
    },
    {
      "cell_type": "code",
      "execution_count": 6,
      "metadata": {
        "id": "E3wL8NJFK3-9",
        "colab": {
          "base_uri": "https://localhost:8080/",
          "height": 733
        },
        "outputId": "efe5b28d-a8e5-4706-fe02-b31e0e72fda0"
      },
      "outputs": [
        {
          "output_type": "execute_result",
          "data": {
            "text/plain": [
              "   overall  vote  verified   reviewTime      reviewerID        asin  \\\n",
              "0        5  90.0     False   08 9, 2004   AXHY24HWOF184  0470536454   \n",
              "1        4   2.0      True   04 6, 2017  A29OWR79AM796H  0470536454   \n",
              "2        5   NaN      True  03 14, 2017   AUPWU27A7X5F6  0470536454   \n",
              "3        4   NaN      True  02 14, 2017  A1N69A47D4JO6K  0470536454   \n",
              "4        5   NaN      True  01 29, 2017   AHTIQUMVCGBFJ  0470536454   \n",
              "\n",
              "                       style         reviewerName  \\\n",
              "0  {'Format:': ' Paperback'}                Bendy   \n",
              "1  {'Format:': ' Hardcover'}      Amazon Customer   \n",
              "2  {'Format:': ' Paperback'}      Amazon Customer   \n",
              "3  {'Format:': ' Paperback'}  Christopher Burnett   \n",
              "4  {'Format:': ' Paperback'}      Amazon Customer   \n",
              "\n",
              "                                          reviewText  \\\n",
              "0  Crocheting for Dummies by Karen Manthey & Susa...   \n",
              "1                                    Very helpful...   \n",
              "2        EASY TO UNDERSTAND AND A PROMPT SERVICE TOO   \n",
              "3                      My girlfriend use quite often   \n",
              "4                  Arrived as described. Very happy.   \n",
              "\n",
              "                                         summary  ...  \\\n",
              "0  Terrific Book for Learning the Art of Crochet  ...   \n",
              "1                                     Four Stars  ...   \n",
              "2                                     Five Stars  ...   \n",
              "3                                     Four Stars  ...   \n",
              "4                                    Very happy.  ...   \n",
              "\n",
              "                                             feature  \\\n",
              "0  [Dimensions: 9.2 in. h x 7.46 in. w x 0.78 in....   \n",
              "1  [Dimensions: 9.2 in. h x 7.46 in. w x 0.78 in....   \n",
              "2  [Dimensions: 9.2 in. h x 7.46 in. w x 0.78 in....   \n",
              "3  [Dimensions: 9.2 in. h x 7.46 in. w x 0.78 in....   \n",
              "4  [Dimensions: 9.2 in. h x 7.46 in. w x 0.78 in....   \n",
              "\n",
              "                                                rank  \\\n",
              "0  [>#76,268 in Arts, Crafts &amp; Sewing (See To...   \n",
              "1  [>#76,268 in Arts, Crafts &amp; Sewing (See To...   \n",
              "2  [>#76,268 in Arts, Crafts &amp; Sewing (See To...   \n",
              "3  [>#76,268 in Arts, Crafts &amp; Sewing (See To...   \n",
              "4  [>#76,268 in Arts, Crafts &amp; Sewing (See To...   \n",
              "\n",
              "                                           also_view  \\\n",
              "0  [1119287111, 156477998X, 0470045558, 190870724...   \n",
              "1  [1119287111, 156477998X, 0470045558, 190870724...   \n",
              "2  [1119287111, 156477998X, 0470045558, 190870724...   \n",
              "3  [1119287111, 156477998X, 0470045558, 190870724...   \n",
              "4  [1119287111, 156477998X, 0470045558, 190870724...   \n",
              "\n",
              "                    main_cat similar_item date price  \\\n",
              "0  Arts, Crafts &amp; Sewing                           \n",
              "1  Arts, Crafts &amp; Sewing                           \n",
              "2  Arts, Crafts &amp; Sewing                           \n",
              "3  Arts, Crafts &amp; Sewing                           \n",
              "4  Arts, Crafts &amp; Sewing                           \n",
              "\n",
              "                                            imageURL  \\\n",
              "0  [https://images-na.ssl-images-amazon.com/image...   \n",
              "1  [https://images-na.ssl-images-amazon.com/image...   \n",
              "2  [https://images-na.ssl-images-amazon.com/image...   \n",
              "3  [https://images-na.ssl-images-amazon.com/image...   \n",
              "4  [https://images-na.ssl-images-amazon.com/image...   \n",
              "\n",
              "                                     imageURLHighRes details  \n",
              "0  [https://images-na.ssl-images-amazon.com/image...     NaN  \n",
              "1  [https://images-na.ssl-images-amazon.com/image...     NaN  \n",
              "2  [https://images-na.ssl-images-amazon.com/image...     NaN  \n",
              "3  [https://images-na.ssl-images-amazon.com/image...     NaN  \n",
              "4  [https://images-na.ssl-images-amazon.com/image...     NaN  \n",
              "\n",
              "[5 rows x 30 columns]"
            ],
            "text/html": [
              "\n",
              "  <div id=\"df-054055d0-e6ea-4ceb-846f-a60d0ad02c0f\">\n",
              "    <div class=\"colab-df-container\">\n",
              "      <div>\n",
              "<style scoped>\n",
              "    .dataframe tbody tr th:only-of-type {\n",
              "        vertical-align: middle;\n",
              "    }\n",
              "\n",
              "    .dataframe tbody tr th {\n",
              "        vertical-align: top;\n",
              "    }\n",
              "\n",
              "    .dataframe thead th {\n",
              "        text-align: right;\n",
              "    }\n",
              "</style>\n",
              "<table border=\"1\" class=\"dataframe\">\n",
              "  <thead>\n",
              "    <tr style=\"text-align: right;\">\n",
              "      <th></th>\n",
              "      <th>overall</th>\n",
              "      <th>vote</th>\n",
              "      <th>verified</th>\n",
              "      <th>reviewTime</th>\n",
              "      <th>reviewerID</th>\n",
              "      <th>asin</th>\n",
              "      <th>style</th>\n",
              "      <th>reviewerName</th>\n",
              "      <th>reviewText</th>\n",
              "      <th>summary</th>\n",
              "      <th>...</th>\n",
              "      <th>feature</th>\n",
              "      <th>rank</th>\n",
              "      <th>also_view</th>\n",
              "      <th>main_cat</th>\n",
              "      <th>similar_item</th>\n",
              "      <th>date</th>\n",
              "      <th>price</th>\n",
              "      <th>imageURL</th>\n",
              "      <th>imageURLHighRes</th>\n",
              "      <th>details</th>\n",
              "    </tr>\n",
              "  </thead>\n",
              "  <tbody>\n",
              "    <tr>\n",
              "      <th>0</th>\n",
              "      <td>5</td>\n",
              "      <td>90.0</td>\n",
              "      <td>False</td>\n",
              "      <td>08 9, 2004</td>\n",
              "      <td>AXHY24HWOF184</td>\n",
              "      <td>0470536454</td>\n",
              "      <td>{'Format:': ' Paperback'}</td>\n",
              "      <td>Bendy</td>\n",
              "      <td>Crocheting for Dummies by Karen Manthey &amp; Susa...</td>\n",
              "      <td>Terrific Book for Learning the Art of Crochet</td>\n",
              "      <td>...</td>\n",
              "      <td>[Dimensions: 9.2 in. h x 7.46 in. w x 0.78 in....</td>\n",
              "      <td>[&gt;#76,268 in Arts, Crafts &amp;amp; Sewing (See To...</td>\n",
              "      <td>[1119287111, 156477998X, 0470045558, 190870724...</td>\n",
              "      <td>Arts, Crafts &amp;amp; Sewing</td>\n",
              "      <td></td>\n",
              "      <td></td>\n",
              "      <td></td>\n",
              "      <td>[https://images-na.ssl-images-amazon.com/image...</td>\n",
              "      <td>[https://images-na.ssl-images-amazon.com/image...</td>\n",
              "      <td>NaN</td>\n",
              "    </tr>\n",
              "    <tr>\n",
              "      <th>1</th>\n",
              "      <td>4</td>\n",
              "      <td>2.0</td>\n",
              "      <td>True</td>\n",
              "      <td>04 6, 2017</td>\n",
              "      <td>A29OWR79AM796H</td>\n",
              "      <td>0470536454</td>\n",
              "      <td>{'Format:': ' Hardcover'}</td>\n",
              "      <td>Amazon Customer</td>\n",
              "      <td>Very helpful...</td>\n",
              "      <td>Four Stars</td>\n",
              "      <td>...</td>\n",
              "      <td>[Dimensions: 9.2 in. h x 7.46 in. w x 0.78 in....</td>\n",
              "      <td>[&gt;#76,268 in Arts, Crafts &amp;amp; Sewing (See To...</td>\n",
              "      <td>[1119287111, 156477998X, 0470045558, 190870724...</td>\n",
              "      <td>Arts, Crafts &amp;amp; Sewing</td>\n",
              "      <td></td>\n",
              "      <td></td>\n",
              "      <td></td>\n",
              "      <td>[https://images-na.ssl-images-amazon.com/image...</td>\n",
              "      <td>[https://images-na.ssl-images-amazon.com/image...</td>\n",
              "      <td>NaN</td>\n",
              "    </tr>\n",
              "    <tr>\n",
              "      <th>2</th>\n",
              "      <td>5</td>\n",
              "      <td>NaN</td>\n",
              "      <td>True</td>\n",
              "      <td>03 14, 2017</td>\n",
              "      <td>AUPWU27A7X5F6</td>\n",
              "      <td>0470536454</td>\n",
              "      <td>{'Format:': ' Paperback'}</td>\n",
              "      <td>Amazon Customer</td>\n",
              "      <td>EASY TO UNDERSTAND AND A PROMPT SERVICE TOO</td>\n",
              "      <td>Five Stars</td>\n",
              "      <td>...</td>\n",
              "      <td>[Dimensions: 9.2 in. h x 7.46 in. w x 0.78 in....</td>\n",
              "      <td>[&gt;#76,268 in Arts, Crafts &amp;amp; Sewing (See To...</td>\n",
              "      <td>[1119287111, 156477998X, 0470045558, 190870724...</td>\n",
              "      <td>Arts, Crafts &amp;amp; Sewing</td>\n",
              "      <td></td>\n",
              "      <td></td>\n",
              "      <td></td>\n",
              "      <td>[https://images-na.ssl-images-amazon.com/image...</td>\n",
              "      <td>[https://images-na.ssl-images-amazon.com/image...</td>\n",
              "      <td>NaN</td>\n",
              "    </tr>\n",
              "    <tr>\n",
              "      <th>3</th>\n",
              "      <td>4</td>\n",
              "      <td>NaN</td>\n",
              "      <td>True</td>\n",
              "      <td>02 14, 2017</td>\n",
              "      <td>A1N69A47D4JO6K</td>\n",
              "      <td>0470536454</td>\n",
              "      <td>{'Format:': ' Paperback'}</td>\n",
              "      <td>Christopher Burnett</td>\n",
              "      <td>My girlfriend use quite often</td>\n",
              "      <td>Four Stars</td>\n",
              "      <td>...</td>\n",
              "      <td>[Dimensions: 9.2 in. h x 7.46 in. w x 0.78 in....</td>\n",
              "      <td>[&gt;#76,268 in Arts, Crafts &amp;amp; Sewing (See To...</td>\n",
              "      <td>[1119287111, 156477998X, 0470045558, 190870724...</td>\n",
              "      <td>Arts, Crafts &amp;amp; Sewing</td>\n",
              "      <td></td>\n",
              "      <td></td>\n",
              "      <td></td>\n",
              "      <td>[https://images-na.ssl-images-amazon.com/image...</td>\n",
              "      <td>[https://images-na.ssl-images-amazon.com/image...</td>\n",
              "      <td>NaN</td>\n",
              "    </tr>\n",
              "    <tr>\n",
              "      <th>4</th>\n",
              "      <td>5</td>\n",
              "      <td>NaN</td>\n",
              "      <td>True</td>\n",
              "      <td>01 29, 2017</td>\n",
              "      <td>AHTIQUMVCGBFJ</td>\n",
              "      <td>0470536454</td>\n",
              "      <td>{'Format:': ' Paperback'}</td>\n",
              "      <td>Amazon Customer</td>\n",
              "      <td>Arrived as described. Very happy.</td>\n",
              "      <td>Very happy.</td>\n",
              "      <td>...</td>\n",
              "      <td>[Dimensions: 9.2 in. h x 7.46 in. w x 0.78 in....</td>\n",
              "      <td>[&gt;#76,268 in Arts, Crafts &amp;amp; Sewing (See To...</td>\n",
              "      <td>[1119287111, 156477998X, 0470045558, 190870724...</td>\n",
              "      <td>Arts, Crafts &amp;amp; Sewing</td>\n",
              "      <td></td>\n",
              "      <td></td>\n",
              "      <td></td>\n",
              "      <td>[https://images-na.ssl-images-amazon.com/image...</td>\n",
              "      <td>[https://images-na.ssl-images-amazon.com/image...</td>\n",
              "      <td>NaN</td>\n",
              "    </tr>\n",
              "  </tbody>\n",
              "</table>\n",
              "<p>5 rows × 30 columns</p>\n",
              "</div>\n",
              "      <button class=\"colab-df-convert\" onclick=\"convertToInteractive('df-054055d0-e6ea-4ceb-846f-a60d0ad02c0f')\"\n",
              "              title=\"Convert this dataframe to an interactive table.\"\n",
              "              style=\"display:none;\">\n",
              "        \n",
              "  <svg xmlns=\"http://www.w3.org/2000/svg\" height=\"24px\"viewBox=\"0 0 24 24\"\n",
              "       width=\"24px\">\n",
              "    <path d=\"M0 0h24v24H0V0z\" fill=\"none\"/>\n",
              "    <path d=\"M18.56 5.44l.94 2.06.94-2.06 2.06-.94-2.06-.94-.94-2.06-.94 2.06-2.06.94zm-11 1L8.5 8.5l.94-2.06 2.06-.94-2.06-.94L8.5 2.5l-.94 2.06-2.06.94zm10 10l.94 2.06.94-2.06 2.06-.94-2.06-.94-.94-2.06-.94 2.06-2.06.94z\"/><path d=\"M17.41 7.96l-1.37-1.37c-.4-.4-.92-.59-1.43-.59-.52 0-1.04.2-1.43.59L10.3 9.45l-7.72 7.72c-.78.78-.78 2.05 0 2.83L4 21.41c.39.39.9.59 1.41.59.51 0 1.02-.2 1.41-.59l7.78-7.78 2.81-2.81c.8-.78.8-2.07 0-2.86zM5.41 20L4 18.59l7.72-7.72 1.47 1.35L5.41 20z\"/>\n",
              "  </svg>\n",
              "      </button>\n",
              "      \n",
              "  <style>\n",
              "    .colab-df-container {\n",
              "      display:flex;\n",
              "      flex-wrap:wrap;\n",
              "      gap: 12px;\n",
              "    }\n",
              "\n",
              "    .colab-df-convert {\n",
              "      background-color: #E8F0FE;\n",
              "      border: none;\n",
              "      border-radius: 50%;\n",
              "      cursor: pointer;\n",
              "      display: none;\n",
              "      fill: #1967D2;\n",
              "      height: 32px;\n",
              "      padding: 0 0 0 0;\n",
              "      width: 32px;\n",
              "    }\n",
              "\n",
              "    .colab-df-convert:hover {\n",
              "      background-color: #E2EBFA;\n",
              "      box-shadow: 0px 1px 2px rgba(60, 64, 67, 0.3), 0px 1px 3px 1px rgba(60, 64, 67, 0.15);\n",
              "      fill: #174EA6;\n",
              "    }\n",
              "\n",
              "    [theme=dark] .colab-df-convert {\n",
              "      background-color: #3B4455;\n",
              "      fill: #D2E3FC;\n",
              "    }\n",
              "\n",
              "    [theme=dark] .colab-df-convert:hover {\n",
              "      background-color: #434B5C;\n",
              "      box-shadow: 0px 1px 3px 1px rgba(0, 0, 0, 0.15);\n",
              "      filter: drop-shadow(0px 1px 2px rgba(0, 0, 0, 0.3));\n",
              "      fill: #FFFFFF;\n",
              "    }\n",
              "  </style>\n",
              "\n",
              "      <script>\n",
              "        const buttonEl =\n",
              "          document.querySelector('#df-054055d0-e6ea-4ceb-846f-a60d0ad02c0f button.colab-df-convert');\n",
              "        buttonEl.style.display =\n",
              "          google.colab.kernel.accessAllowed ? 'block' : 'none';\n",
              "\n",
              "        async function convertToInteractive(key) {\n",
              "          const element = document.querySelector('#df-054055d0-e6ea-4ceb-846f-a60d0ad02c0f');\n",
              "          const dataTable =\n",
              "            await google.colab.kernel.invokeFunction('convertToInteractive',\n",
              "                                                     [key], {});\n",
              "          if (!dataTable) return;\n",
              "\n",
              "          const docLinkHtml = 'Like what you see? Visit the ' +\n",
              "            '<a target=\"_blank\" href=https://colab.research.google.com/notebooks/data_table.ipynb>data table notebook</a>'\n",
              "            + ' to learn more about interactive tables.';\n",
              "          element.innerHTML = '';\n",
              "          dataTable['output_type'] = 'display_data';\n",
              "          await google.colab.output.renderOutput(dataTable, element);\n",
              "          const docLink = document.createElement('div');\n",
              "          docLink.innerHTML = docLinkHtml;\n",
              "          element.appendChild(docLink);\n",
              "        }\n",
              "      </script>\n",
              "    </div>\n",
              "  </div>\n",
              "  "
            ]
          },
          "metadata": {},
          "execution_count": 6
        }
      ],
      "source": [
        "# Checking the first five records \n",
        "final_music.head()"
      ]
    },
    {
      "cell_type": "code",
      "execution_count": 7,
      "metadata": {
        "colab": {
          "base_uri": "https://localhost:8080/",
          "height": 646
        },
        "id": "w8bgXH3FWK2c",
        "outputId": "e22f2947-84ce-486f-bb52-b3dbfc4fe91f"
      },
      "outputs": [
        {
          "output_type": "execute_result",
          "data": {
            "text/plain": [
              "        overall  vote  verified   reviewTime      reviewerID        asin  \\\n",
              "376471        3   6.0     False  10 27, 2010  A3LO69NVX14T5O  B0007L9NS2   \n",
              "376472        5  18.0      True  03 26, 2010  A23BA3FL30O87V  B0007L9NS2   \n",
              "376473        5   7.0      True  06 21, 2009   AC6ZMS9HZ23I7  B0007L9NS2   \n",
              "376474        5  18.0     False  08 29, 2008  A3ASBJX2ZUZZ2J  B0007L9NS2   \n",
              "376475        5   NaN     False  11 20, 2017  A1YZM4L8FED7L8  B0007L9NS2   \n",
              "\n",
              "       style     reviewerName  \\\n",
              "376471   NaN       I. Pribadi   \n",
              "376472   NaN  Andrew Williams   \n",
              "376473   NaN               hd   \n",
              "376474   NaN      Music Lover   \n",
              "376475   NaN            Gregg   \n",
              "\n",
              "                                               reviewText  \\\n",
              "376471  Product works like decribed but does require s...   \n",
              "376472  Product works very well.  I have Zildjian A Cu...   \n",
              "376473  the product works very well.  the supplier sen...   \n",
              "376474  This polish is really good, I have ZHT Pros. I...   \n",
              "376475  I've tried several and keep coming back to thi...   \n",
              "\n",
              "                                      summary  ...  \\\n",
              "376471  Okay product but will look for others  ...   \n",
              "376472                 Clean, bright cymbals!  ...   \n",
              "376473                         cymbal cleaner  ...   \n",
              "376474                            Pretty Good  ...   \n",
              "376475          Seriously, Its my only choice  ...   \n",
              "\n",
              "                                                  feature  \\\n",
              "376471  [One quick and easy application, 8 fl. Oz/250 ...   \n",
              "376472  [One quick and easy application, 8 fl. Oz/250 ...   \n",
              "376473  [One quick and easy application, 8 fl. Oz/250 ...   \n",
              "376474  [One quick and easy application, 8 fl. Oz/250 ...   \n",
              "376475  [One quick and easy application, 8 fl. Oz/250 ...   \n",
              "\n",
              "                                                     rank also_view  \\\n",
              "376471  [>#1,003 in Musical Instruments (See Top 100 i...        []   \n",
              "376472  [>#1,003 in Musical Instruments (See Top 100 i...        []   \n",
              "376473  [>#1,003 in Musical Instruments (See Top 100 i...        []   \n",
              "376474  [>#1,003 in Musical Instruments (See Top 100 i...        []   \n",
              "376475  [>#1,003 in Musical Instruments (See Top 100 i...        []   \n",
              "\n",
              "                   main_cat  \\\n",
              "376471  Musical Instruments   \n",
              "376472  Musical Instruments   \n",
              "376473  Musical Instruments   \n",
              "376474  Musical Instruments   \n",
              "376475  Musical Instruments   \n",
              "\n",
              "                                             similar_item date   price  \\\n",
              "376471   class=\"a-bordered a-horizontal-stripes  a-spa...       $13.30   \n",
              "376472   class=\"a-bordered a-horizontal-stripes  a-spa...       $13.30   \n",
              "376473   class=\"a-bordered a-horizontal-stripes  a-spa...       $13.30   \n",
              "376474   class=\"a-bordered a-horizontal-stripes  a-spa...       $13.30   \n",
              "376475   class=\"a-bordered a-horizontal-stripes  a-spa...       $13.30   \n",
              "\n",
              "                                                 imageURL  \\\n",
              "376471  [https://images-na.ssl-images-amazon.com/image...   \n",
              "376472  [https://images-na.ssl-images-amazon.com/image...   \n",
              "376473  [https://images-na.ssl-images-amazon.com/image...   \n",
              "376474  [https://images-na.ssl-images-amazon.com/image...   \n",
              "376475  [https://images-na.ssl-images-amazon.com/image...   \n",
              "\n",
              "                                          imageURLHighRes details  \n",
              "376471  [https://images-na.ssl-images-amazon.com/image...      {}  \n",
              "376472  [https://images-na.ssl-images-amazon.com/image...      {}  \n",
              "376473  [https://images-na.ssl-images-amazon.com/image...      {}  \n",
              "376474  [https://images-na.ssl-images-amazon.com/image...      {}  \n",
              "376475  [https://images-na.ssl-images-amazon.com/image...      {}  \n",
              "\n",
              "[5 rows x 30 columns]"
            ],
            "text/html": [
              "\n",
              "  <div id=\"df-b242081b-956c-42a3-a057-45bf4a4dfe57\">\n",
              "    <div class=\"colab-df-container\">\n",
              "      <div>\n",
              "<style scoped>\n",
              "    .dataframe tbody tr th:only-of-type {\n",
              "        vertical-align: middle;\n",
              "    }\n",
              "\n",
              "    .dataframe tbody tr th {\n",
              "        vertical-align: top;\n",
              "    }\n",
              "\n",
              "    .dataframe thead th {\n",
              "        text-align: right;\n",
              "    }\n",
              "</style>\n",
              "<table border=\"1\" class=\"dataframe\">\n",
              "  <thead>\n",
              "    <tr style=\"text-align: right;\">\n",
              "      <th></th>\n",
              "      <th>overall</th>\n",
              "      <th>vote</th>\n",
              "      <th>verified</th>\n",
              "      <th>reviewTime</th>\n",
              "      <th>reviewerID</th>\n",
              "      <th>asin</th>\n",
              "      <th>style</th>\n",
              "      <th>reviewerName</th>\n",
              "      <th>reviewText</th>\n",
              "      <th>summary</th>\n",
              "      <th>...</th>\n",
              "      <th>feature</th>\n",
              "      <th>rank</th>\n",
              "      <th>also_view</th>\n",
              "      <th>main_cat</th>\n",
              "      <th>similar_item</th>\n",
              "      <th>date</th>\n",
              "      <th>price</th>\n",
              "      <th>imageURL</th>\n",
              "      <th>imageURLHighRes</th>\n",
              "      <th>details</th>\n",
              "    </tr>\n",
              "  </thead>\n",
              "  <tbody>\n",
              "    <tr>\n",
              "      <th>376471</th>\n",
              "      <td>3</td>\n",
              "      <td>6.0</td>\n",
              "      <td>False</td>\n",
              "      <td>10 27, 2010</td>\n",
              "      <td>A3LO69NVX14T5O</td>\n",
              "      <td>B0007L9NS2</td>\n",
              "      <td>NaN</td>\n",
              "      <td>I. Pribadi</td>\n",
              "      <td>Product works like decribed but does require s...</td>\n",
              "      <td>Okay product but will look for others</td>\n",
              "      <td>...</td>\n",
              "      <td>[One quick and easy application, 8 fl. Oz/250 ...</td>\n",
              "      <td>[&gt;#1,003 in Musical Instruments (See Top 100 i...</td>\n",
              "      <td>[]</td>\n",
              "      <td>Musical Instruments</td>\n",
              "      <td>class=\"a-bordered a-horizontal-stripes  a-spa...</td>\n",
              "      <td></td>\n",
              "      <td>$13.30</td>\n",
              "      <td>[https://images-na.ssl-images-amazon.com/image...</td>\n",
              "      <td>[https://images-na.ssl-images-amazon.com/image...</td>\n",
              "      <td>{}</td>\n",
              "    </tr>\n",
              "    <tr>\n",
              "      <th>376472</th>\n",
              "      <td>5</td>\n",
              "      <td>18.0</td>\n",
              "      <td>True</td>\n",
              "      <td>03 26, 2010</td>\n",
              "      <td>A23BA3FL30O87V</td>\n",
              "      <td>B0007L9NS2</td>\n",
              "      <td>NaN</td>\n",
              "      <td>Andrew Williams</td>\n",
              "      <td>Product works very well.  I have Zildjian A Cu...</td>\n",
              "      <td>Clean, bright cymbals!</td>\n",
              "      <td>...</td>\n",
              "      <td>[One quick and easy application, 8 fl. Oz/250 ...</td>\n",
              "      <td>[&gt;#1,003 in Musical Instruments (See Top 100 i...</td>\n",
              "      <td>[]</td>\n",
              "      <td>Musical Instruments</td>\n",
              "      <td>class=\"a-bordered a-horizontal-stripes  a-spa...</td>\n",
              "      <td></td>\n",
              "      <td>$13.30</td>\n",
              "      <td>[https://images-na.ssl-images-amazon.com/image...</td>\n",
              "      <td>[https://images-na.ssl-images-amazon.com/image...</td>\n",
              "      <td>{}</td>\n",
              "    </tr>\n",
              "    <tr>\n",
              "      <th>376473</th>\n",
              "      <td>5</td>\n",
              "      <td>7.0</td>\n",
              "      <td>True</td>\n",
              "      <td>06 21, 2009</td>\n",
              "      <td>AC6ZMS9HZ23I7</td>\n",
              "      <td>B0007L9NS2</td>\n",
              "      <td>NaN</td>\n",
              "      <td>hd</td>\n",
              "      <td>the product works very well.  the supplier sen...</td>\n",
              "      <td>cymbal cleaner</td>\n",
              "      <td>...</td>\n",
              "      <td>[One quick and easy application, 8 fl. Oz/250 ...</td>\n",
              "      <td>[&gt;#1,003 in Musical Instruments (See Top 100 i...</td>\n",
              "      <td>[]</td>\n",
              "      <td>Musical Instruments</td>\n",
              "      <td>class=\"a-bordered a-horizontal-stripes  a-spa...</td>\n",
              "      <td></td>\n",
              "      <td>$13.30</td>\n",
              "      <td>[https://images-na.ssl-images-amazon.com/image...</td>\n",
              "      <td>[https://images-na.ssl-images-amazon.com/image...</td>\n",
              "      <td>{}</td>\n",
              "    </tr>\n",
              "    <tr>\n",
              "      <th>376474</th>\n",
              "      <td>5</td>\n",
              "      <td>18.0</td>\n",
              "      <td>False</td>\n",
              "      <td>08 29, 2008</td>\n",
              "      <td>A3ASBJX2ZUZZ2J</td>\n",
              "      <td>B0007L9NS2</td>\n",
              "      <td>NaN</td>\n",
              "      <td>Music Lover</td>\n",
              "      <td>This polish is really good, I have ZHT Pros. I...</td>\n",
              "      <td>Pretty Good</td>\n",
              "      <td>...</td>\n",
              "      <td>[One quick and easy application, 8 fl. Oz/250 ...</td>\n",
              "      <td>[&gt;#1,003 in Musical Instruments (See Top 100 i...</td>\n",
              "      <td>[]</td>\n",
              "      <td>Musical Instruments</td>\n",
              "      <td>class=\"a-bordered a-horizontal-stripes  a-spa...</td>\n",
              "      <td></td>\n",
              "      <td>$13.30</td>\n",
              "      <td>[https://images-na.ssl-images-amazon.com/image...</td>\n",
              "      <td>[https://images-na.ssl-images-amazon.com/image...</td>\n",
              "      <td>{}</td>\n",
              "    </tr>\n",
              "    <tr>\n",
              "      <th>376475</th>\n",
              "      <td>5</td>\n",
              "      <td>NaN</td>\n",
              "      <td>False</td>\n",
              "      <td>11 20, 2017</td>\n",
              "      <td>A1YZM4L8FED7L8</td>\n",
              "      <td>B0007L9NS2</td>\n",
              "      <td>NaN</td>\n",
              "      <td>Gregg</td>\n",
              "      <td>I've tried several and keep coming back to thi...</td>\n",
              "      <td>Seriously, Its my only choice</td>\n",
              "      <td>...</td>\n",
              "      <td>[One quick and easy application, 8 fl. Oz/250 ...</td>\n",
              "      <td>[&gt;#1,003 in Musical Instruments (See Top 100 i...</td>\n",
              "      <td>[]</td>\n",
              "      <td>Musical Instruments</td>\n",
              "      <td>class=\"a-bordered a-horizontal-stripes  a-spa...</td>\n",
              "      <td></td>\n",
              "      <td>$13.30</td>\n",
              "      <td>[https://images-na.ssl-images-amazon.com/image...</td>\n",
              "      <td>[https://images-na.ssl-images-amazon.com/image...</td>\n",
              "      <td>{}</td>\n",
              "    </tr>\n",
              "  </tbody>\n",
              "</table>\n",
              "<p>5 rows × 30 columns</p>\n",
              "</div>\n",
              "      <button class=\"colab-df-convert\" onclick=\"convertToInteractive('df-b242081b-956c-42a3-a057-45bf4a4dfe57')\"\n",
              "              title=\"Convert this dataframe to an interactive table.\"\n",
              "              style=\"display:none;\">\n",
              "        \n",
              "  <svg xmlns=\"http://www.w3.org/2000/svg\" height=\"24px\"viewBox=\"0 0 24 24\"\n",
              "       width=\"24px\">\n",
              "    <path d=\"M0 0h24v24H0V0z\" fill=\"none\"/>\n",
              "    <path d=\"M18.56 5.44l.94 2.06.94-2.06 2.06-.94-2.06-.94-.94-2.06-.94 2.06-2.06.94zm-11 1L8.5 8.5l.94-2.06 2.06-.94-2.06-.94L8.5 2.5l-.94 2.06-2.06.94zm10 10l.94 2.06.94-2.06 2.06-.94-2.06-.94-.94-2.06-.94 2.06-2.06.94z\"/><path d=\"M17.41 7.96l-1.37-1.37c-.4-.4-.92-.59-1.43-.59-.52 0-1.04.2-1.43.59L10.3 9.45l-7.72 7.72c-.78.78-.78 2.05 0 2.83L4 21.41c.39.39.9.59 1.41.59.51 0 1.02-.2 1.41-.59l7.78-7.78 2.81-2.81c.8-.78.8-2.07 0-2.86zM5.41 20L4 18.59l7.72-7.72 1.47 1.35L5.41 20z\"/>\n",
              "  </svg>\n",
              "      </button>\n",
              "      \n",
              "  <style>\n",
              "    .colab-df-container {\n",
              "      display:flex;\n",
              "      flex-wrap:wrap;\n",
              "      gap: 12px;\n",
              "    }\n",
              "\n",
              "    .colab-df-convert {\n",
              "      background-color: #E8F0FE;\n",
              "      border: none;\n",
              "      border-radius: 50%;\n",
              "      cursor: pointer;\n",
              "      display: none;\n",
              "      fill: #1967D2;\n",
              "      height: 32px;\n",
              "      padding: 0 0 0 0;\n",
              "      width: 32px;\n",
              "    }\n",
              "\n",
              "    .colab-df-convert:hover {\n",
              "      background-color: #E2EBFA;\n",
              "      box-shadow: 0px 1px 2px rgba(60, 64, 67, 0.3), 0px 1px 3px 1px rgba(60, 64, 67, 0.15);\n",
              "      fill: #174EA6;\n",
              "    }\n",
              "\n",
              "    [theme=dark] .colab-df-convert {\n",
              "      background-color: #3B4455;\n",
              "      fill: #D2E3FC;\n",
              "    }\n",
              "\n",
              "    [theme=dark] .colab-df-convert:hover {\n",
              "      background-color: #434B5C;\n",
              "      box-shadow: 0px 1px 3px 1px rgba(0, 0, 0, 0.15);\n",
              "      filter: drop-shadow(0px 1px 2px rgba(0, 0, 0, 0.3));\n",
              "      fill: #FFFFFF;\n",
              "    }\n",
              "  </style>\n",
              "\n",
              "      <script>\n",
              "        const buttonEl =\n",
              "          document.querySelector('#df-b242081b-956c-42a3-a057-45bf4a4dfe57 button.colab-df-convert');\n",
              "        buttonEl.style.display =\n",
              "          google.colab.kernel.accessAllowed ? 'block' : 'none';\n",
              "\n",
              "        async function convertToInteractive(key) {\n",
              "          const element = document.querySelector('#df-b242081b-956c-42a3-a057-45bf4a4dfe57');\n",
              "          const dataTable =\n",
              "            await google.colab.kernel.invokeFunction('convertToInteractive',\n",
              "                                                     [key], {});\n",
              "          if (!dataTable) return;\n",
              "\n",
              "          const docLinkHtml = 'Like what you see? Visit the ' +\n",
              "            '<a target=\"_blank\" href=https://colab.research.google.com/notebooks/data_table.ipynb>data table notebook</a>'\n",
              "            + ' to learn more about interactive tables.';\n",
              "          element.innerHTML = '';\n",
              "          dataTable['output_type'] = 'display_data';\n",
              "          await google.colab.output.renderOutput(dataTable, element);\n",
              "          const docLink = document.createElement('div');\n",
              "          docLink.innerHTML = docLinkHtml;\n",
              "          element.appendChild(docLink);\n",
              "        }\n",
              "      </script>\n",
              "    </div>\n",
              "  </div>\n",
              "  "
            ]
          },
          "metadata": {},
          "execution_count": 7
        }
      ],
      "source": [
        "#Checking the last five Records\n",
        "final_music.tail()"
      ]
    },
    {
      "cell_type": "code",
      "source": [
        "# Checkinng the shape \n",
        "final_music.shape"
      ],
      "metadata": {
        "colab": {
          "base_uri": "https://localhost:8080/"
        },
        "id": "hR25HQVqmefU",
        "outputId": "5ab03780-8143-4c9a-abb6-f823f88451ea"
      },
      "execution_count": 8,
      "outputs": [
        {
          "output_type": "execute_result",
          "data": {
            "text/plain": [
              "(376476, 30)"
            ]
          },
          "metadata": {},
          "execution_count": 8
        }
      ]
    },
    {
      "cell_type": "markdown",
      "metadata": {
        "id": "A6ZKkP4Ieum3"
      },
      "source": [
        "### Choosing only the important columns"
      ]
    },
    {
      "cell_type": "code",
      "execution_count": 9,
      "metadata": {
        "id": "eiZN4JyOZU1t"
      },
      "outputs": [],
      "source": [
        "final_music_df =final_music[['overall','verified', 'reviewTime', 'reviewerID','reviewerName', 'reviewText','summary','category',\n",
        "                  'description', 'title','brand', 'feature', 'main_cat', 'date', 'price']]"
      ]
    },
    {
      "cell_type": "code",
      "execution_count": 10,
      "metadata": {
        "colab": {
          "base_uri": "https://localhost:8080/",
          "height": 704
        },
        "id": "uLgOHnzB81wj",
        "outputId": "c66f608a-8107-413a-a9c9-e49c4bef889e"
      },
      "outputs": [
        {
          "output_type": "execute_result",
          "data": {
            "text/plain": [
              "   overall  verified   reviewTime      reviewerID         reviewerName  \\\n",
              "0        5     False   08 9, 2004   AXHY24HWOF184                Bendy   \n",
              "1        4      True   04 6, 2017  A29OWR79AM796H      Amazon Customer   \n",
              "2        5      True  03 14, 2017   AUPWU27A7X5F6      Amazon Customer   \n",
              "3        4      True  02 14, 2017  A1N69A47D4JO6K  Christopher Burnett   \n",
              "4        5      True  01 29, 2017   AHTIQUMVCGBFJ      Amazon Customer   \n",
              "\n",
              "                                          reviewText  \\\n",
              "0  Crocheting for Dummies by Karen Manthey & Susa...   \n",
              "1                                    Very helpful...   \n",
              "2        EASY TO UNDERSTAND AND A PROMPT SERVICE TOO   \n",
              "3                      My girlfriend use quite often   \n",
              "4                  Arrived as described. Very happy.   \n",
              "\n",
              "                                         summary  \\\n",
              "0  Terrific Book for Learning the Art of Crochet   \n",
              "1                                     Four Stars   \n",
              "2                                     Five Stars   \n",
              "3                                     Four Stars   \n",
              "4                                    Very happy.   \n",
              "\n",
              "                                            category  \\\n",
              "0  [Musical Instruments, Instrument Accessories, ...   \n",
              "1  [Musical Instruments, Instrument Accessories, ...   \n",
              "2  [Musical Instruments, Instrument Accessories, ...   \n",
              "3  [Musical Instruments, Instrument Accessories, ...   \n",
              "4  [Musical Instruments, Instrument Accessories, ...   \n",
              "\n",
              "                                         description  \\\n",
              "0  [, An updated classic covering the latest tech...   \n",
              "1  [, An updated classic covering the latest tech...   \n",
              "2  [, An updated classic covering the latest tech...   \n",
              "3  [, An updated classic covering the latest tech...   \n",
              "4  [, An updated classic covering the latest tech...   \n",
              "\n",
              "                                             title             brand  \\\n",
              "0  Wiley Publishers Crocheting For Dummies Revised  Wiley Publishing   \n",
              "1  Wiley Publishers Crocheting For Dummies Revised  Wiley Publishing   \n",
              "2  Wiley Publishers Crocheting For Dummies Revised  Wiley Publishing   \n",
              "3  Wiley Publishers Crocheting For Dummies Revised  Wiley Publishing   \n",
              "4  Wiley Publishers Crocheting For Dummies Revised  Wiley Publishing   \n",
              "\n",
              "                                             feature  \\\n",
              "0  [Dimensions: 9.2 in. h x 7.46 in. w x 0.78 in....   \n",
              "1  [Dimensions: 9.2 in. h x 7.46 in. w x 0.78 in....   \n",
              "2  [Dimensions: 9.2 in. h x 7.46 in. w x 0.78 in....   \n",
              "3  [Dimensions: 9.2 in. h x 7.46 in. w x 0.78 in....   \n",
              "4  [Dimensions: 9.2 in. h x 7.46 in. w x 0.78 in....   \n",
              "\n",
              "                    main_cat date price  \n",
              "0  Arts, Crafts &amp; Sewing             \n",
              "1  Arts, Crafts &amp; Sewing             \n",
              "2  Arts, Crafts &amp; Sewing             \n",
              "3  Arts, Crafts &amp; Sewing             \n",
              "4  Arts, Crafts &amp; Sewing             "
            ],
            "text/html": [
              "\n",
              "  <div id=\"df-bf31e5a2-2501-4f8b-bd00-c0ae6b1000e9\">\n",
              "    <div class=\"colab-df-container\">\n",
              "      <div>\n",
              "<style scoped>\n",
              "    .dataframe tbody tr th:only-of-type {\n",
              "        vertical-align: middle;\n",
              "    }\n",
              "\n",
              "    .dataframe tbody tr th {\n",
              "        vertical-align: top;\n",
              "    }\n",
              "\n",
              "    .dataframe thead th {\n",
              "        text-align: right;\n",
              "    }\n",
              "</style>\n",
              "<table border=\"1\" class=\"dataframe\">\n",
              "  <thead>\n",
              "    <tr style=\"text-align: right;\">\n",
              "      <th></th>\n",
              "      <th>overall</th>\n",
              "      <th>verified</th>\n",
              "      <th>reviewTime</th>\n",
              "      <th>reviewerID</th>\n",
              "      <th>reviewerName</th>\n",
              "      <th>reviewText</th>\n",
              "      <th>summary</th>\n",
              "      <th>category</th>\n",
              "      <th>description</th>\n",
              "      <th>title</th>\n",
              "      <th>brand</th>\n",
              "      <th>feature</th>\n",
              "      <th>main_cat</th>\n",
              "      <th>date</th>\n",
              "      <th>price</th>\n",
              "    </tr>\n",
              "  </thead>\n",
              "  <tbody>\n",
              "    <tr>\n",
              "      <th>0</th>\n",
              "      <td>5</td>\n",
              "      <td>False</td>\n",
              "      <td>08 9, 2004</td>\n",
              "      <td>AXHY24HWOF184</td>\n",
              "      <td>Bendy</td>\n",
              "      <td>Crocheting for Dummies by Karen Manthey &amp; Susa...</td>\n",
              "      <td>Terrific Book for Learning the Art of Crochet</td>\n",
              "      <td>[Musical Instruments, Instrument Accessories, ...</td>\n",
              "      <td>[, An updated classic covering the latest tech...</td>\n",
              "      <td>Wiley Publishers Crocheting For Dummies Revised</td>\n",
              "      <td>Wiley Publishing</td>\n",
              "      <td>[Dimensions: 9.2 in. h x 7.46 in. w x 0.78 in....</td>\n",
              "      <td>Arts, Crafts &amp;amp; Sewing</td>\n",
              "      <td></td>\n",
              "      <td></td>\n",
              "    </tr>\n",
              "    <tr>\n",
              "      <th>1</th>\n",
              "      <td>4</td>\n",
              "      <td>True</td>\n",
              "      <td>04 6, 2017</td>\n",
              "      <td>A29OWR79AM796H</td>\n",
              "      <td>Amazon Customer</td>\n",
              "      <td>Very helpful...</td>\n",
              "      <td>Four Stars</td>\n",
              "      <td>[Musical Instruments, Instrument Accessories, ...</td>\n",
              "      <td>[, An updated classic covering the latest tech...</td>\n",
              "      <td>Wiley Publishers Crocheting For Dummies Revised</td>\n",
              "      <td>Wiley Publishing</td>\n",
              "      <td>[Dimensions: 9.2 in. h x 7.46 in. w x 0.78 in....</td>\n",
              "      <td>Arts, Crafts &amp;amp; Sewing</td>\n",
              "      <td></td>\n",
              "      <td></td>\n",
              "    </tr>\n",
              "    <tr>\n",
              "      <th>2</th>\n",
              "      <td>5</td>\n",
              "      <td>True</td>\n",
              "      <td>03 14, 2017</td>\n",
              "      <td>AUPWU27A7X5F6</td>\n",
              "      <td>Amazon Customer</td>\n",
              "      <td>EASY TO UNDERSTAND AND A PROMPT SERVICE TOO</td>\n",
              "      <td>Five Stars</td>\n",
              "      <td>[Musical Instruments, Instrument Accessories, ...</td>\n",
              "      <td>[, An updated classic covering the latest tech...</td>\n",
              "      <td>Wiley Publishers Crocheting For Dummies Revised</td>\n",
              "      <td>Wiley Publishing</td>\n",
              "      <td>[Dimensions: 9.2 in. h x 7.46 in. w x 0.78 in....</td>\n",
              "      <td>Arts, Crafts &amp;amp; Sewing</td>\n",
              "      <td></td>\n",
              "      <td></td>\n",
              "    </tr>\n",
              "    <tr>\n",
              "      <th>3</th>\n",
              "      <td>4</td>\n",
              "      <td>True</td>\n",
              "      <td>02 14, 2017</td>\n",
              "      <td>A1N69A47D4JO6K</td>\n",
              "      <td>Christopher Burnett</td>\n",
              "      <td>My girlfriend use quite often</td>\n",
              "      <td>Four Stars</td>\n",
              "      <td>[Musical Instruments, Instrument Accessories, ...</td>\n",
              "      <td>[, An updated classic covering the latest tech...</td>\n",
              "      <td>Wiley Publishers Crocheting For Dummies Revised</td>\n",
              "      <td>Wiley Publishing</td>\n",
              "      <td>[Dimensions: 9.2 in. h x 7.46 in. w x 0.78 in....</td>\n",
              "      <td>Arts, Crafts &amp;amp; Sewing</td>\n",
              "      <td></td>\n",
              "      <td></td>\n",
              "    </tr>\n",
              "    <tr>\n",
              "      <th>4</th>\n",
              "      <td>5</td>\n",
              "      <td>True</td>\n",
              "      <td>01 29, 2017</td>\n",
              "      <td>AHTIQUMVCGBFJ</td>\n",
              "      <td>Amazon Customer</td>\n",
              "      <td>Arrived as described. Very happy.</td>\n",
              "      <td>Very happy.</td>\n",
              "      <td>[Musical Instruments, Instrument Accessories, ...</td>\n",
              "      <td>[, An updated classic covering the latest tech...</td>\n",
              "      <td>Wiley Publishers Crocheting For Dummies Revised</td>\n",
              "      <td>Wiley Publishing</td>\n",
              "      <td>[Dimensions: 9.2 in. h x 7.46 in. w x 0.78 in....</td>\n",
              "      <td>Arts, Crafts &amp;amp; Sewing</td>\n",
              "      <td></td>\n",
              "      <td></td>\n",
              "    </tr>\n",
              "  </tbody>\n",
              "</table>\n",
              "</div>\n",
              "      <button class=\"colab-df-convert\" onclick=\"convertToInteractive('df-bf31e5a2-2501-4f8b-bd00-c0ae6b1000e9')\"\n",
              "              title=\"Convert this dataframe to an interactive table.\"\n",
              "              style=\"display:none;\">\n",
              "        \n",
              "  <svg xmlns=\"http://www.w3.org/2000/svg\" height=\"24px\"viewBox=\"0 0 24 24\"\n",
              "       width=\"24px\">\n",
              "    <path d=\"M0 0h24v24H0V0z\" fill=\"none\"/>\n",
              "    <path d=\"M18.56 5.44l.94 2.06.94-2.06 2.06-.94-2.06-.94-.94-2.06-.94 2.06-2.06.94zm-11 1L8.5 8.5l.94-2.06 2.06-.94-2.06-.94L8.5 2.5l-.94 2.06-2.06.94zm10 10l.94 2.06.94-2.06 2.06-.94-2.06-.94-.94-2.06-.94 2.06-2.06.94z\"/><path d=\"M17.41 7.96l-1.37-1.37c-.4-.4-.92-.59-1.43-.59-.52 0-1.04.2-1.43.59L10.3 9.45l-7.72 7.72c-.78.78-.78 2.05 0 2.83L4 21.41c.39.39.9.59 1.41.59.51 0 1.02-.2 1.41-.59l7.78-7.78 2.81-2.81c.8-.78.8-2.07 0-2.86zM5.41 20L4 18.59l7.72-7.72 1.47 1.35L5.41 20z\"/>\n",
              "  </svg>\n",
              "      </button>\n",
              "      \n",
              "  <style>\n",
              "    .colab-df-container {\n",
              "      display:flex;\n",
              "      flex-wrap:wrap;\n",
              "      gap: 12px;\n",
              "    }\n",
              "\n",
              "    .colab-df-convert {\n",
              "      background-color: #E8F0FE;\n",
              "      border: none;\n",
              "      border-radius: 50%;\n",
              "      cursor: pointer;\n",
              "      display: none;\n",
              "      fill: #1967D2;\n",
              "      height: 32px;\n",
              "      padding: 0 0 0 0;\n",
              "      width: 32px;\n",
              "    }\n",
              "\n",
              "    .colab-df-convert:hover {\n",
              "      background-color: #E2EBFA;\n",
              "      box-shadow: 0px 1px 2px rgba(60, 64, 67, 0.3), 0px 1px 3px 1px rgba(60, 64, 67, 0.15);\n",
              "      fill: #174EA6;\n",
              "    }\n",
              "\n",
              "    [theme=dark] .colab-df-convert {\n",
              "      background-color: #3B4455;\n",
              "      fill: #D2E3FC;\n",
              "    }\n",
              "\n",
              "    [theme=dark] .colab-df-convert:hover {\n",
              "      background-color: #434B5C;\n",
              "      box-shadow: 0px 1px 3px 1px rgba(0, 0, 0, 0.15);\n",
              "      filter: drop-shadow(0px 1px 2px rgba(0, 0, 0, 0.3));\n",
              "      fill: #FFFFFF;\n",
              "    }\n",
              "  </style>\n",
              "\n",
              "      <script>\n",
              "        const buttonEl =\n",
              "          document.querySelector('#df-bf31e5a2-2501-4f8b-bd00-c0ae6b1000e9 button.colab-df-convert');\n",
              "        buttonEl.style.display =\n",
              "          google.colab.kernel.accessAllowed ? 'block' : 'none';\n",
              "\n",
              "        async function convertToInteractive(key) {\n",
              "          const element = document.querySelector('#df-bf31e5a2-2501-4f8b-bd00-c0ae6b1000e9');\n",
              "          const dataTable =\n",
              "            await google.colab.kernel.invokeFunction('convertToInteractive',\n",
              "                                                     [key], {});\n",
              "          if (!dataTable) return;\n",
              "\n",
              "          const docLinkHtml = 'Like what you see? Visit the ' +\n",
              "            '<a target=\"_blank\" href=https://colab.research.google.com/notebooks/data_table.ipynb>data table notebook</a>'\n",
              "            + ' to learn more about interactive tables.';\n",
              "          element.innerHTML = '';\n",
              "          dataTable['output_type'] = 'display_data';\n",
              "          await google.colab.output.renderOutput(dataTable, element);\n",
              "          const docLink = document.createElement('div');\n",
              "          docLink.innerHTML = docLinkHtml;\n",
              "          element.appendChild(docLink);\n",
              "        }\n",
              "      </script>\n",
              "    </div>\n",
              "  </div>\n",
              "  "
            ]
          },
          "metadata": {},
          "execution_count": 10
        }
      ],
      "source": [
        "final_music_df.head()"
      ]
    },
    {
      "cell_type": "markdown",
      "metadata": {
        "id": "NLh6595iEvHX"
      },
      "source": [
        "Drop the Duplicated value"
      ]
    },
    {
      "cell_type": "code",
      "execution_count": 11,
      "metadata": {
        "id": "9MbOdl7xExqT"
      },
      "outputs": [],
      "source": [
        "final_music_df = final_music_df.drop_duplicates(['reviewerID','reviewerName','reviewText','summary'],keep='first')"
      ]
    },
    {
      "cell_type": "markdown",
      "metadata": {
        "id": "G7NGpuuvHuv5"
      },
      "source": [
        "Null Value Treatment"
      ]
    },
    {
      "cell_type": "code",
      "execution_count": 12,
      "metadata": {
        "colab": {
          "base_uri": "https://localhost:8080/"
        },
        "id": "NhNgoYthHrY6",
        "outputId": "c729b4e2-8fc5-465a-ba76-9427bd5fc936"
      },
      "outputs": [
        {
          "output_type": "execute_result",
          "data": {
            "text/plain": [
              "overall          0\n",
              "verified         0\n",
              "reviewTime       0\n",
              "reviewerID       0\n",
              "reviewerName    22\n",
              "reviewText      79\n",
              "summary         33\n",
              "category         0\n",
              "description      0\n",
              "title            0\n",
              "brand            0\n",
              "feature          0\n",
              "main_cat         0\n",
              "date             0\n",
              "price            0\n",
              "dtype: int64"
            ]
          },
          "metadata": {},
          "execution_count": 12
        }
      ],
      "source": [
        "final_music_df.isnull().sum()"
      ]
    },
    {
      "cell_type": "code",
      "execution_count": 13,
      "metadata": {
        "id": "19yvuBiIHrPb"
      },
      "outputs": [],
      "source": [
        "final_music_df.dropna(inplace=True)"
      ]
    },
    {
      "cell_type": "code",
      "execution_count": 14,
      "metadata": {
        "colab": {
          "base_uri": "https://localhost:8080/"
        },
        "id": "DzRVCD5zHrEC",
        "outputId": "4cbe5682-c975-460c-c48c-5b640adf3bf9"
      },
      "outputs": [
        {
          "output_type": "execute_result",
          "data": {
            "text/plain": [
              "overall         0\n",
              "verified        0\n",
              "reviewTime      0\n",
              "reviewerID      0\n",
              "reviewerName    0\n",
              "reviewText      0\n",
              "summary         0\n",
              "category        0\n",
              "description     0\n",
              "title           0\n",
              "brand           0\n",
              "feature         0\n",
              "main_cat        0\n",
              "date            0\n",
              "price           0\n",
              "dtype: int64"
            ]
          },
          "metadata": {},
          "execution_count": 14
        }
      ],
      "source": [
        "# Rechecking for null values\n",
        "final_music_df.isnull().sum()"
      ]
    },
    {
      "cell_type": "code",
      "execution_count": 15,
      "metadata": {
        "colab": {
          "base_uri": "https://localhost:8080/",
          "height": 704
        },
        "id": "nlF4ZTu7PcDt",
        "outputId": "59427e80-b4c5-4099-fc5e-10d45d29f25c"
      },
      "outputs": [
        {
          "output_type": "execute_result",
          "data": {
            "text/plain": [
              "   overall  verified   reviewTime      reviewerID         reviewerName  \\\n",
              "0        5     False   08 9, 2004   AXHY24HWOF184                Bendy   \n",
              "1        4      True   04 6, 2017  A29OWR79AM796H      Amazon Customer   \n",
              "2        5      True  03 14, 2017   AUPWU27A7X5F6      Amazon Customer   \n",
              "3        4      True  02 14, 2017  A1N69A47D4JO6K  Christopher Burnett   \n",
              "4        5      True  01 29, 2017   AHTIQUMVCGBFJ      Amazon Customer   \n",
              "\n",
              "                                          reviewText  \\\n",
              "0  Crocheting for Dummies by Karen Manthey & Susa...   \n",
              "1                                    Very helpful...   \n",
              "2        EASY TO UNDERSTAND AND A PROMPT SERVICE TOO   \n",
              "3                      My girlfriend use quite often   \n",
              "4                  Arrived as described. Very happy.   \n",
              "\n",
              "                                         summary  \\\n",
              "0  Terrific Book for Learning the Art of Crochet   \n",
              "1                                     Four Stars   \n",
              "2                                     Five Stars   \n",
              "3                                     Four Stars   \n",
              "4                                    Very happy.   \n",
              "\n",
              "                                            category  \\\n",
              "0  [Musical Instruments, Instrument Accessories, ...   \n",
              "1  [Musical Instruments, Instrument Accessories, ...   \n",
              "2  [Musical Instruments, Instrument Accessories, ...   \n",
              "3  [Musical Instruments, Instrument Accessories, ...   \n",
              "4  [Musical Instruments, Instrument Accessories, ...   \n",
              "\n",
              "                                         description  \\\n",
              "0  [, An updated classic covering the latest tech...   \n",
              "1  [, An updated classic covering the latest tech...   \n",
              "2  [, An updated classic covering the latest tech...   \n",
              "3  [, An updated classic covering the latest tech...   \n",
              "4  [, An updated classic covering the latest tech...   \n",
              "\n",
              "                                             title             brand  \\\n",
              "0  Wiley Publishers Crocheting For Dummies Revised  Wiley Publishing   \n",
              "1  Wiley Publishers Crocheting For Dummies Revised  Wiley Publishing   \n",
              "2  Wiley Publishers Crocheting For Dummies Revised  Wiley Publishing   \n",
              "3  Wiley Publishers Crocheting For Dummies Revised  Wiley Publishing   \n",
              "4  Wiley Publishers Crocheting For Dummies Revised  Wiley Publishing   \n",
              "\n",
              "                                             feature  \\\n",
              "0  [Dimensions: 9.2 in. h x 7.46 in. w x 0.78 in....   \n",
              "1  [Dimensions: 9.2 in. h x 7.46 in. w x 0.78 in....   \n",
              "2  [Dimensions: 9.2 in. h x 7.46 in. w x 0.78 in....   \n",
              "3  [Dimensions: 9.2 in. h x 7.46 in. w x 0.78 in....   \n",
              "4  [Dimensions: 9.2 in. h x 7.46 in. w x 0.78 in....   \n",
              "\n",
              "                    main_cat date price  \n",
              "0  Arts, Crafts &amp; Sewing             \n",
              "1  Arts, Crafts &amp; Sewing             \n",
              "2  Arts, Crafts &amp; Sewing             \n",
              "3  Arts, Crafts &amp; Sewing             \n",
              "4  Arts, Crafts &amp; Sewing             "
            ],
            "text/html": [
              "\n",
              "  <div id=\"df-6634c6ea-b91f-4516-b0b4-42762c9f58be\">\n",
              "    <div class=\"colab-df-container\">\n",
              "      <div>\n",
              "<style scoped>\n",
              "    .dataframe tbody tr th:only-of-type {\n",
              "        vertical-align: middle;\n",
              "    }\n",
              "\n",
              "    .dataframe tbody tr th {\n",
              "        vertical-align: top;\n",
              "    }\n",
              "\n",
              "    .dataframe thead th {\n",
              "        text-align: right;\n",
              "    }\n",
              "</style>\n",
              "<table border=\"1\" class=\"dataframe\">\n",
              "  <thead>\n",
              "    <tr style=\"text-align: right;\">\n",
              "      <th></th>\n",
              "      <th>overall</th>\n",
              "      <th>verified</th>\n",
              "      <th>reviewTime</th>\n",
              "      <th>reviewerID</th>\n",
              "      <th>reviewerName</th>\n",
              "      <th>reviewText</th>\n",
              "      <th>summary</th>\n",
              "      <th>category</th>\n",
              "      <th>description</th>\n",
              "      <th>title</th>\n",
              "      <th>brand</th>\n",
              "      <th>feature</th>\n",
              "      <th>main_cat</th>\n",
              "      <th>date</th>\n",
              "      <th>price</th>\n",
              "    </tr>\n",
              "  </thead>\n",
              "  <tbody>\n",
              "    <tr>\n",
              "      <th>0</th>\n",
              "      <td>5</td>\n",
              "      <td>False</td>\n",
              "      <td>08 9, 2004</td>\n",
              "      <td>AXHY24HWOF184</td>\n",
              "      <td>Bendy</td>\n",
              "      <td>Crocheting for Dummies by Karen Manthey &amp; Susa...</td>\n",
              "      <td>Terrific Book for Learning the Art of Crochet</td>\n",
              "      <td>[Musical Instruments, Instrument Accessories, ...</td>\n",
              "      <td>[, An updated classic covering the latest tech...</td>\n",
              "      <td>Wiley Publishers Crocheting For Dummies Revised</td>\n",
              "      <td>Wiley Publishing</td>\n",
              "      <td>[Dimensions: 9.2 in. h x 7.46 in. w x 0.78 in....</td>\n",
              "      <td>Arts, Crafts &amp;amp; Sewing</td>\n",
              "      <td></td>\n",
              "      <td></td>\n",
              "    </tr>\n",
              "    <tr>\n",
              "      <th>1</th>\n",
              "      <td>4</td>\n",
              "      <td>True</td>\n",
              "      <td>04 6, 2017</td>\n",
              "      <td>A29OWR79AM796H</td>\n",
              "      <td>Amazon Customer</td>\n",
              "      <td>Very helpful...</td>\n",
              "      <td>Four Stars</td>\n",
              "      <td>[Musical Instruments, Instrument Accessories, ...</td>\n",
              "      <td>[, An updated classic covering the latest tech...</td>\n",
              "      <td>Wiley Publishers Crocheting For Dummies Revised</td>\n",
              "      <td>Wiley Publishing</td>\n",
              "      <td>[Dimensions: 9.2 in. h x 7.46 in. w x 0.78 in....</td>\n",
              "      <td>Arts, Crafts &amp;amp; Sewing</td>\n",
              "      <td></td>\n",
              "      <td></td>\n",
              "    </tr>\n",
              "    <tr>\n",
              "      <th>2</th>\n",
              "      <td>5</td>\n",
              "      <td>True</td>\n",
              "      <td>03 14, 2017</td>\n",
              "      <td>AUPWU27A7X5F6</td>\n",
              "      <td>Amazon Customer</td>\n",
              "      <td>EASY TO UNDERSTAND AND A PROMPT SERVICE TOO</td>\n",
              "      <td>Five Stars</td>\n",
              "      <td>[Musical Instruments, Instrument Accessories, ...</td>\n",
              "      <td>[, An updated classic covering the latest tech...</td>\n",
              "      <td>Wiley Publishers Crocheting For Dummies Revised</td>\n",
              "      <td>Wiley Publishing</td>\n",
              "      <td>[Dimensions: 9.2 in. h x 7.46 in. w x 0.78 in....</td>\n",
              "      <td>Arts, Crafts &amp;amp; Sewing</td>\n",
              "      <td></td>\n",
              "      <td></td>\n",
              "    </tr>\n",
              "    <tr>\n",
              "      <th>3</th>\n",
              "      <td>4</td>\n",
              "      <td>True</td>\n",
              "      <td>02 14, 2017</td>\n",
              "      <td>A1N69A47D4JO6K</td>\n",
              "      <td>Christopher Burnett</td>\n",
              "      <td>My girlfriend use quite often</td>\n",
              "      <td>Four Stars</td>\n",
              "      <td>[Musical Instruments, Instrument Accessories, ...</td>\n",
              "      <td>[, An updated classic covering the latest tech...</td>\n",
              "      <td>Wiley Publishers Crocheting For Dummies Revised</td>\n",
              "      <td>Wiley Publishing</td>\n",
              "      <td>[Dimensions: 9.2 in. h x 7.46 in. w x 0.78 in....</td>\n",
              "      <td>Arts, Crafts &amp;amp; Sewing</td>\n",
              "      <td></td>\n",
              "      <td></td>\n",
              "    </tr>\n",
              "    <tr>\n",
              "      <th>4</th>\n",
              "      <td>5</td>\n",
              "      <td>True</td>\n",
              "      <td>01 29, 2017</td>\n",
              "      <td>AHTIQUMVCGBFJ</td>\n",
              "      <td>Amazon Customer</td>\n",
              "      <td>Arrived as described. Very happy.</td>\n",
              "      <td>Very happy.</td>\n",
              "      <td>[Musical Instruments, Instrument Accessories, ...</td>\n",
              "      <td>[, An updated classic covering the latest tech...</td>\n",
              "      <td>Wiley Publishers Crocheting For Dummies Revised</td>\n",
              "      <td>Wiley Publishing</td>\n",
              "      <td>[Dimensions: 9.2 in. h x 7.46 in. w x 0.78 in....</td>\n",
              "      <td>Arts, Crafts &amp;amp; Sewing</td>\n",
              "      <td></td>\n",
              "      <td></td>\n",
              "    </tr>\n",
              "  </tbody>\n",
              "</table>\n",
              "</div>\n",
              "      <button class=\"colab-df-convert\" onclick=\"convertToInteractive('df-6634c6ea-b91f-4516-b0b4-42762c9f58be')\"\n",
              "              title=\"Convert this dataframe to an interactive table.\"\n",
              "              style=\"display:none;\">\n",
              "        \n",
              "  <svg xmlns=\"http://www.w3.org/2000/svg\" height=\"24px\"viewBox=\"0 0 24 24\"\n",
              "       width=\"24px\">\n",
              "    <path d=\"M0 0h24v24H0V0z\" fill=\"none\"/>\n",
              "    <path d=\"M18.56 5.44l.94 2.06.94-2.06 2.06-.94-2.06-.94-.94-2.06-.94 2.06-2.06.94zm-11 1L8.5 8.5l.94-2.06 2.06-.94-2.06-.94L8.5 2.5l-.94 2.06-2.06.94zm10 10l.94 2.06.94-2.06 2.06-.94-2.06-.94-.94-2.06-.94 2.06-2.06.94z\"/><path d=\"M17.41 7.96l-1.37-1.37c-.4-.4-.92-.59-1.43-.59-.52 0-1.04.2-1.43.59L10.3 9.45l-7.72 7.72c-.78.78-.78 2.05 0 2.83L4 21.41c.39.39.9.59 1.41.59.51 0 1.02-.2 1.41-.59l7.78-7.78 2.81-2.81c.8-.78.8-2.07 0-2.86zM5.41 20L4 18.59l7.72-7.72 1.47 1.35L5.41 20z\"/>\n",
              "  </svg>\n",
              "      </button>\n",
              "      \n",
              "  <style>\n",
              "    .colab-df-container {\n",
              "      display:flex;\n",
              "      flex-wrap:wrap;\n",
              "      gap: 12px;\n",
              "    }\n",
              "\n",
              "    .colab-df-convert {\n",
              "      background-color: #E8F0FE;\n",
              "      border: none;\n",
              "      border-radius: 50%;\n",
              "      cursor: pointer;\n",
              "      display: none;\n",
              "      fill: #1967D2;\n",
              "      height: 32px;\n",
              "      padding: 0 0 0 0;\n",
              "      width: 32px;\n",
              "    }\n",
              "\n",
              "    .colab-df-convert:hover {\n",
              "      background-color: #E2EBFA;\n",
              "      box-shadow: 0px 1px 2px rgba(60, 64, 67, 0.3), 0px 1px 3px 1px rgba(60, 64, 67, 0.15);\n",
              "      fill: #174EA6;\n",
              "    }\n",
              "\n",
              "    [theme=dark] .colab-df-convert {\n",
              "      background-color: #3B4455;\n",
              "      fill: #D2E3FC;\n",
              "    }\n",
              "\n",
              "    [theme=dark] .colab-df-convert:hover {\n",
              "      background-color: #434B5C;\n",
              "      box-shadow: 0px 1px 3px 1px rgba(0, 0, 0, 0.15);\n",
              "      filter: drop-shadow(0px 1px 2px rgba(0, 0, 0, 0.3));\n",
              "      fill: #FFFFFF;\n",
              "    }\n",
              "  </style>\n",
              "\n",
              "      <script>\n",
              "        const buttonEl =\n",
              "          document.querySelector('#df-6634c6ea-b91f-4516-b0b4-42762c9f58be button.colab-df-convert');\n",
              "        buttonEl.style.display =\n",
              "          google.colab.kernel.accessAllowed ? 'block' : 'none';\n",
              "\n",
              "        async function convertToInteractive(key) {\n",
              "          const element = document.querySelector('#df-6634c6ea-b91f-4516-b0b4-42762c9f58be');\n",
              "          const dataTable =\n",
              "            await google.colab.kernel.invokeFunction('convertToInteractive',\n",
              "                                                     [key], {});\n",
              "          if (!dataTable) return;\n",
              "\n",
              "          const docLinkHtml = 'Like what you see? Visit the ' +\n",
              "            '<a target=\"_blank\" href=https://colab.research.google.com/notebooks/data_table.ipynb>data table notebook</a>'\n",
              "            + ' to learn more about interactive tables.';\n",
              "          element.innerHTML = '';\n",
              "          dataTable['output_type'] = 'display_data';\n",
              "          await google.colab.output.renderOutput(dataTable, element);\n",
              "          const docLink = document.createElement('div');\n",
              "          docLink.innerHTML = docLinkHtml;\n",
              "          element.appendChild(docLink);\n",
              "        }\n",
              "      </script>\n",
              "    </div>\n",
              "  </div>\n",
              "  "
            ]
          },
          "metadata": {},
          "execution_count": 15
        }
      ],
      "source": [
        "final_music_df.head()"
      ]
    },
    {
      "cell_type": "markdown",
      "metadata": {
        "id": "HxVEX99SVWnu"
      },
      "source": [
        "### Merging two columns reviewText and Summary column"
      ]
    },
    {
      "cell_type": "code",
      "execution_count": 16,
      "metadata": {
        "id": "G3blM_ppw870"
      },
      "outputs": [],
      "source": [
        "final_music_df['text'] = final_music_df['reviewText']+\" \"+ final_music_df['summary']"
      ]
    },
    {
      "cell_type": "markdown",
      "metadata": {
        "id": "WriailqzVloW"
      },
      "source": [
        "### Droping the Reviewtext and summary column"
      ]
    },
    {
      "cell_type": "code",
      "execution_count": 17,
      "metadata": {
        "id": "BY2yIdbmUycY"
      },
      "outputs": [],
      "source": [
        "final_music_df = final_music_df.drop(columns=['reviewText','summary','date'],axis='columns')"
      ]
    },
    {
      "cell_type": "markdown",
      "metadata": {
        "id": "wAj6DEUMVrip"
      },
      "source": [
        "### Cleaning the Data:"
      ]
    },
    {
      "cell_type": "code",
      "execution_count": 18,
      "metadata": {
        "id": "9h1q8t5JU10F"
      },
      "outputs": [],
      "source": [
        "#Converting the reviewtime column into actual time and date column using pandas\n",
        "final_music_df['reviewTime'] = pd.to_datetime(final_music_df['reviewTime'],format='%m %d, %Y')"
      ]
    },
    {
      "cell_type": "code",
      "execution_count": 19,
      "metadata": {
        "id": "wRQzSLbrbuMB"
      },
      "outputs": [],
      "source": [
        "# Replacing the whitespace with nan values\n",
        "final_music_df['price'].replace('', np.nan, inplace=True)"
      ]
    },
    {
      "cell_type": "code",
      "execution_count": 20,
      "metadata": {
        "id": "DLfhItXp0P7-"
      },
      "outputs": [],
      "source": [
        "#Replacing the empty list with nan values\n",
        "final_music_df['category'] = final_music_df['category'].apply(lambda x: np.nan if len(x)==0 else x)"
      ]
    },
    {
      "cell_type": "code",
      "execution_count": 21,
      "metadata": {
        "id": "9be_5hIk2veu"
      },
      "outputs": [],
      "source": [
        "#Replacing the empty list with nan values\n",
        "final_music_df['feature'] = final_music_df['feature'].apply(lambda x: np.nan if len(x)==0 else x)"
      ]
    },
    {
      "cell_type": "code",
      "execution_count": 22,
      "metadata": {
        "colab": {
          "base_uri": "https://localhost:8080/"
        },
        "id": "NbZGa_a28MBI",
        "outputId": "cf7e3356-0127-460d-db52-ce8c6d48d70a"
      },
      "outputs": [
        {
          "output_type": "execute_result",
          "data": {
            "text/plain": [
              "overall             0\n",
              "verified            0\n",
              "reviewTime          0\n",
              "reviewerID          0\n",
              "reviewerName        0\n",
              "category         4778\n",
              "description         0\n",
              "title               0\n",
              "brand               0\n",
              "feature          1565\n",
              "main_cat            0\n",
              "price           24433\n",
              "text                0\n",
              "dtype: int64"
            ]
          },
          "metadata": {},
          "execution_count": 22
        }
      ],
      "source": [
        "final_music_df.isnull().sum()"
      ]
    },
    {
      "cell_type": "code",
      "execution_count": 23,
      "metadata": {
        "id": "mzGVmnC_kenL"
      },
      "outputs": [],
      "source": [
        "#Droping all the nan values\n",
        "final_music_df = final_music_df.dropna()"
      ]
    },
    {
      "cell_type": "code",
      "execution_count": 24,
      "metadata": {
        "colab": {
          "base_uri": "https://localhost:8080/"
        },
        "id": "Zd1jRR7ydxjd",
        "outputId": "988c8b94-a483-486f-843a-0d0bbc1dc025"
      },
      "outputs": [
        {
          "output_type": "execute_result",
          "data": {
            "text/plain": [
              "overall         0\n",
              "verified        0\n",
              "reviewTime      0\n",
              "reviewerID      0\n",
              "reviewerName    0\n",
              "category        0\n",
              "description     0\n",
              "title           0\n",
              "brand           0\n",
              "feature         0\n",
              "main_cat        0\n",
              "price           0\n",
              "text            0\n",
              "dtype: int64"
            ]
          },
          "metadata": {},
          "execution_count": 24
        }
      ],
      "source": [
        "final_music_df.isnull().sum()"
      ]
    },
    {
      "cell_type": "code",
      "execution_count": 25,
      "metadata": {
        "colab": {
          "base_uri": "https://localhost:8080/",
          "height": 1000
        },
        "id": "bSdQ3TzNmJhA",
        "outputId": "5b673171-9121-4131-9ff1-cc931e05bbfa"
      },
      "outputs": [
        {
          "output_type": "execute_result",
          "data": {
            "text/plain": [
              "         index  overall  verified reviewTime      reviewerID     reviewerName  \\\n",
              "0         1058        5     False 2007-02-14  A20DOQGG34SKR5  Richard A. Wall   \n",
              "1         1059        5      True 2014-12-14  A2XVOIUQFKHGX7           Leah N   \n",
              "2         1060        5      True 2014-10-15  A3EYX1Z1RVJQ8T   Annetta Allred   \n",
              "3         1061        5      True 2014-09-29   AM4HSLYN8E3SN        notsofast   \n",
              "4         1062        3      True 2014-02-07  A32GLSH2IC98Q3        Stela Pen   \n",
              "...        ...      ...       ...        ...             ...              ...   \n",
              "152259  376471        3     False 2010-10-27  A3LO69NVX14T5O       I. Pribadi   \n",
              "152260  376472        5      True 2010-03-26  A23BA3FL30O87V  Andrew Williams   \n",
              "152261  376473        5      True 2009-06-21   AC6ZMS9HZ23I7               hd   \n",
              "152262  376474        5     False 2008-08-29  A3ASBJX2ZUZZ2J      Music Lover   \n",
              "152263  376475        5     False 2017-11-20  A1YZM4L8FED7L8            Gregg   \n",
              "\n",
              "                                                 category  \\\n",
              "0           [Musical Instruments, Instrument Accessories]   \n",
              "1           [Musical Instruments, Instrument Accessories]   \n",
              "2           [Musical Instruments, Instrument Accessories]   \n",
              "3           [Musical Instruments, Instrument Accessories]   \n",
              "4           [Musical Instruments, Instrument Accessories]   \n",
              "...                                                   ...   \n",
              "152259  [Musical Instruments, Instrument Accessories, ...   \n",
              "152260  [Musical Instruments, Instrument Accessories, ...   \n",
              "152261  [Musical Instruments, Instrument Accessories, ...   \n",
              "152262  [Musical Instruments, Instrument Accessories, ...   \n",
              "152263  [Musical Instruments, Instrument Accessories, ...   \n",
              "\n",
              "                                              description  \\\n",
              "0       [Journey defined '80s rock. Their signature so...   \n",
              "1       [Journey defined '80s rock. Their signature so...   \n",
              "2       [Journey defined '80s rock. Their signature so...   \n",
              "3       [Journey defined '80s rock. Their signature so...   \n",
              "4       [Journey defined '80s rock. Their signature so...   \n",
              "...                                                   ...   \n",
              "152259  [The Zildjian Cymbal Cleaning Polish is specia...   \n",
              "152260  [The Zildjian Cymbal Cleaning Polish is specia...   \n",
              "152261  [The Zildjian Cymbal Cleaning Polish is specia...   \n",
              "152262  [The Zildjian Cymbal Cleaning Polish is specia...   \n",
              "152263  [The Zildjian Cymbal Cleaning Polish is specia...   \n",
              "\n",
              "                                          title                    brand  \\\n",
              "0           Journey - Greatest Hits: Easy Piano             Alfred Music   \n",
              "1           Journey - Greatest Hits: Easy Piano             Alfred Music   \n",
              "2           Journey - Greatest Hits: Easy Piano             Alfred Music   \n",
              "3           Journey - Greatest Hits: Easy Piano             Alfred Music   \n",
              "4           Journey - Greatest Hits: Easy Piano             Alfred Music   \n",
              "...                                         ...                      ...   \n",
              "152259  Zildjian Brilliant Finish Cymbal Polish  Avedis Zildjian Company   \n",
              "152260  Zildjian Brilliant Finish Cymbal Polish  Avedis Zildjian Company   \n",
              "152261  Zildjian Brilliant Finish Cymbal Polish  Avedis Zildjian Company   \n",
              "152262  Zildjian Brilliant Finish Cymbal Polish  Avedis Zildjian Company   \n",
              "152263  Zildjian Brilliant Finish Cymbal Polish  Avedis Zildjian Company   \n",
              "\n",
              "                                                  feature  \\\n",
              "0       [Category - Piano - Personality Book, Format -...   \n",
              "1       [Category - Piano - Personality Book, Format -...   \n",
              "2       [Category - Piano - Personality Book, Format -...   \n",
              "3       [Category - Piano - Personality Book, Format -...   \n",
              "4       [Category - Piano - Personality Book, Format -...   \n",
              "...                                                   ...   \n",
              "152259  [One quick and easy application, 8 fl. Oz/250 ...   \n",
              "152260  [One quick and easy application, 8 fl. Oz/250 ...   \n",
              "152261  [One quick and easy application, 8 fl. Oz/250 ...   \n",
              "152262  [One quick and easy application, 8 fl. Oz/250 ...   \n",
              "152263  [One quick and easy application, 8 fl. Oz/250 ...   \n",
              "\n",
              "                   main_cat   price  \\\n",
              "0       Musical Instruments  $17.78   \n",
              "1       Musical Instruments  $17.78   \n",
              "2       Musical Instruments  $17.78   \n",
              "3       Musical Instruments  $17.78   \n",
              "4       Musical Instruments  $17.78   \n",
              "...                     ...     ...   \n",
              "152259  Musical Instruments  $13.30   \n",
              "152260  Musical Instruments  $13.30   \n",
              "152261  Musical Instruments  $13.30   \n",
              "152262  Musical Instruments  $13.30   \n",
              "152263  Musical Instruments  $13.30   \n",
              "\n",
              "                                                     text  \n",
              "0       The expression of Journey's music comes out ve...  \n",
              "1                                     Love it! Five Stars  \n",
              "2                        My daughter loves it! Five Stars  \n",
              "3                                        Great Five Stars  \n",
              "4       I expected something more elaborated. The musi...  \n",
              "...                                                   ...  \n",
              "152259  Product works like decribed but does require s...  \n",
              "152260  Product works very well.  I have Zildjian A Cu...  \n",
              "152261  the product works very well.  the supplier sen...  \n",
              "152262  This polish is really good, I have ZHT Pros. I...  \n",
              "152263  I've tried several and keep coming back to thi...  \n",
              "\n",
              "[152264 rows x 14 columns]"
            ],
            "text/html": [
              "\n",
              "  <div id=\"df-b3e05f0f-3f33-4b8e-9f70-5ac04f983cf9\">\n",
              "    <div class=\"colab-df-container\">\n",
              "      <div>\n",
              "<style scoped>\n",
              "    .dataframe tbody tr th:only-of-type {\n",
              "        vertical-align: middle;\n",
              "    }\n",
              "\n",
              "    .dataframe tbody tr th {\n",
              "        vertical-align: top;\n",
              "    }\n",
              "\n",
              "    .dataframe thead th {\n",
              "        text-align: right;\n",
              "    }\n",
              "</style>\n",
              "<table border=\"1\" class=\"dataframe\">\n",
              "  <thead>\n",
              "    <tr style=\"text-align: right;\">\n",
              "      <th></th>\n",
              "      <th>index</th>\n",
              "      <th>overall</th>\n",
              "      <th>verified</th>\n",
              "      <th>reviewTime</th>\n",
              "      <th>reviewerID</th>\n",
              "      <th>reviewerName</th>\n",
              "      <th>category</th>\n",
              "      <th>description</th>\n",
              "      <th>title</th>\n",
              "      <th>brand</th>\n",
              "      <th>feature</th>\n",
              "      <th>main_cat</th>\n",
              "      <th>price</th>\n",
              "      <th>text</th>\n",
              "    </tr>\n",
              "  </thead>\n",
              "  <tbody>\n",
              "    <tr>\n",
              "      <th>0</th>\n",
              "      <td>1058</td>\n",
              "      <td>5</td>\n",
              "      <td>False</td>\n",
              "      <td>2007-02-14</td>\n",
              "      <td>A20DOQGG34SKR5</td>\n",
              "      <td>Richard A. Wall</td>\n",
              "      <td>[Musical Instruments, Instrument Accessories]</td>\n",
              "      <td>[Journey defined '80s rock. Their signature so...</td>\n",
              "      <td>Journey - Greatest Hits: Easy Piano</td>\n",
              "      <td>Alfred Music</td>\n",
              "      <td>[Category - Piano - Personality Book, Format -...</td>\n",
              "      <td>Musical Instruments</td>\n",
              "      <td>$17.78</td>\n",
              "      <td>The expression of Journey's music comes out ve...</td>\n",
              "    </tr>\n",
              "    <tr>\n",
              "      <th>1</th>\n",
              "      <td>1059</td>\n",
              "      <td>5</td>\n",
              "      <td>True</td>\n",
              "      <td>2014-12-14</td>\n",
              "      <td>A2XVOIUQFKHGX7</td>\n",
              "      <td>Leah N</td>\n",
              "      <td>[Musical Instruments, Instrument Accessories]</td>\n",
              "      <td>[Journey defined '80s rock. Their signature so...</td>\n",
              "      <td>Journey - Greatest Hits: Easy Piano</td>\n",
              "      <td>Alfred Music</td>\n",
              "      <td>[Category - Piano - Personality Book, Format -...</td>\n",
              "      <td>Musical Instruments</td>\n",
              "      <td>$17.78</td>\n",
              "      <td>Love it! Five Stars</td>\n",
              "    </tr>\n",
              "    <tr>\n",
              "      <th>2</th>\n",
              "      <td>1060</td>\n",
              "      <td>5</td>\n",
              "      <td>True</td>\n",
              "      <td>2014-10-15</td>\n",
              "      <td>A3EYX1Z1RVJQ8T</td>\n",
              "      <td>Annetta Allred</td>\n",
              "      <td>[Musical Instruments, Instrument Accessories]</td>\n",
              "      <td>[Journey defined '80s rock. Their signature so...</td>\n",
              "      <td>Journey - Greatest Hits: Easy Piano</td>\n",
              "      <td>Alfred Music</td>\n",
              "      <td>[Category - Piano - Personality Book, Format -...</td>\n",
              "      <td>Musical Instruments</td>\n",
              "      <td>$17.78</td>\n",
              "      <td>My daughter loves it! Five Stars</td>\n",
              "    </tr>\n",
              "    <tr>\n",
              "      <th>3</th>\n",
              "      <td>1061</td>\n",
              "      <td>5</td>\n",
              "      <td>True</td>\n",
              "      <td>2014-09-29</td>\n",
              "      <td>AM4HSLYN8E3SN</td>\n",
              "      <td>notsofast</td>\n",
              "      <td>[Musical Instruments, Instrument Accessories]</td>\n",
              "      <td>[Journey defined '80s rock. Their signature so...</td>\n",
              "      <td>Journey - Greatest Hits: Easy Piano</td>\n",
              "      <td>Alfred Music</td>\n",
              "      <td>[Category - Piano - Personality Book, Format -...</td>\n",
              "      <td>Musical Instruments</td>\n",
              "      <td>$17.78</td>\n",
              "      <td>Great Five Stars</td>\n",
              "    </tr>\n",
              "    <tr>\n",
              "      <th>4</th>\n",
              "      <td>1062</td>\n",
              "      <td>3</td>\n",
              "      <td>True</td>\n",
              "      <td>2014-02-07</td>\n",
              "      <td>A32GLSH2IC98Q3</td>\n",
              "      <td>Stela Pen</td>\n",
              "      <td>[Musical Instruments, Instrument Accessories]</td>\n",
              "      <td>[Journey defined '80s rock. Their signature so...</td>\n",
              "      <td>Journey - Greatest Hits: Easy Piano</td>\n",
              "      <td>Alfred Music</td>\n",
              "      <td>[Category - Piano - Personality Book, Format -...</td>\n",
              "      <td>Musical Instruments</td>\n",
              "      <td>$17.78</td>\n",
              "      <td>I expected something more elaborated. The musi...</td>\n",
              "    </tr>\n",
              "    <tr>\n",
              "      <th>...</th>\n",
              "      <td>...</td>\n",
              "      <td>...</td>\n",
              "      <td>...</td>\n",
              "      <td>...</td>\n",
              "      <td>...</td>\n",
              "      <td>...</td>\n",
              "      <td>...</td>\n",
              "      <td>...</td>\n",
              "      <td>...</td>\n",
              "      <td>...</td>\n",
              "      <td>...</td>\n",
              "      <td>...</td>\n",
              "      <td>...</td>\n",
              "      <td>...</td>\n",
              "    </tr>\n",
              "    <tr>\n",
              "      <th>152259</th>\n",
              "      <td>376471</td>\n",
              "      <td>3</td>\n",
              "      <td>False</td>\n",
              "      <td>2010-10-27</td>\n",
              "      <td>A3LO69NVX14T5O</td>\n",
              "      <td>I. Pribadi</td>\n",
              "      <td>[Musical Instruments, Instrument Accessories, ...</td>\n",
              "      <td>[The Zildjian Cymbal Cleaning Polish is specia...</td>\n",
              "      <td>Zildjian Brilliant Finish Cymbal Polish</td>\n",
              "      <td>Avedis Zildjian Company</td>\n",
              "      <td>[One quick and easy application, 8 fl. Oz/250 ...</td>\n",
              "      <td>Musical Instruments</td>\n",
              "      <td>$13.30</td>\n",
              "      <td>Product works like decribed but does require s...</td>\n",
              "    </tr>\n",
              "    <tr>\n",
              "      <th>152260</th>\n",
              "      <td>376472</td>\n",
              "      <td>5</td>\n",
              "      <td>True</td>\n",
              "      <td>2010-03-26</td>\n",
              "      <td>A23BA3FL30O87V</td>\n",
              "      <td>Andrew Williams</td>\n",
              "      <td>[Musical Instruments, Instrument Accessories, ...</td>\n",
              "      <td>[The Zildjian Cymbal Cleaning Polish is specia...</td>\n",
              "      <td>Zildjian Brilliant Finish Cymbal Polish</td>\n",
              "      <td>Avedis Zildjian Company</td>\n",
              "      <td>[One quick and easy application, 8 fl. Oz/250 ...</td>\n",
              "      <td>Musical Instruments</td>\n",
              "      <td>$13.30</td>\n",
              "      <td>Product works very well.  I have Zildjian A Cu...</td>\n",
              "    </tr>\n",
              "    <tr>\n",
              "      <th>152261</th>\n",
              "      <td>376473</td>\n",
              "      <td>5</td>\n",
              "      <td>True</td>\n",
              "      <td>2009-06-21</td>\n",
              "      <td>AC6ZMS9HZ23I7</td>\n",
              "      <td>hd</td>\n",
              "      <td>[Musical Instruments, Instrument Accessories, ...</td>\n",
              "      <td>[The Zildjian Cymbal Cleaning Polish is specia...</td>\n",
              "      <td>Zildjian Brilliant Finish Cymbal Polish</td>\n",
              "      <td>Avedis Zildjian Company</td>\n",
              "      <td>[One quick and easy application, 8 fl. Oz/250 ...</td>\n",
              "      <td>Musical Instruments</td>\n",
              "      <td>$13.30</td>\n",
              "      <td>the product works very well.  the supplier sen...</td>\n",
              "    </tr>\n",
              "    <tr>\n",
              "      <th>152262</th>\n",
              "      <td>376474</td>\n",
              "      <td>5</td>\n",
              "      <td>False</td>\n",
              "      <td>2008-08-29</td>\n",
              "      <td>A3ASBJX2ZUZZ2J</td>\n",
              "      <td>Music Lover</td>\n",
              "      <td>[Musical Instruments, Instrument Accessories, ...</td>\n",
              "      <td>[The Zildjian Cymbal Cleaning Polish is specia...</td>\n",
              "      <td>Zildjian Brilliant Finish Cymbal Polish</td>\n",
              "      <td>Avedis Zildjian Company</td>\n",
              "      <td>[One quick and easy application, 8 fl. Oz/250 ...</td>\n",
              "      <td>Musical Instruments</td>\n",
              "      <td>$13.30</td>\n",
              "      <td>This polish is really good, I have ZHT Pros. I...</td>\n",
              "    </tr>\n",
              "    <tr>\n",
              "      <th>152263</th>\n",
              "      <td>376475</td>\n",
              "      <td>5</td>\n",
              "      <td>False</td>\n",
              "      <td>2017-11-20</td>\n",
              "      <td>A1YZM4L8FED7L8</td>\n",
              "      <td>Gregg</td>\n",
              "      <td>[Musical Instruments, Instrument Accessories, ...</td>\n",
              "      <td>[The Zildjian Cymbal Cleaning Polish is specia...</td>\n",
              "      <td>Zildjian Brilliant Finish Cymbal Polish</td>\n",
              "      <td>Avedis Zildjian Company</td>\n",
              "      <td>[One quick and easy application, 8 fl. Oz/250 ...</td>\n",
              "      <td>Musical Instruments</td>\n",
              "      <td>$13.30</td>\n",
              "      <td>I've tried several and keep coming back to thi...</td>\n",
              "    </tr>\n",
              "  </tbody>\n",
              "</table>\n",
              "<p>152264 rows × 14 columns</p>\n",
              "</div>\n",
              "      <button class=\"colab-df-convert\" onclick=\"convertToInteractive('df-b3e05f0f-3f33-4b8e-9f70-5ac04f983cf9')\"\n",
              "              title=\"Convert this dataframe to an interactive table.\"\n",
              "              style=\"display:none;\">\n",
              "        \n",
              "  <svg xmlns=\"http://www.w3.org/2000/svg\" height=\"24px\"viewBox=\"0 0 24 24\"\n",
              "       width=\"24px\">\n",
              "    <path d=\"M0 0h24v24H0V0z\" fill=\"none\"/>\n",
              "    <path d=\"M18.56 5.44l.94 2.06.94-2.06 2.06-.94-2.06-.94-.94-2.06-.94 2.06-2.06.94zm-11 1L8.5 8.5l.94-2.06 2.06-.94-2.06-.94L8.5 2.5l-.94 2.06-2.06.94zm10 10l.94 2.06.94-2.06 2.06-.94-2.06-.94-.94-2.06-.94 2.06-2.06.94z\"/><path d=\"M17.41 7.96l-1.37-1.37c-.4-.4-.92-.59-1.43-.59-.52 0-1.04.2-1.43.59L10.3 9.45l-7.72 7.72c-.78.78-.78 2.05 0 2.83L4 21.41c.39.39.9.59 1.41.59.51 0 1.02-.2 1.41-.59l7.78-7.78 2.81-2.81c.8-.78.8-2.07 0-2.86zM5.41 20L4 18.59l7.72-7.72 1.47 1.35L5.41 20z\"/>\n",
              "  </svg>\n",
              "      </button>\n",
              "      \n",
              "  <style>\n",
              "    .colab-df-container {\n",
              "      display:flex;\n",
              "      flex-wrap:wrap;\n",
              "      gap: 12px;\n",
              "    }\n",
              "\n",
              "    .colab-df-convert {\n",
              "      background-color: #E8F0FE;\n",
              "      border: none;\n",
              "      border-radius: 50%;\n",
              "      cursor: pointer;\n",
              "      display: none;\n",
              "      fill: #1967D2;\n",
              "      height: 32px;\n",
              "      padding: 0 0 0 0;\n",
              "      width: 32px;\n",
              "    }\n",
              "\n",
              "    .colab-df-convert:hover {\n",
              "      background-color: #E2EBFA;\n",
              "      box-shadow: 0px 1px 2px rgba(60, 64, 67, 0.3), 0px 1px 3px 1px rgba(60, 64, 67, 0.15);\n",
              "      fill: #174EA6;\n",
              "    }\n",
              "\n",
              "    [theme=dark] .colab-df-convert {\n",
              "      background-color: #3B4455;\n",
              "      fill: #D2E3FC;\n",
              "    }\n",
              "\n",
              "    [theme=dark] .colab-df-convert:hover {\n",
              "      background-color: #434B5C;\n",
              "      box-shadow: 0px 1px 3px 1px rgba(0, 0, 0, 0.15);\n",
              "      filter: drop-shadow(0px 1px 2px rgba(0, 0, 0, 0.3));\n",
              "      fill: #FFFFFF;\n",
              "    }\n",
              "  </style>\n",
              "\n",
              "      <script>\n",
              "        const buttonEl =\n",
              "          document.querySelector('#df-b3e05f0f-3f33-4b8e-9f70-5ac04f983cf9 button.colab-df-convert');\n",
              "        buttonEl.style.display =\n",
              "          google.colab.kernel.accessAllowed ? 'block' : 'none';\n",
              "\n",
              "        async function convertToInteractive(key) {\n",
              "          const element = document.querySelector('#df-b3e05f0f-3f33-4b8e-9f70-5ac04f983cf9');\n",
              "          const dataTable =\n",
              "            await google.colab.kernel.invokeFunction('convertToInteractive',\n",
              "                                                     [key], {});\n",
              "          if (!dataTable) return;\n",
              "\n",
              "          const docLinkHtml = 'Like what you see? Visit the ' +\n",
              "            '<a target=\"_blank\" href=https://colab.research.google.com/notebooks/data_table.ipynb>data table notebook</a>'\n",
              "            + ' to learn more about interactive tables.';\n",
              "          element.innerHTML = '';\n",
              "          dataTable['output_type'] = 'display_data';\n",
              "          await google.colab.output.renderOutput(dataTable, element);\n",
              "          const docLink = document.createElement('div');\n",
              "          docLink.innerHTML = docLinkHtml;\n",
              "          element.appendChild(docLink);\n",
              "        }\n",
              "      </script>\n",
              "    </div>\n",
              "  </div>\n",
              "  "
            ]
          },
          "metadata": {},
          "execution_count": 25
        }
      ],
      "source": [
        "#Reseting the index in an order\n",
        "final_music_df.reset_index()"
      ]
    },
    {
      "cell_type": "markdown",
      "metadata": {
        "id": "WRna1VrQ9_8N"
      },
      "source": [
        "### Using a user define function to clean the data:"
      ]
    },
    {
      "cell_type": "code",
      "execution_count": 26,
      "metadata": {
        "id": "vD_5KnE-uJLs"
      },
      "outputs": [],
      "source": [
        "def text_process(text):\n",
        "    nopunc = [char for char in text if char not in string.punctuation]\n",
        "    nopunc = ''.join(nopunc)\n",
        "    return [word for word in nopunc.split() if word.lower() not in stopwords.words('english')]"
      ]
    },
    {
      "cell_type": "code",
      "execution_count": 27,
      "metadata": {
        "id": "31OwL99sFnCR"
      },
      "outputs": [],
      "source": [
        "def listtoString(s):\n",
        "    str1=''\n",
        "    return(str1.join(s))"
      ]
    },
    {
      "cell_type": "code",
      "execution_count": 28,
      "metadata": {
        "colab": {
          "base_uri": "https://localhost:8080/"
        },
        "id": "FnntP7uv-WNo",
        "outputId": "0cd7e9fa-255f-472d-846f-5c2e83bf4db1"
      },
      "outputs": [
        {
          "output_type": "execute_result",
          "data": {
            "text/plain": [
              "1058      [expression, Journeys, music, comes, well, pia...\n",
              "1059                                    [Love, Five, Stars]\n",
              "1060                         [daughter, loves, Five, Stars]\n",
              "1061                                   [Great, Five, Stars]\n",
              "1062      [expected, something, elaborated, music, sheet...\n",
              "                                ...                        \n",
              "376471    [Product, works, like, decribed, require, effo...\n",
              "376472    [Product, works, well, Zildjian, Customs, look...\n",
              "376473    [product, works, well, supplier, sent, product...\n",
              "376474    [polish, really, good, ZHT, Pros, recommened, ...\n",
              "376475    [Ive, tried, several, keep, coming, back, poli...\n",
              "Name: text, Length: 152264, dtype: object"
            ]
          },
          "metadata": {},
          "execution_count": 28
        }
      ],
      "source": [
        "final_music_df['text'].apply(text_process)"
      ]
    },
    {
      "cell_type": "code",
      "execution_count": 29,
      "metadata": {
        "id": "CXQiFN2R_aPq",
        "colab": {
          "base_uri": "https://localhost:8080/"
        },
        "outputId": "8cef4879-895a-4769-fbe7-0504ef3db7e8"
      },
      "outputs": [
        {
          "output_type": "execute_result",
          "data": {
            "text/plain": [
              "1058      The expression of Journey's music comes out ve...\n",
              "1059                                    Love it! Five Stars\n",
              "1060                       My daughter loves it! Five Stars\n",
              "1061                                       Great Five Stars\n",
              "1062      I expected something more elaborated. The musi...\n",
              "                                ...                        \n",
              "376471    Product works like decribed but does require s...\n",
              "376472    Product works very well.  I have Zildjian A Cu...\n",
              "376473    the product works very well.  the supplier sen...\n",
              "376474    This polish is really good, I have ZHT Pros. I...\n",
              "376475    I've tried several and keep coming back to thi...\n",
              "Name: text, Length: 152264, dtype: object"
            ]
          },
          "metadata": {},
          "execution_count": 29
        }
      ],
      "source": [
        "final_music_df['text'].apply(listtoString)"
      ]
    },
    {
      "cell_type": "code",
      "execution_count": 30,
      "metadata": {
        "id": "VDsv8rVRmfqS"
      },
      "outputs": [],
      "source": [
        "final_music_df[\"category\"] = final_music_df[\"category\"].astype(str).apply(lambda x: re.sub(\"\\W+\",\" \", x))"
      ]
    },
    {
      "cell_type": "code",
      "execution_count": 31,
      "metadata": {
        "colab": {
          "base_uri": "https://localhost:8080/"
        },
        "id": "9yg2c8dNm_wE",
        "outputId": "943d462d-bd08-4da8-aaae-038e00795a52"
      },
      "outputs": [
        {
          "output_type": "execute_result",
          "data": {
            "text/plain": [
              "1058     Musical Instruments Instrument Accessories \n",
              "1059     Musical Instruments Instrument Accessories \n",
              "1060     Musical Instruments Instrument Accessories \n",
              "1061     Musical Instruments Instrument Accessories \n",
              "1062     Musical Instruments Instrument Accessories \n",
              "Name: category, dtype: object"
            ]
          },
          "metadata": {},
          "execution_count": 31
        }
      ],
      "source": [
        "final_music_df['category'].head(5)"
      ]
    },
    {
      "cell_type": "code",
      "execution_count": 32,
      "metadata": {
        "id": "cAi9p6arnEeY"
      },
      "outputs": [],
      "source": [
        "final_music_df[\"description\"] = final_music_df[\"description\"].astype(str).apply(lambda x: re.sub(\"\\W+\",\" \", x))"
      ]
    },
    {
      "cell_type": "code",
      "execution_count": 33,
      "metadata": {
        "colab": {
          "base_uri": "https://localhost:8080/"
        },
        "id": "ZsZXVIny0bXK",
        "outputId": "d9019fc4-2f5e-449b-ec24-42425d6bad1b"
      },
      "outputs": [
        {
          "output_type": "execute_result",
          "data": {
            "text/plain": [
              "1058     Journey defined 80s rock Their signature song...\n",
              "1059     Journey defined 80s rock Their signature song...\n",
              "1060     Journey defined 80s rock Their signature song...\n",
              "1061     Journey defined 80s rock Their signature song...\n",
              "1062     Journey defined 80s rock Their signature song...\n",
              "Name: description, dtype: object"
            ]
          },
          "metadata": {},
          "execution_count": 33
        }
      ],
      "source": [
        "final_music_df[\"description\"].head()"
      ]
    },
    {
      "cell_type": "code",
      "execution_count": 34,
      "metadata": {
        "id": "btblciQR0ghV"
      },
      "outputs": [],
      "source": [
        "final_music_df[\"feature\"] = final_music_df[\"feature\"].astype(str).apply(lambda x: re.sub(\"\\W+\",\" \", x))"
      ]
    },
    {
      "cell_type": "code",
      "execution_count": 35,
      "metadata": {
        "colab": {
          "base_uri": "https://localhost:8080/"
        },
        "id": "VYRypD8F0kdH",
        "outputId": "c36c9c42-4d0c-41ad-b71a-d85772dba5e7"
      },
      "outputs": [
        {
          "output_type": "execute_result",
          "data": {
            "text/plain": [
              "1058     Category Piano Personality Book Format Book I...\n",
              "1059     Category Piano Personality Book Format Book I...\n",
              "1060     Category Piano Personality Book Format Book I...\n",
              "1061     Category Piano Personality Book Format Book I...\n",
              "1062     Category Piano Personality Book Format Book I...\n",
              "Name: feature, dtype: object"
            ]
          },
          "metadata": {},
          "execution_count": 35
        }
      ],
      "source": [
        "final_music_df[\"feature\"].head()"
      ]
    },
    {
      "cell_type": "code",
      "execution_count": 36,
      "metadata": {
        "id": "rSkUotdm0pYJ"
      },
      "outputs": [],
      "source": [
        "final_music_df[\"price\"] = final_music_df[\"price\"].apply(lambda x: re.sub(\"\\$\",\" \", x))"
      ]
    },
    {
      "cell_type": "code",
      "execution_count": 37,
      "metadata": {
        "colab": {
          "base_uri": "https://localhost:8080/"
        },
        "id": "d6aOEd-L0x1Y",
        "outputId": "1ed78316-0a23-4722-9c94-0debf3a7a564"
      },
      "outputs": [
        {
          "output_type": "execute_result",
          "data": {
            "text/plain": [
              "1058     17.78\n",
              "1059     17.78\n",
              "1060     17.78\n",
              "1061     17.78\n",
              "1062     17.78\n",
              "Name: price, dtype: object"
            ]
          },
          "metadata": {},
          "execution_count": 37
        }
      ],
      "source": [
        "final_music_df[\"price\"].head()"
      ]
    },
    {
      "cell_type": "markdown",
      "metadata": {
        "id": "HuD98Ugb1Hq1"
      },
      "source": [
        "### This is My clean Data"
      ]
    },
    {
      "cell_type": "code",
      "execution_count": 38,
      "metadata": {
        "colab": {
          "base_uri": "https://localhost:8080/",
          "height": 1000
        },
        "id": "A76rPpNS0z5Z",
        "outputId": "235fa328-9a1a-4342-c37b-4f14dfffa6c3"
      },
      "outputs": [
        {
          "output_type": "execute_result",
          "data": {
            "text/plain": [
              "        overall  verified reviewTime      reviewerID     reviewerName  \\\n",
              "1058          5     False 2007-02-14  A20DOQGG34SKR5  Richard A. Wall   \n",
              "1059          5      True 2014-12-14  A2XVOIUQFKHGX7           Leah N   \n",
              "1060          5      True 2014-10-15  A3EYX1Z1RVJQ8T   Annetta Allred   \n",
              "1061          5      True 2014-09-29   AM4HSLYN8E3SN        notsofast   \n",
              "1062          3      True 2014-02-07  A32GLSH2IC98Q3        Stela Pen   \n",
              "...         ...       ...        ...             ...              ...   \n",
              "376471        3     False 2010-10-27  A3LO69NVX14T5O       I. Pribadi   \n",
              "376472        5      True 2010-03-26  A23BA3FL30O87V  Andrew Williams   \n",
              "376473        5      True 2009-06-21   AC6ZMS9HZ23I7               hd   \n",
              "376474        5     False 2008-08-29  A3ASBJX2ZUZZ2J      Music Lover   \n",
              "376475        5     False 2017-11-20  A1YZM4L8FED7L8            Gregg   \n",
              "\n",
              "                                                 category  \\\n",
              "1058          Musical Instruments Instrument Accessories    \n",
              "1059          Musical Instruments Instrument Accessories    \n",
              "1060          Musical Instruments Instrument Accessories    \n",
              "1061          Musical Instruments Instrument Accessories    \n",
              "1062          Musical Instruments Instrument Accessories    \n",
              "...                                                   ...   \n",
              "376471   Musical Instruments Instrument Accessories Dr...   \n",
              "376472   Musical Instruments Instrument Accessories Dr...   \n",
              "376473   Musical Instruments Instrument Accessories Dr...   \n",
              "376474   Musical Instruments Instrument Accessories Dr...   \n",
              "376475   Musical Instruments Instrument Accessories Dr...   \n",
              "\n",
              "                                              description  \\\n",
              "1058     Journey defined 80s rock Their signature song...   \n",
              "1059     Journey defined 80s rock Their signature song...   \n",
              "1060     Journey defined 80s rock Their signature song...   \n",
              "1061     Journey defined 80s rock Their signature song...   \n",
              "1062     Journey defined 80s rock Their signature song...   \n",
              "...                                                   ...   \n",
              "376471   The Zildjian Cymbal Cleaning Polish is specia...   \n",
              "376472   The Zildjian Cymbal Cleaning Polish is specia...   \n",
              "376473   The Zildjian Cymbal Cleaning Polish is specia...   \n",
              "376474   The Zildjian Cymbal Cleaning Polish is specia...   \n",
              "376475   The Zildjian Cymbal Cleaning Polish is specia...   \n",
              "\n",
              "                                          title                    brand  \\\n",
              "1058        Journey - Greatest Hits: Easy Piano             Alfred Music   \n",
              "1059        Journey - Greatest Hits: Easy Piano             Alfred Music   \n",
              "1060        Journey - Greatest Hits: Easy Piano             Alfred Music   \n",
              "1061        Journey - Greatest Hits: Easy Piano             Alfred Music   \n",
              "1062        Journey - Greatest Hits: Easy Piano             Alfred Music   \n",
              "...                                         ...                      ...   \n",
              "376471  Zildjian Brilliant Finish Cymbal Polish  Avedis Zildjian Company   \n",
              "376472  Zildjian Brilliant Finish Cymbal Polish  Avedis Zildjian Company   \n",
              "376473  Zildjian Brilliant Finish Cymbal Polish  Avedis Zildjian Company   \n",
              "376474  Zildjian Brilliant Finish Cymbal Polish  Avedis Zildjian Company   \n",
              "376475  Zildjian Brilliant Finish Cymbal Polish  Avedis Zildjian Company   \n",
              "\n",
              "                                                  feature  \\\n",
              "1058     Category Piano Personality Book Format Book I...   \n",
              "1059     Category Piano Personality Book Format Book I...   \n",
              "1060     Category Piano Personality Book Format Book I...   \n",
              "1061     Category Piano Personality Book Format Book I...   \n",
              "1062     Category Piano Personality Book Format Book I...   \n",
              "...                                                   ...   \n",
              "376471   One quick and easy application 8 fl Oz 250 ml...   \n",
              "376472   One quick and easy application 8 fl Oz 250 ml...   \n",
              "376473   One quick and easy application 8 fl Oz 250 ml...   \n",
              "376474   One quick and easy application 8 fl Oz 250 ml...   \n",
              "376475   One quick and easy application 8 fl Oz 250 ml...   \n",
              "\n",
              "                   main_cat   price  \\\n",
              "1058    Musical Instruments   17.78   \n",
              "1059    Musical Instruments   17.78   \n",
              "1060    Musical Instruments   17.78   \n",
              "1061    Musical Instruments   17.78   \n",
              "1062    Musical Instruments   17.78   \n",
              "...                     ...     ...   \n",
              "376471  Musical Instruments   13.30   \n",
              "376472  Musical Instruments   13.30   \n",
              "376473  Musical Instruments   13.30   \n",
              "376474  Musical Instruments   13.30   \n",
              "376475  Musical Instruments   13.30   \n",
              "\n",
              "                                                     text  \n",
              "1058    The expression of Journey's music comes out ve...  \n",
              "1059                                  Love it! Five Stars  \n",
              "1060                     My daughter loves it! Five Stars  \n",
              "1061                                     Great Five Stars  \n",
              "1062    I expected something more elaborated. The musi...  \n",
              "...                                                   ...  \n",
              "376471  Product works like decribed but does require s...  \n",
              "376472  Product works very well.  I have Zildjian A Cu...  \n",
              "376473  the product works very well.  the supplier sen...  \n",
              "376474  This polish is really good, I have ZHT Pros. I...  \n",
              "376475  I've tried several and keep coming back to thi...  \n",
              "\n",
              "[152264 rows x 13 columns]"
            ],
            "text/html": [
              "\n",
              "  <div id=\"df-073e5cdb-0e5f-4791-ad1d-43da27661869\">\n",
              "    <div class=\"colab-df-container\">\n",
              "      <div>\n",
              "<style scoped>\n",
              "    .dataframe tbody tr th:only-of-type {\n",
              "        vertical-align: middle;\n",
              "    }\n",
              "\n",
              "    .dataframe tbody tr th {\n",
              "        vertical-align: top;\n",
              "    }\n",
              "\n",
              "    .dataframe thead th {\n",
              "        text-align: right;\n",
              "    }\n",
              "</style>\n",
              "<table border=\"1\" class=\"dataframe\">\n",
              "  <thead>\n",
              "    <tr style=\"text-align: right;\">\n",
              "      <th></th>\n",
              "      <th>overall</th>\n",
              "      <th>verified</th>\n",
              "      <th>reviewTime</th>\n",
              "      <th>reviewerID</th>\n",
              "      <th>reviewerName</th>\n",
              "      <th>category</th>\n",
              "      <th>description</th>\n",
              "      <th>title</th>\n",
              "      <th>brand</th>\n",
              "      <th>feature</th>\n",
              "      <th>main_cat</th>\n",
              "      <th>price</th>\n",
              "      <th>text</th>\n",
              "    </tr>\n",
              "  </thead>\n",
              "  <tbody>\n",
              "    <tr>\n",
              "      <th>1058</th>\n",
              "      <td>5</td>\n",
              "      <td>False</td>\n",
              "      <td>2007-02-14</td>\n",
              "      <td>A20DOQGG34SKR5</td>\n",
              "      <td>Richard A. Wall</td>\n",
              "      <td>Musical Instruments Instrument Accessories</td>\n",
              "      <td>Journey defined 80s rock Their signature song...</td>\n",
              "      <td>Journey - Greatest Hits: Easy Piano</td>\n",
              "      <td>Alfred Music</td>\n",
              "      <td>Category Piano Personality Book Format Book I...</td>\n",
              "      <td>Musical Instruments</td>\n",
              "      <td>17.78</td>\n",
              "      <td>The expression of Journey's music comes out ve...</td>\n",
              "    </tr>\n",
              "    <tr>\n",
              "      <th>1059</th>\n",
              "      <td>5</td>\n",
              "      <td>True</td>\n",
              "      <td>2014-12-14</td>\n",
              "      <td>A2XVOIUQFKHGX7</td>\n",
              "      <td>Leah N</td>\n",
              "      <td>Musical Instruments Instrument Accessories</td>\n",
              "      <td>Journey defined 80s rock Their signature song...</td>\n",
              "      <td>Journey - Greatest Hits: Easy Piano</td>\n",
              "      <td>Alfred Music</td>\n",
              "      <td>Category Piano Personality Book Format Book I...</td>\n",
              "      <td>Musical Instruments</td>\n",
              "      <td>17.78</td>\n",
              "      <td>Love it! Five Stars</td>\n",
              "    </tr>\n",
              "    <tr>\n",
              "      <th>1060</th>\n",
              "      <td>5</td>\n",
              "      <td>True</td>\n",
              "      <td>2014-10-15</td>\n",
              "      <td>A3EYX1Z1RVJQ8T</td>\n",
              "      <td>Annetta Allred</td>\n",
              "      <td>Musical Instruments Instrument Accessories</td>\n",
              "      <td>Journey defined 80s rock Their signature song...</td>\n",
              "      <td>Journey - Greatest Hits: Easy Piano</td>\n",
              "      <td>Alfred Music</td>\n",
              "      <td>Category Piano Personality Book Format Book I...</td>\n",
              "      <td>Musical Instruments</td>\n",
              "      <td>17.78</td>\n",
              "      <td>My daughter loves it! Five Stars</td>\n",
              "    </tr>\n",
              "    <tr>\n",
              "      <th>1061</th>\n",
              "      <td>5</td>\n",
              "      <td>True</td>\n",
              "      <td>2014-09-29</td>\n",
              "      <td>AM4HSLYN8E3SN</td>\n",
              "      <td>notsofast</td>\n",
              "      <td>Musical Instruments Instrument Accessories</td>\n",
              "      <td>Journey defined 80s rock Their signature song...</td>\n",
              "      <td>Journey - Greatest Hits: Easy Piano</td>\n",
              "      <td>Alfred Music</td>\n",
              "      <td>Category Piano Personality Book Format Book I...</td>\n",
              "      <td>Musical Instruments</td>\n",
              "      <td>17.78</td>\n",
              "      <td>Great Five Stars</td>\n",
              "    </tr>\n",
              "    <tr>\n",
              "      <th>1062</th>\n",
              "      <td>3</td>\n",
              "      <td>True</td>\n",
              "      <td>2014-02-07</td>\n",
              "      <td>A32GLSH2IC98Q3</td>\n",
              "      <td>Stela Pen</td>\n",
              "      <td>Musical Instruments Instrument Accessories</td>\n",
              "      <td>Journey defined 80s rock Their signature song...</td>\n",
              "      <td>Journey - Greatest Hits: Easy Piano</td>\n",
              "      <td>Alfred Music</td>\n",
              "      <td>Category Piano Personality Book Format Book I...</td>\n",
              "      <td>Musical Instruments</td>\n",
              "      <td>17.78</td>\n",
              "      <td>I expected something more elaborated. The musi...</td>\n",
              "    </tr>\n",
              "    <tr>\n",
              "      <th>...</th>\n",
              "      <td>...</td>\n",
              "      <td>...</td>\n",
              "      <td>...</td>\n",
              "      <td>...</td>\n",
              "      <td>...</td>\n",
              "      <td>...</td>\n",
              "      <td>...</td>\n",
              "      <td>...</td>\n",
              "      <td>...</td>\n",
              "      <td>...</td>\n",
              "      <td>...</td>\n",
              "      <td>...</td>\n",
              "      <td>...</td>\n",
              "    </tr>\n",
              "    <tr>\n",
              "      <th>376471</th>\n",
              "      <td>3</td>\n",
              "      <td>False</td>\n",
              "      <td>2010-10-27</td>\n",
              "      <td>A3LO69NVX14T5O</td>\n",
              "      <td>I. Pribadi</td>\n",
              "      <td>Musical Instruments Instrument Accessories Dr...</td>\n",
              "      <td>The Zildjian Cymbal Cleaning Polish is specia...</td>\n",
              "      <td>Zildjian Brilliant Finish Cymbal Polish</td>\n",
              "      <td>Avedis Zildjian Company</td>\n",
              "      <td>One quick and easy application 8 fl Oz 250 ml...</td>\n",
              "      <td>Musical Instruments</td>\n",
              "      <td>13.30</td>\n",
              "      <td>Product works like decribed but does require s...</td>\n",
              "    </tr>\n",
              "    <tr>\n",
              "      <th>376472</th>\n",
              "      <td>5</td>\n",
              "      <td>True</td>\n",
              "      <td>2010-03-26</td>\n",
              "      <td>A23BA3FL30O87V</td>\n",
              "      <td>Andrew Williams</td>\n",
              "      <td>Musical Instruments Instrument Accessories Dr...</td>\n",
              "      <td>The Zildjian Cymbal Cleaning Polish is specia...</td>\n",
              "      <td>Zildjian Brilliant Finish Cymbal Polish</td>\n",
              "      <td>Avedis Zildjian Company</td>\n",
              "      <td>One quick and easy application 8 fl Oz 250 ml...</td>\n",
              "      <td>Musical Instruments</td>\n",
              "      <td>13.30</td>\n",
              "      <td>Product works very well.  I have Zildjian A Cu...</td>\n",
              "    </tr>\n",
              "    <tr>\n",
              "      <th>376473</th>\n",
              "      <td>5</td>\n",
              "      <td>True</td>\n",
              "      <td>2009-06-21</td>\n",
              "      <td>AC6ZMS9HZ23I7</td>\n",
              "      <td>hd</td>\n",
              "      <td>Musical Instruments Instrument Accessories Dr...</td>\n",
              "      <td>The Zildjian Cymbal Cleaning Polish is specia...</td>\n",
              "      <td>Zildjian Brilliant Finish Cymbal Polish</td>\n",
              "      <td>Avedis Zildjian Company</td>\n",
              "      <td>One quick and easy application 8 fl Oz 250 ml...</td>\n",
              "      <td>Musical Instruments</td>\n",
              "      <td>13.30</td>\n",
              "      <td>the product works very well.  the supplier sen...</td>\n",
              "    </tr>\n",
              "    <tr>\n",
              "      <th>376474</th>\n",
              "      <td>5</td>\n",
              "      <td>False</td>\n",
              "      <td>2008-08-29</td>\n",
              "      <td>A3ASBJX2ZUZZ2J</td>\n",
              "      <td>Music Lover</td>\n",
              "      <td>Musical Instruments Instrument Accessories Dr...</td>\n",
              "      <td>The Zildjian Cymbal Cleaning Polish is specia...</td>\n",
              "      <td>Zildjian Brilliant Finish Cymbal Polish</td>\n",
              "      <td>Avedis Zildjian Company</td>\n",
              "      <td>One quick and easy application 8 fl Oz 250 ml...</td>\n",
              "      <td>Musical Instruments</td>\n",
              "      <td>13.30</td>\n",
              "      <td>This polish is really good, I have ZHT Pros. I...</td>\n",
              "    </tr>\n",
              "    <tr>\n",
              "      <th>376475</th>\n",
              "      <td>5</td>\n",
              "      <td>False</td>\n",
              "      <td>2017-11-20</td>\n",
              "      <td>A1YZM4L8FED7L8</td>\n",
              "      <td>Gregg</td>\n",
              "      <td>Musical Instruments Instrument Accessories Dr...</td>\n",
              "      <td>The Zildjian Cymbal Cleaning Polish is specia...</td>\n",
              "      <td>Zildjian Brilliant Finish Cymbal Polish</td>\n",
              "      <td>Avedis Zildjian Company</td>\n",
              "      <td>One quick and easy application 8 fl Oz 250 ml...</td>\n",
              "      <td>Musical Instruments</td>\n",
              "      <td>13.30</td>\n",
              "      <td>I've tried several and keep coming back to thi...</td>\n",
              "    </tr>\n",
              "  </tbody>\n",
              "</table>\n",
              "<p>152264 rows × 13 columns</p>\n",
              "</div>\n",
              "      <button class=\"colab-df-convert\" onclick=\"convertToInteractive('df-073e5cdb-0e5f-4791-ad1d-43da27661869')\"\n",
              "              title=\"Convert this dataframe to an interactive table.\"\n",
              "              style=\"display:none;\">\n",
              "        \n",
              "  <svg xmlns=\"http://www.w3.org/2000/svg\" height=\"24px\"viewBox=\"0 0 24 24\"\n",
              "       width=\"24px\">\n",
              "    <path d=\"M0 0h24v24H0V0z\" fill=\"none\"/>\n",
              "    <path d=\"M18.56 5.44l.94 2.06.94-2.06 2.06-.94-2.06-.94-.94-2.06-.94 2.06-2.06.94zm-11 1L8.5 8.5l.94-2.06 2.06-.94-2.06-.94L8.5 2.5l-.94 2.06-2.06.94zm10 10l.94 2.06.94-2.06 2.06-.94-2.06-.94-.94-2.06-.94 2.06-2.06.94z\"/><path d=\"M17.41 7.96l-1.37-1.37c-.4-.4-.92-.59-1.43-.59-.52 0-1.04.2-1.43.59L10.3 9.45l-7.72 7.72c-.78.78-.78 2.05 0 2.83L4 21.41c.39.39.9.59 1.41.59.51 0 1.02-.2 1.41-.59l7.78-7.78 2.81-2.81c.8-.78.8-2.07 0-2.86zM5.41 20L4 18.59l7.72-7.72 1.47 1.35L5.41 20z\"/>\n",
              "  </svg>\n",
              "      </button>\n",
              "      \n",
              "  <style>\n",
              "    .colab-df-container {\n",
              "      display:flex;\n",
              "      flex-wrap:wrap;\n",
              "      gap: 12px;\n",
              "    }\n",
              "\n",
              "    .colab-df-convert {\n",
              "      background-color: #E8F0FE;\n",
              "      border: none;\n",
              "      border-radius: 50%;\n",
              "      cursor: pointer;\n",
              "      display: none;\n",
              "      fill: #1967D2;\n",
              "      height: 32px;\n",
              "      padding: 0 0 0 0;\n",
              "      width: 32px;\n",
              "    }\n",
              "\n",
              "    .colab-df-convert:hover {\n",
              "      background-color: #E2EBFA;\n",
              "      box-shadow: 0px 1px 2px rgba(60, 64, 67, 0.3), 0px 1px 3px 1px rgba(60, 64, 67, 0.15);\n",
              "      fill: #174EA6;\n",
              "    }\n",
              "\n",
              "    [theme=dark] .colab-df-convert {\n",
              "      background-color: #3B4455;\n",
              "      fill: #D2E3FC;\n",
              "    }\n",
              "\n",
              "    [theme=dark] .colab-df-convert:hover {\n",
              "      background-color: #434B5C;\n",
              "      box-shadow: 0px 1px 3px 1px rgba(0, 0, 0, 0.15);\n",
              "      filter: drop-shadow(0px 1px 2px rgba(0, 0, 0, 0.3));\n",
              "      fill: #FFFFFF;\n",
              "    }\n",
              "  </style>\n",
              "\n",
              "      <script>\n",
              "        const buttonEl =\n",
              "          document.querySelector('#df-073e5cdb-0e5f-4791-ad1d-43da27661869 button.colab-df-convert');\n",
              "        buttonEl.style.display =\n",
              "          google.colab.kernel.accessAllowed ? 'block' : 'none';\n",
              "\n",
              "        async function convertToInteractive(key) {\n",
              "          const element = document.querySelector('#df-073e5cdb-0e5f-4791-ad1d-43da27661869');\n",
              "          const dataTable =\n",
              "            await google.colab.kernel.invokeFunction('convertToInteractive',\n",
              "                                                     [key], {});\n",
              "          if (!dataTable) return;\n",
              "\n",
              "          const docLinkHtml = 'Like what you see? Visit the ' +\n",
              "            '<a target=\"_blank\" href=https://colab.research.google.com/notebooks/data_table.ipynb>data table notebook</a>'\n",
              "            + ' to learn more about interactive tables.';\n",
              "          element.innerHTML = '';\n",
              "          dataTable['output_type'] = 'display_data';\n",
              "          await google.colab.output.renderOutput(dataTable, element);\n",
              "          const docLink = document.createElement('div');\n",
              "          docLink.innerHTML = docLinkHtml;\n",
              "          element.appendChild(docLink);\n",
              "        }\n",
              "      </script>\n",
              "    </div>\n",
              "  </div>\n",
              "  "
            ]
          },
          "metadata": {},
          "execution_count": 38
        }
      ],
      "source": [
        "final_music_df"
      ]
    },
    {
      "cell_type": "markdown",
      "source": [
        "\n",
        "\n",
        "-----\n",
        "\n",
        "\n",
        "\n",
        "---\n",
        "\n"
      ],
      "metadata": {
        "id": "aV4-8OL67gWf"
      }
    },
    {
      "cell_type": "markdown",
      "source": [
        "![Screenshot 2023-04-01 144943.png](data:image/png;base64,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)"
      ],
      "metadata": {
        "id": "7xrFD18mHTGp"
      }
    },
    {
      "cell_type": "markdown",
      "source": [
        "## Project Requirement for Sentiment analysis using NLP:"
      ],
      "metadata": {
        "id": "xyoi8Nyj2TzR"
      }
    },
    {
      "cell_type": "markdown",
      "source": [
        "In this project milestone, you will be accomplishing task 2 of the project, here you will perform Natural Language Understanding, Extraction and Sentiment anlaysis.\n",
        "\n",
        "Natural language understanding: Converts a large set of text into more formal representations , such as first-order logic structure that are easier for the computer programs to mainpulate notations.\n",
        "\n",
        "Information Extraction: Extract Strutured information from Unstructed information:\n",
        "\n",
        "Sentiment Analysis: Analyze the attitude or emotional state of customers of their posted review texts.\n"
      ],
      "metadata": {
        "id": "A5tPGD642cFH"
      }
    },
    {
      "cell_type": "markdown",
      "metadata": {
        "id": "2XXDvcA_O7II"
      },
      "source": [
        "### Adding the New column for the data"
      ]
    },
    {
      "cell_type": "markdown",
      "source": [
        "This is an important preprocessing phase, we are deciding the outcome column (sentiment of review) based on the overall score. If the score is greater than 3, we take that as positive and if the value is less than 3 it is negative If it is equal to 3, we take that as neutral sentiment"
      ],
      "metadata": {
        "id": "6409fZad7p2V"
      }
    },
    {
      "cell_type": "code",
      "execution_count": 39,
      "metadata": {
        "id": "IzFP7xfyO5oZ"
      },
      "outputs": [],
      "source": [
        "final_music_df.insert(13,'overall_sentiment',np.nan)"
      ]
    },
    {
      "cell_type": "code",
      "execution_count": 40,
      "metadata": {
        "id": "6xbhRKi5PPG0"
      },
      "outputs": [],
      "source": [
        "final_music_df.loc[final_music_df['overall'] == 3,'overall_sentiment']='neutral'\n",
        "final_music_df.loc[final_music_df['overall'] > 3,'overall_sentiment']='positive'\n",
        "final_music_df.loc[final_music_df['overall'] < 3,'overall_sentiment']='negative'"
      ]
    },
    {
      "cell_type": "code",
      "source": [
        "final_music_df.shape"
      ],
      "metadata": {
        "colab": {
          "base_uri": "https://localhost:8080/"
        },
        "id": "pFC52IGwqPKg",
        "outputId": "f7f8ed3d-d8d3-4c4f-d2a6-52d708bc58b9"
      },
      "execution_count": 41,
      "outputs": [
        {
          "output_type": "execute_result",
          "data": {
            "text/plain": [
              "(152264, 14)"
            ]
          },
          "metadata": {},
          "execution_count": 41
        }
      ]
    },
    {
      "cell_type": "markdown",
      "source": [
        "## VADER"
      ],
      "metadata": {
        "id": "LPH3Ke8W7zHl"
      }
    },
    {
      "cell_type": "markdown",
      "source": [
        "* VADER ( Valence Aware Dictionary for Sentiment Reasoning) is a model used for text sentiment analysis that is sensitive to both polarity (positive/negative) and intensity (strength) of emotion. It is available in the NLTK package and can be applied directly to unlabeled text data.\n",
        "* VADER sentimental analysis relies on a dictionary that maps lexical features to emotion intensities known as sentiment scores. The sentiment score of a text can be obtained by summing up the intensity of each word in the text.\n",
        "* For example- Words like ‘love’, ‘enjoy’, ‘happy’, ‘like’ all convey a positive sentiment. Also VADER is intelligent enough to understand the basic context of these words, such as “did not love” as a negative statement. It also understands the emphasis of capitalization and punctuation, such as “ENJOY”"
      ],
      "metadata": {
        "id": "-yCoaoPD70dS"
      }
    },
    {
      "cell_type": "code",
      "source": [
        "# Getting the polarity of reviewText \n",
        "res2 = {}\n",
        "t = 0\n",
        "for i, row in tqdm(final_music_df.iterrows(), total=len(final_music_df)):\n",
        "    text = row['text']\n",
        "    res2[t] = SentimentIntensityAnalyzer().polarity_scores(text)\n",
        "    t = t + 1"
      ],
      "metadata": {
        "colab": {
          "base_uri": "https://localhost:8080/",
          "height": 49,
          "referenced_widgets": [
            "a14fe33116e141de9ad7f322863a6cda",
            "9a5b9673bd9f44cb853f8b7e52e07bad",
            "fcef7626dcfe495d9a78a282642e537a",
            "7dd3ca16e05e4a2dace588eb4e0c3f6e",
            "93a4a61106744926a4d824939bbe32d0",
            "8295f78103ca4e67a2366ec60584f307",
            "f947ae0eeca8422c80cc03d54eb6efbe",
            "da4d4ffa771d4a4d940b6a6fbebde4d9",
            "ec2fdf0baaf44adc8aafcf10d2ff9c90",
            "80334f8fa6a346e3a90e70c6aba31801",
            "c9b4235905f048b296deb8c73758f79b"
          ]
        },
        "id": "CHsEhIVN8F6R",
        "outputId": "e930dc29-20a0-42a5-9c14-75130a762b95"
      },
      "execution_count": 42,
      "outputs": [
        {
          "output_type": "display_data",
          "data": {
            "text/plain": [
              "  0%|          | 0/152264 [00:00<?, ?it/s]"
            ],
            "application/vnd.jupyter.widget-view+json": {
              "version_major": 2,
              "version_minor": 0,
              "model_id": "a14fe33116e141de9ad7f322863a6cda"
            }
          },
          "metadata": {}
        }
      ]
    },
    {
      "cell_type": "code",
      "source": [
        "# Transposing the dataframe\n",
        "j = pd.DataFrame(res2).T\n",
        "j"
      ],
      "metadata": {
        "colab": {
          "base_uri": "https://localhost:8080/",
          "height": 423
        },
        "id": "kfZomYnCEkRF",
        "outputId": "c8c46da6-fff9-481e-a765-15d9f6336676"
      },
      "execution_count": 43,
      "outputs": [
        {
          "output_type": "execute_result",
          "data": {
            "text/plain": [
              "          neg    neu    pos  compound\n",
              "0       0.000  0.770  0.230    0.5840\n",
              "1       0.000  0.400  0.600    0.6696\n",
              "2       0.000  0.556  0.444    0.6114\n",
              "3       0.000  0.328  0.672    0.6249\n",
              "4       0.145  0.791  0.063   -0.4777\n",
              "...       ...    ...    ...       ...\n",
              "152259  0.057  0.802  0.141    0.5001\n",
              "152260  0.000  0.815  0.185    0.8550\n",
              "152261  0.000  0.655  0.345    0.8173\n",
              "152262  0.017  0.808  0.176    0.9514\n",
              "152263  0.046  0.815  0.139    0.5267\n",
              "\n",
              "[152264 rows x 4 columns]"
            ],
            "text/html": [
              "\n",
              "  <div id=\"df-c74afc43-dd88-4a02-a9d8-93f186584861\">\n",
              "    <div class=\"colab-df-container\">\n",
              "      <div>\n",
              "<style scoped>\n",
              "    .dataframe tbody tr th:only-of-type {\n",
              "        vertical-align: middle;\n",
              "    }\n",
              "\n",
              "    .dataframe tbody tr th {\n",
              "        vertical-align: top;\n",
              "    }\n",
              "\n",
              "    .dataframe thead th {\n",
              "        text-align: right;\n",
              "    }\n",
              "</style>\n",
              "<table border=\"1\" class=\"dataframe\">\n",
              "  <thead>\n",
              "    <tr style=\"text-align: right;\">\n",
              "      <th></th>\n",
              "      <th>neg</th>\n",
              "      <th>neu</th>\n",
              "      <th>pos</th>\n",
              "      <th>compound</th>\n",
              "    </tr>\n",
              "  </thead>\n",
              "  <tbody>\n",
              "    <tr>\n",
              "      <th>0</th>\n",
              "      <td>0.000</td>\n",
              "      <td>0.770</td>\n",
              "      <td>0.230</td>\n",
              "      <td>0.5840</td>\n",
              "    </tr>\n",
              "    <tr>\n",
              "      <th>1</th>\n",
              "      <td>0.000</td>\n",
              "      <td>0.400</td>\n",
              "      <td>0.600</td>\n",
              "      <td>0.6696</td>\n",
              "    </tr>\n",
              "    <tr>\n",
              "      <th>2</th>\n",
              "      <td>0.000</td>\n",
              "      <td>0.556</td>\n",
              "      <td>0.444</td>\n",
              "      <td>0.6114</td>\n",
              "    </tr>\n",
              "    <tr>\n",
              "      <th>3</th>\n",
              "      <td>0.000</td>\n",
              "      <td>0.328</td>\n",
              "      <td>0.672</td>\n",
              "      <td>0.6249</td>\n",
              "    </tr>\n",
              "    <tr>\n",
              "      <th>4</th>\n",
              "      <td>0.145</td>\n",
              "      <td>0.791</td>\n",
              "      <td>0.063</td>\n",
              "      <td>-0.4777</td>\n",
              "    </tr>\n",
              "    <tr>\n",
              "      <th>...</th>\n",
              "      <td>...</td>\n",
              "      <td>...</td>\n",
              "      <td>...</td>\n",
              "      <td>...</td>\n",
              "    </tr>\n",
              "    <tr>\n",
              "      <th>152259</th>\n",
              "      <td>0.057</td>\n",
              "      <td>0.802</td>\n",
              "      <td>0.141</td>\n",
              "      <td>0.5001</td>\n",
              "    </tr>\n",
              "    <tr>\n",
              "      <th>152260</th>\n",
              "      <td>0.000</td>\n",
              "      <td>0.815</td>\n",
              "      <td>0.185</td>\n",
              "      <td>0.8550</td>\n",
              "    </tr>\n",
              "    <tr>\n",
              "      <th>152261</th>\n",
              "      <td>0.000</td>\n",
              "      <td>0.655</td>\n",
              "      <td>0.345</td>\n",
              "      <td>0.8173</td>\n",
              "    </tr>\n",
              "    <tr>\n",
              "      <th>152262</th>\n",
              "      <td>0.017</td>\n",
              "      <td>0.808</td>\n",
              "      <td>0.176</td>\n",
              "      <td>0.9514</td>\n",
              "    </tr>\n",
              "    <tr>\n",
              "      <th>152263</th>\n",
              "      <td>0.046</td>\n",
              "      <td>0.815</td>\n",
              "      <td>0.139</td>\n",
              "      <td>0.5267</td>\n",
              "    </tr>\n",
              "  </tbody>\n",
              "</table>\n",
              "<p>152264 rows × 4 columns</p>\n",
              "</div>\n",
              "      <button class=\"colab-df-convert\" onclick=\"convertToInteractive('df-c74afc43-dd88-4a02-a9d8-93f186584861')\"\n",
              "              title=\"Convert this dataframe to an interactive table.\"\n",
              "              style=\"display:none;\">\n",
              "        \n",
              "  <svg xmlns=\"http://www.w3.org/2000/svg\" height=\"24px\"viewBox=\"0 0 24 24\"\n",
              "       width=\"24px\">\n",
              "    <path d=\"M0 0h24v24H0V0z\" fill=\"none\"/>\n",
              "    <path d=\"M18.56 5.44l.94 2.06.94-2.06 2.06-.94-2.06-.94-.94-2.06-.94 2.06-2.06.94zm-11 1L8.5 8.5l.94-2.06 2.06-.94-2.06-.94L8.5 2.5l-.94 2.06-2.06.94zm10 10l.94 2.06.94-2.06 2.06-.94-2.06-.94-.94-2.06-.94 2.06-2.06.94z\"/><path d=\"M17.41 7.96l-1.37-1.37c-.4-.4-.92-.59-1.43-.59-.52 0-1.04.2-1.43.59L10.3 9.45l-7.72 7.72c-.78.78-.78 2.05 0 2.83L4 21.41c.39.39.9.59 1.41.59.51 0 1.02-.2 1.41-.59l7.78-7.78 2.81-2.81c.8-.78.8-2.07 0-2.86zM5.41 20L4 18.59l7.72-7.72 1.47 1.35L5.41 20z\"/>\n",
              "  </svg>\n",
              "      </button>\n",
              "      \n",
              "  <style>\n",
              "    .colab-df-container {\n",
              "      display:flex;\n",
              "      flex-wrap:wrap;\n",
              "      gap: 12px;\n",
              "    }\n",
              "\n",
              "    .colab-df-convert {\n",
              "      background-color: #E8F0FE;\n",
              "      border: none;\n",
              "      border-radius: 50%;\n",
              "      cursor: pointer;\n",
              "      display: none;\n",
              "      fill: #1967D2;\n",
              "      height: 32px;\n",
              "      padding: 0 0 0 0;\n",
              "      width: 32px;\n",
              "    }\n",
              "\n",
              "    .colab-df-convert:hover {\n",
              "      background-color: #E2EBFA;\n",
              "      box-shadow: 0px 1px 2px rgba(60, 64, 67, 0.3), 0px 1px 3px 1px rgba(60, 64, 67, 0.15);\n",
              "      fill: #174EA6;\n",
              "    }\n",
              "\n",
              "    [theme=dark] .colab-df-convert {\n",
              "      background-color: #3B4455;\n",
              "      fill: #D2E3FC;\n",
              "    }\n",
              "\n",
              "    [theme=dark] .colab-df-convert:hover {\n",
              "      background-color: #434B5C;\n",
              "      box-shadow: 0px 1px 3px 1px rgba(0, 0, 0, 0.15);\n",
              "      filter: drop-shadow(0px 1px 2px rgba(0, 0, 0, 0.3));\n",
              "      fill: #FFFFFF;\n",
              "    }\n",
              "  </style>\n",
              "\n",
              "      <script>\n",
              "        const buttonEl =\n",
              "          document.querySelector('#df-c74afc43-dd88-4a02-a9d8-93f186584861 button.colab-df-convert');\n",
              "        buttonEl.style.display =\n",
              "          google.colab.kernel.accessAllowed ? 'block' : 'none';\n",
              "\n",
              "        async function convertToInteractive(key) {\n",
              "          const element = document.querySelector('#df-c74afc43-dd88-4a02-a9d8-93f186584861');\n",
              "          const dataTable =\n",
              "            await google.colab.kernel.invokeFunction('convertToInteractive',\n",
              "                                                     [key], {});\n",
              "          if (!dataTable) return;\n",
              "\n",
              "          const docLinkHtml = 'Like what you see? Visit the ' +\n",
              "            '<a target=\"_blank\" href=https://colab.research.google.com/notebooks/data_table.ipynb>data table notebook</a>'\n",
              "            + ' to learn more about interactive tables.';\n",
              "          element.innerHTML = '';\n",
              "          dataTable['output_type'] = 'display_data';\n",
              "          await google.colab.output.renderOutput(dataTable, element);\n",
              "          const docLink = document.createElement('div');\n",
              "          docLink.innerHTML = docLinkHtml;\n",
              "          element.appendChild(docLink);\n",
              "        }\n",
              "      </script>\n",
              "    </div>\n",
              "  </div>\n",
              "  "
            ]
          },
          "metadata": {},
          "execution_count": 43
        }
      ]
    },
    {
      "cell_type": "code",
      "source": [
        "j.isnull().sum()"
      ],
      "metadata": {
        "colab": {
          "base_uri": "https://localhost:8080/"
        },
        "id": "LgtcpeY4vGk2",
        "outputId": "ce03a7d0-89fa-4810-8547-873303a07c53"
      },
      "execution_count": 44,
      "outputs": [
        {
          "output_type": "execute_result",
          "data": {
            "text/plain": [
              "neg         0\n",
              "neu         0\n",
              "pos         0\n",
              "compound    0\n",
              "dtype: int64"
            ]
          },
          "metadata": {},
          "execution_count": 44
        }
      ]
    },
    {
      "cell_type": "code",
      "source": [
        "final_music_df.reset_index(drop=True, inplace=True)"
      ],
      "metadata": {
        "id": "CRnAl578ELeG"
      },
      "execution_count": 46,
      "outputs": []
    },
    {
      "cell_type": "code",
      "source": [
        "# concating the main data and the Polarity Scores\n",
        "final_music_df= pd.concat([final_music_df, j], axis = 1)"
      ],
      "metadata": {
        "id": "kQNWco78EkJV"
      },
      "execution_count": 47,
      "outputs": []
    },
    {
      "cell_type": "code",
      "source": [
        "final_music_df"
      ],
      "metadata": {
        "colab": {
          "base_uri": "https://localhost:8080/",
          "height": 1000
        },
        "id": "02ZVkOWrBkxd",
        "outputId": "a1d958be-70c7-4072-b6c3-8499286146dd"
      },
      "execution_count": 48,
      "outputs": [
        {
          "output_type": "execute_result",
          "data": {
            "text/plain": [
              "        overall  verified reviewTime      reviewerID     reviewerName  \\\n",
              "0             5     False 2007-02-14  A20DOQGG34SKR5  Richard A. Wall   \n",
              "1             5      True 2014-12-14  A2XVOIUQFKHGX7           Leah N   \n",
              "2             5      True 2014-10-15  A3EYX1Z1RVJQ8T   Annetta Allred   \n",
              "3             5      True 2014-09-29   AM4HSLYN8E3SN        notsofast   \n",
              "4             3      True 2014-02-07  A32GLSH2IC98Q3        Stela Pen   \n",
              "...         ...       ...        ...             ...              ...   \n",
              "152259        3     False 2010-10-27  A3LO69NVX14T5O       I. Pribadi   \n",
              "152260        5      True 2010-03-26  A23BA3FL30O87V  Andrew Williams   \n",
              "152261        5      True 2009-06-21   AC6ZMS9HZ23I7               hd   \n",
              "152262        5     False 2008-08-29  A3ASBJX2ZUZZ2J      Music Lover   \n",
              "152263        5     False 2017-11-20  A1YZM4L8FED7L8            Gregg   \n",
              "\n",
              "                                                 category  \\\n",
              "0             Musical Instruments Instrument Accessories    \n",
              "1             Musical Instruments Instrument Accessories    \n",
              "2             Musical Instruments Instrument Accessories    \n",
              "3             Musical Instruments Instrument Accessories    \n",
              "4             Musical Instruments Instrument Accessories    \n",
              "...                                                   ...   \n",
              "152259   Musical Instruments Instrument Accessories Dr...   \n",
              "152260   Musical Instruments Instrument Accessories Dr...   \n",
              "152261   Musical Instruments Instrument Accessories Dr...   \n",
              "152262   Musical Instruments Instrument Accessories Dr...   \n",
              "152263   Musical Instruments Instrument Accessories Dr...   \n",
              "\n",
              "                                              description  \\\n",
              "0        Journey defined 80s rock Their signature song...   \n",
              "1        Journey defined 80s rock Their signature song...   \n",
              "2        Journey defined 80s rock Their signature song...   \n",
              "3        Journey defined 80s rock Their signature song...   \n",
              "4        Journey defined 80s rock Their signature song...   \n",
              "...                                                   ...   \n",
              "152259   The Zildjian Cymbal Cleaning Polish is specia...   \n",
              "152260   The Zildjian Cymbal Cleaning Polish is specia...   \n",
              "152261   The Zildjian Cymbal Cleaning Polish is specia...   \n",
              "152262   The Zildjian Cymbal Cleaning Polish is specia...   \n",
              "152263   The Zildjian Cymbal Cleaning Polish is specia...   \n",
              "\n",
              "                                          title                    brand  \\\n",
              "0           Journey - Greatest Hits: Easy Piano             Alfred Music   \n",
              "1           Journey - Greatest Hits: Easy Piano             Alfred Music   \n",
              "2           Journey - Greatest Hits: Easy Piano             Alfred Music   \n",
              "3           Journey - Greatest Hits: Easy Piano             Alfred Music   \n",
              "4           Journey - Greatest Hits: Easy Piano             Alfred Music   \n",
              "...                                         ...                      ...   \n",
              "152259  Zildjian Brilliant Finish Cymbal Polish  Avedis Zildjian Company   \n",
              "152260  Zildjian Brilliant Finish Cymbal Polish  Avedis Zildjian Company   \n",
              "152261  Zildjian Brilliant Finish Cymbal Polish  Avedis Zildjian Company   \n",
              "152262  Zildjian Brilliant Finish Cymbal Polish  Avedis Zildjian Company   \n",
              "152263  Zildjian Brilliant Finish Cymbal Polish  Avedis Zildjian Company   \n",
              "\n",
              "                                                  feature  \\\n",
              "0        Category Piano Personality Book Format Book I...   \n",
              "1        Category Piano Personality Book Format Book I...   \n",
              "2        Category Piano Personality Book Format Book I...   \n",
              "3        Category Piano Personality Book Format Book I...   \n",
              "4        Category Piano Personality Book Format Book I...   \n",
              "...                                                   ...   \n",
              "152259   One quick and easy application 8 fl Oz 250 ml...   \n",
              "152260   One quick and easy application 8 fl Oz 250 ml...   \n",
              "152261   One quick and easy application 8 fl Oz 250 ml...   \n",
              "152262   One quick and easy application 8 fl Oz 250 ml...   \n",
              "152263   One quick and easy application 8 fl Oz 250 ml...   \n",
              "\n",
              "                   main_cat   price  \\\n",
              "0       Musical Instruments   17.78   \n",
              "1       Musical Instruments   17.78   \n",
              "2       Musical Instruments   17.78   \n",
              "3       Musical Instruments   17.78   \n",
              "4       Musical Instruments   17.78   \n",
              "...                     ...     ...   \n",
              "152259  Musical Instruments   13.30   \n",
              "152260  Musical Instruments   13.30   \n",
              "152261  Musical Instruments   13.30   \n",
              "152262  Musical Instruments   13.30   \n",
              "152263  Musical Instruments   13.30   \n",
              "\n",
              "                                                     text overall_sentiment  \\\n",
              "0       The expression of Journey's music comes out ve...          positive   \n",
              "1                                     Love it! Five Stars          positive   \n",
              "2                        My daughter loves it! Five Stars          positive   \n",
              "3                                        Great Five Stars          positive   \n",
              "4       I expected something more elaborated. The musi...           neutral   \n",
              "...                                                   ...               ...   \n",
              "152259  Product works like decribed but does require s...           neutral   \n",
              "152260  Product works very well.  I have Zildjian A Cu...          positive   \n",
              "152261  the product works very well.  the supplier sen...          positive   \n",
              "152262  This polish is really good, I have ZHT Pros. I...          positive   \n",
              "152263  I've tried several and keep coming back to thi...          positive   \n",
              "\n",
              "          neg    neu    pos  compound  \n",
              "0       0.000  0.770  0.230    0.5840  \n",
              "1       0.000  0.400  0.600    0.6696  \n",
              "2       0.000  0.556  0.444    0.6114  \n",
              "3       0.000  0.328  0.672    0.6249  \n",
              "4       0.145  0.791  0.063   -0.4777  \n",
              "...       ...    ...    ...       ...  \n",
              "152259  0.057  0.802  0.141    0.5001  \n",
              "152260  0.000  0.815  0.185    0.8550  \n",
              "152261  0.000  0.655  0.345    0.8173  \n",
              "152262  0.017  0.808  0.176    0.9514  \n",
              "152263  0.046  0.815  0.139    0.5267  \n",
              "\n",
              "[152264 rows x 18 columns]"
            ],
            "text/html": [
              "\n",
              "  <div id=\"df-030b0397-c0ce-418e-8624-4dbddc67c38a\">\n",
              "    <div class=\"colab-df-container\">\n",
              "      <div>\n",
              "<style scoped>\n",
              "    .dataframe tbody tr th:only-of-type {\n",
              "        vertical-align: middle;\n",
              "    }\n",
              "\n",
              "    .dataframe tbody tr th {\n",
              "        vertical-align: top;\n",
              "    }\n",
              "\n",
              "    .dataframe thead th {\n",
              "        text-align: right;\n",
              "    }\n",
              "</style>\n",
              "<table border=\"1\" class=\"dataframe\">\n",
              "  <thead>\n",
              "    <tr style=\"text-align: right;\">\n",
              "      <th></th>\n",
              "      <th>overall</th>\n",
              "      <th>verified</th>\n",
              "      <th>reviewTime</th>\n",
              "      <th>reviewerID</th>\n",
              "      <th>reviewerName</th>\n",
              "      <th>category</th>\n",
              "      <th>description</th>\n",
              "      <th>title</th>\n",
              "      <th>brand</th>\n",
              "      <th>feature</th>\n",
              "      <th>main_cat</th>\n",
              "      <th>price</th>\n",
              "      <th>text</th>\n",
              "      <th>overall_sentiment</th>\n",
              "      <th>neg</th>\n",
              "      <th>neu</th>\n",
              "      <th>pos</th>\n",
              "      <th>compound</th>\n",
              "    </tr>\n",
              "  </thead>\n",
              "  <tbody>\n",
              "    <tr>\n",
              "      <th>0</th>\n",
              "      <td>5</td>\n",
              "      <td>False</td>\n",
              "      <td>2007-02-14</td>\n",
              "      <td>A20DOQGG34SKR5</td>\n",
              "      <td>Richard A. Wall</td>\n",
              "      <td>Musical Instruments Instrument Accessories</td>\n",
              "      <td>Journey defined 80s rock Their signature song...</td>\n",
              "      <td>Journey - Greatest Hits: Easy Piano</td>\n",
              "      <td>Alfred Music</td>\n",
              "      <td>Category Piano Personality Book Format Book I...</td>\n",
              "      <td>Musical Instruments</td>\n",
              "      <td>17.78</td>\n",
              "      <td>The expression of Journey's music comes out ve...</td>\n",
              "      <td>positive</td>\n",
              "      <td>0.000</td>\n",
              "      <td>0.770</td>\n",
              "      <td>0.230</td>\n",
              "      <td>0.5840</td>\n",
              "    </tr>\n",
              "    <tr>\n",
              "      <th>1</th>\n",
              "      <td>5</td>\n",
              "      <td>True</td>\n",
              "      <td>2014-12-14</td>\n",
              "      <td>A2XVOIUQFKHGX7</td>\n",
              "      <td>Leah N</td>\n",
              "      <td>Musical Instruments Instrument Accessories</td>\n",
              "      <td>Journey defined 80s rock Their signature song...</td>\n",
              "      <td>Journey - Greatest Hits: Easy Piano</td>\n",
              "      <td>Alfred Music</td>\n",
              "      <td>Category Piano Personality Book Format Book I...</td>\n",
              "      <td>Musical Instruments</td>\n",
              "      <td>17.78</td>\n",
              "      <td>Love it! Five Stars</td>\n",
              "      <td>positive</td>\n",
              "      <td>0.000</td>\n",
              "      <td>0.400</td>\n",
              "      <td>0.600</td>\n",
              "      <td>0.6696</td>\n",
              "    </tr>\n",
              "    <tr>\n",
              "      <th>2</th>\n",
              "      <td>5</td>\n",
              "      <td>True</td>\n",
              "      <td>2014-10-15</td>\n",
              "      <td>A3EYX1Z1RVJQ8T</td>\n",
              "      <td>Annetta Allred</td>\n",
              "      <td>Musical Instruments Instrument Accessories</td>\n",
              "      <td>Journey defined 80s rock Their signature song...</td>\n",
              "      <td>Journey - Greatest Hits: Easy Piano</td>\n",
              "      <td>Alfred Music</td>\n",
              "      <td>Category Piano Personality Book Format Book I...</td>\n",
              "      <td>Musical Instruments</td>\n",
              "      <td>17.78</td>\n",
              "      <td>My daughter loves it! Five Stars</td>\n",
              "      <td>positive</td>\n",
              "      <td>0.000</td>\n",
              "      <td>0.556</td>\n",
              "      <td>0.444</td>\n",
              "      <td>0.6114</td>\n",
              "    </tr>\n",
              "    <tr>\n",
              "      <th>3</th>\n",
              "      <td>5</td>\n",
              "      <td>True</td>\n",
              "      <td>2014-09-29</td>\n",
              "      <td>AM4HSLYN8E3SN</td>\n",
              "      <td>notsofast</td>\n",
              "      <td>Musical Instruments Instrument Accessories</td>\n",
              "      <td>Journey defined 80s rock Their signature song...</td>\n",
              "      <td>Journey - Greatest Hits: Easy Piano</td>\n",
              "      <td>Alfred Music</td>\n",
              "      <td>Category Piano Personality Book Format Book I...</td>\n",
              "      <td>Musical Instruments</td>\n",
              "      <td>17.78</td>\n",
              "      <td>Great Five Stars</td>\n",
              "      <td>positive</td>\n",
              "      <td>0.000</td>\n",
              "      <td>0.328</td>\n",
              "      <td>0.672</td>\n",
              "      <td>0.6249</td>\n",
              "    </tr>\n",
              "    <tr>\n",
              "      <th>4</th>\n",
              "      <td>3</td>\n",
              "      <td>True</td>\n",
              "      <td>2014-02-07</td>\n",
              "      <td>A32GLSH2IC98Q3</td>\n",
              "      <td>Stela Pen</td>\n",
              "      <td>Musical Instruments Instrument Accessories</td>\n",
              "      <td>Journey defined 80s rock Their signature song...</td>\n",
              "      <td>Journey - Greatest Hits: Easy Piano</td>\n",
              "      <td>Alfred Music</td>\n",
              "      <td>Category Piano Personality Book Format Book I...</td>\n",
              "      <td>Musical Instruments</td>\n",
              "      <td>17.78</td>\n",
              "      <td>I expected something more elaborated. The musi...</td>\n",
              "      <td>neutral</td>\n",
              "      <td>0.145</td>\n",
              "      <td>0.791</td>\n",
              "      <td>0.063</td>\n",
              "      <td>-0.4777</td>\n",
              "    </tr>\n",
              "    <tr>\n",
              "      <th>...</th>\n",
              "      <td>...</td>\n",
              "      <td>...</td>\n",
              "      <td>...</td>\n",
              "      <td>...</td>\n",
              "      <td>...</td>\n",
              "      <td>...</td>\n",
              "      <td>...</td>\n",
              "      <td>...</td>\n",
              "      <td>...</td>\n",
              "      <td>...</td>\n",
              "      <td>...</td>\n",
              "      <td>...</td>\n",
              "      <td>...</td>\n",
              "      <td>...</td>\n",
              "      <td>...</td>\n",
              "      <td>...</td>\n",
              "      <td>...</td>\n",
              "      <td>...</td>\n",
              "    </tr>\n",
              "    <tr>\n",
              "      <th>152259</th>\n",
              "      <td>3</td>\n",
              "      <td>False</td>\n",
              "      <td>2010-10-27</td>\n",
              "      <td>A3LO69NVX14T5O</td>\n",
              "      <td>I. Pribadi</td>\n",
              "      <td>Musical Instruments Instrument Accessories Dr...</td>\n",
              "      <td>The Zildjian Cymbal Cleaning Polish is specia...</td>\n",
              "      <td>Zildjian Brilliant Finish Cymbal Polish</td>\n",
              "      <td>Avedis Zildjian Company</td>\n",
              "      <td>One quick and easy application 8 fl Oz 250 ml...</td>\n",
              "      <td>Musical Instruments</td>\n",
              "      <td>13.30</td>\n",
              "      <td>Product works like decribed but does require s...</td>\n",
              "      <td>neutral</td>\n",
              "      <td>0.057</td>\n",
              "      <td>0.802</td>\n",
              "      <td>0.141</td>\n",
              "      <td>0.5001</td>\n",
              "    </tr>\n",
              "    <tr>\n",
              "      <th>152260</th>\n",
              "      <td>5</td>\n",
              "      <td>True</td>\n",
              "      <td>2010-03-26</td>\n",
              "      <td>A23BA3FL30O87V</td>\n",
              "      <td>Andrew Williams</td>\n",
              "      <td>Musical Instruments Instrument Accessories Dr...</td>\n",
              "      <td>The Zildjian Cymbal Cleaning Polish is specia...</td>\n",
              "      <td>Zildjian Brilliant Finish Cymbal Polish</td>\n",
              "      <td>Avedis Zildjian Company</td>\n",
              "      <td>One quick and easy application 8 fl Oz 250 ml...</td>\n",
              "      <td>Musical Instruments</td>\n",
              "      <td>13.30</td>\n",
              "      <td>Product works very well.  I have Zildjian A Cu...</td>\n",
              "      <td>positive</td>\n",
              "      <td>0.000</td>\n",
              "      <td>0.815</td>\n",
              "      <td>0.185</td>\n",
              "      <td>0.8550</td>\n",
              "    </tr>\n",
              "    <tr>\n",
              "      <th>152261</th>\n",
              "      <td>5</td>\n",
              "      <td>True</td>\n",
              "      <td>2009-06-21</td>\n",
              "      <td>AC6ZMS9HZ23I7</td>\n",
              "      <td>hd</td>\n",
              "      <td>Musical Instruments Instrument Accessories Dr...</td>\n",
              "      <td>The Zildjian Cymbal Cleaning Polish is specia...</td>\n",
              "      <td>Zildjian Brilliant Finish Cymbal Polish</td>\n",
              "      <td>Avedis Zildjian Company</td>\n",
              "      <td>One quick and easy application 8 fl Oz 250 ml...</td>\n",
              "      <td>Musical Instruments</td>\n",
              "      <td>13.30</td>\n",
              "      <td>the product works very well.  the supplier sen...</td>\n",
              "      <td>positive</td>\n",
              "      <td>0.000</td>\n",
              "      <td>0.655</td>\n",
              "      <td>0.345</td>\n",
              "      <td>0.8173</td>\n",
              "    </tr>\n",
              "    <tr>\n",
              "      <th>152262</th>\n",
              "      <td>5</td>\n",
              "      <td>False</td>\n",
              "      <td>2008-08-29</td>\n",
              "      <td>A3ASBJX2ZUZZ2J</td>\n",
              "      <td>Music Lover</td>\n",
              "      <td>Musical Instruments Instrument Accessories Dr...</td>\n",
              "      <td>The Zildjian Cymbal Cleaning Polish is specia...</td>\n",
              "      <td>Zildjian Brilliant Finish Cymbal Polish</td>\n",
              "      <td>Avedis Zildjian Company</td>\n",
              "      <td>One quick and easy application 8 fl Oz 250 ml...</td>\n",
              "      <td>Musical Instruments</td>\n",
              "      <td>13.30</td>\n",
              "      <td>This polish is really good, I have ZHT Pros. I...</td>\n",
              "      <td>positive</td>\n",
              "      <td>0.017</td>\n",
              "      <td>0.808</td>\n",
              "      <td>0.176</td>\n",
              "      <td>0.9514</td>\n",
              "    </tr>\n",
              "    <tr>\n",
              "      <th>152263</th>\n",
              "      <td>5</td>\n",
              "      <td>False</td>\n",
              "      <td>2017-11-20</td>\n",
              "      <td>A1YZM4L8FED7L8</td>\n",
              "      <td>Gregg</td>\n",
              "      <td>Musical Instruments Instrument Accessories Dr...</td>\n",
              "      <td>The Zildjian Cymbal Cleaning Polish is specia...</td>\n",
              "      <td>Zildjian Brilliant Finish Cymbal Polish</td>\n",
              "      <td>Avedis Zildjian Company</td>\n",
              "      <td>One quick and easy application 8 fl Oz 250 ml...</td>\n",
              "      <td>Musical Instruments</td>\n",
              "      <td>13.30</td>\n",
              "      <td>I've tried several and keep coming back to thi...</td>\n",
              "      <td>positive</td>\n",
              "      <td>0.046</td>\n",
              "      <td>0.815</td>\n",
              "      <td>0.139</td>\n",
              "      <td>0.5267</td>\n",
              "    </tr>\n",
              "  </tbody>\n",
              "</table>\n",
              "<p>152264 rows × 18 columns</p>\n",
              "</div>\n",
              "      <button class=\"colab-df-convert\" onclick=\"convertToInteractive('df-030b0397-c0ce-418e-8624-4dbddc67c38a')\"\n",
              "              title=\"Convert this dataframe to an interactive table.\"\n",
              "              style=\"display:none;\">\n",
              "        \n",
              "  <svg xmlns=\"http://www.w3.org/2000/svg\" height=\"24px\"viewBox=\"0 0 24 24\"\n",
              "       width=\"24px\">\n",
              "    <path d=\"M0 0h24v24H0V0z\" fill=\"none\"/>\n",
              "    <path d=\"M18.56 5.44l.94 2.06.94-2.06 2.06-.94-2.06-.94-.94-2.06-.94 2.06-2.06.94zm-11 1L8.5 8.5l.94-2.06 2.06-.94-2.06-.94L8.5 2.5l-.94 2.06-2.06.94zm10 10l.94 2.06.94-2.06 2.06-.94-2.06-.94-.94-2.06-.94 2.06-2.06.94z\"/><path d=\"M17.41 7.96l-1.37-1.37c-.4-.4-.92-.59-1.43-.59-.52 0-1.04.2-1.43.59L10.3 9.45l-7.72 7.72c-.78.78-.78 2.05 0 2.83L4 21.41c.39.39.9.59 1.41.59.51 0 1.02-.2 1.41-.59l7.78-7.78 2.81-2.81c.8-.78.8-2.07 0-2.86zM5.41 20L4 18.59l7.72-7.72 1.47 1.35L5.41 20z\"/>\n",
              "  </svg>\n",
              "      </button>\n",
              "      \n",
              "  <style>\n",
              "    .colab-df-container {\n",
              "      display:flex;\n",
              "      flex-wrap:wrap;\n",
              "      gap: 12px;\n",
              "    }\n",
              "\n",
              "    .colab-df-convert {\n",
              "      background-color: #E8F0FE;\n",
              "      border: none;\n",
              "      border-radius: 50%;\n",
              "      cursor: pointer;\n",
              "      display: none;\n",
              "      fill: #1967D2;\n",
              "      height: 32px;\n",
              "      padding: 0 0 0 0;\n",
              "      width: 32px;\n",
              "    }\n",
              "\n",
              "    .colab-df-convert:hover {\n",
              "      background-color: #E2EBFA;\n",
              "      box-shadow: 0px 1px 2px rgba(60, 64, 67, 0.3), 0px 1px 3px 1px rgba(60, 64, 67, 0.15);\n",
              "      fill: #174EA6;\n",
              "    }\n",
              "\n",
              "    [theme=dark] .colab-df-convert {\n",
              "      background-color: #3B4455;\n",
              "      fill: #D2E3FC;\n",
              "    }\n",
              "\n",
              "    [theme=dark] .colab-df-convert:hover {\n",
              "      background-color: #434B5C;\n",
              "      box-shadow: 0px 1px 3px 1px rgba(0, 0, 0, 0.15);\n",
              "      filter: drop-shadow(0px 1px 2px rgba(0, 0, 0, 0.3));\n",
              "      fill: #FFFFFF;\n",
              "    }\n",
              "  </style>\n",
              "\n",
              "      <script>\n",
              "        const buttonEl =\n",
              "          document.querySelector('#df-030b0397-c0ce-418e-8624-4dbddc67c38a button.colab-df-convert');\n",
              "        buttonEl.style.display =\n",
              "          google.colab.kernel.accessAllowed ? 'block' : 'none';\n",
              "\n",
              "        async function convertToInteractive(key) {\n",
              "          const element = document.querySelector('#df-030b0397-c0ce-418e-8624-4dbddc67c38a');\n",
              "          const dataTable =\n",
              "            await google.colab.kernel.invokeFunction('convertToInteractive',\n",
              "                                                     [key], {});\n",
              "          if (!dataTable) return;\n",
              "\n",
              "          const docLinkHtml = 'Like what you see? Visit the ' +\n",
              "            '<a target=\"_blank\" href=https://colab.research.google.com/notebooks/data_table.ipynb>data table notebook</a>'\n",
              "            + ' to learn more about interactive tables.';\n",
              "          element.innerHTML = '';\n",
              "          dataTable['output_type'] = 'display_data';\n",
              "          await google.colab.output.renderOutput(dataTable, element);\n",
              "          const docLink = document.createElement('div');\n",
              "          docLink.innerHTML = docLinkHtml;\n",
              "          element.appendChild(docLink);\n",
              "        }\n",
              "      </script>\n",
              "    </div>\n",
              "  </div>\n",
              "  "
            ]
          },
          "metadata": {},
          "execution_count": 48
        }
      ]
    },
    {
      "cell_type": "code",
      "source": [
        "final_music_df.shape"
      ],
      "metadata": {
        "colab": {
          "base_uri": "https://localhost:8080/"
        },
        "id": "YkLfeL3U3HTB",
        "outputId": "b7406dba-ca78-45d7-a37c-6a3d52d26b91"
      },
      "execution_count": 49,
      "outputs": [
        {
          "output_type": "execute_result",
          "data": {
            "text/plain": [
              "(152264, 18)"
            ]
          },
          "metadata": {},
          "execution_count": 49
        }
      ]
    },
    {
      "cell_type": "code",
      "source": [
        "final_music_df.isnull().sum()"
      ],
      "metadata": {
        "id": "ITmst5xb3Md2",
        "outputId": "9d5b5092-f50c-454a-98a1-015f7e3e5fda",
        "colab": {
          "base_uri": "https://localhost:8080/"
        }
      },
      "execution_count": 50,
      "outputs": [
        {
          "output_type": "execute_result",
          "data": {
            "text/plain": [
              "overall              0\n",
              "verified             0\n",
              "reviewTime           0\n",
              "reviewerID           0\n",
              "reviewerName         0\n",
              "category             0\n",
              "description          0\n",
              "title                0\n",
              "brand                0\n",
              "feature              0\n",
              "main_cat             0\n",
              "price                0\n",
              "text                 0\n",
              "overall_sentiment    0\n",
              "neg                  0\n",
              "neu                  0\n",
              "pos                  0\n",
              "compound             0\n",
              "dtype: int64"
            ]
          },
          "metadata": {},
          "execution_count": 50
        }
      ]
    },
    {
      "cell_type": "code",
      "source": [
        "# Creating the Class column based on compound column\n",
        "final_music_df.insert(1, 'sentiment', np.nan)\n",
        "final_music_df.loc[final_music_df['compound']>=0.05, 'sentiment'] = 'positive'\n",
        "final_music_df.loc[final_music_df['compound']<=-0.05, 'sentiment'] = 'negative'\n",
        "final_music_df.loc[((final_music_df['compound'] > -0.05) & (final_music_df['compound'] < 0.05)), 'sentiment'] = 'neutral'"
      ],
      "metadata": {
        "id": "YCMMSkHsFM3D"
      },
      "execution_count": 51,
      "outputs": []
    },
    {
      "cell_type": "code",
      "source": [
        "final_music_df.head(3)"
      ],
      "metadata": {
        "colab": {
          "base_uri": "https://localhost:8080/",
          "height": 485
        },
        "id": "pslyikBAMzYw",
        "outputId": "000a9d7d-b8d3-4768-f5c8-dce4308f18db"
      },
      "execution_count": 52,
      "outputs": [
        {
          "output_type": "execute_result",
          "data": {
            "text/plain": [
              "   overall sentiment  verified reviewTime      reviewerID     reviewerName  \\\n",
              "0        5  positive     False 2007-02-14  A20DOQGG34SKR5  Richard A. Wall   \n",
              "1        5  positive      True 2014-12-14  A2XVOIUQFKHGX7           Leah N   \n",
              "2        5  positive      True 2014-10-15  A3EYX1Z1RVJQ8T   Annetta Allred   \n",
              "\n",
              "                                       category  \\\n",
              "0   Musical Instruments Instrument Accessories    \n",
              "1   Musical Instruments Instrument Accessories    \n",
              "2   Musical Instruments Instrument Accessories    \n",
              "\n",
              "                                         description  \\\n",
              "0   Journey defined 80s rock Their signature song...   \n",
              "1   Journey defined 80s rock Their signature song...   \n",
              "2   Journey defined 80s rock Their signature song...   \n",
              "\n",
              "                                 title         brand  \\\n",
              "0  Journey - Greatest Hits: Easy Piano  Alfred Music   \n",
              "1  Journey - Greatest Hits: Easy Piano  Alfred Music   \n",
              "2  Journey - Greatest Hits: Easy Piano  Alfred Music   \n",
              "\n",
              "                                             feature             main_cat  \\\n",
              "0   Category Piano Personality Book Format Book I...  Musical Instruments   \n",
              "1   Category Piano Personality Book Format Book I...  Musical Instruments   \n",
              "2   Category Piano Personality Book Format Book I...  Musical Instruments   \n",
              "\n",
              "    price                                               text  \\\n",
              "0   17.78  The expression of Journey's music comes out ve...   \n",
              "1   17.78                                Love it! Five Stars   \n",
              "2   17.78                   My daughter loves it! Five Stars   \n",
              "\n",
              "  overall_sentiment  neg    neu    pos  compound  \n",
              "0          positive  0.0  0.770  0.230    0.5840  \n",
              "1          positive  0.0  0.400  0.600    0.6696  \n",
              "2          positive  0.0  0.556  0.444    0.6114  "
            ],
            "text/html": [
              "\n",
              "  <div id=\"df-84bd9f1e-bbcb-48dd-95cd-34e0c4734193\">\n",
              "    <div class=\"colab-df-container\">\n",
              "      <div>\n",
              "<style scoped>\n",
              "    .dataframe tbody tr th:only-of-type {\n",
              "        vertical-align: middle;\n",
              "    }\n",
              "\n",
              "    .dataframe tbody tr th {\n",
              "        vertical-align: top;\n",
              "    }\n",
              "\n",
              "    .dataframe thead th {\n",
              "        text-align: right;\n",
              "    }\n",
              "</style>\n",
              "<table border=\"1\" class=\"dataframe\">\n",
              "  <thead>\n",
              "    <tr style=\"text-align: right;\">\n",
              "      <th></th>\n",
              "      <th>overall</th>\n",
              "      <th>sentiment</th>\n",
              "      <th>verified</th>\n",
              "      <th>reviewTime</th>\n",
              "      <th>reviewerID</th>\n",
              "      <th>reviewerName</th>\n",
              "      <th>category</th>\n",
              "      <th>description</th>\n",
              "      <th>title</th>\n",
              "      <th>brand</th>\n",
              "      <th>feature</th>\n",
              "      <th>main_cat</th>\n",
              "      <th>price</th>\n",
              "      <th>text</th>\n",
              "      <th>overall_sentiment</th>\n",
              "      <th>neg</th>\n",
              "      <th>neu</th>\n",
              "      <th>pos</th>\n",
              "      <th>compound</th>\n",
              "    </tr>\n",
              "  </thead>\n",
              "  <tbody>\n",
              "    <tr>\n",
              "      <th>0</th>\n",
              "      <td>5</td>\n",
              "      <td>positive</td>\n",
              "      <td>False</td>\n",
              "      <td>2007-02-14</td>\n",
              "      <td>A20DOQGG34SKR5</td>\n",
              "      <td>Richard A. Wall</td>\n",
              "      <td>Musical Instruments Instrument Accessories</td>\n",
              "      <td>Journey defined 80s rock Their signature song...</td>\n",
              "      <td>Journey - Greatest Hits: Easy Piano</td>\n",
              "      <td>Alfred Music</td>\n",
              "      <td>Category Piano Personality Book Format Book I...</td>\n",
              "      <td>Musical Instruments</td>\n",
              "      <td>17.78</td>\n",
              "      <td>The expression of Journey's music comes out ve...</td>\n",
              "      <td>positive</td>\n",
              "      <td>0.0</td>\n",
              "      <td>0.770</td>\n",
              "      <td>0.230</td>\n",
              "      <td>0.5840</td>\n",
              "    </tr>\n",
              "    <tr>\n",
              "      <th>1</th>\n",
              "      <td>5</td>\n",
              "      <td>positive</td>\n",
              "      <td>True</td>\n",
              "      <td>2014-12-14</td>\n",
              "      <td>A2XVOIUQFKHGX7</td>\n",
              "      <td>Leah N</td>\n",
              "      <td>Musical Instruments Instrument Accessories</td>\n",
              "      <td>Journey defined 80s rock Their signature song...</td>\n",
              "      <td>Journey - Greatest Hits: Easy Piano</td>\n",
              "      <td>Alfred Music</td>\n",
              "      <td>Category Piano Personality Book Format Book I...</td>\n",
              "      <td>Musical Instruments</td>\n",
              "      <td>17.78</td>\n",
              "      <td>Love it! Five Stars</td>\n",
              "      <td>positive</td>\n",
              "      <td>0.0</td>\n",
              "      <td>0.400</td>\n",
              "      <td>0.600</td>\n",
              "      <td>0.6696</td>\n",
              "    </tr>\n",
              "    <tr>\n",
              "      <th>2</th>\n",
              "      <td>5</td>\n",
              "      <td>positive</td>\n",
              "      <td>True</td>\n",
              "      <td>2014-10-15</td>\n",
              "      <td>A3EYX1Z1RVJQ8T</td>\n",
              "      <td>Annetta Allred</td>\n",
              "      <td>Musical Instruments Instrument Accessories</td>\n",
              "      <td>Journey defined 80s rock Their signature song...</td>\n",
              "      <td>Journey - Greatest Hits: Easy Piano</td>\n",
              "      <td>Alfred Music</td>\n",
              "      <td>Category Piano Personality Book Format Book I...</td>\n",
              "      <td>Musical Instruments</td>\n",
              "      <td>17.78</td>\n",
              "      <td>My daughter loves it! Five Stars</td>\n",
              "      <td>positive</td>\n",
              "      <td>0.0</td>\n",
              "      <td>0.556</td>\n",
              "      <td>0.444</td>\n",
              "      <td>0.6114</td>\n",
              "    </tr>\n",
              "  </tbody>\n",
              "</table>\n",
              "</div>\n",
              "      <button class=\"colab-df-convert\" onclick=\"convertToInteractive('df-84bd9f1e-bbcb-48dd-95cd-34e0c4734193')\"\n",
              "              title=\"Convert this dataframe to an interactive table.\"\n",
              "              style=\"display:none;\">\n",
              "        \n",
              "  <svg xmlns=\"http://www.w3.org/2000/svg\" height=\"24px\"viewBox=\"0 0 24 24\"\n",
              "       width=\"24px\">\n",
              "    <path d=\"M0 0h24v24H0V0z\" fill=\"none\"/>\n",
              "    <path d=\"M18.56 5.44l.94 2.06.94-2.06 2.06-.94-2.06-.94-.94-2.06-.94 2.06-2.06.94zm-11 1L8.5 8.5l.94-2.06 2.06-.94-2.06-.94L8.5 2.5l-.94 2.06-2.06.94zm10 10l.94 2.06.94-2.06 2.06-.94-2.06-.94-.94-2.06-.94 2.06-2.06.94z\"/><path d=\"M17.41 7.96l-1.37-1.37c-.4-.4-.92-.59-1.43-.59-.52 0-1.04.2-1.43.59L10.3 9.45l-7.72 7.72c-.78.78-.78 2.05 0 2.83L4 21.41c.39.39.9.59 1.41.59.51 0 1.02-.2 1.41-.59l7.78-7.78 2.81-2.81c.8-.78.8-2.07 0-2.86zM5.41 20L4 18.59l7.72-7.72 1.47 1.35L5.41 20z\"/>\n",
              "  </svg>\n",
              "      </button>\n",
              "      \n",
              "  <style>\n",
              "    .colab-df-container {\n",
              "      display:flex;\n",
              "      flex-wrap:wrap;\n",
              "      gap: 12px;\n",
              "    }\n",
              "\n",
              "    .colab-df-convert {\n",
              "      background-color: #E8F0FE;\n",
              "      border: none;\n",
              "      border-radius: 50%;\n",
              "      cursor: pointer;\n",
              "      display: none;\n",
              "      fill: #1967D2;\n",
              "      height: 32px;\n",
              "      padding: 0 0 0 0;\n",
              "      width: 32px;\n",
              "    }\n",
              "\n",
              "    .colab-df-convert:hover {\n",
              "      background-color: #E2EBFA;\n",
              "      box-shadow: 0px 1px 2px rgba(60, 64, 67, 0.3), 0px 1px 3px 1px rgba(60, 64, 67, 0.15);\n",
              "      fill: #174EA6;\n",
              "    }\n",
              "\n",
              "    [theme=dark] .colab-df-convert {\n",
              "      background-color: #3B4455;\n",
              "      fill: #D2E3FC;\n",
              "    }\n",
              "\n",
              "    [theme=dark] .colab-df-convert:hover {\n",
              "      background-color: #434B5C;\n",
              "      box-shadow: 0px 1px 3px 1px rgba(0, 0, 0, 0.15);\n",
              "      filter: drop-shadow(0px 1px 2px rgba(0, 0, 0, 0.3));\n",
              "      fill: #FFFFFF;\n",
              "    }\n",
              "  </style>\n",
              "\n",
              "      <script>\n",
              "        const buttonEl =\n",
              "          document.querySelector('#df-84bd9f1e-bbcb-48dd-95cd-34e0c4734193 button.colab-df-convert');\n",
              "        buttonEl.style.display =\n",
              "          google.colab.kernel.accessAllowed ? 'block' : 'none';\n",
              "\n",
              "        async function convertToInteractive(key) {\n",
              "          const element = document.querySelector('#df-84bd9f1e-bbcb-48dd-95cd-34e0c4734193');\n",
              "          const dataTable =\n",
              "            await google.colab.kernel.invokeFunction('convertToInteractive',\n",
              "                                                     [key], {});\n",
              "          if (!dataTable) return;\n",
              "\n",
              "          const docLinkHtml = 'Like what you see? Visit the ' +\n",
              "            '<a target=\"_blank\" href=https://colab.research.google.com/notebooks/data_table.ipynb>data table notebook</a>'\n",
              "            + ' to learn more about interactive tables.';\n",
              "          element.innerHTML = '';\n",
              "          dataTable['output_type'] = 'display_data';\n",
              "          await google.colab.output.renderOutput(dataTable, element);\n",
              "          const docLink = document.createElement('div');\n",
              "          docLink.innerHTML = docLinkHtml;\n",
              "          element.appendChild(docLink);\n",
              "        }\n",
              "      </script>\n",
              "    </div>\n",
              "  </div>\n",
              "  "
            ]
          },
          "metadata": {},
          "execution_count": 52
        }
      ]
    },
    {
      "cell_type": "markdown",
      "source": [
        "## Conclusion of VADER sentiment:"
      ],
      "metadata": {
        "id": "6fabYF5hlZ3-"
      }
    },
    {
      "cell_type": "markdown",
      "source": [
        "VADER (Valence Aware Dictionary for Sentiment Reasoning) is a powerful model used for text sentiment analysis that takes into account both polarity (positive/negative) and intensity (strength) of emotion. In this approach, we are using VADER sentiment analysis to analyze the sentiment of Amazon product reviews.\n",
        "\n",
        "To get started, we call the sentiment intensity analyzer provided by the VADER model and fit the data to it. This step results in a polarity score for each row in the data, indicating the sentiment polarity of that particular review.\n",
        "\n",
        "Next, we calculate the compound score for each review by summing up the intensity of each word in the text. This score ranges from -1 to 1 and indicates the overall sentiment of the review.\n",
        "\n",
        "We then add a new column \"SENTIMENT\" to the existing dataframe, where each review is classified as either positive, negative or neutral. If the compound score is greater than or equal to 0.05, it is considered as a positive review. Conversely, if the compound score is less than or equal to -0.05, it is considered as a negative review. If the compound score falls between -0.05 to 0.05, it is considered as a neutral review.\n",
        "\n",
        "This approach to sentiment analysis can be helpful in gaining insights into the sentiment of Amazon product reviews, which in turn can aid in making informed decisions regarding product improvements or marketing strategies. By understanding the sentiment of customer reviews, businesses can address the concerns of their customers and enhance their product offerings, ultimately leading to greater customer satisfaction and loyalty.\n",
        "\n",
        "\n",
        "\n"
      ],
      "metadata": {
        "id": "fX2rS-Xjle6V"
      }
    },
    {
      "cell_type": "markdown",
      "source": [
        "### Downloading the Updated datafile "
      ],
      "metadata": {
        "id": "qHdOHGwI1cYY"
      }
    },
    {
      "cell_type": "code",
      "source": [
        "#final_music_df.to_csv(\"Final_Musical_File.csv\",index=False)"
      ],
      "metadata": {
        "id": "UvmfBq5s1Ysa"
      },
      "execution_count": 53,
      "outputs": []
    },
    {
      "cell_type": "markdown",
      "source": [
        "### Load the Updated dataset"
      ],
      "metadata": {
        "id": "cjOlvSnQ1a_I"
      }
    },
    {
      "cell_type": "code",
      "source": [
        "final_music_df = pd.read_csv('/content/drive/MyDrive/Final_Musical_File.csv')"
      ],
      "metadata": {
        "id": "TMjIct6S1b2E"
      },
      "execution_count": 58,
      "outputs": []
    },
    {
      "cell_type": "markdown",
      "metadata": {
        "id": "2vCwuama3jOZ"
      },
      "source": [
        "## Building a NLP Model using Multinominal naive bayes :"
      ]
    },
    {
      "cell_type": "code",
      "execution_count": 59,
      "metadata": {
        "id": "d1C2fWZy1O0I"
      },
      "outputs": [],
      "source": [
        "X = final_music_df['text']\n",
        "y = final_music_df['sentiment']"
      ]
    },
    {
      "cell_type": "code",
      "execution_count": 60,
      "metadata": {
        "id": "5FXN-Dbt20uP"
      },
      "outputs": [],
      "source": [
        "def model_multinomial(X,y):\n",
        "    xtrain,xtest,ytrain,ytest=train_test_split(X,y,random_state=13)\n",
        "    TFIDF = TfidfVectorizer(stop_words=stopwords.words('english'))\n",
        "    xtrain=TFIDF.fit_transform(xtrain)\n",
        "    xtest=TFIDF.transform(xtest)\n",
        "    model=MultinomialNB()\n",
        "    model.fit(xtrain,ytrain)\n",
        "    ypred=model.predict(xtest)\n",
        "    matrix=confusion_matrix(ypred,ytest)\n",
        "    report=classification_report(ytest, ypred)\n",
        "    table=pd.DataFrame({'Ypred':ypred,'Ytest':ytest})\n",
        "    return report,matrix,table"
      ]
    },
    {
      "cell_type": "code",
      "execution_count": 61,
      "metadata": {
        "colab": {
          "base_uri": "https://localhost:8080/",
          "height": 1000
        },
        "id": "IVhu-FFO3NOm",
        "outputId": "d7cbe56d-a084-46b4-8920-135e3b84656a"
      },
      "outputs": [
        {
          "output_type": "stream",
          "name": "stdout",
          "text": [
            "Report\n",
            "              precision    recall  f1-score   support\n",
            "\n",
            "    negative       0.97      0.01      0.02      3398\n",
            "     neutral       0.67      0.02      0.04      2569\n",
            "    positive       0.85      1.00      0.92     32099\n",
            "\n",
            "    accuracy                           0.85     38066\n",
            "   macro avg       0.83      0.34      0.33     38066\n",
            "weighted avg       0.84      0.85      0.78     38066\n",
            "\n",
            "Confusion Matrix\n",
            "\n",
            "[[   31     1     0]\n",
            " [   11    57    17]\n",
            " [ 3356  2511 32082]]\n",
            "\n",
            "Classification report\n"
          ]
        },
        {
          "output_type": "execute_result",
          "data": {
            "text/plain": [
              "           Ypred     Ytest\n",
              "112753  positive  negative\n",
              "44635   positive  negative\n",
              "131812  positive  positive\n",
              "136247  positive   neutral\n",
              "96180   positive  positive\n",
              "22108   positive  positive\n",
              "122388  positive  positive\n",
              "120431  positive  positive\n",
              "48235   positive  positive\n",
              "75244   positive  positive\n",
              "42317   positive  positive\n",
              "25314   positive  positive\n",
              "85772   positive  positive\n",
              "86561   positive  positive\n",
              "28571   positive   neutral\n",
              "73543   positive  positive\n",
              "33147   positive  positive\n",
              "39430   positive  positive\n",
              "143522  positive  positive\n",
              "137859  positive  positive\n",
              "110802  positive  positive\n",
              "99542   positive  positive\n",
              "2853    positive  positive\n",
              "21178   positive  positive\n",
              "65961   positive  positive\n",
              "9291    positive  positive\n",
              "61999   positive  positive\n",
              "33886   positive  positive\n",
              "63117   positive  positive\n",
              "74621   positive  negative"
            ],
            "text/html": [
              "\n",
              "  <div id=\"df-7876ca17-1ab6-4909-9610-f5ed10beec06\">\n",
              "    <div class=\"colab-df-container\">\n",
              "      <div>\n",
              "<style scoped>\n",
              "    .dataframe tbody tr th:only-of-type {\n",
              "        vertical-align: middle;\n",
              "    }\n",
              "\n",
              "    .dataframe tbody tr th {\n",
              "        vertical-align: top;\n",
              "    }\n",
              "\n",
              "    .dataframe thead th {\n",
              "        text-align: right;\n",
              "    }\n",
              "</style>\n",
              "<table border=\"1\" class=\"dataframe\">\n",
              "  <thead>\n",
              "    <tr style=\"text-align: right;\">\n",
              "      <th></th>\n",
              "      <th>Ypred</th>\n",
              "      <th>Ytest</th>\n",
              "    </tr>\n",
              "  </thead>\n",
              "  <tbody>\n",
              "    <tr>\n",
              "      <th>112753</th>\n",
              "      <td>positive</td>\n",
              "      <td>negative</td>\n",
              "    </tr>\n",
              "    <tr>\n",
              "      <th>44635</th>\n",
              "      <td>positive</td>\n",
              "      <td>negative</td>\n",
              "    </tr>\n",
              "    <tr>\n",
              "      <th>131812</th>\n",
              "      <td>positive</td>\n",
              "      <td>positive</td>\n",
              "    </tr>\n",
              "    <tr>\n",
              "      <th>136247</th>\n",
              "      <td>positive</td>\n",
              "      <td>neutral</td>\n",
              "    </tr>\n",
              "    <tr>\n",
              "      <th>96180</th>\n",
              "      <td>positive</td>\n",
              "      <td>positive</td>\n",
              "    </tr>\n",
              "    <tr>\n",
              "      <th>22108</th>\n",
              "      <td>positive</td>\n",
              "      <td>positive</td>\n",
              "    </tr>\n",
              "    <tr>\n",
              "      <th>122388</th>\n",
              "      <td>positive</td>\n",
              "      <td>positive</td>\n",
              "    </tr>\n",
              "    <tr>\n",
              "      <th>120431</th>\n",
              "      <td>positive</td>\n",
              "      <td>positive</td>\n",
              "    </tr>\n",
              "    <tr>\n",
              "      <th>48235</th>\n",
              "      <td>positive</td>\n",
              "      <td>positive</td>\n",
              "    </tr>\n",
              "    <tr>\n",
              "      <th>75244</th>\n",
              "      <td>positive</td>\n",
              "      <td>positive</td>\n",
              "    </tr>\n",
              "    <tr>\n",
              "      <th>42317</th>\n",
              "      <td>positive</td>\n",
              "      <td>positive</td>\n",
              "    </tr>\n",
              "    <tr>\n",
              "      <th>25314</th>\n",
              "      <td>positive</td>\n",
              "      <td>positive</td>\n",
              "    </tr>\n",
              "    <tr>\n",
              "      <th>85772</th>\n",
              "      <td>positive</td>\n",
              "      <td>positive</td>\n",
              "    </tr>\n",
              "    <tr>\n",
              "      <th>86561</th>\n",
              "      <td>positive</td>\n",
              "      <td>positive</td>\n",
              "    </tr>\n",
              "    <tr>\n",
              "      <th>28571</th>\n",
              "      <td>positive</td>\n",
              "      <td>neutral</td>\n",
              "    </tr>\n",
              "    <tr>\n",
              "      <th>73543</th>\n",
              "      <td>positive</td>\n",
              "      <td>positive</td>\n",
              "    </tr>\n",
              "    <tr>\n",
              "      <th>33147</th>\n",
              "      <td>positive</td>\n",
              "      <td>positive</td>\n",
              "    </tr>\n",
              "    <tr>\n",
              "      <th>39430</th>\n",
              "      <td>positive</td>\n",
              "      <td>positive</td>\n",
              "    </tr>\n",
              "    <tr>\n",
              "      <th>143522</th>\n",
              "      <td>positive</td>\n",
              "      <td>positive</td>\n",
              "    </tr>\n",
              "    <tr>\n",
              "      <th>137859</th>\n",
              "      <td>positive</td>\n",
              "      <td>positive</td>\n",
              "    </tr>\n",
              "    <tr>\n",
              "      <th>110802</th>\n",
              "      <td>positive</td>\n",
              "      <td>positive</td>\n",
              "    </tr>\n",
              "    <tr>\n",
              "      <th>99542</th>\n",
              "      <td>positive</td>\n",
              "      <td>positive</td>\n",
              "    </tr>\n",
              "    <tr>\n",
              "      <th>2853</th>\n",
              "      <td>positive</td>\n",
              "      <td>positive</td>\n",
              "    </tr>\n",
              "    <tr>\n",
              "      <th>21178</th>\n",
              "      <td>positive</td>\n",
              "      <td>positive</td>\n",
              "    </tr>\n",
              "    <tr>\n",
              "      <th>65961</th>\n",
              "      <td>positive</td>\n",
              "      <td>positive</td>\n",
              "    </tr>\n",
              "    <tr>\n",
              "      <th>9291</th>\n",
              "      <td>positive</td>\n",
              "      <td>positive</td>\n",
              "    </tr>\n",
              "    <tr>\n",
              "      <th>61999</th>\n",
              "      <td>positive</td>\n",
              "      <td>positive</td>\n",
              "    </tr>\n",
              "    <tr>\n",
              "      <th>33886</th>\n",
              "      <td>positive</td>\n",
              "      <td>positive</td>\n",
              "    </tr>\n",
              "    <tr>\n",
              "      <th>63117</th>\n",
              "      <td>positive</td>\n",
              "      <td>positive</td>\n",
              "    </tr>\n",
              "    <tr>\n",
              "      <th>74621</th>\n",
              "      <td>positive</td>\n",
              "      <td>negative</td>\n",
              "    </tr>\n",
              "  </tbody>\n",
              "</table>\n",
              "</div>\n",
              "      <button class=\"colab-df-convert\" onclick=\"convertToInteractive('df-7876ca17-1ab6-4909-9610-f5ed10beec06')\"\n",
              "              title=\"Convert this dataframe to an interactive table.\"\n",
              "              style=\"display:none;\">\n",
              "        \n",
              "  <svg xmlns=\"http://www.w3.org/2000/svg\" height=\"24px\"viewBox=\"0 0 24 24\"\n",
              "       width=\"24px\">\n",
              "    <path d=\"M0 0h24v24H0V0z\" fill=\"none\"/>\n",
              "    <path d=\"M18.56 5.44l.94 2.06.94-2.06 2.06-.94-2.06-.94-.94-2.06-.94 2.06-2.06.94zm-11 1L8.5 8.5l.94-2.06 2.06-.94-2.06-.94L8.5 2.5l-.94 2.06-2.06.94zm10 10l.94 2.06.94-2.06 2.06-.94-2.06-.94-.94-2.06-.94 2.06-2.06.94z\"/><path d=\"M17.41 7.96l-1.37-1.37c-.4-.4-.92-.59-1.43-.59-.52 0-1.04.2-1.43.59L10.3 9.45l-7.72 7.72c-.78.78-.78 2.05 0 2.83L4 21.41c.39.39.9.59 1.41.59.51 0 1.02-.2 1.41-.59l7.78-7.78 2.81-2.81c.8-.78.8-2.07 0-2.86zM5.41 20L4 18.59l7.72-7.72 1.47 1.35L5.41 20z\"/>\n",
              "  </svg>\n",
              "      </button>\n",
              "      \n",
              "  <style>\n",
              "    .colab-df-container {\n",
              "      display:flex;\n",
              "      flex-wrap:wrap;\n",
              "      gap: 12px;\n",
              "    }\n",
              "\n",
              "    .colab-df-convert {\n",
              "      background-color: #E8F0FE;\n",
              "      border: none;\n",
              "      border-radius: 50%;\n",
              "      cursor: pointer;\n",
              "      display: none;\n",
              "      fill: #1967D2;\n",
              "      height: 32px;\n",
              "      padding: 0 0 0 0;\n",
              "      width: 32px;\n",
              "    }\n",
              "\n",
              "    .colab-df-convert:hover {\n",
              "      background-color: #E2EBFA;\n",
              "      box-shadow: 0px 1px 2px rgba(60, 64, 67, 0.3), 0px 1px 3px 1px rgba(60, 64, 67, 0.15);\n",
              "      fill: #174EA6;\n",
              "    }\n",
              "\n",
              "    [theme=dark] .colab-df-convert {\n",
              "      background-color: #3B4455;\n",
              "      fill: #D2E3FC;\n",
              "    }\n",
              "\n",
              "    [theme=dark] .colab-df-convert:hover {\n",
              "      background-color: #434B5C;\n",
              "      box-shadow: 0px 1px 3px 1px rgba(0, 0, 0, 0.15);\n",
              "      filter: drop-shadow(0px 1px 2px rgba(0, 0, 0, 0.3));\n",
              "      fill: #FFFFFF;\n",
              "    }\n",
              "  </style>\n",
              "\n",
              "      <script>\n",
              "        const buttonEl =\n",
              "          document.querySelector('#df-7876ca17-1ab6-4909-9610-f5ed10beec06 button.colab-df-convert');\n",
              "        buttonEl.style.display =\n",
              "          google.colab.kernel.accessAllowed ? 'block' : 'none';\n",
              "\n",
              "        async function convertToInteractive(key) {\n",
              "          const element = document.querySelector('#df-7876ca17-1ab6-4909-9610-f5ed10beec06');\n",
              "          const dataTable =\n",
              "            await google.colab.kernel.invokeFunction('convertToInteractive',\n",
              "                                                     [key], {});\n",
              "          if (!dataTable) return;\n",
              "\n",
              "          const docLinkHtml = 'Like what you see? Visit the ' +\n",
              "            '<a target=\"_blank\" href=https://colab.research.google.com/notebooks/data_table.ipynb>data table notebook</a>'\n",
              "            + ' to learn more about interactive tables.';\n",
              "          element.innerHTML = '';\n",
              "          dataTable['output_type'] = 'display_data';\n",
              "          await google.colab.output.renderOutput(dataTable, element);\n",
              "          const docLink = document.createElement('div');\n",
              "          docLink.innerHTML = docLinkHtml;\n",
              "          element.appendChild(docLink);\n",
              "        }\n",
              "      </script>\n",
              "    </div>\n",
              "  </div>\n",
              "  "
            ]
          },
          "metadata": {},
          "execution_count": 61
        }
      ],
      "source": [
        "report,matrix,table=model_multinomial(X,y)\n",
        "print('Report')\n",
        "print(report)\n",
        "\n",
        "print('Confusion Matrix')\n",
        "\n",
        "print()\n",
        "print(matrix)\n",
        "\n",
        "print()\n",
        "print('Classification report')\n",
        "\n",
        "table[:30]"
      ]
    },
    {
      "cell_type": "markdown",
      "metadata": {
        "id": "CDtUX_oW3wqw"
      },
      "source": [
        "## Building a NLP Model using OVR Classifier :"
      ]
    },
    {
      "cell_type": "code",
      "execution_count": 62,
      "metadata": {
        "id": "C-xriXJ_3S9f"
      },
      "outputs": [],
      "source": [
        "def model_OVRclassifier(X,y):\n",
        "    x_train,x_test,y_train,y_test = train_test_split(X,y,test_size=0.2,random_state=42)\n",
        "    vectorizer = TfidfVectorizer(stop_words=stopwords.words('english'))\n",
        "    le = LabelEncoder()\n",
        "    x_train = vectorizer.fit_transform(x_train)\n",
        "    x_test = vectorizer.transform(x_test)\n",
        "    y_train = le.fit_transform(y_train)\n",
        "    y_test = le.fit_transform(y_test)\n",
        "    \n",
        "    lr = LogisticRegression(max_iter=200,verbose=1)\n",
        "    ovr = OneVsRestClassifier(lr)\n",
        "    ovr.fit(x_train,y_train)\n",
        "    y_pred = ovr.predict(x_test)\n",
        "    report = classification_report(y_test, y_pred)\n",
        "    matrix = confusion_matrix(y_test, y_pred)\n",
        "    table1=pd.DataFrame({'Ypred':y_pred,'Ytest':y_test})\n",
        "    return report,matrix,table1"
      ]
    },
    {
      "cell_type": "code",
      "execution_count": 63,
      "metadata": {
        "colab": {
          "base_uri": "https://localhost:8080/",
          "height": 1000
        },
        "id": "cTmZ4LR94WLO",
        "outputId": "bb23e041-4bc2-43cb-9386-7cc2a6f88fe5"
      },
      "outputs": [
        {
          "output_type": "stream",
          "name": "stderr",
          "text": [
            "[Parallel(n_jobs=1)]: Using backend SequentialBackend with 1 concurrent workers.\n",
            "[Parallel(n_jobs=1)]: Done   1 out of   1 | elapsed:    7.5s finished\n",
            "[Parallel(n_jobs=1)]: Using backend SequentialBackend with 1 concurrent workers.\n",
            "[Parallel(n_jobs=1)]: Done   1 out of   1 | elapsed:    3.7s finished\n",
            "[Parallel(n_jobs=1)]: Using backend SequentialBackend with 1 concurrent workers.\n"
          ]
        },
        {
          "output_type": "stream",
          "name": "stdout",
          "text": [
            "Report\n",
            "              precision    recall  f1-score   support\n",
            "\n",
            "           0       0.81      0.45      0.58      2749\n",
            "           1       0.90      0.67      0.76      2024\n",
            "           2       0.93      0.99      0.96     25680\n",
            "\n",
            "    accuracy                           0.92     30453\n",
            "   macro avg       0.88      0.70      0.77     30453\n",
            "weighted avg       0.91      0.92      0.91     30453\n",
            "\n",
            "Confusion Matrix\n",
            "\n",
            "[[ 1237    98  1414]\n",
            " [   81  1346   597]\n",
            " [  218    58 25404]]\n",
            "\n",
            "Classification report\n"
          ]
        },
        {
          "output_type": "stream",
          "name": "stderr",
          "text": [
            "[Parallel(n_jobs=1)]: Done   1 out of   1 | elapsed:    7.3s finished\n"
          ]
        },
        {
          "output_type": "execute_result",
          "data": {
            "text/plain": [
              "    Ypred  Ytest\n",
              "0       2      2\n",
              "1       2      2\n",
              "2       2      2\n",
              "3       2      2\n",
              "4       0      2\n",
              "5       2      2\n",
              "6       1      1\n",
              "7       0      0\n",
              "8       2      2\n",
              "9       2      2\n",
              "10      2      2\n",
              "11      2      2\n",
              "12      2      2\n",
              "13      2      2\n",
              "14      2      2\n",
              "15      2      2\n",
              "16      2      2\n",
              "17      2      2\n",
              "18      2      2\n",
              "19      2      2\n",
              "20      2      2\n",
              "21      2      2\n",
              "22      2      2\n",
              "23      2      2\n",
              "24      2      2\n",
              "25      2      2\n",
              "26      0      0\n",
              "27      2      2\n",
              "28      2      2\n",
              "29      2      2"
            ],
            "text/html": [
              "\n",
              "  <div id=\"df-53ee4303-301d-4499-8e1e-83eb39a5d705\">\n",
              "    <div class=\"colab-df-container\">\n",
              "      <div>\n",
              "<style scoped>\n",
              "    .dataframe tbody tr th:only-of-type {\n",
              "        vertical-align: middle;\n",
              "    }\n",
              "\n",
              "    .dataframe tbody tr th {\n",
              "        vertical-align: top;\n",
              "    }\n",
              "\n",
              "    .dataframe thead th {\n",
              "        text-align: right;\n",
              "    }\n",
              "</style>\n",
              "<table border=\"1\" class=\"dataframe\">\n",
              "  <thead>\n",
              "    <tr style=\"text-align: right;\">\n",
              "      <th></th>\n",
              "      <th>Ypred</th>\n",
              "      <th>Ytest</th>\n",
              "    </tr>\n",
              "  </thead>\n",
              "  <tbody>\n",
              "    <tr>\n",
              "      <th>0</th>\n",
              "      <td>2</td>\n",
              "      <td>2</td>\n",
              "    </tr>\n",
              "    <tr>\n",
              "      <th>1</th>\n",
              "      <td>2</td>\n",
              "      <td>2</td>\n",
              "    </tr>\n",
              "    <tr>\n",
              "      <th>2</th>\n",
              "      <td>2</td>\n",
              "      <td>2</td>\n",
              "    </tr>\n",
              "    <tr>\n",
              "      <th>3</th>\n",
              "      <td>2</td>\n",
              "      <td>2</td>\n",
              "    </tr>\n",
              "    <tr>\n",
              "      <th>4</th>\n",
              "      <td>0</td>\n",
              "      <td>2</td>\n",
              "    </tr>\n",
              "    <tr>\n",
              "      <th>5</th>\n",
              "      <td>2</td>\n",
              "      <td>2</td>\n",
              "    </tr>\n",
              "    <tr>\n",
              "      <th>6</th>\n",
              "      <td>1</td>\n",
              "      <td>1</td>\n",
              "    </tr>\n",
              "    <tr>\n",
              "      <th>7</th>\n",
              "      <td>0</td>\n",
              "      <td>0</td>\n",
              "    </tr>\n",
              "    <tr>\n",
              "      <th>8</th>\n",
              "      <td>2</td>\n",
              "      <td>2</td>\n",
              "    </tr>\n",
              "    <tr>\n",
              "      <th>9</th>\n",
              "      <td>2</td>\n",
              "      <td>2</td>\n",
              "    </tr>\n",
              "    <tr>\n",
              "      <th>10</th>\n",
              "      <td>2</td>\n",
              "      <td>2</td>\n",
              "    </tr>\n",
              "    <tr>\n",
              "      <th>11</th>\n",
              "      <td>2</td>\n",
              "      <td>2</td>\n",
              "    </tr>\n",
              "    <tr>\n",
              "      <th>12</th>\n",
              "      <td>2</td>\n",
              "      <td>2</td>\n",
              "    </tr>\n",
              "    <tr>\n",
              "      <th>13</th>\n",
              "      <td>2</td>\n",
              "      <td>2</td>\n",
              "    </tr>\n",
              "    <tr>\n",
              "      <th>14</th>\n",
              "      <td>2</td>\n",
              "      <td>2</td>\n",
              "    </tr>\n",
              "    <tr>\n",
              "      <th>15</th>\n",
              "      <td>2</td>\n",
              "      <td>2</td>\n",
              "    </tr>\n",
              "    <tr>\n",
              "      <th>16</th>\n",
              "      <td>2</td>\n",
              "      <td>2</td>\n",
              "    </tr>\n",
              "    <tr>\n",
              "      <th>17</th>\n",
              "      <td>2</td>\n",
              "      <td>2</td>\n",
              "    </tr>\n",
              "    <tr>\n",
              "      <th>18</th>\n",
              "      <td>2</td>\n",
              "      <td>2</td>\n",
              "    </tr>\n",
              "    <tr>\n",
              "      <th>19</th>\n",
              "      <td>2</td>\n",
              "      <td>2</td>\n",
              "    </tr>\n",
              "    <tr>\n",
              "      <th>20</th>\n",
              "      <td>2</td>\n",
              "      <td>2</td>\n",
              "    </tr>\n",
              "    <tr>\n",
              "      <th>21</th>\n",
              "      <td>2</td>\n",
              "      <td>2</td>\n",
              "    </tr>\n",
              "    <tr>\n",
              "      <th>22</th>\n",
              "      <td>2</td>\n",
              "      <td>2</td>\n",
              "    </tr>\n",
              "    <tr>\n",
              "      <th>23</th>\n",
              "      <td>2</td>\n",
              "      <td>2</td>\n",
              "    </tr>\n",
              "    <tr>\n",
              "      <th>24</th>\n",
              "      <td>2</td>\n",
              "      <td>2</td>\n",
              "    </tr>\n",
              "    <tr>\n",
              "      <th>25</th>\n",
              "      <td>2</td>\n",
              "      <td>2</td>\n",
              "    </tr>\n",
              "    <tr>\n",
              "      <th>26</th>\n",
              "      <td>0</td>\n",
              "      <td>0</td>\n",
              "    </tr>\n",
              "    <tr>\n",
              "      <th>27</th>\n",
              "      <td>2</td>\n",
              "      <td>2</td>\n",
              "    </tr>\n",
              "    <tr>\n",
              "      <th>28</th>\n",
              "      <td>2</td>\n",
              "      <td>2</td>\n",
              "    </tr>\n",
              "    <tr>\n",
              "      <th>29</th>\n",
              "      <td>2</td>\n",
              "      <td>2</td>\n",
              "    </tr>\n",
              "  </tbody>\n",
              "</table>\n",
              "</div>\n",
              "      <button class=\"colab-df-convert\" onclick=\"convertToInteractive('df-53ee4303-301d-4499-8e1e-83eb39a5d705')\"\n",
              "              title=\"Convert this dataframe to an interactive table.\"\n",
              "              style=\"display:none;\">\n",
              "        \n",
              "  <svg xmlns=\"http://www.w3.org/2000/svg\" height=\"24px\"viewBox=\"0 0 24 24\"\n",
              "       width=\"24px\">\n",
              "    <path d=\"M0 0h24v24H0V0z\" fill=\"none\"/>\n",
              "    <path d=\"M18.56 5.44l.94 2.06.94-2.06 2.06-.94-2.06-.94-.94-2.06-.94 2.06-2.06.94zm-11 1L8.5 8.5l.94-2.06 2.06-.94-2.06-.94L8.5 2.5l-.94 2.06-2.06.94zm10 10l.94 2.06.94-2.06 2.06-.94-2.06-.94-.94-2.06-.94 2.06-2.06.94z\"/><path d=\"M17.41 7.96l-1.37-1.37c-.4-.4-.92-.59-1.43-.59-.52 0-1.04.2-1.43.59L10.3 9.45l-7.72 7.72c-.78.78-.78 2.05 0 2.83L4 21.41c.39.39.9.59 1.41.59.51 0 1.02-.2 1.41-.59l7.78-7.78 2.81-2.81c.8-.78.8-2.07 0-2.86zM5.41 20L4 18.59l7.72-7.72 1.47 1.35L5.41 20z\"/>\n",
              "  </svg>\n",
              "      </button>\n",
              "      \n",
              "  <style>\n",
              "    .colab-df-container {\n",
              "      display:flex;\n",
              "      flex-wrap:wrap;\n",
              "      gap: 12px;\n",
              "    }\n",
              "\n",
              "    .colab-df-convert {\n",
              "      background-color: #E8F0FE;\n",
              "      border: none;\n",
              "      border-radius: 50%;\n",
              "      cursor: pointer;\n",
              "      display: none;\n",
              "      fill: #1967D2;\n",
              "      height: 32px;\n",
              "      padding: 0 0 0 0;\n",
              "      width: 32px;\n",
              "    }\n",
              "\n",
              "    .colab-df-convert:hover {\n",
              "      background-color: #E2EBFA;\n",
              "      box-shadow: 0px 1px 2px rgba(60, 64, 67, 0.3), 0px 1px 3px 1px rgba(60, 64, 67, 0.15);\n",
              "      fill: #174EA6;\n",
              "    }\n",
              "\n",
              "    [theme=dark] .colab-df-convert {\n",
              "      background-color: #3B4455;\n",
              "      fill: #D2E3FC;\n",
              "    }\n",
              "\n",
              "    [theme=dark] .colab-df-convert:hover {\n",
              "      background-color: #434B5C;\n",
              "      box-shadow: 0px 1px 3px 1px rgba(0, 0, 0, 0.15);\n",
              "      filter: drop-shadow(0px 1px 2px rgba(0, 0, 0, 0.3));\n",
              "      fill: #FFFFFF;\n",
              "    }\n",
              "  </style>\n",
              "\n",
              "      <script>\n",
              "        const buttonEl =\n",
              "          document.querySelector('#df-53ee4303-301d-4499-8e1e-83eb39a5d705 button.colab-df-convert');\n",
              "        buttonEl.style.display =\n",
              "          google.colab.kernel.accessAllowed ? 'block' : 'none';\n",
              "\n",
              "        async function convertToInteractive(key) {\n",
              "          const element = document.querySelector('#df-53ee4303-301d-4499-8e1e-83eb39a5d705');\n",
              "          const dataTable =\n",
              "            await google.colab.kernel.invokeFunction('convertToInteractive',\n",
              "                                                     [key], {});\n",
              "          if (!dataTable) return;\n",
              "\n",
              "          const docLinkHtml = 'Like what you see? Visit the ' +\n",
              "            '<a target=\"_blank\" href=https://colab.research.google.com/notebooks/data_table.ipynb>data table notebook</a>'\n",
              "            + ' to learn more about interactive tables.';\n",
              "          element.innerHTML = '';\n",
              "          dataTable['output_type'] = 'display_data';\n",
              "          await google.colab.output.renderOutput(dataTable, element);\n",
              "          const docLink = document.createElement('div');\n",
              "          docLink.innerHTML = docLinkHtml;\n",
              "          element.appendChild(docLink);\n",
              "        }\n",
              "      </script>\n",
              "    </div>\n",
              "  </div>\n",
              "  "
            ]
          },
          "metadata": {},
          "execution_count": 63
        }
      ],
      "source": [
        "report,matrix,table1=model_OVRclassifier(X,y)\n",
        "print('Report')\n",
        "print(report)\n",
        "\n",
        "print('Confusion Matrix')\n",
        "\n",
        "print()\n",
        "print(matrix)\n",
        "\n",
        "print()\n",
        "print('Classification report')\n",
        "\n",
        "table1[:30]"
      ]
    },
    {
      "cell_type": "markdown",
      "source": [
        "## Conclusion of Sentiment analysis using NLP:"
      ],
      "metadata": {
        "id": "dGiABO4J3hBI"
      }
    },
    {
      "cell_type": "markdown",
      "source": [
        "The primary objective of this project was to build an NLP model capable of performing sentiment analysis on product reviews. The task required us to choose two columns from the dataset, \"Text\" and \"Sentiment,\" and develop the model using two different algorithms: MultinomialNB and OVR (logistic regression).\n",
        "\n",
        "To preprocess the textual data, we used the NLTK stop words to remove common words that do not add any significant value to the analysis. We then split the data into train and test sets using the train_test_split function, which is a common method for evaluating machine learning models.\n",
        "\n",
        "For the MultinomialNB model, we first transformed the textual data into a numerical format using the TF-IDF vectorizer. We then created a user-defined function to build the model, which was then fitted using the x_train and y_train data. To evaluate the model, we used the classification report and confusion matrix, which provided insights into the precision, recall, F1-score, and support values of the model. The accuracy score for the MultinomialNB model was 85%, which indicates that the model performed relatively well in predicting the sentiment of product reviews.\n",
        "\n",
        "Similarly, for the OVR model, we used logistic regression with max_iter = 200 to build the model. The OVR model was then fitted using the x_train and y_train data, and tested using x_test. We evaluated the model using the classification report and confusion matrix, and the accuracy score for the OVR model was 92%, which is considered excellent.\n",
        "\n",
        "Based on our analysis, we can conclude that the OVR model with logistic regression performed the best among the two models tested for this task. This model provided higher accuracy in predicting the sentiment of product reviews, indicating that it is more reliable in determining the positive, negative, or neutral sentiment of the reviews. Overall, the results of this project demonstrate the effectiveness of NLP models in performing sentiment analysis of product reviews."
      ],
      "metadata": {
        "id": "NJ0kBTv53gVx"
      }
    },
    {
      "cell_type": "markdown",
      "source": [
        "\n",
        "\n",
        "---\n",
        "\n",
        "\n",
        "\n",
        "---\n",
        "\n"
      ],
      "metadata": {
        "id": "cK52Qghe7SUV"
      }
    },
    {
      "cell_type": "markdown",
      "source": [
        "![Screenshot 2023-04-01 144727.png](data:image/png;base64,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)"
      ],
      "metadata": {
        "id": "z39OjDkmG9Mr"
      }
    },
    {
      "cell_type": "markdown",
      "source": [
        "## Project requierment of Classification of data:"
      ],
      "metadata": {
        "id": "IERGuvEGf4Ik"
      }
    },
    {
      "cell_type": "markdown",
      "source": [
        "Classification: The company would like to understand who would be the most likely customers to purchase a product in the future or to recommend their brand, as well as what would be the key purchase drivers that affect people's decision to purchase or recommend."
      ],
      "metadata": {
        "id": "RYxQ7zlbgAW_"
      }
    },
    {
      "cell_type": "markdown",
      "metadata": {
        "id": "0SvPINmK_3T0"
      },
      "source": [
        "### Building a classification model for review analysis"
      ]
    },
    {
      "cell_type": "code",
      "execution_count": 64,
      "metadata": {
        "id": "roGcnH8Ojxos"
      },
      "outputs": [],
      "source": [
        "import seaborn as sns\n",
        "from imblearn.over_sampling import SMOTE\n",
        "from sklearn.linear_model import LogisticRegressionCV\n",
        "from sklearn.ensemble import RandomForestClassifier"
      ]
    },
    {
      "cell_type": "code",
      "execution_count": 65,
      "metadata": {
        "id": "OanAhyC5jcf8"
      },
      "outputs": [],
      "source": [
        "X = final_music_df['text']\n",
        "y = final_music_df['sentiment']"
      ]
    },
    {
      "cell_type": "code",
      "execution_count": 66,
      "metadata": {
        "id": "UvmAow5yjiAT"
      },
      "outputs": [],
      "source": [
        "vectorizer = TfidfVectorizer(stop_words='english')\n",
        "X = vectorizer.fit_transform(X)"
      ]
    },
    {
      "cell_type": "code",
      "execution_count": 67,
      "metadata": {
        "colab": {
          "base_uri": "https://localhost:8080/",
          "height": 477
        },
        "id": "JAgYV7Esjnhk",
        "outputId": "fdbbe317-72a6-400d-f01b-33ee17e87840"
      },
      "outputs": [
        {
          "output_type": "display_data",
          "data": {
            "text/plain": [
              "<Figure size 640x480 with 1 Axes>"
            ],
            "image/png": "[encoded data removed]"
          },
          "metadata": {}
        }
      ],
      "source": [
        "pos_neg_color = ['lightgreen','gray','darkred']\n",
        "sns.countplot(data=final_music_df, x='sentiment',palette= pos_neg_color)\n",
        "plt.title('POSITIVE NEUTRAL & NEGATIVE FEEDBACKS', size=18)\n",
        "plt.ylabel('Feedback Count')\n",
        "plt.grid()\n",
        "plt.show()"
      ]
    },
    {
      "cell_type": "code",
      "execution_count": 68,
      "metadata": {
        "id": "A7VX7T4PjtLM"
      },
      "outputs": [],
      "source": [
        "smote = SMOTE()\n",
        "X_smote, y_smote = smote.fit_resample(X,y)"
      ]
    },
    {
      "cell_type": "code",
      "execution_count": 69,
      "metadata": {
        "colab": {
          "base_uri": "https://localhost:8080/"
        },
        "id": "39pkalwEkLfZ",
        "outputId": "43b40b2b-84a0-42c7-c145-f16cddf14221"
      },
      "outputs": [
        {
          "output_type": "execute_result",
          "data": {
            "text/plain": [
              "positive    128652\n",
              "negative    128652\n",
              "neutral     128652\n",
              "Name: sentiment, dtype: int64"
            ]
          },
          "metadata": {},
          "execution_count": 69
        }
      ],
      "source": [
        "# Counting Target Variable\n",
        "y_smote.value_counts()"
      ]
    },
    {
      "cell_type": "code",
      "execution_count": 70,
      "metadata": {
        "colab": {
          "base_uri": "https://localhost:8080/"
        },
        "id": "oa9BkuXUlF9d",
        "outputId": "c8c22a68-540b-4683-d68c-3e55ba0eb0eb"
      },
      "outputs": [
        {
          "output_type": "stream",
          "name": "stdout",
          "text": [
            "X_train shape  (270169, 54707)\n",
            "y_train shape  (270169,)\n",
            "X_test shape  (115787, 54707)\n",
            "y_test shape  (115787,)\n"
          ]
        }
      ],
      "source": [
        "X_train, X_test, y_train, y_test = train_test_split(X_smote, y_smote, test_size= 0.3, random_state = 1)\n",
        "\n",
        "print('X_train shape ', X_train.shape)\n",
        "print('y_train shape ', y_train.shape)\n",
        "print('X_test shape ', X_test.shape)\n",
        "print('y_test shape ', y_test.shape)"
      ]
    },
    {
      "cell_type": "code",
      "execution_count": 71,
      "metadata": {
        "colab": {
          "base_uri": "https://localhost:8080/"
        },
        "id": "WIXkVdehlJzX",
        "outputId": "50ddbca5-f690-4f2f-fbcb-900df61c5a5a"
      },
      "outputs": [
        {
          "output_type": "stream",
          "name": "stderr",
          "text": [
            "[Parallel(n_jobs=1)]: Using backend SequentialBackend with 1 concurrent workers.\n",
            "[Parallel(n_jobs=1)]: Done   5 out of   5 | elapsed: 10.5min finished\n"
          ]
        },
        {
          "output_type": "stream",
          "name": "stdout",
          "text": [
            "\n",
            "Classification Report\n",
            "              precision    recall  f1-score   support\n",
            "\n",
            "    negative       0.91      0.94      0.93     38603\n",
            "     neutral       0.95      0.96      0.95     38634\n",
            "    positive       0.92      0.87      0.90     38550\n",
            "\n",
            "    accuracy                           0.93    115787\n",
            "   macro avg       0.93      0.93      0.93    115787\n",
            "weighted avg       0.93      0.93      0.93    115787\n",
            "\n",
            "Model Accuracy:  0.9263475174242359\n"
          ]
        }
      ],
      "source": [
        "#Creating Classifier\n",
        "logistic_regression = LogisticRegressionCV(random_state= 1, verbose= 1) \n",
        "\n",
        "#Fitting Model\n",
        "logistic_regression.fit(X_train,y_train)\n",
        "\n",
        "#Prediction\n",
        "prediction = logistic_regression.predict(X_test)\n",
        "\n",
        "#Model Accuracy\n",
        "#print('LOGISTIC REGRESSION')\n",
        "#plot_confusion_matrix(logistic_regression, X_test, y_test)  \n",
        "#plt.show()\n",
        "\n",
        "print()\n",
        "print('Classification Report')\n",
        "print(classification_report(y_test, prediction))\n",
        "print('Model Accuracy: ',accuracy_score(y_test,prediction))"
      ]
    },
    {
      "cell_type": "code",
      "execution_count": 72,
      "metadata": {
        "colab": {
          "base_uri": "https://localhost:8080/"
        },
        "id": "rtd5NmOJlQOm",
        "outputId": "a8afdebb-46a4-49ef-b40a-86c0e8e86c73"
      },
      "outputs": [
        {
          "output_type": "stream",
          "name": "stdout",
          "text": [
            "Logistic Regression prediction ['negative' 'positive' 'neutral']\n"
          ]
        }
      ],
      "source": [
        "# Checking Predictions with random reviews\n",
        "test_set = ['very bad, didn´t like, horrible, disappointed, disappointing', #Negative Comment\n",
        "            'very good, nice, awesome, great, amazing', # Positive Comment\n",
        "            'fine, average, as expected, normal, ordinary'] # Neutral Comment  \n",
        "\n",
        "# fitting TF-IDF\n",
        "new_test = vectorizer.transform(test_set)\n",
        "          \n",
        "\n",
        "print('Logistic Regression prediction',logistic_regression.predict(new_test))"
      ]
    },
    {
      "cell_type": "markdown",
      "metadata": {
        "id": "rmTCz0HhuTYl"
      },
      "source": [
        "### random forest classifier"
      ]
    },
    {
      "cell_type": "code",
      "execution_count": 73,
      "metadata": {
        "colab": {
          "base_uri": "https://localhost:8080/"
        },
        "id": "AKzrtdh5uX14",
        "outputId": "a6864dbf-9ae6-4ece-8dc4-0ebf04c4983f"
      },
      "outputs": [
        {
          "output_type": "stream",
          "name": "stderr",
          "text": [
            "[Parallel(n_jobs=1)]: Using backend SequentialBackend with 1 concurrent workers.\n",
            "[Parallel(n_jobs=1)]: Done   5 out of   5 | elapsed:  1.7min finished\n",
            "[Parallel(n_jobs=1)]: Using backend SequentialBackend with 1 concurrent workers.\n",
            "[Parallel(n_jobs=1)]: Done   5 out of   5 | elapsed:    0.6s finished\n"
          ]
        },
        {
          "output_type": "stream",
          "name": "stdout",
          "text": [
            "\n",
            "Classification Report\n",
            "              precision    recall  f1-score   support\n",
            "\n",
            "    negative       0.89      0.95      0.92     38603\n",
            "     neutral       0.95      0.98      0.97     38634\n",
            "    positive       0.95      0.85      0.90     38550\n",
            "\n",
            "    accuracy                           0.93    115787\n",
            "   macro avg       0.93      0.93      0.93    115787\n",
            "weighted avg       0.93      0.93      0.93    115787\n",
            "\n",
            "Model Accuracy:  0.9291630321193225\n"
          ]
        }
      ],
      "source": [
        "random_forest_classifier = RandomForestClassifier(random_state=1, n_estimators=5,verbose=1)\n",
        "random_forest_classifier.fit(X_train, y_train)\n",
        "\n",
        "#Prediction\n",
        "random_prediction = random_forest_classifier.predict(X_test)\n",
        "\n",
        "#Model Accuracy\n",
        "#print('RANDOM FOREST CLASSIFIER')\n",
        "#plot_confusion_matrix(random_forest_classifier, X_test, y_test)  \n",
        "#plt.show() \n",
        "\n",
        "print()\n",
        "print('Classification Report')\n",
        "print(classification_report(y_test, random_prediction))\n",
        "print('Model Accuracy: ',accuracy_score(y_test, random_prediction))"
      ]
    },
    {
      "cell_type": "code",
      "execution_count": 74,
      "metadata": {
        "colab": {
          "base_uri": "https://localhost:8080/"
        },
        "id": "z2NNdnqIuefq",
        "outputId": "3e97574e-9cb8-4c8b-a791-49ed3558198a"
      },
      "outputs": [
        {
          "output_type": "stream",
          "name": "stdout",
          "text": [
            "Random forest classifier prediction ['negative' 'positive' 'positive']\n"
          ]
        },
        {
          "output_type": "stream",
          "name": "stderr",
          "text": [
            "[Parallel(n_jobs=1)]: Using backend SequentialBackend with 1 concurrent workers.\n",
            "[Parallel(n_jobs=1)]: Done   5 out of   5 | elapsed:    0.0s finished\n"
          ]
        }
      ],
      "source": [
        "# Checking Predictions with random reviews\n",
        "test_set = ['very bad, didn´t like, horrible, disappointed, disappointing', #Negative Comment\n",
        "            'very good, nice, awesome, great, amazing', # Positive Comment\n",
        "            'fine, average, as expected, normal, ordinary'] # Neutral Comment  \n",
        "\n",
        "# fitting TF-IDF\n",
        "new_test = vectorizer.transform(test_set)\n",
        "          \n",
        "\n",
        "print('Random forest classifier prediction',random_forest_classifier.predict(new_test))"
      ]
    },
    {
      "cell_type": "code",
      "execution_count": 75,
      "metadata": {
        "id": "6P5IM1slQcuB"
      },
      "outputs": [],
      "source": [
        "from sklearn.neighbors import KNeighborsClassifier\n",
        "from sklearn.feature_extraction.text import CountVectorizer"
      ]
    },
    {
      "cell_type": "code",
      "execution_count": 76,
      "metadata": {
        "id": "sRyG5DzsQjfZ"
      },
      "outputs": [],
      "source": [
        "X = final_music_df['text'] # Features\n",
        "y = final_music_df['overall'] "
      ]
    },
    {
      "cell_type": "code",
      "execution_count": 77,
      "metadata": {
        "id": "LRpkvPcqRhuu"
      },
      "outputs": [],
      "source": [
        "vectorizer = CountVectorizer()\n",
        "X = vectorizer.fit_transform(X)"
      ]
    },
    {
      "cell_type": "code",
      "execution_count": 78,
      "metadata": {
        "id": "FlFQZL3uQz48"
      },
      "outputs": [],
      "source": [
        "X_train, X_test, y_train, y_test = train_test_split(X, y, test_size=0.2, random_state=42)"
      ]
    },
    {
      "cell_type": "code",
      "execution_count": 79,
      "metadata": {
        "colab": {
          "base_uri": "https://localhost:8080/",
          "height": 74
        },
        "id": "xFSqwsIxQ2Ku",
        "outputId": "f0481a8d-35a1-44d8-c9a8-29ed0cf21d70"
      },
      "outputs": [
        {
          "output_type": "execute_result",
          "data": {
            "text/plain": [
              "KNeighborsClassifier()"
            ],
            "text/html": [
              "<style>#sk-container-id-1 {color: black;background-color: white;}#sk-container-id-1 pre{padding: 0;}#sk-container-id-1 div.sk-toggleable {background-color: white;}#sk-container-id-1 label.sk-toggleable__label {cursor: pointer;display: block;width: 100%;margin-bottom: 0;padding: 0.3em;box-sizing: border-box;text-align: center;}#sk-container-id-1 label.sk-toggleable__label-arrow:before {content: \"▸\";float: left;margin-right: 0.25em;color: #696969;}#sk-container-id-1 label.sk-toggleable__label-arrow:hover:before {color: black;}#sk-container-id-1 div.sk-estimator:hover label.sk-toggleable__label-arrow:before {color: black;}#sk-container-id-1 div.sk-toggleable__content {max-height: 0;max-width: 0;overflow: hidden;text-align: left;background-color: #f0f8ff;}#sk-container-id-1 div.sk-toggleable__content pre {margin: 0.2em;color: black;border-radius: 0.25em;background-color: #f0f8ff;}#sk-container-id-1 input.sk-toggleable__control:checked~div.sk-toggleable__content {max-height: 200px;max-width: 100%;overflow: auto;}#sk-container-id-1 input.sk-toggleable__control:checked~label.sk-toggleable__label-arrow:before {content: \"▾\";}#sk-container-id-1 div.sk-estimator input.sk-toggleable__control:checked~label.sk-toggleable__label {background-color: #d4ebff;}#sk-container-id-1 div.sk-label input.sk-toggleable__control:checked~label.sk-toggleable__label {background-color: #d4ebff;}#sk-container-id-1 input.sk-hidden--visually {border: 0;clip: rect(1px 1px 1px 1px);clip: rect(1px, 1px, 1px, 1px);height: 1px;margin: -1px;overflow: hidden;padding: 0;position: absolute;width: 1px;}#sk-container-id-1 div.sk-estimator {font-family: monospace;background-color: #f0f8ff;border: 1px dotted black;border-radius: 0.25em;box-sizing: border-box;margin-bottom: 0.5em;}#sk-container-id-1 div.sk-estimator:hover {background-color: #d4ebff;}#sk-container-id-1 div.sk-parallel-item::after {content: \"\";width: 100%;border-bottom: 1px solid gray;flex-grow: 1;}#sk-container-id-1 div.sk-label:hover label.sk-toggleable__label {background-color: #d4ebff;}#sk-container-id-1 div.sk-serial::before {content: \"\";position: absolute;border-left: 1px solid gray;box-sizing: border-box;top: 0;bottom: 0;left: 50%;z-index: 0;}#sk-container-id-1 div.sk-serial {display: flex;flex-direction: column;align-items: center;background-color: white;padding-right: 0.2em;padding-left: 0.2em;position: relative;}#sk-container-id-1 div.sk-item {position: relative;z-index: 1;}#sk-container-id-1 div.sk-parallel {display: flex;align-items: stretch;justify-content: center;background-color: white;position: relative;}#sk-container-id-1 div.sk-item::before, #sk-container-id-1 div.sk-parallel-item::before {content: \"\";position: absolute;border-left: 1px solid gray;box-sizing: border-box;top: 0;bottom: 0;left: 50%;z-index: -1;}#sk-container-id-1 div.sk-parallel-item {display: flex;flex-direction: column;z-index: 1;position: relative;background-color: white;}#sk-container-id-1 div.sk-parallel-item:first-child::after {align-self: flex-end;width: 50%;}#sk-container-id-1 div.sk-parallel-item:last-child::after {align-self: flex-start;width: 50%;}#sk-container-id-1 div.sk-parallel-item:only-child::after {width: 0;}#sk-container-id-1 div.sk-dashed-wrapped {border: 1px dashed gray;margin: 0 0.4em 0.5em 0.4em;box-sizing: border-box;padding-bottom: 0.4em;background-color: white;}#sk-container-id-1 div.sk-label label {font-family: monospace;font-weight: bold;display: inline-block;line-height: 1.2em;}#sk-container-id-1 div.sk-label-container {text-align: center;}#sk-container-id-1 div.sk-container {/* jupyter's `normalize.less` sets `[hidden] { display: none; }` but bootstrap.min.css set `[hidden] { display: none !important; }` so we also need the `!important` here to be able to override the default hidden behavior on the sphinx rendered scikit-learn.org. See: https://github.com/scikit-learn/scikit-learn/issues/21755 */display: inline-block !important;position: relative;}#sk-container-id-1 div.sk-text-repr-fallback {display: none;}</style><div id=\"sk-container-id-1\" class=\"sk-top-container\"><div class=\"sk-text-repr-fallback\"><pre>KNeighborsClassifier()</pre><b>In a Jupyter environment, please rerun this cell to show the HTML representation or trust the notebook. <br />On GitHub, the HTML representation is unable to render, please try loading this page with nbviewer.org.</b></div><div class=\"sk-container\" hidden><div class=\"sk-item\"><div class=\"sk-estimator sk-toggleable\"><input class=\"sk-toggleable__control sk-hidden--visually\" id=\"sk-estimator-id-1\" type=\"checkbox\" checked><label for=\"sk-estimator-id-1\" class=\"sk-toggleable__label sk-toggleable__label-arrow\">KNeighborsClassifier</label><div class=\"sk-toggleable__content\"><pre>KNeighborsClassifier()</pre></div></div></div></div></div>"
            ]
          },
          "metadata": {},
          "execution_count": 79
        }
      ],
      "source": [
        "knn = KNeighborsClassifier(n_neighbors=5)\n",
        "knn.fit(X_train, y_train)"
      ]
    },
    {
      "cell_type": "code",
      "execution_count": 80,
      "metadata": {
        "id": "sUq__gmUQ5dX"
      },
      "outputs": [],
      "source": [
        "y_pred = knn.predict(X_test)"
      ]
    },
    {
      "cell_type": "code",
      "execution_count": 81,
      "metadata": {
        "colab": {
          "base_uri": "https://localhost:8080/"
        },
        "id": "TfUmOGCSRVmK",
        "outputId": "b3e8b9bd-31ee-44ca-e4c0-4b0f7c996b7e"
      },
      "outputs": [
        {
          "output_type": "stream",
          "name": "stdout",
          "text": [
            "Accuracy: 0.7449840738186714\n"
          ]
        }
      ],
      "source": [
        "accuracy = accuracy_score(y_test, y_pred)\n",
        "print(\"Accuracy:\", accuracy)"
      ]
    },
    {
      "cell_type": "markdown",
      "metadata": {
        "id": "1kLazb0qhdcc"
      },
      "source": [
        "### Decision Tree Classifier"
      ]
    },
    {
      "cell_type": "code",
      "execution_count": 82,
      "metadata": {
        "id": "t5L4FXDChOb8"
      },
      "outputs": [],
      "source": [
        "from sklearn.tree import DecisionTreeClassifier"
      ]
    },
    {
      "cell_type": "code",
      "execution_count": 83,
      "metadata": {
        "colab": {
          "base_uri": "https://localhost:8080/",
          "height": 74
        },
        "id": "DoGrZqIshOY9",
        "outputId": "11617492-76cb-4881-a9c1-0652ed5fe18a"
      },
      "outputs": [
        {
          "output_type": "execute_result",
          "data": {
            "text/plain": [
              "DecisionTreeClassifier()"
            ],
            "text/html": [
              "<style>#sk-container-id-2 {color: black;background-color: white;}#sk-container-id-2 pre{padding: 0;}#sk-container-id-2 div.sk-toggleable {background-color: white;}#sk-container-id-2 label.sk-toggleable__label {cursor: pointer;display: block;width: 100%;margin-bottom: 0;padding: 0.3em;box-sizing: border-box;text-align: center;}#sk-container-id-2 label.sk-toggleable__label-arrow:before {content: \"▸\";float: left;margin-right: 0.25em;color: #696969;}#sk-container-id-2 label.sk-toggleable__label-arrow:hover:before {color: black;}#sk-container-id-2 div.sk-estimator:hover label.sk-toggleable__label-arrow:before {color: black;}#sk-container-id-2 div.sk-toggleable__content {max-height: 0;max-width: 0;overflow: hidden;text-align: left;background-color: #f0f8ff;}#sk-container-id-2 div.sk-toggleable__content pre {margin: 0.2em;color: black;border-radius: 0.25em;background-color: #f0f8ff;}#sk-container-id-2 input.sk-toggleable__control:checked~div.sk-toggleable__content {max-height: 200px;max-width: 100%;overflow: auto;}#sk-container-id-2 input.sk-toggleable__control:checked~label.sk-toggleable__label-arrow:before {content: \"▾\";}#sk-container-id-2 div.sk-estimator input.sk-toggleable__control:checked~label.sk-toggleable__label {background-color: #d4ebff;}#sk-container-id-2 div.sk-label input.sk-toggleable__control:checked~label.sk-toggleable__label {background-color: #d4ebff;}#sk-container-id-2 input.sk-hidden--visually {border: 0;clip: rect(1px 1px 1px 1px);clip: rect(1px, 1px, 1px, 1px);height: 1px;margin: -1px;overflow: hidden;padding: 0;position: absolute;width: 1px;}#sk-container-id-2 div.sk-estimator {font-family: monospace;background-color: #f0f8ff;border: 1px dotted black;border-radius: 0.25em;box-sizing: border-box;margin-bottom: 0.5em;}#sk-container-id-2 div.sk-estimator:hover {background-color: #d4ebff;}#sk-container-id-2 div.sk-parallel-item::after {content: \"\";width: 100%;border-bottom: 1px solid gray;flex-grow: 1;}#sk-container-id-2 div.sk-label:hover label.sk-toggleable__label {background-color: #d4ebff;}#sk-container-id-2 div.sk-serial::before {content: \"\";position: absolute;border-left: 1px solid gray;box-sizing: border-box;top: 0;bottom: 0;left: 50%;z-index: 0;}#sk-container-id-2 div.sk-serial {display: flex;flex-direction: column;align-items: center;background-color: white;padding-right: 0.2em;padding-left: 0.2em;position: relative;}#sk-container-id-2 div.sk-item {position: relative;z-index: 1;}#sk-container-id-2 div.sk-parallel {display: flex;align-items: stretch;justify-content: center;background-color: white;position: relative;}#sk-container-id-2 div.sk-item::before, #sk-container-id-2 div.sk-parallel-item::before {content: \"\";position: absolute;border-left: 1px solid gray;box-sizing: border-box;top: 0;bottom: 0;left: 50%;z-index: -1;}#sk-container-id-2 div.sk-parallel-item {display: flex;flex-direction: column;z-index: 1;position: relative;background-color: white;}#sk-container-id-2 div.sk-parallel-item:first-child::after {align-self: flex-end;width: 50%;}#sk-container-id-2 div.sk-parallel-item:last-child::after {align-self: flex-start;width: 50%;}#sk-container-id-2 div.sk-parallel-item:only-child::after {width: 0;}#sk-container-id-2 div.sk-dashed-wrapped {border: 1px dashed gray;margin: 0 0.4em 0.5em 0.4em;box-sizing: border-box;padding-bottom: 0.4em;background-color: white;}#sk-container-id-2 div.sk-label label {font-family: monospace;font-weight: bold;display: inline-block;line-height: 1.2em;}#sk-container-id-2 div.sk-label-container {text-align: center;}#sk-container-id-2 div.sk-container {/* jupyter's `normalize.less` sets `[hidden] { display: none; }` but bootstrap.min.css set `[hidden] { display: none !important; }` so we also need the `!important` here to be able to override the default hidden behavior on the sphinx rendered scikit-learn.org. See: https://github.com/scikit-learn/scikit-learn/issues/21755 */display: inline-block !important;position: relative;}#sk-container-id-2 div.sk-text-repr-fallback {display: none;}</style><div id=\"sk-container-id-2\" class=\"sk-top-container\"><div class=\"sk-text-repr-fallback\"><pre>DecisionTreeClassifier()</pre><b>In a Jupyter environment, please rerun this cell to show the HTML representation or trust the notebook. <br />On GitHub, the HTML representation is unable to render, please try loading this page with nbviewer.org.</b></div><div class=\"sk-container\" hidden><div class=\"sk-item\"><div class=\"sk-estimator sk-toggleable\"><input class=\"sk-toggleable__control sk-hidden--visually\" id=\"sk-estimator-id-2\" type=\"checkbox\" checked><label for=\"sk-estimator-id-2\" class=\"sk-toggleable__label sk-toggleable__label-arrow\">DecisionTreeClassifier</label><div class=\"sk-toggleable__content\"><pre>DecisionTreeClassifier()</pre></div></div></div></div></div>"
            ]
          },
          "metadata": {},
          "execution_count": 83
        }
      ],
      "source": [
        "decision_tree = DecisionTreeClassifier()\n",
        "decision_tree.fit(X_train,y_train)"
      ]
    },
    {
      "cell_type": "code",
      "execution_count": 84,
      "metadata": {
        "id": "xnk0JobDhORy"
      },
      "outputs": [],
      "source": [
        "y_pred = decision_tree.predict(X_test)"
      ]
    },
    {
      "cell_type": "code",
      "execution_count": 85,
      "metadata": {
        "colab": {
          "base_uri": "https://localhost:8080/"
        },
        "id": "iEDLusqnhOO9",
        "outputId": "703aaf10-ea0b-4f6d-e415-e51d733f2a1c"
      },
      "outputs": [
        {
          "output_type": "stream",
          "name": "stdout",
          "text": [
            "Accuracy of Decision Tree classifier: 0.7213739204676058\n"
          ]
        }
      ],
      "source": [
        "decision_tree_accuracy = accuracy_score(y_test, y_pred)\n",
        "print(\"Accuracy of Decision Tree classifier:\", decision_tree_accuracy)"
      ]
    },
    {
      "cell_type": "markdown",
      "source": [
        "# Conclusion of Classification:"
      ],
      "metadata": {
        "id": "h1N-GHv7ilQi"
      }
    },
    {
      "cell_type": "markdown",
      "source": [
        "The objective of this project is to build a classification model that can help the company identify potential customers who are likely to make purchases in the future or recommend the brand to others. The classification model will be built using two columns: \"Text\" (reviews) and \"Sentiment\". Four classification models were considered for this task: Logistic Regression, Random Forest Classifier, KNN, and Decision Tree Classifier.\n",
        "\n",
        "To prepare the data for modeling, the \"Text\" column was encoded using the TF-IDF vectorizer to convert it into a numerical format that can be understood by the machine. The SMOTE function was used to balance the classes of the target variable. The data was then split into training and testing sets using the train-test-split function in a 70:30 ratio.\n",
        "\n",
        "The first model built was Logistic Regression. The model was trained using the X_train and y_train data and then tested using X_test. The performance of the model was evaluated using classification report and accuracy score. The accuracy performance of the model was 92%, which is considered best.\n",
        "\n",
        "The second model built was the Random Forest Classifier. The model was trained with n_estimators=5 using X_train and y_train and then tested using X_test. The performance of the model was evaluated using classification report and accuracy score. The accuracy performance of the model was 92%, which is considered the best among the four models tested.\n",
        "\n",
        "The KNN model was built next. Before building the KNN model, the countvectorizer was used to encode the \"Text\" column. The KNN model was trained with n_neighbors=5 using X_train and y_train and then tested using X_test. The performance of the model was evaluated using classification report and accuracy score. The accuracy performance of the model was 74%, which is considered average.\n",
        "\n",
        "The Decision Tree Classifier model was the last model built. The model was trained using X_train and y_train and then tested using X_test. The performance of the model was evaluated using classification report and accuracy score. The accuracy performance of the model was 72%, which is considered average.\n",
        "\n",
        "In conclusion, the Random Forest Classifier model performed the best with an accuracy of 92%. Logistic Regression also performed best with an accuracy of 92%. The models were also tested on additional reviews and predicted well. Therefore, Both models Random Forest Classifier model,Logistic Regression model can be used to classify potential customers effectively."
      ],
      "metadata": {
        "id": "n-U6M3dKix0i"
      }
    },
    {
      "cell_type": "markdown",
      "source": [
        "\n",
        "\n",
        "---\n",
        "\n",
        "\n",
        "\n",
        "---\n",
        "\n"
      ],
      "metadata": {
        "id": "0Sk1TM9q7Ygn"
      }
    },
    {
      "cell_type": "markdown",
      "source": [
        "![Screenshot 2023-04-01 144842.png](data:image/png;base64,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)"
      ],
      "metadata": {
        "id": "rEsZi7yiHDaG"
      }
    },
    {
      "cell_type": "markdown",
      "source": [
        "## Project requirement for Clustering Customers:"
      ],
      "metadata": {
        "id": "GhzFfvN6Odok"
      }
    },
    {
      "cell_type": "markdown",
      "metadata": {
        "id": "slHP53c_lU2p"
      },
      "source": [
        "Building a clustering model to characterize and discover the customers segments for marketing purposes."
      ]
    },
    {
      "cell_type": "markdown",
      "metadata": {
        "id": "NkR00Td7lO4l"
      },
      "source": [
        "## Building a clustering model:"
      ]
    },
    {
      "cell_type": "markdown",
      "metadata": {
        "id": "3mdeTNioU0Et"
      },
      "source": [
        "For building a clustering model now we are doing PCA(Principal Component Analysis) To reduce the Dimensionality."
      ]
    },
    {
      "cell_type": "code",
      "source": [
        "final_music_df.columns"
      ],
      "metadata": {
        "colab": {
          "base_uri": "https://localhost:8080/"
        },
        "id": "D7wrbiW8V5Oa",
        "outputId": "b6339570-5661-46a0-b924-3a3d2210846d"
      },
      "execution_count": 86,
      "outputs": [
        {
          "output_type": "execute_result",
          "data": {
            "text/plain": [
              "Index(['overall', 'sentiment', 'verified', 'reviewTime', 'reviewerID',\n",
              "       'reviewerName', 'category', 'description', 'title', 'brand', 'feature',\n",
              "       'main_cat', 'price', 'text', 'overall_sentiment', 'neg', 'neu', 'pos',\n",
              "       'compound'],\n",
              "      dtype='object')"
            ]
          },
          "metadata": {},
          "execution_count": 86
        }
      ]
    },
    {
      "cell_type": "code",
      "execution_count": 100,
      "metadata": {
        "id": "aRpjKsGcj-Tn"
      },
      "outputs": [],
      "source": [
        "components = final_music_df[['text','sentiment','compound','overall','reviewerID','reviewerName','category', 'description', 'title', 'brand']]"
      ]
    },
    {
      "cell_type": "code",
      "execution_count": 101,
      "metadata": {
        "colab": {
          "base_uri": "https://localhost:8080/",
          "height": 206
        },
        "id": "lG2bCrpwWgGa",
        "outputId": "7accab1b-1ea5-4b99-ab72-4693b7de8a61"
      },
      "outputs": [
        {
          "output_type": "execute_result",
          "data": {
            "text/plain": [
              "    text  sentiment  compound  overall  reviewerID  reviewerName  category  \\\n",
              "0  96317          2      7749        4       32711         61997       139   \n",
              "1  71893          2      8435        4       63016         44629       139   \n",
              "2  75312          2      7961        4       78319          4532       139   \n",
              "3  25543          2      8070        4      110364         89995       139   \n",
              "4  41306          0      2937        2       67182         69473       139   \n",
              "\n",
              "   description  title  brand  \n",
              "0          658    900     10  \n",
              "1          658    900     10  \n",
              "2          658    900     10  \n",
              "3          658    900     10  \n",
              "4          658    900     10  "
            ],
            "text/html": [
              "\n",
              "  <div id=\"df-6543789f-2c9f-4017-ae19-cc82ff3746e1\">\n",
              "    <div class=\"colab-df-container\">\n",
              "      <div>\n",
              "<style scoped>\n",
              "    .dataframe tbody tr th:only-of-type {\n",
              "        vertical-align: middle;\n",
              "    }\n",
              "\n",
              "    .dataframe tbody tr th {\n",
              "        vertical-align: top;\n",
              "    }\n",
              "\n",
              "    .dataframe thead th {\n",
              "        text-align: right;\n",
              "    }\n",
              "</style>\n",
              "<table border=\"1\" class=\"dataframe\">\n",
              "  <thead>\n",
              "    <tr style=\"text-align: right;\">\n",
              "      <th></th>\n",
              "      <th>text</th>\n",
              "      <th>sentiment</th>\n",
              "      <th>compound</th>\n",
              "      <th>overall</th>\n",
              "      <th>reviewerID</th>\n",
              "      <th>reviewerName</th>\n",
              "      <th>category</th>\n",
              "      <th>description</th>\n",
              "      <th>title</th>\n",
              "      <th>brand</th>\n",
              "    </tr>\n",
              "  </thead>\n",
              "  <tbody>\n",
              "    <tr>\n",
              "      <th>0</th>\n",
              "      <td>96317</td>\n",
              "      <td>2</td>\n",
              "      <td>7749</td>\n",
              "      <td>4</td>\n",
              "      <td>32711</td>\n",
              "      <td>61997</td>\n",
              "      <td>139</td>\n",
              "      <td>658</td>\n",
              "      <td>900</td>\n",
              "      <td>10</td>\n",
              "    </tr>\n",
              "    <tr>\n",
              "      <th>1</th>\n",
              "      <td>71893</td>\n",
              "      <td>2</td>\n",
              "      <td>8435</td>\n",
              "      <td>4</td>\n",
              "      <td>63016</td>\n",
              "      <td>44629</td>\n",
              "      <td>139</td>\n",
              "      <td>658</td>\n",
              "      <td>900</td>\n",
              "      <td>10</td>\n",
              "    </tr>\n",
              "    <tr>\n",
              "      <th>2</th>\n",
              "      <td>75312</td>\n",
              "      <td>2</td>\n",
              "      <td>7961</td>\n",
              "      <td>4</td>\n",
              "      <td>78319</td>\n",
              "      <td>4532</td>\n",
              "      <td>139</td>\n",
              "      <td>658</td>\n",
              "      <td>900</td>\n",
              "      <td>10</td>\n",
              "    </tr>\n",
              "    <tr>\n",
              "      <th>3</th>\n",
              "      <td>25543</td>\n",
              "      <td>2</td>\n",
              "      <td>8070</td>\n",
              "      <td>4</td>\n",
              "      <td>110364</td>\n",
              "      <td>89995</td>\n",
              "      <td>139</td>\n",
              "      <td>658</td>\n",
              "      <td>900</td>\n",
              "      <td>10</td>\n",
              "    </tr>\n",
              "    <tr>\n",
              "      <th>4</th>\n",
              "      <td>41306</td>\n",
              "      <td>0</td>\n",
              "      <td>2937</td>\n",
              "      <td>2</td>\n",
              "      <td>67182</td>\n",
              "      <td>69473</td>\n",
              "      <td>139</td>\n",
              "      <td>658</td>\n",
              "      <td>900</td>\n",
              "      <td>10</td>\n",
              "    </tr>\n",
              "  </tbody>\n",
              "</table>\n",
              "</div>\n",
              "      <button class=\"colab-df-convert\" onclick=\"convertToInteractive('df-6543789f-2c9f-4017-ae19-cc82ff3746e1')\"\n",
              "              title=\"Convert this dataframe to an interactive table.\"\n",
              "              style=\"display:none;\">\n",
              "        \n",
              "  <svg xmlns=\"http://www.w3.org/2000/svg\" height=\"24px\"viewBox=\"0 0 24 24\"\n",
              "       width=\"24px\">\n",
              "    <path d=\"M0 0h24v24H0V0z\" fill=\"none\"/>\n",
              "    <path d=\"M18.56 5.44l.94 2.06.94-2.06 2.06-.94-2.06-.94-.94-2.06-.94 2.06-2.06.94zm-11 1L8.5 8.5l.94-2.06 2.06-.94-2.06-.94L8.5 2.5l-.94 2.06-2.06.94zm10 10l.94 2.06.94-2.06 2.06-.94-2.06-.94-.94-2.06-.94 2.06-2.06.94z\"/><path d=\"M17.41 7.96l-1.37-1.37c-.4-.4-.92-.59-1.43-.59-.52 0-1.04.2-1.43.59L10.3 9.45l-7.72 7.72c-.78.78-.78 2.05 0 2.83L4 21.41c.39.39.9.59 1.41.59.51 0 1.02-.2 1.41-.59l7.78-7.78 2.81-2.81c.8-.78.8-2.07 0-2.86zM5.41 20L4 18.59l7.72-7.72 1.47 1.35L5.41 20z\"/>\n",
              "  </svg>\n",
              "      </button>\n",
              "      \n",
              "  <style>\n",
              "    .colab-df-container {\n",
              "      display:flex;\n",
              "      flex-wrap:wrap;\n",
              "      gap: 12px;\n",
              "    }\n",
              "\n",
              "    .colab-df-convert {\n",
              "      background-color: #E8F0FE;\n",
              "      border: none;\n",
              "      border-radius: 50%;\n",
              "      cursor: pointer;\n",
              "      display: none;\n",
              "      fill: #1967D2;\n",
              "      height: 32px;\n",
              "      padding: 0 0 0 0;\n",
              "      width: 32px;\n",
              "    }\n",
              "\n",
              "    .colab-df-convert:hover {\n",
              "      background-color: #E2EBFA;\n",
              "      box-shadow: 0px 1px 2px rgba(60, 64, 67, 0.3), 0px 1px 3px 1px rgba(60, 64, 67, 0.15);\n",
              "      fill: #174EA6;\n",
              "    }\n",
              "\n",
              "    [theme=dark] .colab-df-convert {\n",
              "      background-color: #3B4455;\n",
              "      fill: #D2E3FC;\n",
              "    }\n",
              "\n",
              "    [theme=dark] .colab-df-convert:hover {\n",
              "      background-color: #434B5C;\n",
              "      box-shadow: 0px 1px 3px 1px rgba(0, 0, 0, 0.15);\n",
              "      filter: drop-shadow(0px 1px 2px rgba(0, 0, 0, 0.3));\n",
              "      fill: #FFFFFF;\n",
              "    }\n",
              "  </style>\n",
              "\n",
              "      <script>\n",
              "        const buttonEl =\n",
              "          document.querySelector('#df-6543789f-2c9f-4017-ae19-cc82ff3746e1 button.colab-df-convert');\n",
              "        buttonEl.style.display =\n",
              "          google.colab.kernel.accessAllowed ? 'block' : 'none';\n",
              "\n",
              "        async function convertToInteractive(key) {\n",
              "          const element = document.querySelector('#df-6543789f-2c9f-4017-ae19-cc82ff3746e1');\n",
              "          const dataTable =\n",
              "            await google.colab.kernel.invokeFunction('convertToInteractive',\n",
              "                                                     [key], {});\n",
              "          if (!dataTable) return;\n",
              "\n",
              "          const docLinkHtml = 'Like what you see? Visit the ' +\n",
              "            '<a target=\"_blank\" href=https://colab.research.google.com/notebooks/data_table.ipynb>data table notebook</a>'\n",
              "            + ' to learn more about interactive tables.';\n",
              "          element.innerHTML = '';\n",
              "          dataTable['output_type'] = 'display_data';\n",
              "          await google.colab.output.renderOutput(dataTable, element);\n",
              "          const docLink = document.createElement('div');\n",
              "          docLink.innerHTML = docLinkHtml;\n",
              "          element.appendChild(docLink);\n",
              "        }\n",
              "      </script>\n",
              "    </div>\n",
              "  </div>\n",
              "  "
            ]
          },
          "metadata": {},
          "execution_count": 101
        }
      ],
      "source": [
        "le = LabelEncoder()\n",
        "components = components.apply(le.fit_transform)\n",
        "components.head()"
      ]
    },
    {
      "cell_type": "code",
      "execution_count": 89,
      "metadata": {
        "colab": {
          "base_uri": "https://localhost:8080/"
        },
        "id": "W2eLjlCCcPXu",
        "outputId": "864dc309-8ca0-415f-a231-d480fe40040a"
      },
      "outputs": [
        {
          "output_type": "execute_result",
          "data": {
            "text/plain": [
              "array([[ 0.56514762, -0.28911694,  0.53483996, ..., -0.39549299,\n",
              "         0.04443639, -1.58428171],\n",
              "       [-0.01393737, -0.03627903,  0.53483996, ..., -0.39549299,\n",
              "         0.04443639, -1.58428171],\n",
              "       [ 0.06712599, -0.21098044,  0.53483996, ..., -0.39549299,\n",
              "         0.04443639, -1.58428171],\n",
              "       ...,\n",
              "       [ 1.61617359,  0.47566246,  0.53483996, ...,  1.09092813,\n",
              "         1.99406842, -1.42601786],\n",
              "       [ 0.99415039,  0.96880696,  0.53483996, ...,  1.09092813,\n",
              "         1.99406842, -1.42601786],\n",
              "       [-0.2555152 , -0.44280996,  0.53483996, ...,  1.09092813,\n",
              "         1.99406842, -1.42601786]])"
            ]
          },
          "metadata": {},
          "execution_count": 89
        }
      ],
      "source": [
        "scaler = StandardScaler()\n",
        "X = scaler.fit_transform(components)\n",
        "X"
      ]
    },
    {
      "cell_type": "code",
      "execution_count": 90,
      "metadata": {
        "id": "R5r92sCnW9k_"
      },
      "outputs": [],
      "source": [
        "pca_music=PCA(n_components=2)"
      ]
    },
    {
      "cell_type": "code",
      "execution_count": 91,
      "metadata": {
        "id": "63Lzi-hlXIdY"
      },
      "outputs": [],
      "source": [
        "pc_music=pca_music.fit_transform(X)"
      ]
    },
    {
      "cell_type": "code",
      "execution_count": 92,
      "metadata": {
        "colab": {
          "base_uri": "https://localhost:8080/",
          "height": 423
        },
        "id": "wYsdwNkSXsbz",
        "outputId": "349362e2-8022-4ff6-a705-23e3a6ef2a5d"
      },
      "outputs": [
        {
          "output_type": "execute_result",
          "data": {
            "text/plain": [
              "             PC1       PC2\n",
              "0      -1.039058 -0.247027\n",
              "1      -1.033782 -0.531232\n",
              "2      -1.036470 -0.432555\n",
              "3      -1.061368 -0.576664\n",
              "4      -1.223731  2.064972\n",
              "...          ...       ...\n",
              "152259  0.767550  1.261600\n",
              "152260  0.896538 -0.799468\n",
              "152261  0.910942 -0.465335\n",
              "152262  0.924572 -0.920565\n",
              "152263  0.831161 -0.129669\n",
              "\n",
              "[152264 rows x 2 columns]"
            ],
            "text/html": [
              "\n",
              "  <div id=\"df-0a365b19-9011-4ca2-a169-96f647277592\">\n",
              "    <div class=\"colab-df-container\">\n",
              "      <div>\n",
              "<style scoped>\n",
              "    .dataframe tbody tr th:only-of-type {\n",
              "        vertical-align: middle;\n",
              "    }\n",
              "\n",
              "    .dataframe tbody tr th {\n",
              "        vertical-align: top;\n",
              "    }\n",
              "\n",
              "    .dataframe thead th {\n",
              "        text-align: right;\n",
              "    }\n",
              "</style>\n",
              "<table border=\"1\" class=\"dataframe\">\n",
              "  <thead>\n",
              "    <tr style=\"text-align: right;\">\n",
              "      <th></th>\n",
              "      <th>PC1</th>\n",
              "      <th>PC2</th>\n",
              "    </tr>\n",
              "  </thead>\n",
              "  <tbody>\n",
              "    <tr>\n",
              "      <th>0</th>\n",
              "      <td>-1.039058</td>\n",
              "      <td>-0.247027</td>\n",
              "    </tr>\n",
              "    <tr>\n",
              "      <th>1</th>\n",
              "      <td>-1.033782</td>\n",
              "      <td>-0.531232</td>\n",
              "    </tr>\n",
              "    <tr>\n",
              "      <th>2</th>\n",
              "      <td>-1.036470</td>\n",
              "      <td>-0.432555</td>\n",
              "    </tr>\n",
              "    <tr>\n",
              "      <th>3</th>\n",
              "      <td>-1.061368</td>\n",
              "      <td>-0.576664</td>\n",
              "    </tr>\n",
              "    <tr>\n",
              "      <th>4</th>\n",
              "      <td>-1.223731</td>\n",
              "      <td>2.064972</td>\n",
              "    </tr>\n",
              "    <tr>\n",
              "      <th>...</th>\n",
              "      <td>...</td>\n",
              "      <td>...</td>\n",
              "    </tr>\n",
              "    <tr>\n",
              "      <th>152259</th>\n",
              "      <td>0.767550</td>\n",
              "      <td>1.261600</td>\n",
              "    </tr>\n",
              "    <tr>\n",
              "      <th>152260</th>\n",
              "      <td>0.896538</td>\n",
              "      <td>-0.799468</td>\n",
              "    </tr>\n",
              "    <tr>\n",
              "      <th>152261</th>\n",
              "      <td>0.910942</td>\n",
              "      <td>-0.465335</td>\n",
              "    </tr>\n",
              "    <tr>\n",
              "      <th>152262</th>\n",
              "      <td>0.924572</td>\n",
              "      <td>-0.920565</td>\n",
              "    </tr>\n",
              "    <tr>\n",
              "      <th>152263</th>\n",
              "      <td>0.831161</td>\n",
              "      <td>-0.129669</td>\n",
              "    </tr>\n",
              "  </tbody>\n",
              "</table>\n",
              "<p>152264 rows × 2 columns</p>\n",
              "</div>\n",
              "      <button class=\"colab-df-convert\" onclick=\"convertToInteractive('df-0a365b19-9011-4ca2-a169-96f647277592')\"\n",
              "              title=\"Convert this dataframe to an interactive table.\"\n",
              "              style=\"display:none;\">\n",
              "        \n",
              "  <svg xmlns=\"http://www.w3.org/2000/svg\" height=\"24px\"viewBox=\"0 0 24 24\"\n",
              "       width=\"24px\">\n",
              "    <path d=\"M0 0h24v24H0V0z\" fill=\"none\"/>\n",
              "    <path d=\"M18.56 5.44l.94 2.06.94-2.06 2.06-.94-2.06-.94-.94-2.06-.94 2.06-2.06.94zm-11 1L8.5 8.5l.94-2.06 2.06-.94-2.06-.94L8.5 2.5l-.94 2.06-2.06.94zm10 10l.94 2.06.94-2.06 2.06-.94-2.06-.94-.94-2.06-.94 2.06-2.06.94z\"/><path d=\"M17.41 7.96l-1.37-1.37c-.4-.4-.92-.59-1.43-.59-.52 0-1.04.2-1.43.59L10.3 9.45l-7.72 7.72c-.78.78-.78 2.05 0 2.83L4 21.41c.39.39.9.59 1.41.59.51 0 1.02-.2 1.41-.59l7.78-7.78 2.81-2.81c.8-.78.8-2.07 0-2.86zM5.41 20L4 18.59l7.72-7.72 1.47 1.35L5.41 20z\"/>\n",
              "  </svg>\n",
              "      </button>\n",
              "      \n",
              "  <style>\n",
              "    .colab-df-container {\n",
              "      display:flex;\n",
              "      flex-wrap:wrap;\n",
              "      gap: 12px;\n",
              "    }\n",
              "\n",
              "    .colab-df-convert {\n",
              "      background-color: #E8F0FE;\n",
              "      border: none;\n",
              "      border-radius: 50%;\n",
              "      cursor: pointer;\n",
              "      display: none;\n",
              "      fill: #1967D2;\n",
              "      height: 32px;\n",
              "      padding: 0 0 0 0;\n",
              "      width: 32px;\n",
              "    }\n",
              "\n",
              "    .colab-df-convert:hover {\n",
              "      background-color: #E2EBFA;\n",
              "      box-shadow: 0px 1px 2px rgba(60, 64, 67, 0.3), 0px 1px 3px 1px rgba(60, 64, 67, 0.15);\n",
              "      fill: #174EA6;\n",
              "    }\n",
              "\n",
              "    [theme=dark] .colab-df-convert {\n",
              "      background-color: #3B4455;\n",
              "      fill: #D2E3FC;\n",
              "    }\n",
              "\n",
              "    [theme=dark] .colab-df-convert:hover {\n",
              "      background-color: #434B5C;\n",
              "      box-shadow: 0px 1px 3px 1px rgba(0, 0, 0, 0.15);\n",
              "      filter: drop-shadow(0px 1px 2px rgba(0, 0, 0, 0.3));\n",
              "      fill: #FFFFFF;\n",
              "    }\n",
              "  </style>\n",
              "\n",
              "      <script>\n",
              "        const buttonEl =\n",
              "          document.querySelector('#df-0a365b19-9011-4ca2-a169-96f647277592 button.colab-df-convert');\n",
              "        buttonEl.style.display =\n",
              "          google.colab.kernel.accessAllowed ? 'block' : 'none';\n",
              "\n",
              "        async function convertToInteractive(key) {\n",
              "          const element = document.querySelector('#df-0a365b19-9011-4ca2-a169-96f647277592');\n",
              "          const dataTable =\n",
              "            await google.colab.kernel.invokeFunction('convertToInteractive',\n",
              "                                                     [key], {});\n",
              "          if (!dataTable) return;\n",
              "\n",
              "          const docLinkHtml = 'Like what you see? Visit the ' +\n",
              "            '<a target=\"_blank\" href=https://colab.research.google.com/notebooks/data_table.ipynb>data table notebook</a>'\n",
              "            + ' to learn more about interactive tables.';\n",
              "          element.innerHTML = '';\n",
              "          dataTable['output_type'] = 'display_data';\n",
              "          await google.colab.output.renderOutput(dataTable, element);\n",
              "          const docLink = document.createElement('div');\n",
              "          docLink.innerHTML = docLinkHtml;\n",
              "          element.appendChild(docLink);\n",
              "        }\n",
              "      </script>\n",
              "    </div>\n",
              "  </div>\n",
              "  "
            ]
          },
          "metadata": {},
          "execution_count": 92
        }
      ],
      "source": [
        "pc_music_df=pd.DataFrame(pc_music,columns=['PC1','PC2'])\n",
        "pc_music_df"
      ]
    },
    {
      "cell_type": "markdown",
      "metadata": {
        "id": "bQFIC8eZdpeu"
      },
      "source": [
        "### Building Kmeans Clustering:"
      ]
    },
    {
      "cell_type": "markdown",
      "metadata": {
        "id": "NqnZ31eBd0Z0"
      },
      "source": [
        "Using Elbow method:"
      ]
    },
    {
      "cell_type": "code",
      "execution_count": 95,
      "metadata": {
        "colab": {
          "base_uri": "https://localhost:8080/",
          "height": 449
        },
        "id": "5OswKBZUdMfn",
        "outputId": "9025f69d-e78e-42e9-ce18-2b0099547ef1"
      },
      "outputs": [
        {
          "output_type": "display_data",
          "data": {
            "text/plain": [
              "<Figure size 640x480 with 1 Axes>"
            ],
            "image/png": "[encoded data removed]"
          },
          "metadata": {}
        }
      ],
      "source": [
        "wcss=[]\n",
        "for k in range(2,10):\n",
        "    kmeans=KMeans(n_clusters=k)\n",
        "    kmeans.fit(pc_music_df)\n",
        "    wcss.append(kmeans.inertia_)\n",
        "plt.plot(range(2,10),wcss)\n",
        "plt.grid(True)\n",
        "plt.xlabel('k')\n",
        "plt.ylabel('wcss W.R.T inertia')\n",
        "plt.show()"
      ]
    },
    {
      "cell_type": "markdown",
      "metadata": {
        "id": "UbGSkpo8ehfg"
      },
      "source": [
        "### Using Silhouette score:"
      ]
    },
    {
      "cell_type": "code",
      "execution_count": 96,
      "metadata": {
        "colab": {
          "base_uri": "https://localhost:8080/"
        },
        "id": "-Xyt1Ay1d7ms",
        "outputId": "0d76f83e-f87f-456b-f39f-4d127725e942"
      },
      "outputs": [
        {
          "output_type": "stream",
          "name": "stdout",
          "text": [
            "For n_clusters = 2 The average silhouette_score is : 0.40222388073352583\n",
            "For n_clusters = 3 The average silhouette_score is : 0.4549775266342147\n",
            "For n_clusters = 4 The average silhouette_score is : 0.3687223480169108\n",
            "For n_clusters = 5 The average silhouette_score is : 0.3697771790275116\n"
          ]
        }
      ],
      "source": [
        "from sklearn.metrics import silhouette_score\n",
        "range_n_clusters = range(2,6)\n",
        "for n_clusters in range_n_clusters:\n",
        "    clusterer = KMeans(n_clusters=n_clusters, random_state=10)\n",
        "    cluster_labels = clusterer.fit_predict(pc_music_df)\n",
        "    silhouette_avg = silhouette_score(pc_music_df, cluster_labels)\n",
        "    print(\"For n_clusters =\", n_clusters,\"The average silhouette_score is :\", silhouette_avg)"
      ]
    },
    {
      "cell_type": "code",
      "execution_count": 97,
      "metadata": {
        "colab": {
          "base_uri": "https://localhost:8080/"
        },
        "id": "xKX5cfhPqXmY",
        "outputId": "9e4bf294-6324-4a1b-e51c-4346c782a8e5"
      },
      "outputs": [
        {
          "output_type": "stream",
          "name": "stdout",
          "text": [
            "For n_clusters = 2 The average silhouette_score is : 0.15973778847890135\n",
            "For n_clusters = 3 The average silhouette_score is : 0.17046851235378638\n",
            "For n_clusters = 4 The average silhouette_score is : 0.1262099221365537\n",
            "For n_clusters = 5 The average silhouette_score is : 0.12246353913095642\n"
          ]
        }
      ],
      "source": [
        "from sklearn.metrics import silhouette_score\n",
        "range_n_clusters = range(2,6)\n",
        "for n_clusters in range_n_clusters:\n",
        "    clusterer = KMeans(n_clusters=n_clusters, random_state=10)\n",
        "    cluster_labels = clusterer.fit_predict(X)\n",
        "    silhouette_avg = silhouette_score(X, cluster_labels)\n",
        "    print(\"For n_clusters =\", n_clusters,\"The average silhouette_score is :\", silhouette_avg)"
      ]
    },
    {
      "cell_type": "code",
      "source": [
        "from sklearn.metrics import silhouette_score\n",
        "range_n_clusters = range(2,8)\n",
        "for n_clusters in range_n_clusters:\n",
        "    clusterer = KMeans(n_clusters=n_clusters, random_state=10)\n",
        "    cluster_labels = clusterer.fit_predict(components)\n",
        "    silhouette_avg = silhouette_score(components, cluster_labels)\n",
        "    print(\"For n_clusters =\", n_clusters,\"The average silhouette_score is :\", silhouette_avg)"
      ],
      "metadata": {
        "colab": {
          "base_uri": "https://localhost:8080/"
        },
        "id": "HhlVKFT-u31c",
        "outputId": "96fdc509-3896-4312-a3d7-6c5beeaf0dfa"
      },
      "execution_count": 98,
      "outputs": [
        {
          "output_type": "stream",
          "name": "stdout",
          "text": [
            "For n_clusters = 2 The average silhouette_score is : 0.3113819653301308\n",
            "For n_clusters = 3 The average silhouette_score is : 0.286560955655262\n",
            "For n_clusters = 4 The average silhouette_score is : 0.2793729751983941\n",
            "For n_clusters = 5 The average silhouette_score is : 0.27695984989290867\n",
            "For n_clusters = 6 The average silhouette_score is : 0.27613103275466716\n",
            "For n_clusters = 7 The average silhouette_score is : 0.270159952590438\n"
          ]
        }
      ]
    },
    {
      "cell_type": "code",
      "execution_count": 102,
      "metadata": {
        "colab": {
          "base_uri": "https://localhost:8080/",
          "height": 206
        },
        "id": "PZYZXwGFetCx",
        "outputId": "3fc69313-2712-4bcf-dc95-df834b311c1e"
      },
      "outputs": [
        {
          "output_type": "execute_result",
          "data": {
            "text/plain": [
              "    text  sentiment\n",
              "0  96317          2\n",
              "1  71893          2\n",
              "2  75312          2\n",
              "3  25543          2\n",
              "4  41306          0"
            ],
            "text/html": [
              "\n",
              "  <div id=\"df-2cb39045-e664-4c0c-8803-3d231615978d\">\n",
              "    <div class=\"colab-df-container\">\n",
              "      <div>\n",
              "<style scoped>\n",
              "    .dataframe tbody tr th:only-of-type {\n",
              "        vertical-align: middle;\n",
              "    }\n",
              "\n",
              "    .dataframe tbody tr th {\n",
              "        vertical-align: top;\n",
              "    }\n",
              "\n",
              "    .dataframe thead th {\n",
              "        text-align: right;\n",
              "    }\n",
              "</style>\n",
              "<table border=\"1\" class=\"dataframe\">\n",
              "  <thead>\n",
              "    <tr style=\"text-align: right;\">\n",
              "      <th></th>\n",
              "      <th>text</th>\n",
              "      <th>sentiment</th>\n",
              "    </tr>\n",
              "  </thead>\n",
              "  <tbody>\n",
              "    <tr>\n",
              "      <th>0</th>\n",
              "      <td>96317</td>\n",
              "      <td>2</td>\n",
              "    </tr>\n",
              "    <tr>\n",
              "      <th>1</th>\n",
              "      <td>71893</td>\n",
              "      <td>2</td>\n",
              "    </tr>\n",
              "    <tr>\n",
              "      <th>2</th>\n",
              "      <td>75312</td>\n",
              "      <td>2</td>\n",
              "    </tr>\n",
              "    <tr>\n",
              "      <th>3</th>\n",
              "      <td>25543</td>\n",
              "      <td>2</td>\n",
              "    </tr>\n",
              "    <tr>\n",
              "      <th>4</th>\n",
              "      <td>41306</td>\n",
              "      <td>0</td>\n",
              "    </tr>\n",
              "  </tbody>\n",
              "</table>\n",
              "</div>\n",
              "      <button class=\"colab-df-convert\" onclick=\"convertToInteractive('df-2cb39045-e664-4c0c-8803-3d231615978d')\"\n",
              "              title=\"Convert this dataframe to an interactive table.\"\n",
              "              style=\"display:none;\">\n",
              "        \n",
              "  <svg xmlns=\"http://www.w3.org/2000/svg\" height=\"24px\"viewBox=\"0 0 24 24\"\n",
              "       width=\"24px\">\n",
              "    <path d=\"M0 0h24v24H0V0z\" fill=\"none\"/>\n",
              "    <path d=\"M18.56 5.44l.94 2.06.94-2.06 2.06-.94-2.06-.94-.94-2.06-.94 2.06-2.06.94zm-11 1L8.5 8.5l.94-2.06 2.06-.94-2.06-.94L8.5 2.5l-.94 2.06-2.06.94zm10 10l.94 2.06.94-2.06 2.06-.94-2.06-.94-.94-2.06-.94 2.06-2.06.94z\"/><path d=\"M17.41 7.96l-1.37-1.37c-.4-.4-.92-.59-1.43-.59-.52 0-1.04.2-1.43.59L10.3 9.45l-7.72 7.72c-.78.78-.78 2.05 0 2.83L4 21.41c.39.39.9.59 1.41.59.51 0 1.02-.2 1.41-.59l7.78-7.78 2.81-2.81c.8-.78.8-2.07 0-2.86zM5.41 20L4 18.59l7.72-7.72 1.47 1.35L5.41 20z\"/>\n",
              "  </svg>\n",
              "      </button>\n",
              "      \n",
              "  <style>\n",
              "    .colab-df-container {\n",
              "      display:flex;\n",
              "      flex-wrap:wrap;\n",
              "      gap: 12px;\n",
              "    }\n",
              "\n",
              "    .colab-df-convert {\n",
              "      background-color: #E8F0FE;\n",
              "      border: none;\n",
              "      border-radius: 50%;\n",
              "      cursor: pointer;\n",
              "      display: none;\n",
              "      fill: #1967D2;\n",
              "      height: 32px;\n",
              "      padding: 0 0 0 0;\n",
              "      width: 32px;\n",
              "    }\n",
              "\n",
              "    .colab-df-convert:hover {\n",
              "      background-color: #E2EBFA;\n",
              "      box-shadow: 0px 1px 2px rgba(60, 64, 67, 0.3), 0px 1px 3px 1px rgba(60, 64, 67, 0.15);\n",
              "      fill: #174EA6;\n",
              "    }\n",
              "\n",
              "    [theme=dark] .colab-df-convert {\n",
              "      background-color: #3B4455;\n",
              "      fill: #D2E3FC;\n",
              "    }\n",
              "\n",
              "    [theme=dark] .colab-df-convert:hover {\n",
              "      background-color: #434B5C;\n",
              "      box-shadow: 0px 1px 3px 1px rgba(0, 0, 0, 0.15);\n",
              "      filter: drop-shadow(0px 1px 2px rgba(0, 0, 0, 0.3));\n",
              "      fill: #FFFFFF;\n",
              "    }\n",
              "  </style>\n",
              "\n",
              "      <script>\n",
              "        const buttonEl =\n",
              "          document.querySelector('#df-2cb39045-e664-4c0c-8803-3d231615978d button.colab-df-convert');\n",
              "        buttonEl.style.display =\n",
              "          google.colab.kernel.accessAllowed ? 'block' : 'none';\n",
              "\n",
              "        async function convertToInteractive(key) {\n",
              "          const element = document.querySelector('#df-2cb39045-e664-4c0c-8803-3d231615978d');\n",
              "          const dataTable =\n",
              "            await google.colab.kernel.invokeFunction('convertToInteractive',\n",
              "                                                     [key], {});\n",
              "          if (!dataTable) return;\n",
              "\n",
              "          const docLinkHtml = 'Like what you see? Visit the ' +\n",
              "            '<a target=\"_blank\" href=https://colab.research.google.com/notebooks/data_table.ipynb>data table notebook</a>'\n",
              "            + ' to learn more about interactive tables.';\n",
              "          element.innerHTML = '';\n",
              "          dataTable['output_type'] = 'display_data';\n",
              "          await google.colab.output.renderOutput(dataTable, element);\n",
              "          const docLink = document.createElement('div');\n",
              "          docLink.innerHTML = docLinkHtml;\n",
              "          element.appendChild(docLink);\n",
              "        }\n",
              "      </script>\n",
              "    </div>\n",
              "  </div>\n",
              "  "
            ]
          },
          "metadata": {},
          "execution_count": 102
        }
      ],
      "source": [
        "comp = components[['text','sentiment']]\n",
        "comp.head()"
      ]
    },
    {
      "cell_type": "code",
      "execution_count": 103,
      "metadata": {
        "id": "vYNM8ZjUqIYI"
      },
      "outputs": [],
      "source": [
        "y = scaler.fit_transform(comp)"
      ]
    },
    {
      "cell_type": "code",
      "execution_count": 104,
      "metadata": {
        "id": "y7wd1-wOqOny",
        "colab": {
          "base_uri": "https://localhost:8080/"
        },
        "outputId": "acbed9d5-757f-40b2-e9db-64f0506c08f5"
      },
      "outputs": [
        {
          "output_type": "stream",
          "name": "stdout",
          "text": [
            "For n_clusters = 2 The average silhouette_score is : 0.5845721697395514\n",
            "For n_clusters = 3 The average silhouette_score is : 0.5861585006276926\n",
            "For n_clusters = 4 The average silhouette_score is : 0.5351139042888772\n",
            "For n_clusters = 5 The average silhouette_score is : 0.5578167307574159\n"
          ]
        }
      ],
      "source": [
        "from sklearn.metrics import silhouette_score\n",
        "range_n_clusters = range(2,6)\n",
        "for n_clusters in range_n_clusters:\n",
        "    clusterer = KMeans(n_clusters=n_clusters, random_state=10)\n",
        "    cluster_labels = clusterer.fit_predict(y)\n",
        "    silhouette_avg = silhouette_score(y, cluster_labels)\n",
        "    print(\"For n_clusters =\", n_clusters,\"The average silhouette_score is :\", silhouette_avg)"
      ]
    },
    {
      "cell_type": "code",
      "execution_count": 105,
      "metadata": {
        "colab": {
          "base_uri": "https://localhost:8080/",
          "height": 206
        },
        "id": "4UtDCxTv8GM9",
        "outputId": "caabc2af-9b83-46e2-e466-aa9d7ae04758"
      },
      "outputs": [
        {
          "output_type": "execute_result",
          "data": {
            "text/plain": [
              "    text  sentiment  category  reviewerID\n",
              "0  96317          2       139       32711\n",
              "1  71893          2       139       63016\n",
              "2  75312          2       139       78319\n",
              "3  25543          2       139      110364\n",
              "4  41306          0       139       67182"
            ],
            "text/html": [
              "\n",
              "  <div id=\"df-bb09973c-9141-442c-b298-39727e78bd04\">\n",
              "    <div class=\"colab-df-container\">\n",
              "      <div>\n",
              "<style scoped>\n",
              "    .dataframe tbody tr th:only-of-type {\n",
              "        vertical-align: middle;\n",
              "    }\n",
              "\n",
              "    .dataframe tbody tr th {\n",
              "        vertical-align: top;\n",
              "    }\n",
              "\n",
              "    .dataframe thead th {\n",
              "        text-align: right;\n",
              "    }\n",
              "</style>\n",
              "<table border=\"1\" class=\"dataframe\">\n",
              "  <thead>\n",
              "    <tr style=\"text-align: right;\">\n",
              "      <th></th>\n",
              "      <th>text</th>\n",
              "      <th>sentiment</th>\n",
              "      <th>category</th>\n",
              "      <th>reviewerID</th>\n",
              "    </tr>\n",
              "  </thead>\n",
              "  <tbody>\n",
              "    <tr>\n",
              "      <th>0</th>\n",
              "      <td>96317</td>\n",
              "      <td>2</td>\n",
              "      <td>139</td>\n",
              "      <td>32711</td>\n",
              "    </tr>\n",
              "    <tr>\n",
              "      <th>1</th>\n",
              "      <td>71893</td>\n",
              "      <td>2</td>\n",
              "      <td>139</td>\n",
              "      <td>63016</td>\n",
              "    </tr>\n",
              "    <tr>\n",
              "      <th>2</th>\n",
              "      <td>75312</td>\n",
              "      <td>2</td>\n",
              "      <td>139</td>\n",
              "      <td>78319</td>\n",
              "    </tr>\n",
              "    <tr>\n",
              "      <th>3</th>\n",
              "      <td>25543</td>\n",
              "      <td>2</td>\n",
              "      <td>139</td>\n",
              "      <td>110364</td>\n",
              "    </tr>\n",
              "    <tr>\n",
              "      <th>4</th>\n",
              "      <td>41306</td>\n",
              "      <td>0</td>\n",
              "      <td>139</td>\n",
              "      <td>67182</td>\n",
              "    </tr>\n",
              "  </tbody>\n",
              "</table>\n",
              "</div>\n",
              "      <button class=\"colab-df-convert\" onclick=\"convertToInteractive('df-bb09973c-9141-442c-b298-39727e78bd04')\"\n",
              "              title=\"Convert this dataframe to an interactive table.\"\n",
              "              style=\"display:none;\">\n",
              "        \n",
              "  <svg xmlns=\"http://www.w3.org/2000/svg\" height=\"24px\"viewBox=\"0 0 24 24\"\n",
              "       width=\"24px\">\n",
              "    <path d=\"M0 0h24v24H0V0z\" fill=\"none\"/>\n",
              "    <path d=\"M18.56 5.44l.94 2.06.94-2.06 2.06-.94-2.06-.94-.94-2.06-.94 2.06-2.06.94zm-11 1L8.5 8.5l.94-2.06 2.06-.94-2.06-.94L8.5 2.5l-.94 2.06-2.06.94zm10 10l.94 2.06.94-2.06 2.06-.94-2.06-.94-.94-2.06-.94 2.06-2.06.94z\"/><path d=\"M17.41 7.96l-1.37-1.37c-.4-.4-.92-.59-1.43-.59-.52 0-1.04.2-1.43.59L10.3 9.45l-7.72 7.72c-.78.78-.78 2.05 0 2.83L4 21.41c.39.39.9.59 1.41.59.51 0 1.02-.2 1.41-.59l7.78-7.78 2.81-2.81c.8-.78.8-2.07 0-2.86zM5.41 20L4 18.59l7.72-7.72 1.47 1.35L5.41 20z\"/>\n",
              "  </svg>\n",
              "      </button>\n",
              "      \n",
              "  <style>\n",
              "    .colab-df-container {\n",
              "      display:flex;\n",
              "      flex-wrap:wrap;\n",
              "      gap: 12px;\n",
              "    }\n",
              "\n",
              "    .colab-df-convert {\n",
              "      background-color: #E8F0FE;\n",
              "      border: none;\n",
              "      border-radius: 50%;\n",
              "      cursor: pointer;\n",
              "      display: none;\n",
              "      fill: #1967D2;\n",
              "      height: 32px;\n",
              "      padding: 0 0 0 0;\n",
              "      width: 32px;\n",
              "    }\n",
              "\n",
              "    .colab-df-convert:hover {\n",
              "      background-color: #E2EBFA;\n",
              "      box-shadow: 0px 1px 2px rgba(60, 64, 67, 0.3), 0px 1px 3px 1px rgba(60, 64, 67, 0.15);\n",
              "      fill: #174EA6;\n",
              "    }\n",
              "\n",
              "    [theme=dark] .colab-df-convert {\n",
              "      background-color: #3B4455;\n",
              "      fill: #D2E3FC;\n",
              "    }\n",
              "\n",
              "    [theme=dark] .colab-df-convert:hover {\n",
              "      background-color: #434B5C;\n",
              "      box-shadow: 0px 1px 3px 1px rgba(0, 0, 0, 0.15);\n",
              "      filter: drop-shadow(0px 1px 2px rgba(0, 0, 0, 0.3));\n",
              "      fill: #FFFFFF;\n",
              "    }\n",
              "  </style>\n",
              "\n",
              "      <script>\n",
              "        const buttonEl =\n",
              "          document.querySelector('#df-bb09973c-9141-442c-b298-39727e78bd04 button.colab-df-convert');\n",
              "        buttonEl.style.display =\n",
              "          google.colab.kernel.accessAllowed ? 'block' : 'none';\n",
              "\n",
              "        async function convertToInteractive(key) {\n",
              "          const element = document.querySelector('#df-bb09973c-9141-442c-b298-39727e78bd04');\n",
              "          const dataTable =\n",
              "            await google.colab.kernel.invokeFunction('convertToInteractive',\n",
              "                                                     [key], {});\n",
              "          if (!dataTable) return;\n",
              "\n",
              "          const docLinkHtml = 'Like what you see? Visit the ' +\n",
              "            '<a target=\"_blank\" href=https://colab.research.google.com/notebooks/data_table.ipynb>data table notebook</a>'\n",
              "            + ' to learn more about interactive tables.';\n",
              "          element.innerHTML = '';\n",
              "          dataTable['output_type'] = 'display_data';\n",
              "          await google.colab.output.renderOutput(dataTable, element);\n",
              "          const docLink = document.createElement('div');\n",
              "          docLink.innerHTML = docLinkHtml;\n",
              "          element.appendChild(docLink);\n",
              "        }\n",
              "      </script>\n",
              "    </div>\n",
              "  </div>\n",
              "  "
            ]
          },
          "metadata": {},
          "execution_count": 105
        }
      ],
      "source": [
        "comp = components[['text','sentiment','category','reviewerID']]\n",
        "comp.head()"
      ]
    },
    {
      "cell_type": "code",
      "execution_count": 106,
      "metadata": {
        "id": "aTqWtcWLDwqP"
      },
      "outputs": [],
      "source": [
        "y = scaler.fit_transform(comp)"
      ]
    },
    {
      "cell_type": "code",
      "execution_count": 107,
      "metadata": {
        "id": "QaNogRbDDzm-",
        "colab": {
          "base_uri": "https://localhost:8080/"
        },
        "outputId": "11836b13-7c37-4226-bd78-bff0555e6cc2"
      },
      "outputs": [
        {
          "output_type": "stream",
          "name": "stdout",
          "text": [
            "For n_clusters = 2 The average silhouette_score is : 0.20641433187551728\n",
            "For n_clusters = 3 The average silhouette_score is : 0.24797254992094003\n",
            "For n_clusters = 4 The average silhouette_score is : 0.24337007611818198\n",
            "For n_clusters = 5 The average silhouette_score is : 0.25497124645411556\n"
          ]
        }
      ],
      "source": [
        "range_n_clusters = range(2,6)\n",
        "for n_clusters in range_n_clusters:\n",
        "    clusterer = KMeans(n_clusters=n_clusters, random_state=10)\n",
        "    cluster_labels = clusterer.fit_predict(y)\n",
        "    silhouette_avg = silhouette_score(y, cluster_labels)\n",
        "    print(\"For n_clusters =\", n_clusters,\"The average silhouette_score is :\", silhouette_avg)"
      ]
    },
    {
      "cell_type": "markdown",
      "metadata": {
        "id": "JoO5SdgrTg9d"
      },
      "source": [
        "Now after finding the best silhouette score with best k value."
      ]
    },
    {
      "cell_type": "markdown",
      "metadata": {
        "id": "D_4vc37-Tx55"
      },
      "source": [
        "### Building the model with Best K value:"
      ]
    },
    {
      "cell_type": "code",
      "execution_count": 139,
      "metadata": {
        "id": "GXo9l9uLUvRZ"
      },
      "outputs": [],
      "source": [
        "X = pc_music_df.values"
      ]
    },
    {
      "cell_type": "code",
      "execution_count": 140,
      "metadata": {
        "id": "BsWsxksfD3Qg"
      },
      "outputs": [],
      "source": [
        "kmeans =KMeans(n_clusters=3)"
      ]
    },
    {
      "cell_type": "code",
      "execution_count": 141,
      "metadata": {
        "id": "_WDCraQfUr3F",
        "colab": {
          "base_uri": "https://localhost:8080/",
          "height": 74
        },
        "outputId": "2b355a85-2d57-4236-dedd-bb275ee0c46f"
      },
      "outputs": [
        {
          "output_type": "execute_result",
          "data": {
            "text/plain": [
              "KMeans(n_clusters=3)"
            ],
            "text/html": [
              "<style>#sk-container-id-7 {color: black;background-color: white;}#sk-container-id-7 pre{padding: 0;}#sk-container-id-7 div.sk-toggleable {background-color: white;}#sk-container-id-7 label.sk-toggleable__label {cursor: pointer;display: block;width: 100%;margin-bottom: 0;padding: 0.3em;box-sizing: border-box;text-align: center;}#sk-container-id-7 label.sk-toggleable__label-arrow:before {content: \"▸\";float: left;margin-right: 0.25em;color: #696969;}#sk-container-id-7 label.sk-toggleable__label-arrow:hover:before {color: black;}#sk-container-id-7 div.sk-estimator:hover label.sk-toggleable__label-arrow:before {color: black;}#sk-container-id-7 div.sk-toggleable__content {max-height: 0;max-width: 0;overflow: hidden;text-align: left;background-color: #f0f8ff;}#sk-container-id-7 div.sk-toggleable__content pre {margin: 0.2em;color: black;border-radius: 0.25em;background-color: #f0f8ff;}#sk-container-id-7 input.sk-toggleable__control:checked~div.sk-toggleable__content {max-height: 200px;max-width: 100%;overflow: auto;}#sk-container-id-7 input.sk-toggleable__control:checked~label.sk-toggleable__label-arrow:before {content: \"▾\";}#sk-container-id-7 div.sk-estimator input.sk-toggleable__control:checked~label.sk-toggleable__label {background-color: #d4ebff;}#sk-container-id-7 div.sk-label input.sk-toggleable__control:checked~label.sk-toggleable__label {background-color: #d4ebff;}#sk-container-id-7 input.sk-hidden--visually {border: 0;clip: rect(1px 1px 1px 1px);clip: rect(1px, 1px, 1px, 1px);height: 1px;margin: -1px;overflow: hidden;padding: 0;position: absolute;width: 1px;}#sk-container-id-7 div.sk-estimator {font-family: monospace;background-color: #f0f8ff;border: 1px dotted black;border-radius: 0.25em;box-sizing: border-box;margin-bottom: 0.5em;}#sk-container-id-7 div.sk-estimator:hover {background-color: #d4ebff;}#sk-container-id-7 div.sk-parallel-item::after {content: \"\";width: 100%;border-bottom: 1px solid gray;flex-grow: 1;}#sk-container-id-7 div.sk-label:hover label.sk-toggleable__label {background-color: #d4ebff;}#sk-container-id-7 div.sk-serial::before {content: \"\";position: absolute;border-left: 1px solid gray;box-sizing: border-box;top: 0;bottom: 0;left: 50%;z-index: 0;}#sk-container-id-7 div.sk-serial {display: flex;flex-direction: column;align-items: center;background-color: white;padding-right: 0.2em;padding-left: 0.2em;position: relative;}#sk-container-id-7 div.sk-item {position: relative;z-index: 1;}#sk-container-id-7 div.sk-parallel {display: flex;align-items: stretch;justify-content: center;background-color: white;position: relative;}#sk-container-id-7 div.sk-item::before, #sk-container-id-7 div.sk-parallel-item::before {content: \"\";position: absolute;border-left: 1px solid gray;box-sizing: border-box;top: 0;bottom: 0;left: 50%;z-index: -1;}#sk-container-id-7 div.sk-parallel-item {display: flex;flex-direction: column;z-index: 1;position: relative;background-color: white;}#sk-container-id-7 div.sk-parallel-item:first-child::after {align-self: flex-end;width: 50%;}#sk-container-id-7 div.sk-parallel-item:last-child::after {align-self: flex-start;width: 50%;}#sk-container-id-7 div.sk-parallel-item:only-child::after {width: 0;}#sk-container-id-7 div.sk-dashed-wrapped {border: 1px dashed gray;margin: 0 0.4em 0.5em 0.4em;box-sizing: border-box;padding-bottom: 0.4em;background-color: white;}#sk-container-id-7 div.sk-label label {font-family: monospace;font-weight: bold;display: inline-block;line-height: 1.2em;}#sk-container-id-7 div.sk-label-container {text-align: center;}#sk-container-id-7 div.sk-container {/* jupyter's `normalize.less` sets `[hidden] { display: none; }` but bootstrap.min.css set `[hidden] { display: none !important; }` so we also need the `!important` here to be able to override the default hidden behavior on the sphinx rendered scikit-learn.org. See: https://github.com/scikit-learn/scikit-learn/issues/21755 */display: inline-block !important;position: relative;}#sk-container-id-7 div.sk-text-repr-fallback {display: none;}</style><div id=\"sk-container-id-7\" class=\"sk-top-container\"><div class=\"sk-text-repr-fallback\"><pre>KMeans(n_clusters=3)</pre><b>In a Jupyter environment, please rerun this cell to show the HTML representation or trust the notebook. <br />On GitHub, the HTML representation is unable to render, please try loading this page with nbviewer.org.</b></div><div class=\"sk-container\" hidden><div class=\"sk-item\"><div class=\"sk-estimator sk-toggleable\"><input class=\"sk-toggleable__control sk-hidden--visually\" id=\"sk-estimator-id-7\" type=\"checkbox\" checked><label for=\"sk-estimator-id-7\" class=\"sk-toggleable__label sk-toggleable__label-arrow\">KMeans</label><div class=\"sk-toggleable__content\"><pre>KMeans(n_clusters=3)</pre></div></div></div></div></div>"
            ]
          },
          "metadata": {},
          "execution_count": 141
        }
      ],
      "source": [
        "kmeans.fit(X)"
      ]
    },
    {
      "cell_type": "code",
      "execution_count": 142,
      "metadata": {
        "id": "xCYvH7osU5DD",
        "colab": {
          "base_uri": "https://localhost:8080/"
        },
        "outputId": "39c6ccd1-b356-4cee-aac3-258283298322"
      },
      "outputs": [
        {
          "output_type": "execute_result",
          "data": {
            "text/plain": [
              "array([1, 1, 1, ..., 2, 2, 2], dtype=int32)"
            ]
          },
          "metadata": {},
          "execution_count": 142
        }
      ],
      "source": [
        "labels=kmeans.fit_predict(X)\n",
        "labels"
      ]
    },
    {
      "cell_type": "markdown",
      "metadata": {
        "id": "8lo5LWwqVKvO"
      },
      "source": [
        "### Visualization:"
      ]
    },
    {
      "cell_type": "code",
      "execution_count": 143,
      "metadata": {
        "id": "pwVp1pMBW30S",
        "colab": {
          "base_uri": "https://localhost:8080/",
          "height": 489
        },
        "outputId": "60ad2f66-18c1-45a7-f213-a285f5f4b84e"
      },
      "outputs": [
        {
          "output_type": "display_data",
          "data": {
            "text/plain": [
              "<Figure size 640x480 with 1 Axes>"
            ],
            "image/png": "[encoded data removed]"
          },
          "metadata": {}
        },
        {
          "output_type": "stream",
          "name": "stdout",
          "text": [
            "Silhouette Coefficient: 0.455\n"
          ]
        }
      ],
      "source": [
        "plt.scatter(X[labels== 0,0], X[labels == 0, 1], s = 30, c = 'green', label = '0')\n",
        "plt.scatter(X[labels == 1,0],X[labels == 1, 1], s = 30, c = 'yellow', label = '1')\n",
        "plt.scatter(X[labels == 2,0],X[labels == 2, 1], s = 30, c = 'red', label = '2')\n",
        "\n",
        "plt.title('Clusters of customers')\n",
        "plt.xlabel('PC1')\n",
        "plt.ylabel('PC2')\n",
        "plt.legend()\n",
        "plt.show()\n",
        "print(\"Silhouette Coefficient: %0.3f\" % metrics.silhouette_score(X, labels))"
      ]
    },
    {
      "cell_type": "markdown",
      "source": [
        "# Conclusion of Clustering Customers:"
      ],
      "metadata": {
        "id": "ddKUp5aUSfe9"
      }
    },
    {
      "cell_type": "markdown",
      "source": [
        "The main objective of this task was to develop a clustering model that can accurately characterize and discover different customer segments for marketing purposes. After careful consideration of various clustering algorithms, we decided to use the K-means clustering model for this task.\n",
        "\n",
        "However, the data we were working with was not very informative and did not provide direct insights for clustering. Therefore, we opted to use Principal Component Analysis (PCA) to extract only useful information from the data. We performed Label Encoding for the entire data and standardized the data using StandardScaler before creating a separate dataframe of PCA.\n",
        "\n",
        "To determine the appropriate number of clusters (K-value) for the K-means model, we initially attempted to use the \"Elbow Method.\" However, the results of this method were difficult to interpret. Consequently, we decided to use the \"Silhouette Score\" to identify the optimal K-value for the clustering. After testing different K-values, we found that K=3 provided the best silhouette score.\n",
        "\n",
        "We also attempted to identify any other useful columns by performing the \"Silhouette Score\" analysis with different columns. However, we found that the K-value obtained using PCA provided the best results.\n",
        "\n",
        "We then built the K-means model by fitting the PCA data and setting the n_cluster parameter as 3. Once the model was built, we predicted the labels for the data and performed a visualization to demonstrate how the customers are segmented.\n",
        "\n",
        "Finally, we evaluated the model using the silhouette score and found that it performed well, achieving a score of 45%. This result indicates that the model can accurately characterize and discover different customer segments for marketing purposes. In the visualization of the customer segments, we can clearly see positive, negative, and neutral customers, providing valuable insights for marketing strategies."
      ],
      "metadata": {
        "id": "mzx77BSBSj0G"
      }
    },
    {
      "cell_type": "markdown",
      "source": [
        "\n",
        "\n",
        "---\n",
        "\n",
        "\n",
        "\n",
        "---\n",
        "\n"
      ],
      "metadata": {
        "id": "7G_Ro7pQ7crH"
      }
    },
    {
      "cell_type": "markdown",
      "source": [
        "![Screenshot 2023-04-01 144610.png](data:image/png;base64,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)"
      ],
      "metadata": {
        "id": "a-s2UmQmGePJ"
      }
    },
    {
      "cell_type": "markdown",
      "source": [
        "## Project requirement for sentiment forecasting:"
      ],
      "metadata": {
        "id": "JOno2jWGFgI8"
      }
    },
    {
      "cell_type": "markdown",
      "source": [
        "* In this project milestone, you will be accomplishing task 4 of the project, here you will perform customer sentiment time series forecasting.\n",
        "* Sentiment time series forecasting: Combining time series analysis with natural language processing, we are able to show how the sentiment of unstructured text data changes over time, as well as used it to predict future data trends."
      ],
      "metadata": {
        "id": "Qd-wmEgsFtPL"
      }
    },
    {
      "cell_type": "markdown",
      "source": [
        "### Building Time Series model for forecasting Ratings :"
      ],
      "metadata": {
        "id": "q0UHD5heLltr"
      }
    },
    {
      "cell_type": "code",
      "source": [
        "data = final_music_df[['reviewTime','overall']]\n",
        "data.head()"
      ],
      "metadata": {
        "id": "vXvtlVtHTo9L",
        "colab": {
          "base_uri": "https://localhost:8080/",
          "height": 206
        },
        "outputId": "65beabee-f6f7-4553-f367-f61c56ec705b"
      },
      "execution_count": 144,
      "outputs": [
        {
          "output_type": "execute_result",
          "data": {
            "text/plain": [
              "   reviewTime  overall\n",
              "0  2007-02-14        5\n",
              "1  2014-12-14        5\n",
              "2  2014-10-15        5\n",
              "3  2014-09-29        5\n",
              "4  2014-02-07        3"
            ],
            "text/html": [
              "\n",
              "  <div id=\"df-f278bc1f-8c70-4e02-88ee-75dbdc4f48a9\">\n",
              "    <div class=\"colab-df-container\">\n",
              "      <div>\n",
              "<style scoped>\n",
              "    .dataframe tbody tr th:only-of-type {\n",
              "        vertical-align: middle;\n",
              "    }\n",
              "\n",
              "    .dataframe tbody tr th {\n",
              "        vertical-align: top;\n",
              "    }\n",
              "\n",
              "    .dataframe thead th {\n",
              "        text-align: right;\n",
              "    }\n",
              "</style>\n",
              "<table border=\"1\" class=\"dataframe\">\n",
              "  <thead>\n",
              "    <tr style=\"text-align: right;\">\n",
              "      <th></th>\n",
              "      <th>reviewTime</th>\n",
              "      <th>overall</th>\n",
              "    </tr>\n",
              "  </thead>\n",
              "  <tbody>\n",
              "    <tr>\n",
              "      <th>0</th>\n",
              "      <td>2007-02-14</td>\n",
              "      <td>5</td>\n",
              "    </tr>\n",
              "    <tr>\n",
              "      <th>1</th>\n",
              "      <td>2014-12-14</td>\n",
              "      <td>5</td>\n",
              "    </tr>\n",
              "    <tr>\n",
              "      <th>2</th>\n",
              "      <td>2014-10-15</td>\n",
              "      <td>5</td>\n",
              "    </tr>\n",
              "    <tr>\n",
              "      <th>3</th>\n",
              "      <td>2014-09-29</td>\n",
              "      <td>5</td>\n",
              "    </tr>\n",
              "    <tr>\n",
              "      <th>4</th>\n",
              "      <td>2014-02-07</td>\n",
              "      <td>3</td>\n",
              "    </tr>\n",
              "  </tbody>\n",
              "</table>\n",
              "</div>\n",
              "      <button class=\"colab-df-convert\" onclick=\"convertToInteractive('df-f278bc1f-8c70-4e02-88ee-75dbdc4f48a9')\"\n",
              "              title=\"Convert this dataframe to an interactive table.\"\n",
              "              style=\"display:none;\">\n",
              "        \n",
              "  <svg xmlns=\"http://www.w3.org/2000/svg\" height=\"24px\"viewBox=\"0 0 24 24\"\n",
              "       width=\"24px\">\n",
              "    <path d=\"M0 0h24v24H0V0z\" fill=\"none\"/>\n",
              "    <path d=\"M18.56 5.44l.94 2.06.94-2.06 2.06-.94-2.06-.94-.94-2.06-.94 2.06-2.06.94zm-11 1L8.5 8.5l.94-2.06 2.06-.94-2.06-.94L8.5 2.5l-.94 2.06-2.06.94zm10 10l.94 2.06.94-2.06 2.06-.94-2.06-.94-.94-2.06-.94 2.06-2.06.94z\"/><path d=\"M17.41 7.96l-1.37-1.37c-.4-.4-.92-.59-1.43-.59-.52 0-1.04.2-1.43.59L10.3 9.45l-7.72 7.72c-.78.78-.78 2.05 0 2.83L4 21.41c.39.39.9.59 1.41.59.51 0 1.02-.2 1.41-.59l7.78-7.78 2.81-2.81c.8-.78.8-2.07 0-2.86zM5.41 20L4 18.59l7.72-7.72 1.47 1.35L5.41 20z\"/>\n",
              "  </svg>\n",
              "      </button>\n",
              "      \n",
              "  <style>\n",
              "    .colab-df-container {\n",
              "      display:flex;\n",
              "      flex-wrap:wrap;\n",
              "      gap: 12px;\n",
              "    }\n",
              "\n",
              "    .colab-df-convert {\n",
              "      background-color: #E8F0FE;\n",
              "      border: none;\n",
              "      border-radius: 50%;\n",
              "      cursor: pointer;\n",
              "      display: none;\n",
              "      fill: #1967D2;\n",
              "      height: 32px;\n",
              "      padding: 0 0 0 0;\n",
              "      width: 32px;\n",
              "    }\n",
              "\n",
              "    .colab-df-convert:hover {\n",
              "      background-color: #E2EBFA;\n",
              "      box-shadow: 0px 1px 2px rgba(60, 64, 67, 0.3), 0px 1px 3px 1px rgba(60, 64, 67, 0.15);\n",
              "      fill: #174EA6;\n",
              "    }\n",
              "\n",
              "    [theme=dark] .colab-df-convert {\n",
              "      background-color: #3B4455;\n",
              "      fill: #D2E3FC;\n",
              "    }\n",
              "\n",
              "    [theme=dark] .colab-df-convert:hover {\n",
              "      background-color: #434B5C;\n",
              "      box-shadow: 0px 1px 3px 1px rgba(0, 0, 0, 0.15);\n",
              "      filter: drop-shadow(0px 1px 2px rgba(0, 0, 0, 0.3));\n",
              "      fill: #FFFFFF;\n",
              "    }\n",
              "  </style>\n",
              "\n",
              "      <script>\n",
              "        const buttonEl =\n",
              "          document.querySelector('#df-f278bc1f-8c70-4e02-88ee-75dbdc4f48a9 button.colab-df-convert');\n",
              "        buttonEl.style.display =\n",
              "          google.colab.kernel.accessAllowed ? 'block' : 'none';\n",
              "\n",
              "        async function convertToInteractive(key) {\n",
              "          const element = document.querySelector('#df-f278bc1f-8c70-4e02-88ee-75dbdc4f48a9');\n",
              "          const dataTable =\n",
              "            await google.colab.kernel.invokeFunction('convertToInteractive',\n",
              "                                                     [key], {});\n",
              "          if (!dataTable) return;\n",
              "\n",
              "          const docLinkHtml = 'Like what you see? Visit the ' +\n",
              "            '<a target=\"_blank\" href=https://colab.research.google.com/notebooks/data_table.ipynb>data table notebook</a>'\n",
              "            + ' to learn more about interactive tables.';\n",
              "          element.innerHTML = '';\n",
              "          dataTable['output_type'] = 'display_data';\n",
              "          await google.colab.output.renderOutput(dataTable, element);\n",
              "          const docLink = document.createElement('div');\n",
              "          docLink.innerHTML = docLinkHtml;\n",
              "          element.appendChild(docLink);\n",
              "        }\n",
              "      </script>\n",
              "    </div>\n",
              "  </div>\n",
              "  "
            ]
          },
          "metadata": {},
          "execution_count": 144
        }
      ]
    },
    {
      "cell_type": "code",
      "source": [
        "data['reviewTime'] = pd.to_datetime(data['reviewTime'], format='%Y-%m-%d')"
      ],
      "metadata": {
        "id": "f6QRlvDkba_E"
      },
      "execution_count": 145,
      "outputs": []
    },
    {
      "cell_type": "code",
      "source": [
        "data.set_index('reviewTime', inplace=True)\n",
        "data.head()"
      ],
      "metadata": {
        "colab": {
          "base_uri": "https://localhost:8080/",
          "height": 237
        },
        "id": "2tIJpVwRFcLE",
        "outputId": "c7cd999f-b5c9-4bf8-d7d5-62d8feeb136a"
      },
      "execution_count": 146,
      "outputs": [
        {
          "output_type": "execute_result",
          "data": {
            "text/plain": [
              "            overall\n",
              "reviewTime         \n",
              "2007-02-14        5\n",
              "2014-12-14        5\n",
              "2014-10-15        5\n",
              "2014-09-29        5\n",
              "2014-02-07        3"
            ],
            "text/html": [
              "\n",
              "  <div id=\"df-e0dfac02-384c-489f-a279-e71f2981a287\">\n",
              "    <div class=\"colab-df-container\">\n",
              "      <div>\n",
              "<style scoped>\n",
              "    .dataframe tbody tr th:only-of-type {\n",
              "        vertical-align: middle;\n",
              "    }\n",
              "\n",
              "    .dataframe tbody tr th {\n",
              "        vertical-align: top;\n",
              "    }\n",
              "\n",
              "    .dataframe thead th {\n",
              "        text-align: right;\n",
              "    }\n",
              "</style>\n",
              "<table border=\"1\" class=\"dataframe\">\n",
              "  <thead>\n",
              "    <tr style=\"text-align: right;\">\n",
              "      <th></th>\n",
              "      <th>overall</th>\n",
              "    </tr>\n",
              "    <tr>\n",
              "      <th>reviewTime</th>\n",
              "      <th></th>\n",
              "    </tr>\n",
              "  </thead>\n",
              "  <tbody>\n",
              "    <tr>\n",
              "      <th>2007-02-14</th>\n",
              "      <td>5</td>\n",
              "    </tr>\n",
              "    <tr>\n",
              "      <th>2014-12-14</th>\n",
              "      <td>5</td>\n",
              "    </tr>\n",
              "    <tr>\n",
              "      <th>2014-10-15</th>\n",
              "      <td>5</td>\n",
              "    </tr>\n",
              "    <tr>\n",
              "      <th>2014-09-29</th>\n",
              "      <td>5</td>\n",
              "    </tr>\n",
              "    <tr>\n",
              "      <th>2014-02-07</th>\n",
              "      <td>3</td>\n",
              "    </tr>\n",
              "  </tbody>\n",
              "</table>\n",
              "</div>\n",
              "      <button class=\"colab-df-convert\" onclick=\"convertToInteractive('df-e0dfac02-384c-489f-a279-e71f2981a287')\"\n",
              "              title=\"Convert this dataframe to an interactive table.\"\n",
              "              style=\"display:none;\">\n",
              "        \n",
              "  <svg xmlns=\"http://www.w3.org/2000/svg\" height=\"24px\"viewBox=\"0 0 24 24\"\n",
              "       width=\"24px\">\n",
              "    <path d=\"M0 0h24v24H0V0z\" fill=\"none\"/>\n",
              "    <path d=\"M18.56 5.44l.94 2.06.94-2.06 2.06-.94-2.06-.94-.94-2.06-.94 2.06-2.06.94zm-11 1L8.5 8.5l.94-2.06 2.06-.94-2.06-.94L8.5 2.5l-.94 2.06-2.06.94zm10 10l.94 2.06.94-2.06 2.06-.94-2.06-.94-.94-2.06-.94 2.06-2.06.94z\"/><path d=\"M17.41 7.96l-1.37-1.37c-.4-.4-.92-.59-1.43-.59-.52 0-1.04.2-1.43.59L10.3 9.45l-7.72 7.72c-.78.78-.78 2.05 0 2.83L4 21.41c.39.39.9.59 1.41.59.51 0 1.02-.2 1.41-.59l7.78-7.78 2.81-2.81c.8-.78.8-2.07 0-2.86zM5.41 20L4 18.59l7.72-7.72 1.47 1.35L5.41 20z\"/>\n",
              "  </svg>\n",
              "      </button>\n",
              "      \n",
              "  <style>\n",
              "    .colab-df-container {\n",
              "      display:flex;\n",
              "      flex-wrap:wrap;\n",
              "      gap: 12px;\n",
              "    }\n",
              "\n",
              "    .colab-df-convert {\n",
              "      background-color: #E8F0FE;\n",
              "      border: none;\n",
              "      border-radius: 50%;\n",
              "      cursor: pointer;\n",
              "      display: none;\n",
              "      fill: #1967D2;\n",
              "      height: 32px;\n",
              "      padding: 0 0 0 0;\n",
              "      width: 32px;\n",
              "    }\n",
              "\n",
              "    .colab-df-convert:hover {\n",
              "      background-color: #E2EBFA;\n",
              "      box-shadow: 0px 1px 2px rgba(60, 64, 67, 0.3), 0px 1px 3px 1px rgba(60, 64, 67, 0.15);\n",
              "      fill: #174EA6;\n",
              "    }\n",
              "\n",
              "    [theme=dark] .colab-df-convert {\n",
              "      background-color: #3B4455;\n",
              "      fill: #D2E3FC;\n",
              "    }\n",
              "\n",
              "    [theme=dark] .colab-df-convert:hover {\n",
              "      background-color: #434B5C;\n",
              "      box-shadow: 0px 1px 3px 1px rgba(0, 0, 0, 0.15);\n",
              "      filter: drop-shadow(0px 1px 2px rgba(0, 0, 0, 0.3));\n",
              "      fill: #FFFFFF;\n",
              "    }\n",
              "  </style>\n",
              "\n",
              "      <script>\n",
              "        const buttonEl =\n",
              "          document.querySelector('#df-e0dfac02-384c-489f-a279-e71f2981a287 button.colab-df-convert');\n",
              "        buttonEl.style.display =\n",
              "          google.colab.kernel.accessAllowed ? 'block' : 'none';\n",
              "\n",
              "        async function convertToInteractive(key) {\n",
              "          const element = document.querySelector('#df-e0dfac02-384c-489f-a279-e71f2981a287');\n",
              "          const dataTable =\n",
              "            await google.colab.kernel.invokeFunction('convertToInteractive',\n",
              "                                                     [key], {});\n",
              "          if (!dataTable) return;\n",
              "\n",
              "          const docLinkHtml = 'Like what you see? Visit the ' +\n",
              "            '<a target=\"_blank\" href=https://colab.research.google.com/notebooks/data_table.ipynb>data table notebook</a>'\n",
              "            + ' to learn more about interactive tables.';\n",
              "          element.innerHTML = '';\n",
              "          dataTable['output_type'] = 'display_data';\n",
              "          await google.colab.output.renderOutput(dataTable, element);\n",
              "          const docLink = document.createElement('div');\n",
              "          docLink.innerHTML = docLinkHtml;\n",
              "          element.appendChild(docLink);\n",
              "        }\n",
              "      </script>\n",
              "    </div>\n",
              "  </div>\n",
              "  "
            ]
          },
          "metadata": {},
          "execution_count": 146
        }
      ]
    },
    {
      "cell_type": "code",
      "source": [
        "data = data.resample('M').mean()"
      ],
      "metadata": {
        "id": "oAZham2qvtNy"
      },
      "execution_count": 147,
      "outputs": []
    },
    {
      "cell_type": "code",
      "source": [
        "data = data.sort_index()\n",
        "data.head()"
      ],
      "metadata": {
        "colab": {
          "base_uri": "https://localhost:8080/",
          "height": 237
        },
        "id": "dmhH5KgqM_1v",
        "outputId": "aa78b8ea-1c98-4c05-fa4d-66975efd083b"
      },
      "execution_count": 148,
      "outputs": [
        {
          "output_type": "execute_result",
          "data": {
            "text/plain": [
              "            overall\n",
              "reviewTime         \n",
              "2000-11-30      5.0\n",
              "2000-12-31      NaN\n",
              "2001-01-31      NaN\n",
              "2001-02-28      NaN\n",
              "2001-03-31      NaN"
            ],
            "text/html": [
              "\n",
              "  <div id=\"df-02d8fb0e-6c62-4c44-a0d0-97f568d4c544\">\n",
              "    <div class=\"colab-df-container\">\n",
              "      <div>\n",
              "<style scoped>\n",
              "    .dataframe tbody tr th:only-of-type {\n",
              "        vertical-align: middle;\n",
              "    }\n",
              "\n",
              "    .dataframe tbody tr th {\n",
              "        vertical-align: top;\n",
              "    }\n",
              "\n",
              "    .dataframe thead th {\n",
              "        text-align: right;\n",
              "    }\n",
              "</style>\n",
              "<table border=\"1\" class=\"dataframe\">\n",
              "  <thead>\n",
              "    <tr style=\"text-align: right;\">\n",
              "      <th></th>\n",
              "      <th>overall</th>\n",
              "    </tr>\n",
              "    <tr>\n",
              "      <th>reviewTime</th>\n",
              "      <th></th>\n",
              "    </tr>\n",
              "  </thead>\n",
              "  <tbody>\n",
              "    <tr>\n",
              "      <th>2000-11-30</th>\n",
              "      <td>5.0</td>\n",
              "    </tr>\n",
              "    <tr>\n",
              "      <th>2000-12-31</th>\n",
              "      <td>NaN</td>\n",
              "    </tr>\n",
              "    <tr>\n",
              "      <th>2001-01-31</th>\n",
              "      <td>NaN</td>\n",
              "    </tr>\n",
              "    <tr>\n",
              "      <th>2001-02-28</th>\n",
              "      <td>NaN</td>\n",
              "    </tr>\n",
              "    <tr>\n",
              "      <th>2001-03-31</th>\n",
              "      <td>NaN</td>\n",
              "    </tr>\n",
              "  </tbody>\n",
              "</table>\n",
              "</div>\n",
              "      <button class=\"colab-df-convert\" onclick=\"convertToInteractive('df-02d8fb0e-6c62-4c44-a0d0-97f568d4c544')\"\n",
              "              title=\"Convert this dataframe to an interactive table.\"\n",
              "              style=\"display:none;\">\n",
              "        \n",
              "  <svg xmlns=\"http://www.w3.org/2000/svg\" height=\"24px\"viewBox=\"0 0 24 24\"\n",
              "       width=\"24px\">\n",
              "    <path d=\"M0 0h24v24H0V0z\" fill=\"none\"/>\n",
              "    <path d=\"M18.56 5.44l.94 2.06.94-2.06 2.06-.94-2.06-.94-.94-2.06-.94 2.06-2.06.94zm-11 1L8.5 8.5l.94-2.06 2.06-.94-2.06-.94L8.5 2.5l-.94 2.06-2.06.94zm10 10l.94 2.06.94-2.06 2.06-.94-2.06-.94-.94-2.06-.94 2.06-2.06.94z\"/><path d=\"M17.41 7.96l-1.37-1.37c-.4-.4-.92-.59-1.43-.59-.52 0-1.04.2-1.43.59L10.3 9.45l-7.72 7.72c-.78.78-.78 2.05 0 2.83L4 21.41c.39.39.9.59 1.41.59.51 0 1.02-.2 1.41-.59l7.78-7.78 2.81-2.81c.8-.78.8-2.07 0-2.86zM5.41 20L4 18.59l7.72-7.72 1.47 1.35L5.41 20z\"/>\n",
              "  </svg>\n",
              "      </button>\n",
              "      \n",
              "  <style>\n",
              "    .colab-df-container {\n",
              "      display:flex;\n",
              "      flex-wrap:wrap;\n",
              "      gap: 12px;\n",
              "    }\n",
              "\n",
              "    .colab-df-convert {\n",
              "      background-color: #E8F0FE;\n",
              "      border: none;\n",
              "      border-radius: 50%;\n",
              "      cursor: pointer;\n",
              "      display: none;\n",
              "      fill: #1967D2;\n",
              "      height: 32px;\n",
              "      padding: 0 0 0 0;\n",
              "      width: 32px;\n",
              "    }\n",
              "\n",
              "    .colab-df-convert:hover {\n",
              "      background-color: #E2EBFA;\n",
              "      box-shadow: 0px 1px 2px rgba(60, 64, 67, 0.3), 0px 1px 3px 1px rgba(60, 64, 67, 0.15);\n",
              "      fill: #174EA6;\n",
              "    }\n",
              "\n",
              "    [theme=dark] .colab-df-convert {\n",
              "      background-color: #3B4455;\n",
              "      fill: #D2E3FC;\n",
              "    }\n",
              "\n",
              "    [theme=dark] .colab-df-convert:hover {\n",
              "      background-color: #434B5C;\n",
              "      box-shadow: 0px 1px 3px 1px rgba(0, 0, 0, 0.15);\n",
              "      filter: drop-shadow(0px 1px 2px rgba(0, 0, 0, 0.3));\n",
              "      fill: #FFFFFF;\n",
              "    }\n",
              "  </style>\n",
              "\n",
              "      <script>\n",
              "        const buttonEl =\n",
              "          document.querySelector('#df-02d8fb0e-6c62-4c44-a0d0-97f568d4c544 button.colab-df-convert');\n",
              "        buttonEl.style.display =\n",
              "          google.colab.kernel.accessAllowed ? 'block' : 'none';\n",
              "\n",
              "        async function convertToInteractive(key) {\n",
              "          const element = document.querySelector('#df-02d8fb0e-6c62-4c44-a0d0-97f568d4c544');\n",
              "          const dataTable =\n",
              "            await google.colab.kernel.invokeFunction('convertToInteractive',\n",
              "                                                     [key], {});\n",
              "          if (!dataTable) return;\n",
              "\n",
              "          const docLinkHtml = 'Like what you see? Visit the ' +\n",
              "            '<a target=\"_blank\" href=https://colab.research.google.com/notebooks/data_table.ipynb>data table notebook</a>'\n",
              "            + ' to learn more about interactive tables.';\n",
              "          element.innerHTML = '';\n",
              "          dataTable['output_type'] = 'display_data';\n",
              "          await google.colab.output.renderOutput(dataTable, element);\n",
              "          const docLink = document.createElement('div');\n",
              "          docLink.innerHTML = docLinkHtml;\n",
              "          element.appendChild(docLink);\n",
              "        }\n",
              "      </script>\n",
              "    </div>\n",
              "  </div>\n",
              "  "
            ]
          },
          "metadata": {},
          "execution_count": 148
        }
      ]
    },
    {
      "cell_type": "code",
      "source": [
        "data.dropna(inplace = True)"
      ],
      "metadata": {
        "id": "cDNjIv2bv2me"
      },
      "execution_count": 149,
      "outputs": []
    },
    {
      "cell_type": "markdown",
      "source": [
        "### Visualization of the data:"
      ],
      "metadata": {
        "id": "bmC1tz-IvjpW"
      }
    },
    {
      "cell_type": "code",
      "source": [
        "plt.figure(figsize=(8,5))\n",
        "plt.plot(data);"
      ],
      "metadata": {
        "colab": {
          "base_uri": "https://localhost:8080/",
          "height": 445
        },
        "id": "N6MbvRNbvjCS",
        "outputId": "bb9ef93f-ad61-4f78-cf03-c119033d05ca"
      },
      "execution_count": 150,
      "outputs": [
        {
          "output_type": "display_data",
          "data": {
            "text/plain": [
              "<Figure size 800x500 with 1 Axes>"
            ],
            "image/png": "[encoded data removed]"
          },
          "metadata": {}
        }
      ]
    },
    {
      "cell_type": "markdown",
      "source": [
        "### Checking all Time series components:"
      ],
      "metadata": {
        "id": "0HJINABCGu4s"
      }
    },
    {
      "cell_type": "code",
      "source": [
        "decomposition = seasonal_decompose(data,period = 12)\n",
        "decomposition.plot();"
      ],
      "metadata": {
        "colab": {
          "base_uri": "https://localhost:8080/",
          "height": 487
        },
        "id": "gYDTEcD1GiLP",
        "outputId": "b26a7bf8-2079-4c47-ffcd-718dbac4fbd5"
      },
      "execution_count": 151,
      "outputs": [
        {
          "output_type": "display_data",
          "data": {
            "text/plain": [
              "<Figure size 640x480 with 4 Axes>"
            ],
            "image/png": "[encoded data removed]"
          },
          "metadata": {}
        }
      ]
    },
    {
      "cell_type": "markdown",
      "source": [
        "## Stationary check:"
      ],
      "metadata": {
        "id": "kruXG45fw50_"
      }
    },
    {
      "cell_type": "code",
      "source": [
        "from statsmodels.tsa.stattools import adfuller\n",
        "def checkStationarity(data):\n",
        "    pvalue = adfuller(data)[1]\n",
        "    print(pvalue)\n",
        "    if pvalue < 0.05:\n",
        "        msg = \"pvalue={}. Data is Stationary. Proceed to model building\".format(pvalue)\n",
        "    else:\n",
        "        msg = \"pvalue={}. Data is not Stationary. Make the data stationary before model building\".format(pvalue)\n",
        "\n",
        "    return msg"
      ],
      "metadata": {
        "id": "dL4_UxO_udv3"
      },
      "execution_count": 152,
      "outputs": []
    },
    {
      "cell_type": "code",
      "source": [
        "# Using AD-fuller test we are checking whether the data is stationary or not.\n",
        "checkStationarity(data)"
      ],
      "metadata": {
        "id": "y86F7teQHBfz",
        "colab": {
          "base_uri": "https://localhost:8080/",
          "height": 52
        },
        "outputId": "bf3ecd44-21dd-4b32-8c53-dea950a06107"
      },
      "execution_count": 153,
      "outputs": [
        {
          "output_type": "stream",
          "name": "stdout",
          "text": [
            "0.7535020803824096\n"
          ]
        },
        {
          "output_type": "execute_result",
          "data": {
            "text/plain": [
              "'pvalue=0.7535020803824096. Data is not Stationary. Make the data stationary before model building'"
            ],
            "application/vnd.google.colaboratory.intrinsic+json": {
              "type": "string"
            }
          },
          "metadata": {},
          "execution_count": 153
        }
      ]
    },
    {
      "cell_type": "code",
      "source": [
        "# Assigning same data to another variable to find the shift difference value.\n",
        "dummy_data = data.copy()"
      ],
      "metadata": {
        "id": "PoceUNiDxOac"
      },
      "execution_count": 154,
      "outputs": []
    },
    {
      "cell_type": "code",
      "source": [
        "dummy_data"
      ],
      "metadata": {
        "colab": {
          "base_uri": "https://localhost:8080/",
          "height": 455
        },
        "id": "1MAHqxJyEOpA",
        "outputId": "d6c9094b-e156-4858-c76f-3dc746ae8b9b"
      },
      "execution_count": 155,
      "outputs": [
        {
          "output_type": "execute_result",
          "data": {
            "text/plain": [
              "             overall\n",
              "reviewTime          \n",
              "2000-11-30  5.000000\n",
              "2001-05-31  5.000000\n",
              "2001-08-31  2.000000\n",
              "2002-02-28  5.000000\n",
              "2002-12-31  5.000000\n",
              "...              ...\n",
              "2018-01-31  4.390769\n",
              "2018-02-28  4.341889\n",
              "2018-03-31  4.383130\n",
              "2018-04-30  4.310855\n",
              "2018-05-31  4.285714\n",
              "\n",
              "[180 rows x 1 columns]"
            ],
            "text/html": [
              "\n",
              "  <div id=\"df-602af46f-12ed-4cd6-9131-35ca10709e04\">\n",
              "    <div class=\"colab-df-container\">\n",
              "      <div>\n",
              "<style scoped>\n",
              "    .dataframe tbody tr th:only-of-type {\n",
              "        vertical-align: middle;\n",
              "    }\n",
              "\n",
              "    .dataframe tbody tr th {\n",
              "        vertical-align: top;\n",
              "    }\n",
              "\n",
              "    .dataframe thead th {\n",
              "        text-align: right;\n",
              "    }\n",
              "</style>\n",
              "<table border=\"1\" class=\"dataframe\">\n",
              "  <thead>\n",
              "    <tr style=\"text-align: right;\">\n",
              "      <th></th>\n",
              "      <th>overall</th>\n",
              "    </tr>\n",
              "    <tr>\n",
              "      <th>reviewTime</th>\n",
              "      <th></th>\n",
              "    </tr>\n",
              "  </thead>\n",
              "  <tbody>\n",
              "    <tr>\n",
              "      <th>2000-11-30</th>\n",
              "      <td>5.000000</td>\n",
              "    </tr>\n",
              "    <tr>\n",
              "      <th>2001-05-31</th>\n",
              "      <td>5.000000</td>\n",
              "    </tr>\n",
              "    <tr>\n",
              "      <th>2001-08-31</th>\n",
              "      <td>2.000000</td>\n",
              "    </tr>\n",
              "    <tr>\n",
              "      <th>2002-02-28</th>\n",
              "      <td>5.000000</td>\n",
              "    </tr>\n",
              "    <tr>\n",
              "      <th>2002-12-31</th>\n",
              "      <td>5.000000</td>\n",
              "    </tr>\n",
              "    <tr>\n",
              "      <th>...</th>\n",
              "      <td>...</td>\n",
              "    </tr>\n",
              "    <tr>\n",
              "      <th>2018-01-31</th>\n",
              "      <td>4.390769</td>\n",
              "    </tr>\n",
              "    <tr>\n",
              "      <th>2018-02-28</th>\n",
              "      <td>4.341889</td>\n",
              "    </tr>\n",
              "    <tr>\n",
              "      <th>2018-03-31</th>\n",
              "      <td>4.383130</td>\n",
              "    </tr>\n",
              "    <tr>\n",
              "      <th>2018-04-30</th>\n",
              "      <td>4.310855</td>\n",
              "    </tr>\n",
              "    <tr>\n",
              "      <th>2018-05-31</th>\n",
              "      <td>4.285714</td>\n",
              "    </tr>\n",
              "  </tbody>\n",
              "</table>\n",
              "<p>180 rows × 1 columns</p>\n",
              "</div>\n",
              "      <button class=\"colab-df-convert\" onclick=\"convertToInteractive('df-602af46f-12ed-4cd6-9131-35ca10709e04')\"\n",
              "              title=\"Convert this dataframe to an interactive table.\"\n",
              "              style=\"display:none;\">\n",
              "        \n",
              "  <svg xmlns=\"http://www.w3.org/2000/svg\" height=\"24px\"viewBox=\"0 0 24 24\"\n",
              "       width=\"24px\">\n",
              "    <path d=\"M0 0h24v24H0V0z\" fill=\"none\"/>\n",
              "    <path d=\"M18.56 5.44l.94 2.06.94-2.06 2.06-.94-2.06-.94-.94-2.06-.94 2.06-2.06.94zm-11 1L8.5 8.5l.94-2.06 2.06-.94-2.06-.94L8.5 2.5l-.94 2.06-2.06.94zm10 10l.94 2.06.94-2.06 2.06-.94-2.06-.94-.94-2.06-.94 2.06-2.06.94z\"/><path d=\"M17.41 7.96l-1.37-1.37c-.4-.4-.92-.59-1.43-.59-.52 0-1.04.2-1.43.59L10.3 9.45l-7.72 7.72c-.78.78-.78 2.05 0 2.83L4 21.41c.39.39.9.59 1.41.59.51 0 1.02-.2 1.41-.59l7.78-7.78 2.81-2.81c.8-.78.8-2.07 0-2.86zM5.41 20L4 18.59l7.72-7.72 1.47 1.35L5.41 20z\"/>\n",
              "  </svg>\n",
              "      </button>\n",
              "      \n",
              "  <style>\n",
              "    .colab-df-container {\n",
              "      display:flex;\n",
              "      flex-wrap:wrap;\n",
              "      gap: 12px;\n",
              "    }\n",
              "\n",
              "    .colab-df-convert {\n",
              "      background-color: #E8F0FE;\n",
              "      border: none;\n",
              "      border-radius: 50%;\n",
              "      cursor: pointer;\n",
              "      display: none;\n",
              "      fill: #1967D2;\n",
              "      height: 32px;\n",
              "      padding: 0 0 0 0;\n",
              "      width: 32px;\n",
              "    }\n",
              "\n",
              "    .colab-df-convert:hover {\n",
              "      background-color: #E2EBFA;\n",
              "      box-shadow: 0px 1px 2px rgba(60, 64, 67, 0.3), 0px 1px 3px 1px rgba(60, 64, 67, 0.15);\n",
              "      fill: #174EA6;\n",
              "    }\n",
              "\n",
              "    [theme=dark] .colab-df-convert {\n",
              "      background-color: #3B4455;\n",
              "      fill: #D2E3FC;\n",
              "    }\n",
              "\n",
              "    [theme=dark] .colab-df-convert:hover {\n",
              "      background-color: #434B5C;\n",
              "      box-shadow: 0px 1px 3px 1px rgba(0, 0, 0, 0.15);\n",
              "      filter: drop-shadow(0px 1px 2px rgba(0, 0, 0, 0.3));\n",
              "      fill: #FFFFFF;\n",
              "    }\n",
              "  </style>\n",
              "\n",
              "      <script>\n",
              "        const buttonEl =\n",
              "          document.querySelector('#df-602af46f-12ed-4cd6-9131-35ca10709e04 button.colab-df-convert');\n",
              "        buttonEl.style.display =\n",
              "          google.colab.kernel.accessAllowed ? 'block' : 'none';\n",
              "\n",
              "        async function convertToInteractive(key) {\n",
              "          const element = document.querySelector('#df-602af46f-12ed-4cd6-9131-35ca10709e04');\n",
              "          const dataTable =\n",
              "            await google.colab.kernel.invokeFunction('convertToInteractive',\n",
              "                                                     [key], {});\n",
              "          if (!dataTable) return;\n",
              "\n",
              "          const docLinkHtml = 'Like what you see? Visit the ' +\n",
              "            '<a target=\"_blank\" href=https://colab.research.google.com/notebooks/data_table.ipynb>data table notebook</a>'\n",
              "            + ' to learn more about interactive tables.';\n",
              "          element.innerHTML = '';\n",
              "          dataTable['output_type'] = 'display_data';\n",
              "          await google.colab.output.renderOutput(dataTable, element);\n",
              "          const docLink = document.createElement('div');\n",
              "          docLink.innerHTML = docLinkHtml;\n",
              "          element.appendChild(docLink);\n",
              "        }\n",
              "      </script>\n",
              "    </div>\n",
              "  </div>\n",
              "  "
            ]
          },
          "metadata": {},
          "execution_count": 155
        }
      ]
    },
    {
      "cell_type": "markdown",
      "source": [
        "## Using Differencing method to find the D value :"
      ],
      "metadata": {
        "id": "32r6mFvk418O"
      }
    },
    {
      "cell_type": "code",
      "source": [
        "dummy_data['diff_1'] = diff(dummy_data['overall'],k_diff = 1)\n",
        "dummy_data.head()"
      ],
      "metadata": {
        "colab": {
          "base_uri": "https://localhost:8080/",
          "height": 237
        },
        "id": "OyEhJtwn40Fc",
        "outputId": "b35942da-74cb-49f9-ec72-f10d6e670258"
      },
      "execution_count": 156,
      "outputs": [
        {
          "output_type": "execute_result",
          "data": {
            "text/plain": [
              "            overall  diff_1\n",
              "reviewTime                 \n",
              "2000-11-30      5.0     NaN\n",
              "2001-05-31      5.0     0.0\n",
              "2001-08-31      2.0    -3.0\n",
              "2002-02-28      5.0     3.0\n",
              "2002-12-31      5.0     0.0"
            ],
            "text/html": [
              "\n",
              "  <div id=\"df-18b62f32-aa4d-478c-9c83-543863aecf8a\">\n",
              "    <div class=\"colab-df-container\">\n",
              "      <div>\n",
              "<style scoped>\n",
              "    .dataframe tbody tr th:only-of-type {\n",
              "        vertical-align: middle;\n",
              "    }\n",
              "\n",
              "    .dataframe tbody tr th {\n",
              "        vertical-align: top;\n",
              "    }\n",
              "\n",
              "    .dataframe thead th {\n",
              "        text-align: right;\n",
              "    }\n",
              "</style>\n",
              "<table border=\"1\" class=\"dataframe\">\n",
              "  <thead>\n",
              "    <tr style=\"text-align: right;\">\n",
              "      <th></th>\n",
              "      <th>overall</th>\n",
              "      <th>diff_1</th>\n",
              "    </tr>\n",
              "    <tr>\n",
              "      <th>reviewTime</th>\n",
              "      <th></th>\n",
              "      <th></th>\n",
              "    </tr>\n",
              "  </thead>\n",
              "  <tbody>\n",
              "    <tr>\n",
              "      <th>2000-11-30</th>\n",
              "      <td>5.0</td>\n",
              "      <td>NaN</td>\n",
              "    </tr>\n",
              "    <tr>\n",
              "      <th>2001-05-31</th>\n",
              "      <td>5.0</td>\n",
              "      <td>0.0</td>\n",
              "    </tr>\n",
              "    <tr>\n",
              "      <th>2001-08-31</th>\n",
              "      <td>2.0</td>\n",
              "      <td>-3.0</td>\n",
              "    </tr>\n",
              "    <tr>\n",
              "      <th>2002-02-28</th>\n",
              "      <td>5.0</td>\n",
              "      <td>3.0</td>\n",
              "    </tr>\n",
              "    <tr>\n",
              "      <th>2002-12-31</th>\n",
              "      <td>5.0</td>\n",
              "      <td>0.0</td>\n",
              "    </tr>\n",
              "  </tbody>\n",
              "</table>\n",
              "</div>\n",
              "      <button class=\"colab-df-convert\" onclick=\"convertToInteractive('df-18b62f32-aa4d-478c-9c83-543863aecf8a')\"\n",
              "              title=\"Convert this dataframe to an interactive table.\"\n",
              "              style=\"display:none;\">\n",
              "        \n",
              "  <svg xmlns=\"http://www.w3.org/2000/svg\" height=\"24px\"viewBox=\"0 0 24 24\"\n",
              "       width=\"24px\">\n",
              "    <path d=\"M0 0h24v24H0V0z\" fill=\"none\"/>\n",
              "    <path d=\"M18.56 5.44l.94 2.06.94-2.06 2.06-.94-2.06-.94-.94-2.06-.94 2.06-2.06.94zm-11 1L8.5 8.5l.94-2.06 2.06-.94-2.06-.94L8.5 2.5l-.94 2.06-2.06.94zm10 10l.94 2.06.94-2.06 2.06-.94-2.06-.94-.94-2.06-.94 2.06-2.06.94z\"/><path d=\"M17.41 7.96l-1.37-1.37c-.4-.4-.92-.59-1.43-.59-.52 0-1.04.2-1.43.59L10.3 9.45l-7.72 7.72c-.78.78-.78 2.05 0 2.83L4 21.41c.39.39.9.59 1.41.59.51 0 1.02-.2 1.41-.59l7.78-7.78 2.81-2.81c.8-.78.8-2.07 0-2.86zM5.41 20L4 18.59l7.72-7.72 1.47 1.35L5.41 20z\"/>\n",
              "  </svg>\n",
              "      </button>\n",
              "      \n",
              "  <style>\n",
              "    .colab-df-container {\n",
              "      display:flex;\n",
              "      flex-wrap:wrap;\n",
              "      gap: 12px;\n",
              "    }\n",
              "\n",
              "    .colab-df-convert {\n",
              "      background-color: #E8F0FE;\n",
              "      border: none;\n",
              "      border-radius: 50%;\n",
              "      cursor: pointer;\n",
              "      display: none;\n",
              "      fill: #1967D2;\n",
              "      height: 32px;\n",
              "      padding: 0 0 0 0;\n",
              "      width: 32px;\n",
              "    }\n",
              "\n",
              "    .colab-df-convert:hover {\n",
              "      background-color: #E2EBFA;\n",
              "      box-shadow: 0px 1px 2px rgba(60, 64, 67, 0.3), 0px 1px 3px 1px rgba(60, 64, 67, 0.15);\n",
              "      fill: #174EA6;\n",
              "    }\n",
              "\n",
              "    [theme=dark] .colab-df-convert {\n",
              "      background-color: #3B4455;\n",
              "      fill: #D2E3FC;\n",
              "    }\n",
              "\n",
              "    [theme=dark] .colab-df-convert:hover {\n",
              "      background-color: #434B5C;\n",
              "      box-shadow: 0px 1px 3px 1px rgba(0, 0, 0, 0.15);\n",
              "      filter: drop-shadow(0px 1px 2px rgba(0, 0, 0, 0.3));\n",
              "      fill: #FFFFFF;\n",
              "    }\n",
              "  </style>\n",
              "\n",
              "      <script>\n",
              "        const buttonEl =\n",
              "          document.querySelector('#df-18b62f32-aa4d-478c-9c83-543863aecf8a button.colab-df-convert');\n",
              "        buttonEl.style.display =\n",
              "          google.colab.kernel.accessAllowed ? 'block' : 'none';\n",
              "\n",
              "        async function convertToInteractive(key) {\n",
              "          const element = document.querySelector('#df-18b62f32-aa4d-478c-9c83-543863aecf8a');\n",
              "          const dataTable =\n",
              "            await google.colab.kernel.invokeFunction('convertToInteractive',\n",
              "                                                     [key], {});\n",
              "          if (!dataTable) return;\n",
              "\n",
              "          const docLinkHtml = 'Like what you see? Visit the ' +\n",
              "            '<a target=\"_blank\" href=https://colab.research.google.com/notebooks/data_table.ipynb>data table notebook</a>'\n",
              "            + ' to learn more about interactive tables.';\n",
              "          element.innerHTML = '';\n",
              "          dataTable['output_type'] = 'display_data';\n",
              "          await google.colab.output.renderOutput(dataTable, element);\n",
              "          const docLink = document.createElement('div');\n",
              "          docLink.innerHTML = docLinkHtml;\n",
              "          element.appendChild(docLink);\n",
              "        }\n",
              "      </script>\n",
              "    </div>\n",
              "  </div>\n",
              "  "
            ]
          },
          "metadata": {},
          "execution_count": 156
        }
      ]
    },
    {
      "cell_type": "code",
      "source": [
        "# Again Stationarity check\n",
        "checkStationarity(dummy_data['diff_1'].dropna())"
      ],
      "metadata": {
        "colab": {
          "base_uri": "https://localhost:8080/",
          "height": 52
        },
        "id": "L4sxUAQl5rJi",
        "outputId": "addbeb84-ba7f-4fbc-e777-63fdcabd3a8c"
      },
      "execution_count": 157,
      "outputs": [
        {
          "output_type": "stream",
          "name": "stdout",
          "text": [
            "4.313750006622781e-18\n"
          ]
        },
        {
          "output_type": "execute_result",
          "data": {
            "text/plain": [
              "'pvalue=4.313750006622781e-18. Data is Stationary. Proceed to model building'"
            ],
            "application/vnd.google.colaboratory.intrinsic+json": {
              "type": "string"
            }
          },
          "metadata": {},
          "execution_count": 157
        }
      ]
    },
    {
      "cell_type": "markdown",
      "source": [
        "By one differencing only the data became stationary.\n",
        "So the **D value = 1.**"
      ],
      "metadata": {
        "id": "qNJ_d4Du6Ppx"
      }
    },
    {
      "cell_type": "markdown",
      "source": [
        "### Plot ACF and PACF "
      ],
      "metadata": {
        "id": "VOL_nLdJ6tdJ"
      }
    },
    {
      "cell_type": "code",
      "source": [
        "plot_acf(dummy_data['diff_1'].dropna(),lags=40)\n",
        "plot_pacf(dummy_data['diff_1'].dropna(),lags=40)"
      ],
      "metadata": {
        "colab": {
          "base_uri": "https://localhost:8080/",
          "height": 1000
        },
        "id": "AxSaFWKm6L0s",
        "outputId": "b480be24-ce29-49bc-89b1-788fc411c728"
      },
      "execution_count": 158,
      "outputs": [
        {
          "output_type": "execute_result",
          "data": {
            "text/plain": [
              "<Figure size 640x480 with 1 Axes>"
            ],
            "image/png": "[encoded data removed]"
          },
          "metadata": {},
          "execution_count": 158
        },
        {
          "output_type": "display_data",
          "data": {
            "text/plain": [
              "<Figure size 640x480 with 1 Axes>"
            ],
            "image/png": "[encoded data removed]"
          },
          "metadata": {}
        },
        {
          "output_type": "display_data",
          "data": {
            "text/plain": [
              "<Figure size 640x480 with 1 Axes>"
            ],
            "image/png": "[encoded data removed]"
          },
          "metadata": {}
        }
      ]
    },
    {
      "cell_type": "markdown",
      "source": [
        "Adjusting the values of P and Q to get the most accurate model."
      ],
      "metadata": {
        "id": "rYtDSoZ48Sap"
      }
    },
    {
      "cell_type": "markdown",
      "source": [
        "* From ACF =  q value = 6[0,1,2,3,4,5,6]\n",
        "* From PACF = p value = 6[0,1,2,3,4,5,6]\n",
        "* From ACF = Q value = 2[0,1,2]\n",
        "* From PACF = P value = 2[0,1,2]\n",
        "* Difference level = d value = 1"
      ],
      "metadata": {
        "id": "IDpzfn9f78wx"
      }
    },
    {
      "cell_type": "markdown",
      "source": [
        "### Finding the Best Hyperparameters for SARIMA:"
      ],
      "metadata": {
        "id": "eoFf2xJZSAWK"
      }
    },
    {
      "cell_type": "code",
      "source": [
        "p=4;q=6;d=1;\n",
        "for i in range(0,3):\n",
        "    for j in range(0,3):\n",
        "        sar=sm.tsa.statespace.SARIMAX(data,order=(p,d,q),seasonal_order=(i,1,j,24)).fit()\n",
        "        print(sar.summary())"
      ],
      "metadata": {
        "colab": {
          "base_uri": "https://localhost:8080/"
        },
        "id": "lscqoL867RXS",
        "outputId": "0d210e56-e745-4212-f9f7-a6c40370438f"
      },
      "execution_count": 159,
      "outputs": [
        {
          "output_type": "stream",
          "name": "stdout",
          "text": [
            "                                      SARIMAX Results                                      \n",
            "===========================================================================================\n",
            "Dep. Variable:                             overall   No. Observations:                  180\n",
            "Model:             SARIMAX(4, 1, 6)x(0, 1, [], 24)   Log Likelihood                 -25.067\n",
            "Date:                             Tue, 04 Apr 2023   AIC                             72.134\n",
            "Time:                                     11:18:28   BIC                            105.612\n",
            "Sample:                                          0   HQIC                            85.732\n",
            "                                             - 180                                         \n",
            "Covariance Type:                               opg                                         \n",
            "==============================================================================\n",
            "                 coef    std err          z      P>|z|      [0.025      0.975]\n",
            "------------------------------------------------------------------------------\n",
            "ar.L1         -1.2475      0.096    -12.997      0.000      -1.436      -1.059\n",
            "ar.L2         -1.5944      0.153    -10.441      0.000      -1.894      -1.295\n",
            "ar.L3         -0.7682      0.133     -5.766      0.000      -1.029      -0.507\n",
            "ar.L4         -0.3214      0.118     -2.723      0.006      -0.553      -0.090\n",
            "ma.L1          0.1744      0.979      0.178      0.859      -1.745       2.094\n",
            "ma.L2          0.1854      1.170      0.158      0.874      -2.108       2.479\n",
            "ma.L3         -0.2793      1.339     -0.209      0.835      -2.904       2.346\n",
            "ma.L4         -0.1861      1.072     -0.173      0.862      -2.288       1.916\n",
            "ma.L5         -0.2653      0.883     -0.301      0.764      -1.995       1.465\n",
            "ma.L6         -0.6203      0.625     -0.992      0.321      -1.845       0.605\n",
            "sigma2         0.0759      0.074      1.022      0.307      -0.070       0.221\n",
            "===================================================================================\n",
            "Ljung-Box (L1) (Q):                   0.38   Jarque-Bera (JB):               246.70\n",
            "Prob(Q):                              0.54   Prob(JB):                         0.00\n",
            "Heteroskedasticity (H):               0.04   Skew:                            -0.18\n",
            "Prob(H) (two-sided):                  0.00   Kurtosis:                         9.17\n",
            "===================================================================================\n",
            "\n",
            "Warnings:\n",
            "[1] Covariance matrix calculated using the outer product of gradients (complex-step).\n",
            "                                      SARIMAX Results                                       \n",
            "============================================================================================\n",
            "Dep. Variable:                              overall   No. Observations:                  180\n",
            "Model:             SARIMAX(4, 1, 6)x(0, 1, [1], 24)   Log Likelihood                 -21.912\n",
            "Date:                              Tue, 04 Apr 2023   AIC                             67.823\n",
            "Time:                                      11:18:43   BIC                            104.344\n",
            "Sample:                                           0   HQIC                            82.657\n",
            "                                              - 180                                         \n",
            "Covariance Type:                                opg                                         \n",
            "==============================================================================\n",
            "                 coef    std err          z      P>|z|      [0.025      0.975]\n",
            "------------------------------------------------------------------------------\n",
            "ar.L1         -1.3678      0.111    -12.275      0.000      -1.586      -1.149\n",
            "ar.L2         -1.7356      0.175     -9.903      0.000      -2.079      -1.392\n",
            "ar.L3         -0.9015      0.166     -5.441      0.000      -1.226      -0.577\n",
            "ar.L4         -0.3479      0.128     -2.727      0.006      -0.598      -0.098\n",
            "ma.L1          0.2593      3.505      0.074      0.941      -6.611       7.130\n",
            "ma.L2          0.1509      4.463      0.034      0.973      -8.596       8.898\n",
            "ma.L3         -0.4266      4.934     -0.086      0.931     -10.097       9.244\n",
            "ma.L4         -0.2369      3.475     -0.068      0.946      -7.048       6.574\n",
            "ma.L5         -0.2209      2.607     -0.085      0.932      -5.331       4.889\n",
            "ma.L6         -0.5230      1.848     -0.283      0.777      -4.145       3.099\n",
            "ma.S.L24      -0.3252      0.117     -2.771      0.006      -0.555      -0.095\n",
            "sigma2         0.0711      0.249      0.286      0.775      -0.416       0.558\n",
            "===================================================================================\n",
            "Ljung-Box (L1) (Q):                   0.55   Jarque-Bera (JB):               305.64\n",
            "Prob(Q):                              0.46   Prob(JB):                         0.00\n",
            "Heteroskedasticity (H):               0.03   Skew:                            -0.24\n",
            "Prob(H) (two-sided):                  0.00   Kurtosis:                         9.86\n",
            "===================================================================================\n",
            "\n",
            "Warnings:\n",
            "[1] Covariance matrix calculated using the outer product of gradients (complex-step).\n",
            "                                        SARIMAX Results                                        \n",
            "===============================================================================================\n",
            "Dep. Variable:                                 overall   No. Observations:                  180\n",
            "Model:             SARIMAX(4, 1, 6)x(0, 1, [1, 2], 24)   Log Likelihood                 -22.597\n",
            "Date:                                 Tue, 04 Apr 2023   AIC                             71.194\n",
            "Time:                                         11:19:11   BIC                            110.759\n",
            "Sample:                                              0   HQIC                            87.264\n",
            "                                                 - 180                                         \n",
            "Covariance Type:                                   opg                                         \n",
            "==============================================================================\n",
            "                 coef    std err          z      P>|z|      [0.025      0.975]\n",
            "------------------------------------------------------------------------------\n",
            "ar.L1         -1.7332      0.110    -15.821      0.000      -1.948      -1.519\n",
            "ar.L2         -2.2448      0.143    -15.744      0.000      -2.524      -1.965\n",
            "ar.L3         -1.4480      0.152     -9.536      0.000      -1.746      -1.150\n",
            "ar.L4         -0.5911      0.094     -6.286      0.000      -0.775      -0.407\n",
            "ma.L1          0.5927      3.602      0.165      0.869      -6.466       7.652\n",
            "ma.L2          0.1814      5.740      0.032      0.975     -11.068      11.431\n",
            "ma.L3         -0.6225      6.386     -0.097      0.922     -13.139      11.894\n",
            "ma.L4         -0.5460      4.158     -0.131      0.896      -8.696       7.604\n",
            "ma.L5         -0.2921      2.196     -0.133      0.894      -4.596       4.012\n",
            "ma.L6         -0.3105      1.148     -0.270      0.787      -2.561       1.940\n",
            "ma.S.L24      -0.4714      0.129     -3.657      0.000      -0.724      -0.219\n",
            "ma.S.L48       0.0147      0.128      0.115      0.908      -0.236       0.266\n",
            "sigma2         0.0704      0.254      0.278      0.781      -0.427       0.567\n",
            "===================================================================================\n",
            "Ljung-Box (L1) (Q):                   0.84   Jarque-Bera (JB):               268.72\n",
            "Prob(Q):                              0.36   Prob(JB):                         0.00\n",
            "Heteroskedasticity (H):               0.04   Skew:                            -0.31\n",
            "Prob(H) (two-sided):                  0.00   Kurtosis:                         9.42\n",
            "===================================================================================\n",
            "\n",
            "Warnings:\n",
            "[1] Covariance matrix calculated using the outer product of gradients (complex-step).\n",
            "                                      SARIMAX Results                                      \n",
            "===========================================================================================\n",
            "Dep. Variable:                             overall   No. Observations:                  180\n",
            "Model:             SARIMAX(4, 1, 6)x(1, 1, [], 24)   Log Likelihood                 -23.835\n",
            "Date:                             Tue, 04 Apr 2023   AIC                             71.671\n",
            "Time:                                     11:19:23   BIC                            108.192\n",
            "Sample:                                          0   HQIC                            86.505\n",
            "                                             - 180                                         \n",
            "Covariance Type:                               opg                                         \n",
            "==============================================================================\n",
            "                 coef    std err          z      P>|z|      [0.025      0.975]\n",
            "------------------------------------------------------------------------------\n",
            "ar.L1         -1.8251      0.116    -15.709      0.000      -2.053      -1.597\n",
            "ar.L2         -2.3672      0.150    -15.807      0.000      -2.661      -2.074\n",
            "ar.L3         -1.5903      0.160     -9.945      0.000      -1.904      -1.277\n",
            "ar.L4         -0.6700      0.095     -7.033      0.000      -0.857      -0.483\n",
            "ma.L1          0.7171      2.732      0.263      0.793      -4.637       6.072\n",
            "ma.L2          0.1988      4.675      0.043      0.966      -8.964       9.361\n",
            "ma.L3         -0.6474      5.215     -0.124      0.901     -10.868       9.573\n",
            "ma.L4         -0.6443      3.456     -0.186      0.852      -7.418       6.129\n",
            "ma.L5         -0.3624      1.716     -0.211      0.833      -3.727       3.002\n",
            "ma.L6         -0.2586      0.736     -0.351      0.725      -1.701       1.184\n",
            "ar.S.L24      -0.3998      0.071     -5.594      0.000      -0.540      -0.260\n",
            "sigma2         0.0735      0.200      0.368      0.713      -0.318       0.465\n",
            "===================================================================================\n",
            "Ljung-Box (L1) (Q):                   1.19   Jarque-Bera (JB):               300.45\n",
            "Prob(Q):                              0.27   Prob(JB):                         0.00\n",
            "Heteroskedasticity (H):               0.04   Skew:                            -0.11\n",
            "Prob(H) (two-sided):                  0.00   Kurtosis:                         9.82\n",
            "===================================================================================\n",
            "\n",
            "Warnings:\n",
            "[1] Covariance matrix calculated using the outer product of gradients (complex-step).\n",
            "                                      SARIMAX Results                                       \n",
            "============================================================================================\n",
            "Dep. Variable:                              overall   No. Observations:                  180\n",
            "Model:             SARIMAX(4, 1, 6)x(1, 1, [1], 24)   Log Likelihood                 -21.948\n",
            "Date:                              Tue, 04 Apr 2023   AIC                             69.896\n",
            "Time:                                      11:19:36   BIC                            109.460\n",
            "Sample:                                           0   HQIC                            85.966\n",
            "                                              - 180                                         \n",
            "Covariance Type:                                opg                                         \n",
            "==============================================================================\n",
            "                 coef    std err          z      P>|z|      [0.025      0.975]\n",
            "------------------------------------------------------------------------------\n",
            "ar.L1         -1.3951      0.110    -12.691      0.000      -1.611      -1.180\n",
            "ar.L2         -1.7711      0.171    -10.367      0.000      -2.106      -1.436\n",
            "ar.L3         -0.9387      0.164     -5.712      0.000      -1.261      -0.617\n",
            "ar.L4         -0.3627      0.122     -2.965      0.003      -0.602      -0.123\n",
            "ma.L1          0.2768      6.172      0.045      0.964     -11.820      12.374\n",
            "ma.L2          0.1529      7.924      0.019      0.985     -15.379      15.685\n",
            "ma.L3         -0.4332      8.818     -0.049      0.961     -17.715      16.849\n",
            "ma.L4         -0.2453      6.176     -0.040      0.968     -12.350      11.859\n",
            "ma.L5         -0.2240      4.626     -0.048      0.961      -9.291       8.843\n",
            "ma.L6         -0.5254      3.258     -0.161      0.872      -6.911       5.860\n",
            "ar.S.L24       0.1182      0.437      0.270      0.787      -0.739       0.975\n",
            "ma.S.L24      -0.4524      0.481     -0.941      0.347      -1.395       0.490\n",
            "sigma2         0.0705      0.435      0.162      0.871      -0.781       0.922\n",
            "===================================================================================\n",
            "Ljung-Box (L1) (Q):                   0.59   Jarque-Bera (JB):               293.97\n",
            "Prob(Q):                              0.44   Prob(JB):                         0.00\n",
            "Heteroskedasticity (H):               0.04   Skew:                            -0.30\n",
            "Prob(H) (two-sided):                  0.00   Kurtosis:                         9.72\n",
            "===================================================================================\n",
            "\n",
            "Warnings:\n",
            "[1] Covariance matrix calculated using the outer product of gradients (complex-step).\n",
            "                                        SARIMAX Results                                        \n",
            "===============================================================================================\n",
            "Dep. Variable:                                 overall   No. Observations:                  180\n",
            "Model:             SARIMAX(4, 1, 6)x(1, 1, [1, 2], 24)   Log Likelihood                 -22.400\n",
            "Date:                                 Tue, 04 Apr 2023   AIC                             72.799\n",
            "Time:                                         11:20:08   BIC                            115.407\n",
            "Sample:                                              0   HQIC                            90.106\n",
            "                                                 - 180                                         \n",
            "Covariance Type:                                   opg                                         \n",
            "==============================================================================\n",
            "                 coef    std err          z      P>|z|      [0.025      0.975]\n",
            "------------------------------------------------------------------------------\n",
            "ar.L1         -1.7274      0.099    -17.446      0.000      -1.921      -1.533\n",
            "ar.L2         -2.2735      0.130    -17.500      0.000      -2.528      -2.019\n",
            "ar.L3         -1.4705      0.135    -10.926      0.000      -1.734      -1.207\n",
            "ar.L4         -0.6183      0.085     -7.249      0.000      -0.786      -0.451\n",
            "ma.L1          0.6091      6.623      0.092      0.927     -12.371      13.589\n",
            "ma.L2          0.2211     10.657      0.021      0.983     -20.667      21.109\n",
            "ma.L3         -0.6167     12.107     -0.051      0.959     -24.347      23.114\n",
            "ma.L4         -0.5654      8.043     -0.070      0.944     -16.330      15.199\n",
            "ma.L5         -0.3174      4.303     -0.074      0.941      -8.751       8.116\n",
            "ma.L6         -0.3291      2.207     -0.149      0.881      -4.655       3.997\n",
            "ar.S.L24      -0.2606      4.051     -0.064      0.949      -8.201       7.679\n",
            "ma.S.L24      -0.1514      4.071     -0.037      0.970      -8.130       7.827\n",
            "ma.S.L48      -0.0664      1.688     -0.039      0.969      -3.375       3.242\n",
            "sigma2         0.0695      0.460      0.151      0.880      -0.832       0.971\n",
            "===================================================================================\n",
            "Ljung-Box (L1) (Q):                   0.60   Jarque-Bera (JB):               290.62\n",
            "Prob(Q):                              0.44   Prob(JB):                         0.00\n",
            "Heteroskedasticity (H):               0.04   Skew:                            -0.57\n",
            "Prob(H) (two-sided):                  0.00   Kurtosis:                         9.61\n",
            "===================================================================================\n",
            "\n",
            "Warnings:\n",
            "[1] Covariance matrix calculated using the outer product of gradients (complex-step).\n",
            "                                      SARIMAX Results                                      \n",
            "===========================================================================================\n",
            "Dep. Variable:                             overall   No. Observations:                  180\n",
            "Model:             SARIMAX(4, 1, 6)x(2, 1, [], 24)   Log Likelihood                 -22.270\n",
            "Date:                             Tue, 04 Apr 2023   AIC                             70.540\n",
            "Time:                                     11:20:39   BIC                            110.105\n",
            "Sample:                                          0   HQIC                            86.610\n",
            "                                             - 180                                         \n",
            "Covariance Type:                               opg                                         \n",
            "==============================================================================\n",
            "                 coef    std err          z      P>|z|      [0.025      0.975]\n",
            "------------------------------------------------------------------------------\n",
            "ar.L1         -1.4983      0.129    -11.576      0.000      -1.752      -1.245\n",
            "ar.L2         -1.8968      0.191     -9.926      0.000      -2.271      -1.522\n",
            "ar.L3         -1.0943      0.191     -5.744      0.000      -1.468      -0.721\n",
            "ar.L4         -0.4156      0.131     -3.167      0.002      -0.673      -0.158\n",
            "ma.L1          0.3519      2.461      0.143      0.886      -4.472       5.176\n",
            "ma.L2          0.1214      3.360      0.036      0.971      -6.465       6.708\n",
            "ma.L3         -0.4851      3.629     -0.134      0.894      -7.598       6.628\n",
            "ma.L4         -0.3343      2.458     -0.136      0.892      -5.152       4.484\n",
            "ma.L5         -0.2147      1.613     -0.133      0.894      -3.376       2.947\n",
            "ma.L6         -0.4352      1.092     -0.399      0.690      -2.575       1.705\n",
            "ar.S.L24      -0.3995      0.120     -3.342      0.001      -0.634      -0.165\n",
            "ar.S.L48      -0.1649      0.164     -1.007      0.314      -0.486       0.156\n",
            "sigma2         0.0709      0.175      0.405      0.686      -0.272       0.414\n",
            "===================================================================================\n",
            "Ljung-Box (L1) (Q):                   0.98   Jarque-Bera (JB):               329.51\n",
            "Prob(Q):                              0.32   Prob(JB):                         0.00\n",
            "Heteroskedasticity (H):               0.04   Skew:                            -0.30\n",
            "Prob(H) (two-sided):                  0.00   Kurtosis:                        10.12\n",
            "===================================================================================\n",
            "\n",
            "Warnings:\n",
            "[1] Covariance matrix calculated using the outer product of gradients (complex-step).\n",
            "                                      SARIMAX Results                                       \n",
            "============================================================================================\n",
            "Dep. Variable:                              overall   No. Observations:                  180\n",
            "Model:             SARIMAX(4, 1, 6)x(2, 1, [1], 24)   Log Likelihood                 -21.580\n",
            "Date:                              Tue, 04 Apr 2023   AIC                             71.161\n",
            "Time:                                      11:21:07   BIC                            113.769\n",
            "Sample:                                           0   HQIC                            88.467\n",
            "                                              - 180                                         \n",
            "Covariance Type:                                opg                                         \n",
            "==============================================================================\n",
            "                 coef    std err          z      P>|z|      [0.025      0.975]\n",
            "------------------------------------------------------------------------------\n",
            "ar.L1         -2.1250      0.079    -26.957      0.000      -2.279      -1.970\n",
            "ar.L2         -2.7319      0.121    -22.623      0.000      -2.969      -2.495\n",
            "ar.L3         -2.0607      0.116    -17.734      0.000      -2.288      -1.833\n",
            "ar.L4         -0.8906      0.080    -11.198      0.000      -1.046      -0.735\n",
            "ma.L1          1.0109      7.602      0.133      0.894     -13.889      15.911\n",
            "ma.L2          0.2012     15.276      0.013      0.989     -29.739      30.142\n",
            "ma.L3         -0.6248     16.794     -0.037      0.970     -33.540      32.291\n",
            "ma.L4         -0.8132     12.044     -0.068      0.946     -24.419      22.792\n",
            "ma.L5         -0.5977      5.879     -0.102      0.919     -12.121      10.926\n",
            "ma.L6         -0.1750      1.346     -0.130      0.897      -2.814       2.464\n",
            "ar.S.L24      -0.2622      0.934     -0.281      0.779      -2.093       1.569\n",
            "ar.S.L48      -0.0692      0.448     -0.154      0.877      -0.947       0.809\n",
            "ma.S.L24      -0.2598      0.960     -0.271      0.787      -2.141       1.621\n",
            "sigma2         0.0684      0.518      0.132      0.895      -0.947       1.084\n",
            "===================================================================================\n",
            "Ljung-Box (L1) (Q):                   0.15   Jarque-Bera (JB):               382.26\n",
            "Prob(Q):                              0.70   Prob(JB):                         0.00\n",
            "Heteroskedasticity (H):               0.04   Skew:                            -1.49\n",
            "Prob(H) (two-sided):                  0.00   Kurtosis:                        10.10\n",
            "===================================================================================\n",
            "\n",
            "Warnings:\n",
            "[1] Covariance matrix calculated using the outer product of gradients (complex-step).\n",
            "                                        SARIMAX Results                                        \n",
            "===============================================================================================\n",
            "Dep. Variable:                                 overall   No. Observations:                  180\n",
            "Model:             SARIMAX(4, 1, 6)x(2, 1, [1, 2], 24)   Log Likelihood                 -23.225\n",
            "Date:                                 Tue, 04 Apr 2023   AIC                             76.450\n",
            "Time:                                         11:21:44   BIC                            122.101\n",
            "Sample:                                              0   HQIC                            94.992\n",
            "                                                 - 180                                         \n",
            "Covariance Type:                                   opg                                         \n",
            "==============================================================================\n",
            "                 coef    std err          z      P>|z|      [0.025      0.975]\n",
            "------------------------------------------------------------------------------\n",
            "ar.L1         -1.8134      0.119    -15.214      0.000      -2.047      -1.580\n",
            "ar.L2         -2.3318      0.159    -14.632      0.000      -2.644      -2.019\n",
            "ar.L3         -1.5634      0.171     -9.151      0.000      -1.898      -1.229\n",
            "ar.L4         -0.6482      0.105     -6.169      0.000      -0.854      -0.442\n",
            "ma.L1          0.6600      2.720      0.243      0.808      -4.670       5.990\n",
            "ma.L2          0.1511      4.497      0.034      0.973      -8.662       8.965\n",
            "ma.L3         -0.6307      4.904     -0.129      0.898     -10.243       8.981\n",
            "ma.L4         -0.5858      3.202     -0.183      0.855      -6.862       5.690\n",
            "ma.L5         -0.3230      1.629     -0.198      0.843      -3.516       2.870\n",
            "ma.L6         -0.2681      0.761     -0.353      0.724      -1.759       1.223\n",
            "ar.S.L24      -0.2405      7.427     -0.032      0.974     -14.798      14.317\n",
            "ar.S.L48      -0.0905      0.953     -0.095      0.924      -1.959       1.778\n",
            "ma.S.L24      -0.2255      7.421     -0.030      0.976     -14.771      14.320\n",
            "ma.S.L48       0.0420      2.649      0.016      0.987      -5.150       5.234\n",
            "sigma2         0.0718      0.195      0.369      0.712      -0.310       0.453\n",
            "===================================================================================\n",
            "Ljung-Box (L1) (Q):                   1.60   Jarque-Bera (JB):               318.85\n",
            "Prob(Q):                              0.21   Prob(JB):                         0.00\n",
            "Heteroskedasticity (H):               0.04   Skew:                            -0.08\n",
            "Prob(H) (two-sided):                  0.00   Kurtosis:                        10.02\n",
            "===================================================================================\n",
            "\n",
            "Warnings:\n",
            "[1] Covariance matrix calculated using the outer product of gradients (complex-step).\n"
          ]
        }
      ]
    },
    {
      "cell_type": "markdown",
      "source": [
        "### Parameters for SARIMA Model:"
      ],
      "metadata": {
        "id": "7CE-zIfyDNnt"
      }
    },
    {
      "cell_type": "markdown",
      "source": [
        "* p=0;q=0;d=1;\n",
        "* P=0;Q=0;D=1;  \n",
        "* AIC -> 269.128\n",
        "-------------------------------------------\n",
        "* p=0;q=1;d=1;\n",
        "* P=0;Q=0;D=1;   \n",
        "* AIC -> 151.521\n",
        "-------------------------------------------\n",
        "* p=0;q=2;d=1;\n",
        "* P=0;Q=0;D=1;   \n",
        "* AIC -> 142.737\n",
        "-------------------------------------------\n",
        "* p=0;q=3;d=1;\n",
        "* P=0;Q=0;D=1;   \n",
        "* AIC -> 139.241\n",
        "-------------------------------------------\n",
        "* p=0;q=4;d=1;\n",
        "* P=0;Q=0;D=1;   \n",
        "* AIC -> 101.632\n",
        "-------------------------------------------\n",
        "In the same way finding Some of the Best p,q,P,Q values with help of AIC.\n",
        "-------------------------------------------\n",
        "* p=6;q=6;d=1;\n",
        "* P=0;Q=1;D=1;   \n",
        "* AIC -> 58.923\n",
        "-------------------------------------------\n",
        "* p=6;q=6;d=1;\n",
        "* P=2;Q=0;D=1;   \n",
        "* AIC -> 59.335\n",
        "-------------------------------------------\n",
        "* p=6;q=6;d=1;\n",
        "* P=0;Q=2;D=1;   \n",
        "* AIC -> 59.823 \n",
        "-------------------------------------------\n",
        "* p=5;q=6;d=1;\n",
        "* P=0;Q=1;D=1;   \n",
        "* AIC -> 67.037\n",
        "-------------------------------------------\n",
        "* p=5;q=6;d=1;\n",
        "* P=1;Q=0;D=1;  \n",
        "* AIC -> 67.218\n",
        "-------------------------------------------"
      ],
      "metadata": {
        "id": "qO5WJV2FDSO9"
      }
    },
    {
      "cell_type": "markdown",
      "source": [
        "### Building the SARIMA Model:"
      ],
      "metadata": {
        "id": "GOvx9fUHrRe4"
      }
    },
    {
      "cell_type": "code",
      "source": [
        "t=int(len(data)*0.7)\n",
        "train=data[:t]\n",
        "test=data[t:]\n",
        "print(len(train))\n",
        "print(len(test))"
      ],
      "metadata": {
        "colab": {
          "base_uri": "https://localhost:8080/"
        },
        "id": "HTVgR8w6swNZ",
        "outputId": "241ecae6-b22f-4d6b-918b-0e56c27c459c"
      },
      "execution_count": 160,
      "outputs": [
        {
          "output_type": "stream",
          "name": "stdout",
          "text": [
            "125\n",
            "55\n"
          ]
        }
      ]
    },
    {
      "cell_type": "code",
      "source": [
        "p=6;q=6;d=1;\n",
        "P=0;Q=1;D=1;\n",
        "sarima=sm.tsa.statespace.SARIMAX(data,order=(p,d,q),seasonal_order=(P,D,Q,24)).fit()\n",
        "print(sarima.summary())"
      ],
      "metadata": {
        "colab": {
          "base_uri": "https://localhost:8080/"
        },
        "id": "eqRMWKHsD3WU",
        "outputId": "37544b4d-f32e-41d6-ab28-7a63d3b8c0ff"
      },
      "execution_count": 174,
      "outputs": [
        {
          "output_type": "stream",
          "name": "stdout",
          "text": [
            "                                      SARIMAX Results                                       \n",
            "============================================================================================\n",
            "Dep. Variable:                              overall   No. Observations:                  180\n",
            "Model:             SARIMAX(6, 1, 6)x(0, 1, [1], 24)   Log Likelihood                 -15.461\n",
            "Date:                              Tue, 04 Apr 2023   AIC                             58.923\n",
            "Time:                                      11:25:43   BIC                            101.531\n",
            "Sample:                                           0   HQIC                            76.229\n",
            "                                              - 180                                         \n",
            "Covariance Type:                                opg                                         \n",
            "==============================================================================\n",
            "                 coef    std err          z      P>|z|      [0.025      0.975]\n",
            "------------------------------------------------------------------------------\n",
            "ar.L1         -1.0771      0.098    -10.983      0.000      -1.269      -0.885\n",
            "ar.L2         -1.0957      0.130     -8.399      0.000      -1.351      -0.840\n",
            "ar.L3         -0.7187      0.155     -4.639      0.000      -1.022      -0.415\n",
            "ar.L4         -0.9275      0.129     -7.195      0.000      -1.180      -0.675\n",
            "ar.L5         -0.6380      0.099     -6.454      0.000      -0.832      -0.444\n",
            "ar.L6         -0.6537      0.060    -10.975      0.000      -0.770      -0.537\n",
            "ma.L1         -0.0913      0.253     -0.361      0.718      -0.587       0.405\n",
            "ma.L2         -0.2801      0.237     -1.184      0.237      -0.744       0.184\n",
            "ma.L3          0.1316      0.248      0.532      0.595      -0.354       0.617\n",
            "ma.L4          0.3243      0.186      1.745      0.081      -0.040       0.689\n",
            "ma.L5         -0.6380      0.287     -2.226      0.026      -1.200      -0.076\n",
            "ma.L6         -0.4253      0.175     -2.430      0.015      -0.768      -0.082\n",
            "ma.S.L24      -0.5133      0.140     -3.663      0.000      -0.788      -0.239\n",
            "sigma2         0.0617      0.016      3.788      0.000       0.030       0.094\n",
            "===================================================================================\n",
            "Ljung-Box (L1) (Q):                   1.44   Jarque-Bera (JB):               102.71\n",
            "Prob(Q):                              0.23   Prob(JB):                         0.00\n",
            "Heteroskedasticity (H):               0.06   Skew:                             0.13\n",
            "Prob(H) (two-sided):                  0.00   Kurtosis:                         6.98\n",
            "===================================================================================\n",
            "\n",
            "Warnings:\n",
            "[1] Covariance matrix calculated using the outer product of gradients (complex-step).\n"
          ]
        }
      ]
    },
    {
      "cell_type": "markdown",
      "source": [
        "### Predicting the Rating of reviews"
      ],
      "metadata": {
        "id": "0OfzSMwPtoNZ"
      }
    },
    {
      "cell_type": "code",
      "source": [
        "predicted=sarima.predict(start=len(train),end=len(train)+54)\n",
        "predicted"
      ],
      "metadata": {
        "colab": {
          "base_uri": "https://localhost:8080/"
        },
        "id": "zfg0S1b6tUCk",
        "outputId": "aea4c9c2-8266-43a8-dee3-73391fc00cd2"
      },
      "execution_count": 175,
      "outputs": [
        {
          "output_type": "execute_result",
          "data": {
            "text/plain": [
              "reviewTime\n",
              "2013-11-30    4.363131\n",
              "2013-12-31    4.259039\n",
              "2014-01-31    4.440845\n",
              "2014-02-28    4.423798\n",
              "2014-03-31    4.319469\n",
              "2014-04-30    4.389385\n",
              "2014-05-31    4.421236\n",
              "2014-06-30    4.334353\n",
              "2014-07-31    4.389754\n",
              "2014-08-31    4.383665\n",
              "2014-09-30    4.307149\n",
              "2014-10-31    4.391219\n",
              "2014-11-30    4.295592\n",
              "2014-12-31    4.381486\n",
              "2015-01-31    4.433044\n",
              "2015-02-28    4.386728\n",
              "2015-03-31    4.531438\n",
              "2015-04-30    4.419646\n",
              "2015-05-31    4.397198\n",
              "2015-06-30    4.436577\n",
              "2015-07-31    4.393495\n",
              "2015-08-31    4.439801\n",
              "2015-09-30    4.473223\n",
              "2015-10-31    4.302916\n",
              "2015-11-30    4.366024\n",
              "2015-12-31    4.304719\n",
              "2016-01-31    4.497574\n",
              "2016-02-29    4.464376\n",
              "2016-03-31    4.319369\n",
              "2016-04-30    4.351628\n",
              "2016-05-31    4.409619\n",
              "2016-06-30    4.511026\n",
              "2016-07-31    4.520264\n",
              "2016-08-31    4.440936\n",
              "2016-09-30    4.356540\n",
              "2016-10-31    4.451730\n",
              "2016-11-30    4.459332\n",
              "2016-12-31    4.525024\n",
              "2017-01-31    4.509552\n",
              "2017-02-28    4.456082\n",
              "2017-03-31    4.480307\n",
              "2017-04-30    4.543624\n",
              "2017-05-31    4.475082\n",
              "2017-06-30    4.543524\n",
              "2017-07-31    4.455230\n",
              "2017-08-31    4.508879\n",
              "2017-09-30    4.537455\n",
              "2017-10-31    4.457129\n",
              "2017-11-30    4.454762\n",
              "2017-12-31    4.448349\n",
              "2018-01-31    4.573048\n",
              "2018-02-28    4.493883\n",
              "2018-03-31    4.456083\n",
              "2018-04-30    4.494086\n",
              "2018-05-31    4.493694\n",
              "Name: predicted_mean, dtype: float64"
            ]
          },
          "metadata": {},
          "execution_count": 175
        }
      ]
    },
    {
      "cell_type": "markdown",
      "source": [
        "### Forecasting the Rating of reviews"
      ],
      "metadata": {
        "id": "Lyp96KR9t1tq"
      }
    },
    {
      "cell_type": "code",
      "source": [
        "fcast=sarima.predict(start=len(data),end=len(data)+30)\n",
        "fcast"
      ],
      "metadata": {
        "colab": {
          "base_uri": "https://localhost:8080/"
        },
        "id": "RavqNCmRtxlQ",
        "outputId": "e723ddec-b098-42b8-937d-e7c3a969a6e3"
      },
      "execution_count": 176,
      "outputs": [
        {
          "output_type": "execute_result",
          "data": {
            "text/plain": [
              "180    4.568496\n",
              "181    4.516161\n",
              "182    4.400006\n",
              "183    4.493137\n",
              "184    4.556530\n",
              "185    4.453454\n",
              "186    4.387017\n",
              "187    4.602348\n",
              "188    4.473411\n",
              "189    4.446977\n",
              "190    4.562441\n",
              "191    4.476177\n",
              "192    4.484080\n",
              "193    4.404648\n",
              "194    4.489415\n",
              "195    4.475385\n",
              "196    4.380865\n",
              "197    4.437936\n",
              "198    4.378268\n",
              "199    4.459514\n",
              "200    4.455848\n",
              "201    4.423744\n",
              "202    4.431758\n",
              "203    4.392135\n",
              "204    4.578121\n",
              "205    4.538193\n",
              "206    4.456374\n",
              "207    4.538613\n",
              "208    4.506816\n",
              "209    4.508206\n",
              "210    4.464898\n",
              "Name: predicted_mean, dtype: float64"
            ]
          },
          "metadata": {},
          "execution_count": 176
        }
      ]
    },
    {
      "cell_type": "code",
      "source": [
        "forecast_dates = pd.date_range(start=data.index[-1], periods=len(fcast)+1, freq='M')[1:]\n",
        "\n",
        "# Set the DateTimeIndex as the index of the forecast DataFrame\n",
        "fcast.index = forecast_dates\n",
        "\n",
        "# Now you can access the index of the forecast DataFrame as a DateTimeIndex\n",
        "print(fcast.index)"
      ],
      "metadata": {
        "colab": {
          "base_uri": "https://localhost:8080/"
        },
        "id": "nnqQ81tg7zFh",
        "outputId": "d69c0517-8ed3-47ac-b2d4-28f1b05f2d1d"
      },
      "execution_count": 177,
      "outputs": [
        {
          "output_type": "stream",
          "name": "stdout",
          "text": [
            "DatetimeIndex(['2018-06-30', '2018-07-31', '2018-08-31', '2018-09-30',\n",
            "               '2018-10-31', '2018-11-30', '2018-12-31', '2019-01-31',\n",
            "               '2019-02-28', '2019-03-31', '2019-04-30', '2019-05-31',\n",
            "               '2019-06-30', '2019-07-31', '2019-08-31', '2019-09-30',\n",
            "               '2019-10-31', '2019-11-30', '2019-12-31', '2020-01-31',\n",
            "               '2020-02-29', '2020-03-31', '2020-04-30', '2020-05-31',\n",
            "               '2020-06-30', '2020-07-31', '2020-08-31', '2020-09-30',\n",
            "               '2020-10-31', '2020-11-30', '2020-12-31'],\n",
            "              dtype='datetime64[ns]', freq='M')\n"
          ]
        }
      ]
    },
    {
      "cell_type": "markdown",
      "source": [
        "### Visualizing Actual ,predcited and forecasted"
      ],
      "metadata": {
        "id": "s4-MQIZmuaI6"
      }
    },
    {
      "cell_type": "code",
      "source": [
        "fig,ax = plt.subplots(figsize=(15,6))\n",
        "plt.plot(train,c = 'blue', label = 'Train data')\n",
        "plt.plot(test,c = 'orange', label = 'Test data')\n",
        "plt.plot(predicted,c = 'green', label = 'Predicted data')\n",
        "plt.plot(fcast,c = 'red', label = 'Forecast data')\n",
        "plt.title('Visualization of Actual data,Predicted data,Forecast data')\n",
        "plt.xlabel('Years')\n",
        "plt.ylabel('Rating')\n",
        "plt.legend()\n",
        "plt.show()"
      ],
      "metadata": {
        "colab": {
          "base_uri": "https://localhost:8080/",
          "height": 531
        },
        "id": "qKc4V8zzufHQ",
        "outputId": "5e5cb8d2-5dc3-4293-e4cc-5b9194b19a2d"
      },
      "execution_count": 178,
      "outputs": [
        {
          "output_type": "display_data",
          "data": {
            "text/plain": [
              "<Figure size 1500x600 with 1 Axes>"
            ],
            "image/png": "[encoded data removed]"
          },
          "metadata": {}
        }
      ]
    },
    {
      "cell_type": "markdown",
      "source": [
        "### Evaluation of SARIMA model:"
      ],
      "metadata": {
        "id": "s75ILzaE_TFQ"
      }
    },
    {
      "cell_type": "code",
      "source": [
        "test1 = round(test,1)\n",
        "predicted1 = round(predicted,1)"
      ],
      "metadata": {
        "id": "hrLsAi3gLU19"
      },
      "execution_count": 179,
      "outputs": []
    },
    {
      "cell_type": "code",
      "source": [
        "mse=mean_squared_error(test1,predicted1)\n",
        "print('MSE :',mse)\n",
        "print('RMSE:',np.sqrt(mse))"
      ],
      "metadata": {
        "colab": {
          "base_uri": "https://localhost:8080/"
        },
        "id": "DUdqsxiI90zc",
        "outputId": "b2db4687-28aa-410e-8bce-ba6a80f6df57"
      },
      "execution_count": 180,
      "outputs": [
        {
          "output_type": "stream",
          "name": "stdout",
          "text": [
            "MSE : 0.010909090909090905\n",
            "RMSE: 0.10444659357341868\n"
          ]
        }
      ]
    },
    {
      "cell_type": "markdown",
      "source": [
        "### Conclusion of Review forecasting using SARIMA Model:"
      ],
      "metadata": {
        "id": "lXqnx3rrBaYC"
      }
    },
    {
      "cell_type": "markdown",
      "source": [
        "The main objective of this task was to build a robust Time Series model that could accurately forecast product ratings over time. In order to achieve this goal, we first selected two important columns from the dataset, namely \"ReviewTime\" and \"Overall\". We then performed various preprocessing steps to ensure that the data was in a suitable format for time series forecasting.\n",
        "\n",
        "These preprocessing steps included formatting the \"ReviewTime\" column into a proper sequence and resampling it on a monthly basis. We also removed any NaN values that could cause issues during the modeling process. Additionally, we explored the components of the data, such as the trend, seasonality, and residuals, to better understand the nature of the data.\n",
        "\n",
        "To ensure that our model was effective in forecasting the product ratings, we performed a stationarity check on the data. This check revealed that the data was non-stationary, which meant that traditional time series models such as ARIMA might not work effectively. However, we identified the Hybrid model SARIMA as a suitable option for handling non-stationary data with trend and seasonality.\n",
        "\n",
        "To prepare the data for SARIMA modeling, we used differencing with a shift and a copy of the data to determine the D-value, which we found to be 1. We also plotted the PACF and ACF using a corellogram to identify the p, q, P, and Q values. After experimenting with different p, q, P, and Q values, we identified the top 5 combinations of values that resulted in the lowest AIC (Akaike Information Criterion) value.\n",
        "\n",
        "Using the best p, q, P, and Q values, we constructed a SARIMA model and trained it on the data. We then used this model to predict values using the test data and forecasted future product ratings. We also created a visualization that displayed the actual, predicted, and forecasted values to gain insight into the model's performance.\n",
        "\n",
        "Finally, we evaluated the SARIMA model's performance and determined that it performed excellently to the best of our knowledge. This was achieved through careful experimentation and testing of various model configurations to ensure that the model was robust and effective in forecasting product ratings over time."
      ],
      "metadata": {
        "id": "9YYTYUW9BgeW"
      }
    },
    {
      "cell_type": "code",
      "source": [],
      "metadata": {
        "id": "6K6hviLPBiWe"
      },
      "execution_count": null,
      "outputs": []
    }
  ],
  "metadata": {
    "colab": {
      "provenance": []
    },
    "kernelspec": {
      "display_name": "Python 3 (ipykernel)",
      "language": "python",
      "name": "python3"
    },
    "language_info": {
      "codemirror_mode": {
        "name": "ipython",
        "version": 3
      },
      "file_extension": ".py",
      "mimetype": "text/x-python",
      "name": "python",
      "nbconvert_exporter": "python",
      "pygments_lexer": "ipython3",
      "version": "3.9.13"
    },
    "widgets": {
      "application/vnd.jupyter.widget-state+json": {
        "a14fe33116e141de9ad7f322863a6cda": {
          "model_module": "@jupyter-widgets/controls",
          "model_name": "HBoxModel",
          "model_module_version": "1.5.0",
          "state": {
            "_dom_classes": [],
            "_model_module": "@jupyter-widgets/controls",
            "_model_module_version": "1.5.0",
            "_model_name": "HBoxModel",
            "_view_count": null,
            "_view_module": "@jupyter-widgets/controls",
            "_view_module_version": "1.5.0",
            "_view_name": "HBoxView",
            "box_style": "",
            "children": [
              "IPY_MODEL_9a5b9673bd9f44cb853f8b7e52e07bad",
              "IPY_MODEL_fcef7626dcfe495d9a78a282642e537a",
              "IPY_MODEL_7dd3ca16e05e4a2dace588eb4e0c3f6e"
            ],
            "layout": "IPY_MODEL_93a4a61106744926a4d824939bbe32d0"
          }
        },
        "9a5b9673bd9f44cb853f8b7e52e07bad": {
          "model_module": "@jupyter-widgets/controls",
          "model_name": "HTMLModel",
          "model_module_version": "1.5.0",
          "state": {
            "_dom_classes": [],
            "_model_module": "@jupyter-widgets/controls",
            "_model_module_version": "1.5.0",
            "_model_name": "HTMLModel",
            "_view_count": null,
            "_view_module": "@jupyter-widgets/controls",
            "_view_module_version": "1.5.0",
            "_view_name": "HTMLView",
            "description": "",
            "description_tooltip": null,
            "layout": "IPY_MODEL_8295f78103ca4e67a2366ec60584f307",
            "placeholder": "​",
            "style": "IPY_MODEL_f947ae0eeca8422c80cc03d54eb6efbe",
            "value": "100%"
          }
        },
        "fcef7626dcfe495d9a78a282642e537a": {
          "model_module": "@jupyter-widgets/controls",
          "model_name": "FloatProgressModel",
          "model_module_version": "1.5.0",
          "state": {
            "_dom_classes": [],
            "_model_module": "@jupyter-widgets/controls",
            "_model_module_version": "1.5.0",
            "_model_name": "FloatProgressModel",
            "_view_count": null,
            "_view_module": "@jupyter-widgets/controls",
            "_view_module_version": "1.5.0",
            "_view_name": "ProgressView",
            "bar_style": "success",
            "description": "",
            "description_tooltip": null,
            "layout": "IPY_MODEL_da4d4ffa771d4a4d940b6a6fbebde4d9",
            "max": 152264,
            "min": 0,
            "orientation": "horizontal",
            "style": "IPY_MODEL_ec2fdf0baaf44adc8aafcf10d2ff9c90",
            "value": 152264
          }
        },
        "7dd3ca16e05e4a2dace588eb4e0c3f6e": {
          "model_module": "@jupyter-widgets/controls",
          "model_name": "HTMLModel",
          "model_module_version": "1.5.0",
          "state": {
            "_dom_classes": [],
            "_model_module": "@jupyter-widgets/controls",
            "_model_module_version": "1.5.0",
            "_model_name": "HTMLModel",
            "_view_count": null,
            "_view_module": "@jupyter-widgets/controls",
            "_view_module_version": "1.5.0",
            "_view_name": "HTMLView",
            "description": "",
            "description_tooltip": null,
            "layout": "IPY_MODEL_80334f8fa6a346e3a90e70c6aba31801",
            "placeholder": "​",
            "style": "IPY_MODEL_c9b4235905f048b296deb8c73758f79b",
            "value": " 152264/152264 [19:48&lt;00:00, 117.77it/s]"
          }
        },
        "93a4a61106744926a4d824939bbe32d0": {
          "model_module": "@jupyter-widgets/base",
          "model_name": "LayoutModel",
          "model_module_version": "1.2.0",
          "state": {
            "_model_module": "@jupyter-widgets/base",
            "_model_module_version": "1.2.0",
            "_model_name": "LayoutModel",
            "_view_count": null,
            "_view_module": "@jupyter-widgets/base",
            "_view_module_version": "1.2.0",
            "_view_name": "LayoutView",
            "align_content": null,
            "align_items": null,
            "align_self": null,
            "border": null,
            "bottom": null,
            "display": null,
            "flex": null,
            "flex_flow": null,
            "grid_area": null,
            "grid_auto_columns": null,
            "grid_auto_flow": null,
            "grid_auto_rows": null,
            "grid_column": null,
            "grid_gap": null,
            "grid_row": null,
            "grid_template_areas": null,
            "grid_template_columns": null,
            "grid_template_rows": null,
            "height": null,
            "justify_content": null,
            "justify_items": null,
            "left": null,
            "margin": null,
            "max_height": null,
            "max_width": null,
            "min_height": null,
            "min_width": null,
            "object_fit": null,
            "object_position": null,
            "order": null,
            "overflow": null,
            "overflow_x": null,
            "overflow_y": null,
            "padding": null,
            "right": null,
            "top": null,
            "visibility": null,
            "width": null
          }
        },
        "8295f78103ca4e67a2366ec60584f307": {
          "model_module": "@jupyter-widgets/base",
          "model_name": "LayoutModel",
          "model_module_version": "1.2.0",
          "state": {
            "_model_module": "@jupyter-widgets/base",
            "_model_module_version": "1.2.0",
            "_model_name": "LayoutModel",
            "_view_count": null,
            "_view_module": "@jupyter-widgets/base",
            "_view_module_version": "1.2.0",
            "_view_name": "LayoutView",
            "align_content": null,
            "align_items": null,
            "align_self": null,
            "border": null,
            "bottom": null,
            "display": null,
            "flex": null,
            "flex_flow": null,
            "grid_area": null,
            "grid_auto_columns": null,
            "grid_auto_flow": null,
            "grid_auto_rows": null,
            "grid_column": null,
            "grid_gap": null,
            "grid_row": null,
            "grid_template_areas": null,
            "grid_template_columns": null,
            "grid_template_rows": null,
            "height": null,
            "justify_content": null,
            "justify_items": null,
            "left": null,
            "margin": null,
            "max_height": null,
            "max_width": null,
            "min_height": null,
            "min_width": null,
            "object_fit": null,
            "object_position": null,
            "order": null,
            "overflow": null,
            "overflow_x": null,
            "overflow_y": null,
            "padding": null,
            "right": null,
            "top": null,
            "visibility": null,
            "width": null
          }
        },
        "f947ae0eeca8422c80cc03d54eb6efbe": {
          "model_module": "@jupyter-widgets/controls",
          "model_name": "DescriptionStyleModel",
          "model_module_version": "1.5.0",
          "state": {
            "_model_module": "@jupyter-widgets/controls",
            "_model_module_version": "1.5.0",
            "_model_name": "DescriptionStyleModel",
            "_view_count": null,
            "_view_module": "@jupyter-widgets/base",
            "_view_module_version": "1.2.0",
            "_view_name": "StyleView",
            "description_width": ""
          }
        },
        "da4d4ffa771d4a4d940b6a6fbebde4d9": {
          "model_module": "@jupyter-widgets/base",
          "model_name": "LayoutModel",
          "model_module_version": "1.2.0",
          "state": {
            "_model_module": "@jupyter-widgets/base",
            "_model_module_version": "1.2.0",
            "_model_name": "LayoutModel",
            "_view_count": null,
            "_view_module": "@jupyter-widgets/base",
            "_view_module_version": "1.2.0",
            "_view_name": "LayoutView",
            "align_content": null,
            "align_items": null,
            "align_self": null,
            "border": null,
            "bottom": null,
            "display": null,
            "flex": null,
            "flex_flow": null,
            "grid_area": null,
            "grid_auto_columns": null,
            "grid_auto_flow": null,
            "grid_auto_rows": null,
            "grid_column": null,
            "grid_gap": null,
            "grid_row": null,
            "grid_template_areas": null,
            "grid_template_columns": null,
            "grid_template_rows": null,
            "height": null,
            "justify_content": null,
            "justify_items": null,
            "left": null,
            "margin": null,
            "max_height": null,
            "max_width": null,
            "min_height": null,
            "min_width": null,
            "object_fit": null,
            "object_position": null,
            "order": null,
            "overflow": null,
            "overflow_x": null,
            "overflow_y": null,
            "padding": null,
            "right": null,
            "top": null,
            "visibility": null,
            "width": null
          }
        },
        "ec2fdf0baaf44adc8aafcf10d2ff9c90": {
          "model_module": "@jupyter-widgets/controls",
          "model_name": "ProgressStyleModel",
          "model_module_version": "1.5.0",
          "state": {
            "_model_module": "@jupyter-widgets/controls",
            "_model_module_version": "1.5.0",
            "_model_name": "ProgressStyleModel",
            "_view_count": null,
            "_view_module": "@jupyter-widgets/base",
            "_view_module_version": "1.2.0",
            "_view_name": "StyleView",
            "bar_color": null,
            "description_width": ""
          }
        },
        "80334f8fa6a346e3a90e70c6aba31801": {
          "model_module": "@jupyter-widgets/base",
          "model_name": "LayoutModel",
          "model_module_version": "1.2.0",
          "state": {
            "_model_module": "@jupyter-widgets/base",
            "_model_module_version": "1.2.0",
            "_model_name": "LayoutModel",
            "_view_count": null,
            "_view_module": "@jupyter-widgets/base",
            "_view_module_version": "1.2.0",
            "_view_name": "LayoutView",
            "align_content": null,
            "align_items": null,
            "align_self": null,
            "border": null,
            "bottom": null,
            "display": null,
            "flex": null,
            "flex_flow": null,
            "grid_area": null,
            "grid_auto_columns": null,
            "grid_auto_flow": null,
            "grid_auto_rows": null,
            "grid_column": null,
            "grid_gap": null,
            "grid_row": null,
            "grid_template_areas": null,
            "grid_template_columns": null,
            "grid_template_rows": null,
            "height": null,
            "justify_content": null,
            "justify_items": null,
            "left": null,
            "margin": null,
            "max_height": null,
            "max_width": null,
            "min_height": null,
            "min_width": null,
            "object_fit": null,
            "object_position": null,
            "order": null,
            "overflow": null,
            "overflow_x": null,
            "overflow_y": null,
            "padding": null,
            "right": null,
            "top": null,
            "visibility": null,
            "width": null
          }
        },
        "c9b4235905f048b296deb8c73758f79b": {
          "model_module": "@jupyter-widgets/controls",
          "model_name": "DescriptionStyleModel",
          "model_module_version": "1.5.0",
          "state": {
            "_model_module": "@jupyter-widgets/controls",
            "_model_module_version": "1.5.0",
            "_model_name": "DescriptionStyleModel",
            "_view_count": null,
            "_view_module": "@jupyter-widgets/base",
            "_view_module_version": "1.2.0",
            "_view_name": "StyleView",
            "description_width": ""
          }
        }
      }
    }
  },
  "nbformat": 4,
  "nbformat_minor": 0
}