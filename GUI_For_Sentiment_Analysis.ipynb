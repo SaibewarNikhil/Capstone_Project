{
 "cells": [
  {
   "cell_type": "code",
   "execution_count": 1,
   "id": "5576c1f3",
   "metadata": {},
   "outputs": [
    {
     "name": "stdout",
     "output_type": "stream",
     "text": [
      "Collecting pyqt5\n",
      "  Downloading PyQt5-5.15.9-cp37-abi3-win_amd64.whl (6.8 MB)\n",
      "     ---------------------------------------- 6.8/6.8 MB 3.6 MB/s eta 0:00:00\n",
      "Collecting PyQt5-Qt5>=5.15.2\n",
      "  Downloading PyQt5_Qt5-5.15.2-py3-none-win_amd64.whl (50.1 MB)\n",
      "     ---------------------------------------- 50.1/50.1 MB 3.2 MB/s eta 0:00:00\n",
      "Collecting PyQt5-sip<13,>=12.11\n",
      "  Downloading PyQt5_sip-12.12.0-cp39-cp39-win_amd64.whl (78 kB)\n",
      "     ---------------------------------------- 78.4/78.4 kB 4.3 MB/s eta 0:00:00\n",
      "Installing collected packages: PyQt5-Qt5, PyQt5-sip, pyqt5\n",
      "Successfully installed PyQt5-Qt5-5.15.2 PyQt5-sip-12.12.0 pyqt5-5.15.9\n"
     ]
    },
    {
     "name": "stderr",
     "output_type": "stream",
     "text": [
      "ERROR: pip's dependency resolver does not currently take into account all the packages that are installed. This behaviour is the source of the following dependency conflicts.\n",
      "spyder 5.2.2 requires pyqtwebengine<5.13, which is not installed.\n",
      "spyder 5.2.2 requires pyqt5<5.13, but you have pyqt5 5.15.9 which is incompatible.\n",
      "\n",
      "[notice] A new release of pip is available: 23.0.1 -> 23.1\n",
      "[notice] To update, run: python.exe -m pip install --upgrade pip\n"
     ]
    },
    {
     "name": "stdout",
     "output_type": "stream",
     "text": [
      "Collecting textblob\n",
      "  Downloading textblob-0.17.1-py2.py3-none-any.whl (636 kB)\n",
      "     -------------------------------------- 636.8/636.8 kB 5.7 MB/s eta 0:00:00\n",
      "Requirement already satisfied: nltk>=3.1 in c:\\users\\hp\\anaconda3\\lib\\site-packages (from textblob) (3.7)\n",
      "Requirement already satisfied: click in c:\\users\\hp\\anaconda3\\lib\\site-packages (from nltk>=3.1->textblob) (8.0.4)\n",
      "Requirement already satisfied: joblib in c:\\users\\hp\\anaconda3\\lib\\site-packages (from nltk>=3.1->textblob) (1.1.0)\n",
      "Requirement already satisfied: regex>=2021.8.3 in c:\\users\\hp\\anaconda3\\lib\\site-packages (from nltk>=3.1->textblob) (2022.7.9)\n",
      "Requirement already satisfied: tqdm in c:\\users\\hp\\anaconda3\\lib\\site-packages (from nltk>=3.1->textblob) (4.64.1)\n",
      "Requirement already satisfied: colorama in c:\\users\\hp\\anaconda3\\lib\\site-packages (from click->nltk>=3.1->textblob) (0.4.6)\n",
      "Installing collected packages: textblob\n",
      "Successfully installed textblob-0.17.1\n"
     ]
    },
    {
     "name": "stderr",
     "output_type": "stream",
     "text": [
      "\n",
      "[notice] A new release of pip is available: 23.0.1 -> 23.1\n",
      "[notice] To update, run: python.exe -m pip install --upgrade pip\n"
     ]
    }
   ],
   "source": [
    "#!pip install pyqt5\n",
    "#!pip install textblob"
   ]
  },
  {
   "cell_type": "code",
   "execution_count": 4,
   "id": "89a77a16",
   "metadata": {},
   "outputs": [
    {
     "name": "stderr",
     "output_type": "stream",
     "text": [
      "[nltk_data] Downloading package vader_lexicon to\n",
      "[nltk_data]     C:\\Users\\HP\\AppData\\Roaming\\nltk_data...\n"
     ]
    },
    {
     "data": {
      "text/plain": [
       "True"
      ]
     },
     "execution_count": 4,
     "metadata": {},
     "output_type": "execute_result"
    }
   ],
   "source": [
    "import nltk\n",
    "nltk.download('vader_lexicon')"
   ]
  },
  {
   "cell_type": "code",
   "execution_count": 1,
   "id": "d61f210f",
   "metadata": {},
   "outputs": [],
   "source": [
    "from PyQt5.QtGui import QPixmap\n",
    "from PyQt5.QtWidgets import QApplication, QWidget, QLabel, QLineEdit, QPushButton, QVBoxLayout, QSpacerItem, QSizePolicy\n",
    "from PyQt5.QtCore import Qt\n",
    "import nltk\n",
    "from nltk.sentiment import SentimentIntensityAnalyzer\n",
    "\n",
    "\n",
    "class SentimentGUI(QWidget):\n",
    "    def __init__(self):\n",
    "        super().__init__()\n",
    "        self.initUI()\n",
    "    \n",
    "    def initUI(self):\n",
    "        self.setGeometry(100, 100, 400, 250)\n",
    "        self.setWindowTitle('Sentiment Analysis')\n",
    "        \n",
    "        # Create input field and button\n",
    "        self.text_input = QLineEdit(self)\n",
    "        font = self.text_input.font()\n",
    "        font.setPointSize(14)\n",
    "        self.text_input.setFont(font)\n",
    "\n",
    "        self.analyze_btn = QPushButton('Analyze', self)\n",
    "        font = self.analyze_btn.font()\n",
    "        font.setPointSize(14)\n",
    "        self.analyze_btn.setFont(font)\n",
    "        self.analyze_btn.setFixedSize(100, 40) \n",
    "        self.analyze_btn.clicked.connect(self.analyze_text)\n",
    "        \n",
    "        # Create label for displaying sentiment score\n",
    "        self.sentiment_label = QLabel(self)\n",
    "\n",
    "        # Load and set the image\n",
    "        pixmap = QPixmap(r\"C:\\Users\\HP\\OneDrive\\Documents\\Desktop\\Capstone_Project\\Image20230418095829.jpg\")\n",
    "        self.image_label = QLabel(self)\n",
    "        self.image_label.setPixmap(pixmap)\n",
    "        self.image_label.setAlignment(Qt.AlignCenter)\n",
    "                \n",
    "        # Set up layout\n",
    "        layout = QVBoxLayout()\n",
    "        layout.addItem(QSpacerItem(20, 40, QSizePolicy.Minimum, QSizePolicy.Expanding))\n",
    "        layout.addWidget(self.image_label, 0, Qt.AlignHCenter)\n",
    "        layout.addItem(QSpacerItem(20, 40, QSizePolicy.Minimum, QSizePolicy.Expanding))\n",
    "        layout.addWidget(self.text_input, 0, Qt.AlignHCenter)\n",
    "        layout.addWidget(self.analyze_btn, 0, Qt.AlignHCenter)\n",
    "        layout.addWidget(self.sentiment_label, 0, Qt.AlignHCenter)\n",
    "        layout.addItem(QSpacerItem(20, 40, QSizePolicy.Minimum, QSizePolicy.Expanding))\n",
    "        self.setLayout(layout)\n",
    "        self.image_label.showFullScreen()\n",
    "        self.show()\n",
    "    \n",
    "    def analyze_text(self):\n",
    "        # Get input text and perform sentiment analysis\n",
    "        text = self.text_input.text()\n",
    "        sia = SentimentIntensityAnalyzer()\n",
    "        scores = sia.polarity_scores(text)\n",
    "        compound_score = scores['compound']\n",
    "        \n",
    "        # Display sentiment score in label\n",
    "        if compound_score > 0.1:\n",
    "            self.sentiment_label.setPixmap(QPixmap(r\"C:\\Users\\HP\\OneDrive\\Documents\\Desktop\\Capstone_Project\\Image20230418095837.png\"))\n",
    "        elif compound_score < -0.1:\n",
    "            self.sentiment_label.setPixmap(QPixmap(r\"C:\\Users\\HP\\OneDrive\\Documents\\Desktop\\Capstone_Project\\Image20230418095847.png\"))\n",
    "        else:\n",
    "            self.sentiment_label.setPixmap(QPixmap(r\"C:\\Users\\HP\\OneDrive\\Documents\\Desktop\\Capstone_Project\\Image20230418095845.png\"))\n",
    "\n",
    "\n",
    "if __name__ == '__main__':\n",
    "    app = QApplication([])\n",
    "    gui = SentimentGUI()\n",
    "    app.exec_()"
   ]
  },
  {
   "cell_type": "code",
   "execution_count": null,
   "id": "3feef3d1",
   "metadata": {},
   "outputs": [],
   "source": []
  }
 ],
 "metadata": {
  "kernelspec": {
   "display_name": "Python 3 (ipykernel)",
   "language": "python",
   "name": "python3"
  },
  "language_info": {
   "codemirror_mode": {
    "name": "ipython",
    "version": 3
   },
   "file_extension": ".py",
   "mimetype": "text/x-python",
   "name": "python",
   "nbconvert_exporter": "python",
   "pygments_lexer": "ipython3",
   "version": "3.9.13"
  }
 },
 "nbformat": 4,
 "nbformat_minor": 5
}
